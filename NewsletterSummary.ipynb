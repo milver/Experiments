{
  "nbformat": 4,
  "nbformat_minor": 0,
  "metadata": {
    "colab": {
      "provenance": [],
      "authorship_tag": "ABX9TyNIlNMjXX1mySmzZBXBzoXa",
      "include_colab_link": true
    },
    "kernelspec": {
      "name": "python3",
      "display_name": "Python 3"
    },
    "language_info": {
      "name": "python"
    }
  },
  "cells": [
    {
      "cell_type": "markdown",
      "metadata": {
        "id": "view-in-github",
        "colab_type": "text"
      },
      "source": [
        "<a href=\"https://colab.research.google.com/github/milver/Experiments/blob/main/NewsletterSummary.ipynb\" target=\"_parent\"><img src=\"https://colab.research.google.com/assets/colab-badge.svg\" alt=\"Open In Colab\"/></a>"
      ]
    },
    {
      "cell_type": "code",
      "source": [
        "# import the required libraries\n",
        "from googleapiclient.discovery import build\n",
        "from google_auth_oauthlib.flow import InstalledAppFlow\n",
        "from google.auth.transport.requests import Request\n",
        "import pickle\n",
        "import os.path\n",
        "import base64\n",
        "import email\n",
        "from bs4 import BeautifulSoup\n"
      ],
      "metadata": {
        "id": "NFKDciEEMdVx"
      },
      "execution_count": 8,
      "outputs": []
    },
    {
      "cell_type": "code",
      "source": [
        "# Define the SCOPES. If modifying it, delete the token.pickle file.\n",
        "SCOPES = ['https://www.googleapis.com/auth/gmail.readonly']\n",
        "\n",
        "# Variable creds will store the user access token.\n",
        "# If no valid token found, we will create one.\n",
        "creds = None\n",
        "\n",
        "# The file token.pickle contains the user access token.\n",
        "# Check if it exists\n",
        "if os.path.exists('token.pickle'):\n",
        "\n",
        "\t# Read the token from the file and store it in the variable creds\n",
        "\twith open('token.pickle', 'rb') as token:\n",
        "\t\tcreds = pickle.load(token)\n",
        "\n",
        "# If credentials are not available or are invalid, ask the user to log in.\n",
        "if not creds or not creds.valid:\n",
        "\tif creds and creds.expired and creds.refresh_token:\n",
        "\t\tcreds.refresh(Request())\n",
        "\telse:\n",
        "\t\tflow = InstalledAppFlow.from_client_secrets_file('credentials.json', SCOPES)\n",
        "\t\tcreds = flow.run_local_server(port=0)\n",
        "\n",
        "\t# Save the access token in token.pickle file for the next run\n",
        "\twith open('token.pickle', 'wb') as token:\n",
        "\t\tpickle.dump(creds, token)\n",
        "\n",
        "\n",
        "\n"
      ],
      "metadata": {
        "id": "PwmUB5RTCmJB"
      },
      "execution_count": 9,
      "outputs": []
    },
    {
      "cell_type": "code",
      "source": [
        "# Connect to the Gmail API\n",
        "service = build('gmail', 'v1', credentials=creds)\n",
        "\n",
        "# request a list of all the messages\n",
        "#result = service.users().messages().list(userId='me').execute()\n",
        "query = 'label:Newsletters after:2024/04/12'\n",
        "\n",
        "# We can also pass maxResults to get any number of emails. Like this:\n",
        "result = service.users().messages().list(maxResults=10, q=query, userId='me').execute()\n",
        "messages = result.get('messages')\n",
        "\n",
        "# messages is a list of dictionaries where each dictionary contains a message id.\n",
        "\n",
        "\n",
        "# iterate through all the messages\n",
        "for msg in messages:\n",
        "  # Get the message from its id\n",
        "  txt = service.users().messages().get(userId='me', id=msg['id']).execute()\n",
        "\n",
        "  # Use try-except to avoid any Errors\n",
        "  #try:\n",
        "  # Get value of 'payload' from dictionary 'txt'\n",
        "  payload = txt['payload']\n",
        "  headers = payload['headers']\n",
        "\n",
        "  # Look for Subject and Sender Email in the headers\n",
        "  for d in headers:\n",
        "    if d['name'] == 'Subject':\n",
        "      subject = d['value']\n",
        "    if d['name'] == 'From':\n",
        "      sender = d['value']\n",
        "\n",
        "  # The Body of the message is in Encrypted format. So, we have to decode it.\n",
        "  # Get the data and decode it with base 64 decoder.\n",
        "  parts = payload.get('parts')[0]\n",
        "  data = parts['body']['data']\n",
        "  data = data.replace(\"-\",\"+\").replace(\"_\",\"/\")\n",
        "  decoded_data = base64.b64decode(data)\n",
        "\n",
        "  # Now, the data obtained is in lxml. So, we will parse\n",
        "  # it with BeautifulSoup library\n",
        "  soup = BeautifulSoup(decoded_data , \"lxml\")\n",
        "  #body = soup.body()\n",
        "\n",
        "  # Printing the subject, sender's email and message\n",
        "  print(\"Subject: \", subject)\n",
        "  print(\"From: \", sender)\n",
        "  #print(\"Message: \", body)\n",
        "  print('\\n')\n",
        "  #except:\n",
        "  #  pass\n"
      ],
      "metadata": {
        "colab": {
          "base_uri": "https://localhost:8080/"
        },
        "id": "VuK8-B0QB4H0",
        "outputId": "b6fb03b6-323f-46f5-a6a4-d2952ad0b450"
      },
      "execution_count": 18,
      "outputs": [
        {
          "output_type": "stream",
          "name": "stdout",
          "text": [
            "Subject:  iPhone retro gaming 📱, Tesla halves FSD price 🚗, lessons building LLM features 👨‍💻\n",
            "From:  TLDR <dan@tldrnewsletter.com>\n",
            "\n",
            "\n",
            "Subject:  Foundation Model for Efficient Enterprise Search, fully open-source Text-to-speech model, Native Audio understandi…\n",
            "From:  AI Brews <aibrews@substack.com>\n",
            "\n",
            "\n",
            "Subject:  Apple M4 chips 💻, Humane AI pin reviews 🤖, why devs aren't faster 👨‍💻\n",
            "From:  TLDR <dan@tldrnewsletter.com>\n",
            "\n",
            "\n"
          ]
        }
      ]
    }
  ]
}