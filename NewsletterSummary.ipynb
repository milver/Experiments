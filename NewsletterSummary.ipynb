{
  "nbformat": 4,
  "nbformat_minor": 0,
  "metadata": {
    "colab": {
      "provenance": [],
      "authorship_tag": "ABX9TyMHZ7vg2zbVJZbkT1xrZiNj",
      "include_colab_link": true
    },
    "kernelspec": {
      "name": "python3",
      "display_name": "Python 3"
    },
    "language_info": {
      "name": "python"
    }
  },
  "cells": [
    {
      "cell_type": "markdown",
      "metadata": {
        "id": "view-in-github",
        "colab_type": "text"
      },
      "source": [
        "<a href=\"https://colab.research.google.com/github/milver/Experiments/blob/main/NewsletterSummary.ipynb\" target=\"_parent\"><img src=\"https://colab.research.google.com/assets/colab-badge.svg\" alt=\"Open In Colab\"/></a>"
      ]
    },
    {
      "cell_type": "code",
      "source": [
        "# import the required libraries\n",
        "from googleapiclient.discovery import build\n",
        "from google_auth_oauthlib.flow import InstalledAppFlow\n",
        "from google.auth.transport.requests import Request\n",
        "import pickle\n",
        "import os.path\n",
        "import base64\n",
        "import email\n",
        "from bs4 import BeautifulSoup\n"
      ],
      "metadata": {
        "id": "NFKDciEEMdVx"
      },
      "execution_count": 1,
      "outputs": []
    },
    {
      "cell_type": "code",
      "source": [
        "# Define the SCOPES. If modifying it, delete the token.pickle file.\n",
        "SCOPES = ['https://www.googleapis.com/auth/gmail.readonly']\n",
        "\n",
        "def getEmails():\n",
        "\t# Variable creds will store the user access token.\n",
        "\t# If no valid token found, we will create one.\n",
        "\tcreds = None\n",
        "\n",
        "\t# The file token.pickle contains the user access token.\n",
        "\t# Check if it exists\n",
        "\tif os.path.exists('token.pickle'):\n",
        "\n",
        "\t\t# Read the token from the file and store it in the variable creds\n",
        "\t\twith open('token.pickle', 'rb') as token:\n",
        "\t\t\tcreds = pickle.load(token)\n",
        "\n",
        "\t# If credentials are not available or are invalid, ask the user to log in.\n",
        "\tif not creds or not creds.valid:\n",
        "\t\tif creds and creds.expired and creds.refresh_token:\n",
        "\t\t\tcreds.refresh(Request())\n",
        "\t\telse:\n",
        "\t\t\tflow = InstalledAppFlow.from_client_secrets_file('credentials.json', SCOPES)\n",
        "\t\t\tcreds = flow.run_local_server(port=0)\n",
        "\n",
        "\t\t# Save the access token in token.pickle file for the next run\n",
        "\t\twith open('token.pickle', 'wb') as token:\n",
        "\t\t\tpickle.dump(creds, token)\n",
        "\n",
        "\t# Connect to the Gmail API\n",
        "\tservice = build('gmail', 'v1', credentials=creds)\n",
        "\n",
        "\t# request a list of all the messages\n",
        "\t#result = service.users().messages().list(userId='me').execute()\n",
        "\n",
        "\t# We can also pass maxResults to get any number of emails. Like this:\n",
        "\tresult = service.users().messages().list(maxResults=10, userId='me').execute()\n",
        "\tmessages = result.get('messages')\n",
        "\n",
        "\t# messages is a list of dictionaries where each dictionary contains a message id.\n",
        "\n",
        "\t# iterate through all the messages\n",
        "\tfor msg in messages:\n",
        "\t\t# Get the message from its id\n",
        "\t\ttxt = service.users().messages().get(userId='me', id=msg['id']).execute()\n",
        "\n",
        "\t\t# Use try-except to avoid any Errors\n",
        "\t\ttry:\n",
        "\t\t\t# Get value of 'payload' from dictionary 'txt'\n",
        "\t\t\tpayload = txt['payload']\n",
        "\t\t\theaders = payload['headers']\n",
        "\n",
        "\t\t\t# Look for Subject and Sender Email in the headers\n",
        "\t\t\tfor d in headers:\n",
        "\t\t\t\tif d['name'] == 'Subject':\n",
        "\t\t\t\t\tsubject = d['value']\n",
        "\t\t\t\tif d['name'] == 'From':\n",
        "\t\t\t\t\tsender = d['value']\n",
        "\n",
        "\t\t\t# The Body of the message is in Encrypted format. So, we have to decode it.\n",
        "\t\t\t# Get the data and decode it with base 64 decoder.\n",
        "\t\t\tparts = payload.get('parts')[0]\n",
        "\t\t\tdata = parts['body']['data']\n",
        "\t\t\tdata = data.replace(\"-\",\"+\").replace(\"_\",\"/\")\n",
        "\t\t\tdecoded_data = base64.b64decode(data)\n",
        "\n",
        "\t\t\t# Now, the data obtained is in lxml. So, we will parse\n",
        "\t\t\t# it with BeautifulSoup library\n",
        "\t\t\tsoup = BeautifulSoup(decoded_data , \"lxml\")\n",
        "\t\t\tbody = soup.body()\n",
        "\n",
        "\t\t\t# Printing the subject, sender's email and message\n",
        "\t\t\tprint(\"Subject: \", subject)\n",
        "\t\t\tprint(\"From: \", sender)\n",
        "\t\t\tprint(\"Message: \", body)\n",
        "\t\t\tprint('\\n')\n",
        "\t\texcept:\n",
        "\t\t\tpass\n",
        "\n",
        "\n"
      ],
      "metadata": {
        "id": "PwmUB5RTCmJB"
      },
      "execution_count": null,
      "outputs": []
    },
    {
      "cell_type": "code",
      "source": [
        "getEmails()"
      ],
      "metadata": {
        "id": "aBweNeRGComg"
      },
      "execution_count": null,
      "outputs": []
    }
  ]
}