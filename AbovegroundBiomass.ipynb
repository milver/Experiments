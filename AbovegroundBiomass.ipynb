{
  "nbformat": 4,
  "nbformat_minor": 0,
  "metadata": {
    "colab": {
      "provenance": [],
      "authorship_tag": "ABX9TyOKtYk26ehfppn3vYmIwqEw",
      "include_colab_link": true
    },
    "kernelspec": {
      "name": "python3",
      "display_name": "Python 3"
    },
    "language_info": {
      "name": "python"
    },
    "widgets": {
      "application/vnd.jupyter.widget-state+json": {
        "f04a601449334ec4b6a40591d5ccc924": {
          "model_module": "jupyter-leaflet",
          "model_name": "LeafletMapModel",
          "model_module_version": "^0.18",
          "state": {
            "_dom_classes": [],
            "_model_module": "jupyter-leaflet",
            "_model_module_version": "^0.18",
            "_model_name": "LeafletMapModel",
            "_view_count": null,
            "_view_module": "jupyter-leaflet",
            "_view_module_version": "^0.18",
            "_view_name": "LeafletMapView",
            "bottom": 1602934,
            "bounce_at_zoom_limits": true,
            "box_zoom": true,
            "center": [
              39.0227845823269,
              -77.59308815002443
            ],
            "close_popup_on_click": true,
            "controls": [
              "IPY_MODEL_9f4678db36764dab850c31932c494039",
              "IPY_MODEL_8b4c413a29b746d28195046682bc64fb",
              "IPY_MODEL_912bfd3e476c4e3985ef51c76bcbeec0",
              "IPY_MODEL_496efd704ef340e08e0e89c3fafa5c5a",
              "IPY_MODEL_3d8f4323979f4a11afefb3d2f09289fa",
              "IPY_MODEL_9dd18358b912493289a3009da33b4107",
              "IPY_MODEL_61c2b9a2a92041c2af9ed5f868735e31",
              "IPY_MODEL_f6cf1cafdb4f450a8fd5e349661f2d69"
            ],
            "crs": {
              "name": "EPSG3857",
              "custom": false
            },
            "default_style": "IPY_MODEL_20f7ba69da0b451585c255dbf9c85103",
            "double_click_zoom": true,
            "dragging": true,
            "dragging_style": "IPY_MODEL_7cbf76a30c37417c8ff22692562426d3",
            "east": -77.52905845642091,
            "fullscreen": false,
            "inertia": true,
            "inertia_deceleration": 3000,
            "inertia_max_speed": 1500,
            "interpolation": "bilinear",
            "keyboard": true,
            "keyboard_pan_offset": 80,
            "keyboard_zoom_offset": 1,
            "layers": [
              "IPY_MODEL_e7ee9d719f174d54b9c3410115855382",
              "IPY_MODEL_60080bfb7d364c36aabdfe2ff4a3861a",
              "IPY_MODEL_3764e69a921241d9818ab91ad518785b"
            ],
            "layout": "IPY_MODEL_036baad163284ff9b7de34fc432c2437",
            "left": 1192382,
            "max_zoom": 24,
            "min_zoom": null,
            "modisdate": "2024-05-13",
            "north": 39.042786198265766,
            "options": [
              "bounce_at_zoom_limits",
              "box_zoom",
              "center",
              "close_popup_on_click",
              "double_click_zoom",
              "dragging",
              "fullscreen",
              "inertia",
              "inertia_deceleration",
              "inertia_max_speed",
              "interpolation",
              "keyboard",
              "keyboard_pan_offset",
              "keyboard_zoom_offset",
              "max_zoom",
              "min_zoom",
              "prefer_canvas",
              "scroll_wheel_zoom",
              "tap",
              "tap_tolerance",
              "touch_zoom",
              "world_copy_jump",
              "zoom",
              "zoom_animation_threshold",
              "zoom_delta",
              "zoom_snap"
            ],
            "panes": {},
            "prefer_canvas": false,
            "right": 1193873,
            "scroll_wheel_zoom": true,
            "south": 39.00277730591502,
            "style": "IPY_MODEL_7cbf76a30c37417c8ff22692562426d3",
            "tap": true,
            "tap_tolerance": 15,
            "top": 1602334,
            "touch_zoom": true,
            "west": -77.65703201293947,
            "window_url": "https://ude7xo11k2-496ff2e9c6d22116-0-colab.googleusercontent.com/outputframe.html?vrz=colab_20240508-060111_RC01_631915569",
            "world_copy_jump": false,
            "zoom": 14,
            "zoom_animation_threshold": 4,
            "zoom_delta": 1,
            "zoom_snap": 1
          }
        },
        "9f4678db36764dab850c31932c494039": {
          "model_module": "jupyter-leaflet",
          "model_name": "LeafletWidgetControlModel",
          "model_module_version": "^0.18",
          "state": {
            "_model_module": "jupyter-leaflet",
            "_model_module_version": "^0.18",
            "_model_name": "LeafletWidgetControlModel",
            "_view_count": null,
            "_view_module": "jupyter-leaflet",
            "_view_module_version": "^0.18",
            "_view_name": "LeafletWidgetControlView",
            "max_height": null,
            "max_width": null,
            "min_height": null,
            "min_width": null,
            "options": [
              "position",
              "transparent_bg"
            ],
            "position": "topleft",
            "transparent_bg": false,
            "widget": "IPY_MODEL_9c2c6c2ad79f4fb9b5efcba004c263af"
          }
        },
        "8b4c413a29b746d28195046682bc64fb": {
          "model_module": "jupyter-leaflet",
          "model_name": "LeafletZoomControlModel",
          "model_module_version": "^0.18",
          "state": {
            "_model_module": "jupyter-leaflet",
            "_model_module_version": "^0.18",
            "_model_name": "LeafletZoomControlModel",
            "_view_count": null,
            "_view_module": "jupyter-leaflet",
            "_view_module_version": "^0.18",
            "_view_name": "LeafletZoomControlView",
            "options": [
              "position",
              "zoom_in_text",
              "zoom_in_title",
              "zoom_out_text",
              "zoom_out_title"
            ],
            "position": "topleft",
            "zoom_in_text": "+",
            "zoom_in_title": "Zoom in",
            "zoom_out_text": "-",
            "zoom_out_title": "Zoom out"
          }
        },
        "912bfd3e476c4e3985ef51c76bcbeec0": {
          "model_module": "jupyter-leaflet",
          "model_name": "LeafletFullScreenControlModel",
          "model_module_version": "^0.18",
          "state": {
            "_model_module": "jupyter-leaflet",
            "_model_module_version": "^0.18",
            "_model_name": "LeafletFullScreenControlModel",
            "_view_count": null,
            "_view_module": "jupyter-leaflet",
            "_view_module_version": "^0.18",
            "_view_name": "LeafletFullScreenControlView",
            "options": [
              "position"
            ],
            "position": "topleft"
          }
        },
        "496efd704ef340e08e0e89c3fafa5c5a": {
          "model_module": "jupyter-leaflet",
          "model_name": "LeafletDrawControlModel",
          "model_module_version": "^0.18",
          "state": {
            "_model_module": "jupyter-leaflet",
            "_model_module_version": "^0.18",
            "_model_name": "LeafletDrawControlModel",
            "_view_count": null,
            "_view_module": "jupyter-leaflet",
            "_view_module_version": "^0.18",
            "_view_name": "LeafletDrawControlView",
            "circle": {},
            "circlemarker": {},
            "data": [
              {
                "type": "Feature",
                "properties": {
                  "style": {
                    "stroke": true,
                    "color": "#3388ff",
                    "weight": 4,
                    "opacity": 0.5,
                    "fill": true,
                    "fillColor": null,
                    "fillOpacity": 0.2,
                    "clickable": true
                  }
                },
                "geometry": {
                  "type": "Polygon",
                  "coordinates": [
                    [
                      [
                        -77.60828,
                        39.035986
                      ],
                      [
                        -77.578583,
                        39.04172
                      ],
                      [
                        -77.566738,
                        39.015182
                      ],
                      [
                        -77.596092,
                        39.003845
                      ],
                      [
                        -77.619781,
                        39.016249
                      ],
                      [
                        -77.618923,
                        39.021984
                      ],
                      [
                        -77.60828,
                        39.035986
                      ]
                    ]
                  ]
                }
              }
            ],
            "edit": true,
            "marker": {
              "shapeOptions": {
                "color": "#3388ff"
              }
            },
            "options": [
              "position"
            ],
            "polygon": {
              "shapeOptions": {}
            },
            "polyline": {
              "shapeOptions": {}
            },
            "position": "topleft",
            "rectangle": {
              "shapeOptions": {
                "color": "#3388ff"
              }
            },
            "remove": true
          }
        },
        "3d8f4323979f4a11afefb3d2f09289fa": {
          "model_module": "jupyter-leaflet",
          "model_name": "LeafletScaleControlModel",
          "model_module_version": "^0.18",
          "state": {
            "_model_module": "jupyter-leaflet",
            "_model_module_version": "^0.18",
            "_model_name": "LeafletScaleControlModel",
            "_view_count": null,
            "_view_module": "jupyter-leaflet",
            "_view_module_version": "^0.18",
            "_view_name": "LeafletScaleControlView",
            "imperial": true,
            "max_width": 100,
            "metric": true,
            "options": [
              "imperial",
              "max_width",
              "metric",
              "position",
              "update_when_idle"
            ],
            "position": "bottomleft",
            "update_when_idle": false
          }
        },
        "9dd18358b912493289a3009da33b4107": {
          "model_module": "jupyter-leaflet",
          "model_name": "LeafletMeasureControlModel",
          "model_module_version": "^0.18",
          "state": {
            "_custom_units": {},
            "_model_module": "jupyter-leaflet",
            "_model_module_version": "^0.18",
            "_model_name": "LeafletMeasureControlModel",
            "_view_count": null,
            "_view_module": "jupyter-leaflet",
            "_view_module_version": "^0.18",
            "_view_name": "LeafletMeasureControlView",
            "active_color": "orange",
            "capture_z_index": 10000,
            "completed_color": "#C8F2BE",
            "options": [
              "active_color",
              "capture_z_index",
              "completed_color",
              "popup_options",
              "position",
              "primary_area_unit",
              "primary_length_unit",
              "secondary_area_unit",
              "secondary_length_unit"
            ],
            "popup_options": {
              "className": "leaflet-measure-resultpopup",
              "autoPanPadding": [
                10,
                10
              ]
            },
            "position": "bottomleft",
            "primary_area_unit": "acres",
            "primary_length_unit": "kilometers",
            "secondary_area_unit": null,
            "secondary_length_unit": null
          }
        },
        "61c2b9a2a92041c2af9ed5f868735e31": {
          "model_module": "jupyter-leaflet",
          "model_name": "LeafletWidgetControlModel",
          "model_module_version": "^0.18",
          "state": {
            "_model_module": "jupyter-leaflet",
            "_model_module_version": "^0.18",
            "_model_name": "LeafletWidgetControlModel",
            "_view_count": null,
            "_view_module": "jupyter-leaflet",
            "_view_module_version": "^0.18",
            "_view_name": "LeafletWidgetControlView",
            "max_height": null,
            "max_width": null,
            "min_height": null,
            "min_width": null,
            "options": [
              "position",
              "transparent_bg"
            ],
            "position": "topright",
            "transparent_bg": false,
            "widget": "IPY_MODEL_f9d4ea368c324e02baadb7488da25e9d"
          }
        },
        "f6cf1cafdb4f450a8fd5e349661f2d69": {
          "model_module": "jupyter-leaflet",
          "model_name": "LeafletAttributionControlModel",
          "model_module_version": "^0.18",
          "state": {
            "_model_module": "jupyter-leaflet",
            "_model_module_version": "^0.18",
            "_model_name": "LeafletAttributionControlModel",
            "_view_count": null,
            "_view_module": "jupyter-leaflet",
            "_view_module_version": "^0.18",
            "_view_name": "LeafletAttributionControlView",
            "options": [
              "position",
              "prefix"
            ],
            "position": "bottomright",
            "prefix": "ipyleaflet"
          }
        },
        "20f7ba69da0b451585c255dbf9c85103": {
          "model_module": "jupyter-leaflet",
          "model_name": "LeafletMapStyleModel",
          "model_module_version": "^0.18",
          "state": {
            "_model_module": "jupyter-leaflet",
            "_model_module_version": "^0.18",
            "_model_name": "LeafletMapStyleModel",
            "_view_count": null,
            "_view_module": "@jupyter-widgets/base",
            "_view_module_version": "1.2.0",
            "_view_name": "StyleView",
            "cursor": "grab"
          }
        },
        "7cbf76a30c37417c8ff22692562426d3": {
          "model_module": "jupyter-leaflet",
          "model_name": "LeafletMapStyleModel",
          "model_module_version": "^0.18",
          "state": {
            "_model_module": "jupyter-leaflet",
            "_model_module_version": "^0.18",
            "_model_name": "LeafletMapStyleModel",
            "_view_count": null,
            "_view_module": "@jupyter-widgets/base",
            "_view_module_version": "1.2.0",
            "_view_name": "StyleView",
            "cursor": "move"
          }
        },
        "e7ee9d719f174d54b9c3410115855382": {
          "model_module": "jupyter-leaflet",
          "model_name": "LeafletTileLayerModel",
          "model_module_version": "^0.18",
          "state": {
            "_model_module": "jupyter-leaflet",
            "_model_module_version": "^0.18",
            "_model_name": "LeafletTileLayerModel",
            "_view_count": null,
            "_view_module": "jupyter-leaflet",
            "_view_module_version": "^0.18",
            "_view_name": "LeafletTileLayerView",
            "attribution": "&copy; <a href=\"https://www.openstreetmap.org/copyright\">OpenStreetMap</a> contributors",
            "base": true,
            "bottom": true,
            "bounds": null,
            "detect_retina": false,
            "loading": false,
            "max_native_zoom": null,
            "max_zoom": 19,
            "min_native_zoom": null,
            "min_zoom": 1,
            "name": "OpenStreetMap.Mapnik",
            "no_wrap": false,
            "opacity": 1,
            "options": [
              "attribution",
              "bounds",
              "detect_retina",
              "max_native_zoom",
              "max_zoom",
              "min_native_zoom",
              "min_zoom",
              "no_wrap",
              "tile_size",
              "tms",
              "zoom_offset"
            ],
            "pane": "",
            "popup": null,
            "popup_max_height": null,
            "popup_max_width": 300,
            "popup_min_width": 50,
            "show_loading": false,
            "subitems": [],
            "tile_size": 256,
            "tms": false,
            "url": "https://tile.openstreetmap.org/{z}/{x}/{y}.png",
            "visible": true,
            "zoom_offset": 0
          }
        },
        "60080bfb7d364c36aabdfe2ff4a3861a": {
          "model_module": "jupyter-leaflet",
          "model_name": "LeafletTileLayerModel",
          "model_module_version": "^0.18",
          "state": {
            "_model_module": "jupyter-leaflet",
            "_model_module_version": "^0.18",
            "_model_name": "LeafletTileLayerModel",
            "_view_count": null,
            "_view_module": "jupyter-leaflet",
            "_view_module_version": "^0.18",
            "_view_name": "LeafletTileLayerView",
            "attribution": "Tiles (C) Esri -- National Geographic, Esri, DeLorme, NAVTEQ, UNEP-WCMC, USGS, NASA, ESA, METI, NRCAN, GEBCO, NOAA, iPC",
            "base": false,
            "bottom": true,
            "bounds": null,
            "detect_retina": false,
            "loading": false,
            "max_native_zoom": null,
            "max_zoom": 24,
            "min_native_zoom": null,
            "min_zoom": 0,
            "name": "Esri.NatGeoWorldMap",
            "no_wrap": false,
            "opacity": 1,
            "options": [
              "attribution",
              "bounds",
              "detect_retina",
              "max_native_zoom",
              "max_zoom",
              "min_native_zoom",
              "min_zoom",
              "no_wrap",
              "tile_size",
              "tms",
              "zoom_offset"
            ],
            "pane": "",
            "popup": null,
            "popup_max_height": null,
            "popup_max_width": 300,
            "popup_min_width": 50,
            "show_loading": false,
            "subitems": [],
            "tile_size": 256,
            "tms": false,
            "url": "https://server.arcgisonline.com/ArcGIS/rest/services/NatGeo_World_Map/MapServer/tile/{z}/{y}/{x}",
            "visible": true,
            "zoom_offset": 0
          }
        },
        "036baad163284ff9b7de34fc432c2437": {
          "model_module": "@jupyter-widgets/base",
          "model_name": "LayoutModel",
          "model_module_version": "1.2.0",
          "state": {
            "_model_module": "@jupyter-widgets/base",
            "_model_module_version": "1.2.0",
            "_model_name": "LayoutModel",
            "_view_count": null,
            "_view_module": "@jupyter-widgets/base",
            "_view_module_version": "1.2.0",
            "_view_name": "LayoutView",
            "align_content": null,
            "align_items": null,
            "align_self": null,
            "border": null,
            "bottom": null,
            "display": null,
            "flex": null,
            "flex_flow": null,
            "grid_area": null,
            "grid_auto_columns": null,
            "grid_auto_flow": null,
            "grid_auto_rows": null,
            "grid_column": null,
            "grid_gap": null,
            "grid_row": null,
            "grid_template_areas": null,
            "grid_template_columns": null,
            "grid_template_rows": null,
            "height": "600px",
            "justify_content": null,
            "justify_items": null,
            "left": null,
            "margin": null,
            "max_height": null,
            "max_width": null,
            "min_height": null,
            "min_width": null,
            "object_fit": null,
            "object_position": null,
            "order": null,
            "overflow": null,
            "overflow_x": null,
            "overflow_y": null,
            "padding": null,
            "right": null,
            "top": null,
            "visibility": null,
            "width": null
          }
        },
        "1e050a7783ca4010b3c7076c05919d62": {
          "model_module": "jupyter-leaflet",
          "model_name": "LeafletMapStyleModel",
          "model_module_version": "^0.18",
          "state": {
            "_model_module": "jupyter-leaflet",
            "_model_module_version": "^0.18",
            "_model_name": "LeafletMapStyleModel",
            "_view_count": null,
            "_view_module": "@jupyter-widgets/base",
            "_view_module_version": "1.2.0",
            "_view_name": "StyleView",
            "cursor": "grab"
          }
        },
        "9c2c6c2ad79f4fb9b5efcba004c263af": {
          "model_module": "@jupyter-widgets/controls",
          "model_name": "HBoxModel",
          "model_module_version": "1.5.0",
          "state": {
            "_dom_classes": [
              "geemap-colab"
            ],
            "_model_module": "@jupyter-widgets/controls",
            "_model_module_version": "1.5.0",
            "_model_name": "HBoxModel",
            "_view_count": null,
            "_view_module": "@jupyter-widgets/controls",
            "_view_module_version": "1.5.0",
            "_view_name": "HBoxView",
            "box_style": "",
            "children": [
              "IPY_MODEL_2ac13e1de5144c0dac9a65b5cc655bd7"
            ],
            "layout": "IPY_MODEL_b2c7526c34c642e697dcbb7836b6f2e0"
          }
        },
        "f9d4ea368c324e02baadb7488da25e9d": {
          "model_module": "@jupyter-widgets/controls",
          "model_name": "VBoxModel",
          "model_module_version": "1.5.0",
          "state": {
            "_dom_classes": [
              "geemap-colab"
            ],
            "_model_module": "@jupyter-widgets/controls",
            "_model_module_version": "1.5.0",
            "_model_name": "VBoxModel",
            "_view_count": null,
            "_view_module": "@jupyter-widgets/controls",
            "_view_module_version": "1.5.0",
            "_view_name": "VBoxView",
            "box_style": "",
            "children": [
              "IPY_MODEL_7c78c483382d4edb88b6030789b81ad2"
            ],
            "layout": "IPY_MODEL_d985faa5b0c9451a9b2a4b9e0d42c860"
          }
        },
        "2ac13e1de5144c0dac9a65b5cc655bd7": {
          "model_module": "@jupyter-widgets/controls",
          "model_name": "ToggleButtonModel",
          "model_module_version": "1.5.0",
          "state": {
            "_dom_classes": [],
            "_model_module": "@jupyter-widgets/controls",
            "_model_module_version": "1.5.0",
            "_model_name": "ToggleButtonModel",
            "_view_count": null,
            "_view_module": "@jupyter-widgets/controls",
            "_view_module_version": "1.5.0",
            "_view_name": "ToggleButtonView",
            "button_style": "",
            "description": "",
            "description_tooltip": null,
            "disabled": false,
            "icon": "globe",
            "layout": "IPY_MODEL_3425b5e183ed490d940714a2e47c2014",
            "style": "IPY_MODEL_95dbd444ada44a879246255e51d24d4d",
            "tooltip": "Search location/data",
            "value": false
          }
        },
        "b2c7526c34c642e697dcbb7836b6f2e0": {
          "model_module": "@jupyter-widgets/base",
          "model_name": "LayoutModel",
          "model_module_version": "1.2.0",
          "state": {
            "_model_module": "@jupyter-widgets/base",
            "_model_module_version": "1.2.0",
            "_model_name": "LayoutModel",
            "_view_count": null,
            "_view_module": "@jupyter-widgets/base",
            "_view_module_version": "1.2.0",
            "_view_name": "LayoutView",
            "align_content": null,
            "align_items": null,
            "align_self": null,
            "border": null,
            "bottom": null,
            "display": null,
            "flex": null,
            "flex_flow": null,
            "grid_area": null,
            "grid_auto_columns": null,
            "grid_auto_flow": null,
            "grid_auto_rows": null,
            "grid_column": null,
            "grid_gap": null,
            "grid_row": null,
            "grid_template_areas": null,
            "grid_template_columns": null,
            "grid_template_rows": null,
            "height": null,
            "justify_content": null,
            "justify_items": null,
            "left": null,
            "margin": null,
            "max_height": null,
            "max_width": null,
            "min_height": null,
            "min_width": null,
            "object_fit": null,
            "object_position": null,
            "order": null,
            "overflow": null,
            "overflow_x": null,
            "overflow_y": null,
            "padding": null,
            "right": null,
            "top": null,
            "visibility": null,
            "width": null
          }
        },
        "7c78c483382d4edb88b6030789b81ad2": {
          "model_module": "@jupyter-widgets/controls",
          "model_name": "ToggleButtonModel",
          "model_module_version": "1.5.0",
          "state": {
            "_dom_classes": [],
            "_model_module": "@jupyter-widgets/controls",
            "_model_module_version": "1.5.0",
            "_model_name": "ToggleButtonModel",
            "_view_count": null,
            "_view_module": "@jupyter-widgets/controls",
            "_view_module_version": "1.5.0",
            "_view_name": "ToggleButtonView",
            "button_style": "",
            "description": "",
            "description_tooltip": null,
            "disabled": false,
            "icon": "wrench",
            "layout": "IPY_MODEL_9ee8f25ef2434012a92238e2bddc3c9e",
            "style": "IPY_MODEL_8e783458be2e435889e18a4772c7f2a6",
            "tooltip": "Toolbar",
            "value": false
          }
        },
        "d985faa5b0c9451a9b2a4b9e0d42c860": {
          "model_module": "@jupyter-widgets/base",
          "model_name": "LayoutModel",
          "model_module_version": "1.2.0",
          "state": {
            "_model_module": "@jupyter-widgets/base",
            "_model_module_version": "1.2.0",
            "_model_name": "LayoutModel",
            "_view_count": null,
            "_view_module": "@jupyter-widgets/base",
            "_view_module_version": "1.2.0",
            "_view_name": "LayoutView",
            "align_content": null,
            "align_items": null,
            "align_self": null,
            "border": null,
            "bottom": null,
            "display": null,
            "flex": null,
            "flex_flow": null,
            "grid_area": null,
            "grid_auto_columns": null,
            "grid_auto_flow": null,
            "grid_auto_rows": null,
            "grid_column": null,
            "grid_gap": null,
            "grid_row": null,
            "grid_template_areas": null,
            "grid_template_columns": null,
            "grid_template_rows": null,
            "height": null,
            "justify_content": null,
            "justify_items": null,
            "left": null,
            "margin": null,
            "max_height": null,
            "max_width": null,
            "min_height": null,
            "min_width": null,
            "object_fit": null,
            "object_position": null,
            "order": null,
            "overflow": null,
            "overflow_x": null,
            "overflow_y": null,
            "padding": null,
            "right": null,
            "top": null,
            "visibility": null,
            "width": null
          }
        },
        "3425b5e183ed490d940714a2e47c2014": {
          "model_module": "@jupyter-widgets/base",
          "model_name": "LayoutModel",
          "model_module_version": "1.2.0",
          "state": {
            "_model_module": "@jupyter-widgets/base",
            "_model_module_version": "1.2.0",
            "_model_name": "LayoutModel",
            "_view_count": null,
            "_view_module": "@jupyter-widgets/base",
            "_view_module_version": "1.2.0",
            "_view_name": "LayoutView",
            "align_content": null,
            "align_items": null,
            "align_self": null,
            "border": null,
            "bottom": null,
            "display": null,
            "flex": null,
            "flex_flow": null,
            "grid_area": null,
            "grid_auto_columns": null,
            "grid_auto_flow": null,
            "grid_auto_rows": null,
            "grid_column": null,
            "grid_gap": null,
            "grid_row": null,
            "grid_template_areas": null,
            "grid_template_columns": null,
            "grid_template_rows": null,
            "height": "28px",
            "justify_content": null,
            "justify_items": null,
            "left": null,
            "margin": null,
            "max_height": null,
            "max_width": null,
            "min_height": null,
            "min_width": null,
            "object_fit": null,
            "object_position": null,
            "order": null,
            "overflow": null,
            "overflow_x": null,
            "overflow_y": null,
            "padding": "0px 0px 0px 4px",
            "right": null,
            "top": null,
            "visibility": null,
            "width": "28px"
          }
        },
        "95dbd444ada44a879246255e51d24d4d": {
          "model_module": "@jupyter-widgets/controls",
          "model_name": "DescriptionStyleModel",
          "model_module_version": "1.5.0",
          "state": {
            "_model_module": "@jupyter-widgets/controls",
            "_model_module_version": "1.5.0",
            "_model_name": "DescriptionStyleModel",
            "_view_count": null,
            "_view_module": "@jupyter-widgets/base",
            "_view_module_version": "1.2.0",
            "_view_name": "StyleView",
            "description_width": ""
          }
        },
        "9ee8f25ef2434012a92238e2bddc3c9e": {
          "model_module": "@jupyter-widgets/base",
          "model_name": "LayoutModel",
          "model_module_version": "1.2.0",
          "state": {
            "_model_module": "@jupyter-widgets/base",
            "_model_module_version": "1.2.0",
            "_model_name": "LayoutModel",
            "_view_count": null,
            "_view_module": "@jupyter-widgets/base",
            "_view_module_version": "1.2.0",
            "_view_name": "LayoutView",
            "align_content": null,
            "align_items": null,
            "align_self": null,
            "border": null,
            "bottom": null,
            "display": null,
            "flex": null,
            "flex_flow": null,
            "grid_area": null,
            "grid_auto_columns": null,
            "grid_auto_flow": null,
            "grid_auto_rows": null,
            "grid_column": null,
            "grid_gap": null,
            "grid_row": null,
            "grid_template_areas": null,
            "grid_template_columns": null,
            "grid_template_rows": null,
            "height": "28px",
            "justify_content": null,
            "justify_items": null,
            "left": null,
            "margin": null,
            "max_height": null,
            "max_width": null,
            "min_height": null,
            "min_width": null,
            "object_fit": null,
            "object_position": null,
            "order": null,
            "overflow": null,
            "overflow_x": null,
            "overflow_y": null,
            "padding": "0px 0px 0px 4px",
            "right": null,
            "top": null,
            "visibility": null,
            "width": "28px"
          }
        },
        "8e783458be2e435889e18a4772c7f2a6": {
          "model_module": "@jupyter-widgets/controls",
          "model_name": "DescriptionStyleModel",
          "model_module_version": "1.5.0",
          "state": {
            "_model_module": "@jupyter-widgets/controls",
            "_model_module_version": "1.5.0",
            "_model_name": "DescriptionStyleModel",
            "_view_count": null,
            "_view_module": "@jupyter-widgets/base",
            "_view_module_version": "1.2.0",
            "_view_name": "StyleView",
            "description_width": ""
          }
        },
        "3764e69a921241d9818ab91ad518785b": {
          "model_module": "jupyter-leaflet",
          "model_name": "LeafletTileLayerModel",
          "model_module_version": "^0.18",
          "state": {
            "_model_module": "jupyter-leaflet",
            "_model_module_version": "^0.18",
            "_model_name": "LeafletTileLayerModel",
            "_view_count": null,
            "_view_module": "jupyter-leaflet",
            "_view_module_version": "^0.18",
            "_view_name": "LeafletTileLayerView",
            "attribution": "Google Earth Engine",
            "base": false,
            "bottom": true,
            "bounds": null,
            "detect_retina": false,
            "loading": false,
            "max_native_zoom": null,
            "max_zoom": 24,
            "min_native_zoom": null,
            "min_zoom": 0,
            "name": "Drawn Features",
            "no_wrap": false,
            "opacity": 0.5,
            "options": [
              "attribution",
              "bounds",
              "detect_retina",
              "max_native_zoom",
              "max_zoom",
              "min_native_zoom",
              "min_zoom",
              "no_wrap",
              "tile_size",
              "tms",
              "zoom_offset"
            ],
            "pane": "",
            "popup": null,
            "popup_max_height": null,
            "popup_max_width": 300,
            "popup_min_width": 50,
            "show_loading": false,
            "subitems": [],
            "tile_size": 256,
            "tms": false,
            "url": "https://earthengine.googleapis.com/v1/projects/ee-my-milver/maps/4e776918916e7537d8c13c46b0a09f86-4d96360fabcd884834cc0e86c5779204/tiles/{z}/{x}/{y}",
            "visible": false,
            "zoom_offset": 0
          }
        },
        "707a1005d96948b3a5f456560a0fa77f": {
          "model_module": "jupyter-leaflet",
          "model_name": "LeafletMapModel",
          "model_module_version": "^0.18",
          "state": {
            "_dom_classes": [],
            "_model_module": "jupyter-leaflet",
            "_model_module_version": "^0.18",
            "_model_name": "LeafletMapModel",
            "_view_count": null,
            "_view_module": "jupyter-leaflet",
            "_view_module_version": "^0.18",
            "_view_name": "LeafletMapView",
            "bottom": 1602935,
            "bounce_at_zoom_limits": true,
            "box_zoom": true,
            "center": [
              39.02270330012919,
              -77.59307847237787
            ],
            "close_popup_on_click": true,
            "controls": [
              "IPY_MODEL_3f9b207de359400c82ceed3cb937235f",
              "IPY_MODEL_5b63ab77e5b649f6a4e0ab8df8860e42",
              "IPY_MODEL_81020930484d43809fe93f68a416147f",
              "IPY_MODEL_3ee11e884a694b52a61dbd77a27efac2",
              "IPY_MODEL_e5786819ee1f4376bd95410057fd2b9d",
              "IPY_MODEL_42c890f042494accbf3d4055cf0a63e0",
              "IPY_MODEL_26be123e923545d78294c6d8cd23793d",
              "IPY_MODEL_263b356b3a5a4d5798840923bcc5c6e0",
              "IPY_MODEL_d6432904afb640659ec18c36c22038ec"
            ],
            "crs": {
              "name": "EPSG3857",
              "custom": false
            },
            "default_style": "IPY_MODEL_0ae24116ad6d47919c4af0b8e6e85d2e",
            "double_click_zoom": true,
            "dragging": true,
            "dragging_style": "IPY_MODEL_00d9cf7d95fc42f197a22e4da3f42a01",
            "east": -77.52905845642091,
            "fullscreen": false,
            "inertia": true,
            "inertia_deceleration": 3000,
            "inertia_max_speed": 1500,
            "interpolation": "bilinear",
            "keyboard": true,
            "keyboard_pan_offset": 80,
            "keyboard_zoom_offset": 1,
            "layers": [
              "IPY_MODEL_b1f10795fa6b430c8491ce004f37ad66",
              "IPY_MODEL_083d5ee94bdd442299d5b8c8f3609fe5",
              "IPY_MODEL_eec871cc4fc24193bc2ea05afe6ccef8"
            ],
            "layout": "IPY_MODEL_335d2065128a4282867af54b1d8c103d",
            "left": 1192382,
            "max_zoom": 24,
            "min_zoom": null,
            "modisdate": "2024-05-13",
            "north": 39.04271953561622,
            "options": [
              "bounce_at_zoom_limits",
              "box_zoom",
              "center",
              "close_popup_on_click",
              "double_click_zoom",
              "dragging",
              "fullscreen",
              "inertia",
              "inertia_deceleration",
              "inertia_max_speed",
              "interpolation",
              "keyboard",
              "keyboard_pan_offset",
              "keyboard_zoom_offset",
              "max_zoom",
              "min_zoom",
              "prefer_canvas",
              "scroll_wheel_zoom",
              "tap",
              "tap_tolerance",
              "touch_zoom",
              "world_copy_jump",
              "zoom",
              "zoom_animation_threshold",
              "zoom_delta",
              "zoom_snap"
            ],
            "panes": {},
            "prefer_canvas": false,
            "right": 1193873,
            "scroll_wheel_zoom": true,
            "south": 39.00271060552901,
            "style": "IPY_MODEL_7de6846779b447d8a796e099dc75504f",
            "tap": true,
            "tap_tolerance": 15,
            "top": 1602335,
            "touch_zoom": true,
            "west": -77.65703201293947,
            "window_url": "https://ude7xo11k2-496ff2e9c6d22116-0-colab.googleusercontent.com/outputframe.html?vrz=colab_20240508-060111_RC01_631915569",
            "world_copy_jump": false,
            "zoom": 14,
            "zoom_animation_threshold": 4,
            "zoom_delta": 1,
            "zoom_snap": 1
          }
        },
        "3f9b207de359400c82ceed3cb937235f": {
          "model_module": "jupyter-leaflet",
          "model_name": "LeafletWidgetControlModel",
          "model_module_version": "^0.18",
          "state": {
            "_model_module": "jupyter-leaflet",
            "_model_module_version": "^0.18",
            "_model_name": "LeafletWidgetControlModel",
            "_view_count": null,
            "_view_module": "jupyter-leaflet",
            "_view_module_version": "^0.18",
            "_view_name": "LeafletWidgetControlView",
            "max_height": null,
            "max_width": null,
            "min_height": null,
            "min_width": null,
            "options": [
              "position",
              "transparent_bg"
            ],
            "position": "topleft",
            "transparent_bg": false,
            "widget": "IPY_MODEL_bdf3bafbaa7748c895ac2de16303011f"
          }
        },
        "5b63ab77e5b649f6a4e0ab8df8860e42": {
          "model_module": "jupyter-leaflet",
          "model_name": "LeafletZoomControlModel",
          "model_module_version": "^0.18",
          "state": {
            "_model_module": "jupyter-leaflet",
            "_model_module_version": "^0.18",
            "_model_name": "LeafletZoomControlModel",
            "_view_count": null,
            "_view_module": "jupyter-leaflet",
            "_view_module_version": "^0.18",
            "_view_name": "LeafletZoomControlView",
            "options": [
              "position",
              "zoom_in_text",
              "zoom_in_title",
              "zoom_out_text",
              "zoom_out_title"
            ],
            "position": "topleft",
            "zoom_in_text": "+",
            "zoom_in_title": "Zoom in",
            "zoom_out_text": "-",
            "zoom_out_title": "Zoom out"
          }
        },
        "81020930484d43809fe93f68a416147f": {
          "model_module": "jupyter-leaflet",
          "model_name": "LeafletFullScreenControlModel",
          "model_module_version": "^0.18",
          "state": {
            "_model_module": "jupyter-leaflet",
            "_model_module_version": "^0.18",
            "_model_name": "LeafletFullScreenControlModel",
            "_view_count": null,
            "_view_module": "jupyter-leaflet",
            "_view_module_version": "^0.18",
            "_view_name": "LeafletFullScreenControlView",
            "options": [
              "position"
            ],
            "position": "topleft"
          }
        },
        "3ee11e884a694b52a61dbd77a27efac2": {
          "model_module": "jupyter-leaflet",
          "model_name": "LeafletDrawControlModel",
          "model_module_version": "^0.18",
          "state": {
            "_model_module": "jupyter-leaflet",
            "_model_module_version": "^0.18",
            "_model_name": "LeafletDrawControlModel",
            "_view_count": null,
            "_view_module": "jupyter-leaflet",
            "_view_module_version": "^0.18",
            "_view_name": "LeafletDrawControlView",
            "circle": {},
            "circlemarker": {},
            "data": [],
            "edit": true,
            "marker": {
              "shapeOptions": {
                "color": "#3388ff"
              }
            },
            "options": [
              "position"
            ],
            "polygon": {
              "shapeOptions": {}
            },
            "polyline": {
              "shapeOptions": {}
            },
            "position": "topleft",
            "rectangle": {
              "shapeOptions": {
                "color": "#3388ff"
              }
            },
            "remove": true
          }
        },
        "e5786819ee1f4376bd95410057fd2b9d": {
          "model_module": "jupyter-leaflet",
          "model_name": "LeafletScaleControlModel",
          "model_module_version": "^0.18",
          "state": {
            "_model_module": "jupyter-leaflet",
            "_model_module_version": "^0.18",
            "_model_name": "LeafletScaleControlModel",
            "_view_count": null,
            "_view_module": "jupyter-leaflet",
            "_view_module_version": "^0.18",
            "_view_name": "LeafletScaleControlView",
            "imperial": true,
            "max_width": 100,
            "metric": true,
            "options": [
              "imperial",
              "max_width",
              "metric",
              "position",
              "update_when_idle"
            ],
            "position": "bottomleft",
            "update_when_idle": false
          }
        },
        "42c890f042494accbf3d4055cf0a63e0": {
          "model_module": "jupyter-leaflet",
          "model_name": "LeafletMeasureControlModel",
          "model_module_version": "^0.18",
          "state": {
            "_custom_units": {},
            "_model_module": "jupyter-leaflet",
            "_model_module_version": "^0.18",
            "_model_name": "LeafletMeasureControlModel",
            "_view_count": null,
            "_view_module": "jupyter-leaflet",
            "_view_module_version": "^0.18",
            "_view_name": "LeafletMeasureControlView",
            "active_color": "orange",
            "capture_z_index": 10000,
            "completed_color": "#C8F2BE",
            "options": [
              "active_color",
              "capture_z_index",
              "completed_color",
              "popup_options",
              "position",
              "primary_area_unit",
              "primary_length_unit",
              "secondary_area_unit",
              "secondary_length_unit"
            ],
            "popup_options": {
              "className": "leaflet-measure-resultpopup",
              "autoPanPadding": [
                10,
                10
              ]
            },
            "position": "bottomleft",
            "primary_area_unit": "acres",
            "primary_length_unit": "kilometers",
            "secondary_area_unit": null,
            "secondary_length_unit": null
          }
        },
        "26be123e923545d78294c6d8cd23793d": {
          "model_module": "jupyter-leaflet",
          "model_name": "LeafletWidgetControlModel",
          "model_module_version": "^0.18",
          "state": {
            "_model_module": "jupyter-leaflet",
            "_model_module_version": "^0.18",
            "_model_name": "LeafletWidgetControlModel",
            "_view_count": null,
            "_view_module": "jupyter-leaflet",
            "_view_module_version": "^0.18",
            "_view_name": "LeafletWidgetControlView",
            "max_height": null,
            "max_width": null,
            "min_height": null,
            "min_width": null,
            "options": [
              "position",
              "transparent_bg"
            ],
            "position": "topright",
            "transparent_bg": false,
            "widget": "IPY_MODEL_46fb4becbcc54c75a08a100ec49482cc"
          }
        },
        "263b356b3a5a4d5798840923bcc5c6e0": {
          "model_module": "jupyter-leaflet",
          "model_name": "LeafletAttributionControlModel",
          "model_module_version": "^0.18",
          "state": {
            "_model_module": "jupyter-leaflet",
            "_model_module_version": "^0.18",
            "_model_name": "LeafletAttributionControlModel",
            "_view_count": null,
            "_view_module": "jupyter-leaflet",
            "_view_module_version": "^0.18",
            "_view_name": "LeafletAttributionControlView",
            "options": [
              "position",
              "prefix"
            ],
            "position": "bottomright",
            "prefix": "ipyleaflet"
          }
        },
        "d6432904afb640659ec18c36c22038ec": {
          "model_module": "jupyter-leaflet",
          "model_name": "LeafletWidgetControlModel",
          "model_module_version": "^0.18",
          "state": {
            "_model_module": "jupyter-leaflet",
            "_model_module_version": "^0.18",
            "_model_name": "LeafletWidgetControlModel",
            "_view_count": null,
            "_view_module": "jupyter-leaflet",
            "_view_module_version": "^0.18",
            "_view_name": "LeafletWidgetControlView",
            "max_height": null,
            "max_width": null,
            "min_height": null,
            "min_width": null,
            "options": [
              "position",
              "transparent_bg"
            ],
            "position": "bottomleft",
            "transparent_bg": false,
            "widget": "IPY_MODEL_4537aa1291e946ef96fee2322377192d"
          }
        },
        "0ae24116ad6d47919c4af0b8e6e85d2e": {
          "model_module": "jupyter-leaflet",
          "model_name": "LeafletMapStyleModel",
          "model_module_version": "^0.18",
          "state": {
            "_model_module": "jupyter-leaflet",
            "_model_module_version": "^0.18",
            "_model_name": "LeafletMapStyleModel",
            "_view_count": null,
            "_view_module": "@jupyter-widgets/base",
            "_view_module_version": "1.2.0",
            "_view_name": "StyleView",
            "cursor": "grab"
          }
        },
        "00d9cf7d95fc42f197a22e4da3f42a01": {
          "model_module": "jupyter-leaflet",
          "model_name": "LeafletMapStyleModel",
          "model_module_version": "^0.18",
          "state": {
            "_model_module": "jupyter-leaflet",
            "_model_module_version": "^0.18",
            "_model_name": "LeafletMapStyleModel",
            "_view_count": null,
            "_view_module": "@jupyter-widgets/base",
            "_view_module_version": "1.2.0",
            "_view_name": "StyleView",
            "cursor": "move"
          }
        },
        "b1f10795fa6b430c8491ce004f37ad66": {
          "model_module": "jupyter-leaflet",
          "model_name": "LeafletTileLayerModel",
          "model_module_version": "^0.18",
          "state": {
            "_model_module": "jupyter-leaflet",
            "_model_module_version": "^0.18",
            "_model_name": "LeafletTileLayerModel",
            "_view_count": null,
            "_view_module": "jupyter-leaflet",
            "_view_module_version": "^0.18",
            "_view_name": "LeafletTileLayerView",
            "attribution": "&copy; <a href=\"https://www.openstreetmap.org/copyright\">OpenStreetMap</a> contributors",
            "base": true,
            "bottom": true,
            "bounds": null,
            "detect_retina": false,
            "loading": false,
            "max_native_zoom": null,
            "max_zoom": 19,
            "min_native_zoom": null,
            "min_zoom": 1,
            "name": "OpenStreetMap.Mapnik",
            "no_wrap": false,
            "opacity": 1,
            "options": [
              "attribution",
              "bounds",
              "detect_retina",
              "max_native_zoom",
              "max_zoom",
              "min_native_zoom",
              "min_zoom",
              "no_wrap",
              "tile_size",
              "tms",
              "zoom_offset"
            ],
            "pane": "",
            "popup": null,
            "popup_max_height": null,
            "popup_max_width": 300,
            "popup_min_width": 50,
            "show_loading": false,
            "subitems": [],
            "tile_size": 256,
            "tms": false,
            "url": "https://tile.openstreetmap.org/{z}/{x}/{y}.png",
            "visible": true,
            "zoom_offset": 0
          }
        },
        "083d5ee94bdd442299d5b8c8f3609fe5": {
          "model_module": "jupyter-leaflet",
          "model_name": "LeafletTileLayerModel",
          "model_module_version": "^0.18",
          "state": {
            "_model_module": "jupyter-leaflet",
            "_model_module_version": "^0.18",
            "_model_name": "LeafletTileLayerModel",
            "_view_count": null,
            "_view_module": "jupyter-leaflet",
            "_view_module_version": "^0.18",
            "_view_name": "LeafletTileLayerView",
            "attribution": "Google Earth Engine",
            "base": false,
            "bottom": true,
            "bounds": null,
            "detect_retina": false,
            "loading": false,
            "max_native_zoom": null,
            "max_zoom": 24,
            "min_native_zoom": null,
            "min_zoom": 0,
            "name": "Sentinel-2 L1C",
            "no_wrap": false,
            "opacity": 1,
            "options": [
              "attribution",
              "bounds",
              "detect_retina",
              "max_native_zoom",
              "max_zoom",
              "min_native_zoom",
              "min_zoom",
              "no_wrap",
              "tile_size",
              "tms",
              "zoom_offset"
            ],
            "pane": "",
            "popup": null,
            "popup_max_height": null,
            "popup_max_width": 300,
            "popup_min_width": 50,
            "show_loading": false,
            "subitems": [],
            "tile_size": 256,
            "tms": false,
            "url": "https://earthengine.googleapis.com/v1/projects/ee-my-milver/maps/cae989d21de317492711a2fda2dd4b06-52afc41145880478b7df8b220d2f0f4a/tiles/{z}/{x}/{y}",
            "visible": true,
            "zoom_offset": 0
          }
        },
        "eec871cc4fc24193bc2ea05afe6ccef8": {
          "model_module": "jupyter-leaflet",
          "model_name": "LeafletTileLayerModel",
          "model_module_version": "^0.18",
          "state": {
            "_model_module": "jupyter-leaflet",
            "_model_module_version": "^0.18",
            "_model_name": "LeafletTileLayerModel",
            "_view_count": null,
            "_view_module": "jupyter-leaflet",
            "_view_module_version": "^0.18",
            "_view_name": "LeafletTileLayerView",
            "attribution": "Google Earth Engine",
            "base": false,
            "bottom": true,
            "bounds": null,
            "detect_retina": false,
            "loading": false,
            "max_native_zoom": null,
            "max_zoom": 24,
            "min_native_zoom": null,
            "min_zoom": 0,
            "name": "Dynamic World V1 - label hillshade",
            "no_wrap": false,
            "opacity": 1,
            "options": [
              "attribution",
              "bounds",
              "detect_retina",
              "max_native_zoom",
              "max_zoom",
              "min_native_zoom",
              "min_zoom",
              "no_wrap",
              "tile_size",
              "tms",
              "zoom_offset"
            ],
            "pane": "",
            "popup": null,
            "popup_max_height": null,
            "popup_max_width": 300,
            "popup_min_width": 50,
            "show_loading": false,
            "subitems": [],
            "tile_size": 256,
            "tms": false,
            "url": "https://earthengine.googleapis.com/v1/projects/ee-my-milver/maps/73207535dbed951478ca68c0aed6e65d-9bcdbc36c5ff010b41ca9f18901afcfe/tiles/{z}/{x}/{y}",
            "visible": true,
            "zoom_offset": 0
          }
        },
        "335d2065128a4282867af54b1d8c103d": {
          "model_module": "@jupyter-widgets/base",
          "model_name": "LayoutModel",
          "model_module_version": "1.2.0",
          "state": {
            "_model_module": "@jupyter-widgets/base",
            "_model_module_version": "1.2.0",
            "_model_name": "LayoutModel",
            "_view_count": null,
            "_view_module": "@jupyter-widgets/base",
            "_view_module_version": "1.2.0",
            "_view_name": "LayoutView",
            "align_content": null,
            "align_items": null,
            "align_self": null,
            "border": null,
            "bottom": null,
            "display": null,
            "flex": null,
            "flex_flow": null,
            "grid_area": null,
            "grid_auto_columns": null,
            "grid_auto_flow": null,
            "grid_auto_rows": null,
            "grid_column": null,
            "grid_gap": null,
            "grid_row": null,
            "grid_template_areas": null,
            "grid_template_columns": null,
            "grid_template_rows": null,
            "height": "600px",
            "justify_content": null,
            "justify_items": null,
            "left": null,
            "margin": null,
            "max_height": null,
            "max_width": null,
            "min_height": null,
            "min_width": null,
            "object_fit": null,
            "object_position": null,
            "order": null,
            "overflow": null,
            "overflow_x": null,
            "overflow_y": null,
            "padding": null,
            "right": null,
            "top": null,
            "visibility": null,
            "width": null
          }
        },
        "7de6846779b447d8a796e099dc75504f": {
          "model_module": "jupyter-leaflet",
          "model_name": "LeafletMapStyleModel",
          "model_module_version": "^0.18",
          "state": {
            "_model_module": "jupyter-leaflet",
            "_model_module_version": "^0.18",
            "_model_name": "LeafletMapStyleModel",
            "_view_count": null,
            "_view_module": "@jupyter-widgets/base",
            "_view_module_version": "1.2.0",
            "_view_name": "StyleView",
            "cursor": "grab"
          }
        },
        "bdf3bafbaa7748c895ac2de16303011f": {
          "model_module": "@jupyter-widgets/controls",
          "model_name": "HBoxModel",
          "model_module_version": "1.5.0",
          "state": {
            "_dom_classes": [
              "geemap-colab"
            ],
            "_model_module": "@jupyter-widgets/controls",
            "_model_module_version": "1.5.0",
            "_model_name": "HBoxModel",
            "_view_count": null,
            "_view_module": "@jupyter-widgets/controls",
            "_view_module_version": "1.5.0",
            "_view_name": "HBoxView",
            "box_style": "",
            "children": [
              "IPY_MODEL_1e9d2896f6f74fb4901dd550c8122091"
            ],
            "layout": "IPY_MODEL_9e589ca0fd4f4d9997f51bee51e2cedf"
          }
        },
        "46fb4becbcc54c75a08a100ec49482cc": {
          "model_module": "@jupyter-widgets/controls",
          "model_name": "VBoxModel",
          "model_module_version": "1.5.0",
          "state": {
            "_dom_classes": [
              "geemap-colab"
            ],
            "_model_module": "@jupyter-widgets/controls",
            "_model_module_version": "1.5.0",
            "_model_name": "VBoxModel",
            "_view_count": null,
            "_view_module": "@jupyter-widgets/controls",
            "_view_module_version": "1.5.0",
            "_view_name": "VBoxView",
            "box_style": "",
            "children": [
              "IPY_MODEL_72facf91d67f423985afaa35b1d096a4"
            ],
            "layout": "IPY_MODEL_96d8fcb9433d4772bfbcafbab1b06c56"
          }
        },
        "4537aa1291e946ef96fee2322377192d": {
          "model_module": "@jupyter-widgets/controls",
          "model_name": "VBoxModel",
          "model_module_version": "1.5.0",
          "state": {
            "_dom_classes": [
              "geemap-colab"
            ],
            "_model_module": "@jupyter-widgets/controls",
            "_model_module_version": "1.5.0",
            "_model_name": "VBoxModel",
            "_view_count": null,
            "_view_module": "@jupyter-widgets/controls",
            "_view_module_version": "1.5.0",
            "_view_name": "VBoxView",
            "box_style": "",
            "children": [
              "IPY_MODEL_a7d1984d6b634e03a7ab7fb0b87912e5"
            ],
            "layout": "IPY_MODEL_c5b9413a915d4d1ea9792d060d7911a1"
          }
        },
        "1e9d2896f6f74fb4901dd550c8122091": {
          "model_module": "@jupyter-widgets/controls",
          "model_name": "ToggleButtonModel",
          "model_module_version": "1.5.0",
          "state": {
            "_dom_classes": [],
            "_model_module": "@jupyter-widgets/controls",
            "_model_module_version": "1.5.0",
            "_model_name": "ToggleButtonModel",
            "_view_count": null,
            "_view_module": "@jupyter-widgets/controls",
            "_view_module_version": "1.5.0",
            "_view_name": "ToggleButtonView",
            "button_style": "",
            "description": "",
            "description_tooltip": null,
            "disabled": false,
            "icon": "globe",
            "layout": "IPY_MODEL_d980f12fe87e41a2a7565da97ed20d3e",
            "style": "IPY_MODEL_0a2f62a78f1d429592fa40f26f2fc66b",
            "tooltip": "Search location/data",
            "value": false
          }
        },
        "9e589ca0fd4f4d9997f51bee51e2cedf": {
          "model_module": "@jupyter-widgets/base",
          "model_name": "LayoutModel",
          "model_module_version": "1.2.0",
          "state": {
            "_model_module": "@jupyter-widgets/base",
            "_model_module_version": "1.2.0",
            "_model_name": "LayoutModel",
            "_view_count": null,
            "_view_module": "@jupyter-widgets/base",
            "_view_module_version": "1.2.0",
            "_view_name": "LayoutView",
            "align_content": null,
            "align_items": null,
            "align_self": null,
            "border": null,
            "bottom": null,
            "display": null,
            "flex": null,
            "flex_flow": null,
            "grid_area": null,
            "grid_auto_columns": null,
            "grid_auto_flow": null,
            "grid_auto_rows": null,
            "grid_column": null,
            "grid_gap": null,
            "grid_row": null,
            "grid_template_areas": null,
            "grid_template_columns": null,
            "grid_template_rows": null,
            "height": null,
            "justify_content": null,
            "justify_items": null,
            "left": null,
            "margin": null,
            "max_height": null,
            "max_width": null,
            "min_height": null,
            "min_width": null,
            "object_fit": null,
            "object_position": null,
            "order": null,
            "overflow": null,
            "overflow_x": null,
            "overflow_y": null,
            "padding": null,
            "right": null,
            "top": null,
            "visibility": null,
            "width": null
          }
        },
        "72facf91d67f423985afaa35b1d096a4": {
          "model_module": "@jupyter-widgets/controls",
          "model_name": "ToggleButtonModel",
          "model_module_version": "1.5.0",
          "state": {
            "_dom_classes": [],
            "_model_module": "@jupyter-widgets/controls",
            "_model_module_version": "1.5.0",
            "_model_name": "ToggleButtonModel",
            "_view_count": null,
            "_view_module": "@jupyter-widgets/controls",
            "_view_module_version": "1.5.0",
            "_view_name": "ToggleButtonView",
            "button_style": "",
            "description": "",
            "description_tooltip": null,
            "disabled": false,
            "icon": "wrench",
            "layout": "IPY_MODEL_56201f40e22f48158f5ee8078820808b",
            "style": "IPY_MODEL_d7ad7e04704a495e8e26a4f90398d1ff",
            "tooltip": "Toolbar",
            "value": false
          }
        },
        "96d8fcb9433d4772bfbcafbab1b06c56": {
          "model_module": "@jupyter-widgets/base",
          "model_name": "LayoutModel",
          "model_module_version": "1.2.0",
          "state": {
            "_model_module": "@jupyter-widgets/base",
            "_model_module_version": "1.2.0",
            "_model_name": "LayoutModel",
            "_view_count": null,
            "_view_module": "@jupyter-widgets/base",
            "_view_module_version": "1.2.0",
            "_view_name": "LayoutView",
            "align_content": null,
            "align_items": null,
            "align_self": null,
            "border": null,
            "bottom": null,
            "display": null,
            "flex": null,
            "flex_flow": null,
            "grid_area": null,
            "grid_auto_columns": null,
            "grid_auto_flow": null,
            "grid_auto_rows": null,
            "grid_column": null,
            "grid_gap": null,
            "grid_row": null,
            "grid_template_areas": null,
            "grid_template_columns": null,
            "grid_template_rows": null,
            "height": null,
            "justify_content": null,
            "justify_items": null,
            "left": null,
            "margin": null,
            "max_height": null,
            "max_width": null,
            "min_height": null,
            "min_width": null,
            "object_fit": null,
            "object_position": null,
            "order": null,
            "overflow": null,
            "overflow_x": null,
            "overflow_y": null,
            "padding": null,
            "right": null,
            "top": null,
            "visibility": null,
            "width": null
          }
        },
        "a7d1984d6b634e03a7ab7fb0b87912e5": {
          "model_module": "@jupyter-widgets/controls",
          "model_name": "VBoxModel",
          "model_module_version": "1.5.0",
          "state": {
            "_dom_classes": [],
            "_model_module": "@jupyter-widgets/controls",
            "_model_module_version": "1.5.0",
            "_model_name": "VBoxModel",
            "_view_count": null,
            "_view_module": "@jupyter-widgets/controls",
            "_view_module_version": "1.5.0",
            "_view_name": "VBoxView",
            "box_style": "",
            "children": [
              "IPY_MODEL_d1b7f5ac1e8b40829b73d4ac6da6f97f",
              "IPY_MODEL_74dc0079ee834d8398f671004b791eaf"
            ],
            "layout": "IPY_MODEL_831df88d995f4905875bce0b7cb6a7c2"
          }
        },
        "c5b9413a915d4d1ea9792d060d7911a1": {
          "model_module": "@jupyter-widgets/base",
          "model_name": "LayoutModel",
          "model_module_version": "1.2.0",
          "state": {
            "_model_module": "@jupyter-widgets/base",
            "_model_module_version": "1.2.0",
            "_model_name": "LayoutModel",
            "_view_count": null,
            "_view_module": "@jupyter-widgets/base",
            "_view_module_version": "1.2.0",
            "_view_name": "LayoutView",
            "align_content": null,
            "align_items": null,
            "align_self": null,
            "border": null,
            "bottom": null,
            "display": null,
            "flex": null,
            "flex_flow": null,
            "grid_area": null,
            "grid_auto_columns": null,
            "grid_auto_flow": null,
            "grid_auto_rows": null,
            "grid_column": null,
            "grid_gap": null,
            "grid_row": null,
            "grid_template_areas": null,
            "grid_template_columns": null,
            "grid_template_rows": null,
            "height": null,
            "justify_content": null,
            "justify_items": null,
            "left": null,
            "margin": null,
            "max_height": null,
            "max_width": null,
            "min_height": null,
            "min_width": null,
            "object_fit": null,
            "object_position": null,
            "order": null,
            "overflow": null,
            "overflow_x": null,
            "overflow_y": null,
            "padding": null,
            "right": null,
            "top": null,
            "visibility": null,
            "width": null
          }
        },
        "d980f12fe87e41a2a7565da97ed20d3e": {
          "model_module": "@jupyter-widgets/base",
          "model_name": "LayoutModel",
          "model_module_version": "1.2.0",
          "state": {
            "_model_module": "@jupyter-widgets/base",
            "_model_module_version": "1.2.0",
            "_model_name": "LayoutModel",
            "_view_count": null,
            "_view_module": "@jupyter-widgets/base",
            "_view_module_version": "1.2.0",
            "_view_name": "LayoutView",
            "align_content": null,
            "align_items": null,
            "align_self": null,
            "border": null,
            "bottom": null,
            "display": null,
            "flex": null,
            "flex_flow": null,
            "grid_area": null,
            "grid_auto_columns": null,
            "grid_auto_flow": null,
            "grid_auto_rows": null,
            "grid_column": null,
            "grid_gap": null,
            "grid_row": null,
            "grid_template_areas": null,
            "grid_template_columns": null,
            "grid_template_rows": null,
            "height": "28px",
            "justify_content": null,
            "justify_items": null,
            "left": null,
            "margin": null,
            "max_height": null,
            "max_width": null,
            "min_height": null,
            "min_width": null,
            "object_fit": null,
            "object_position": null,
            "order": null,
            "overflow": null,
            "overflow_x": null,
            "overflow_y": null,
            "padding": "0px 0px 0px 4px",
            "right": null,
            "top": null,
            "visibility": null,
            "width": "28px"
          }
        },
        "0a2f62a78f1d429592fa40f26f2fc66b": {
          "model_module": "@jupyter-widgets/controls",
          "model_name": "DescriptionStyleModel",
          "model_module_version": "1.5.0",
          "state": {
            "_model_module": "@jupyter-widgets/controls",
            "_model_module_version": "1.5.0",
            "_model_name": "DescriptionStyleModel",
            "_view_count": null,
            "_view_module": "@jupyter-widgets/base",
            "_view_module_version": "1.2.0",
            "_view_name": "StyleView",
            "description_width": ""
          }
        },
        "56201f40e22f48158f5ee8078820808b": {
          "model_module": "@jupyter-widgets/base",
          "model_name": "LayoutModel",
          "model_module_version": "1.2.0",
          "state": {
            "_model_module": "@jupyter-widgets/base",
            "_model_module_version": "1.2.0",
            "_model_name": "LayoutModel",
            "_view_count": null,
            "_view_module": "@jupyter-widgets/base",
            "_view_module_version": "1.2.0",
            "_view_name": "LayoutView",
            "align_content": null,
            "align_items": null,
            "align_self": null,
            "border": null,
            "bottom": null,
            "display": null,
            "flex": null,
            "flex_flow": null,
            "grid_area": null,
            "grid_auto_columns": null,
            "grid_auto_flow": null,
            "grid_auto_rows": null,
            "grid_column": null,
            "grid_gap": null,
            "grid_row": null,
            "grid_template_areas": null,
            "grid_template_columns": null,
            "grid_template_rows": null,
            "height": "28px",
            "justify_content": null,
            "justify_items": null,
            "left": null,
            "margin": null,
            "max_height": null,
            "max_width": null,
            "min_height": null,
            "min_width": null,
            "object_fit": null,
            "object_position": null,
            "order": null,
            "overflow": null,
            "overflow_x": null,
            "overflow_y": null,
            "padding": "0px 0px 0px 4px",
            "right": null,
            "top": null,
            "visibility": null,
            "width": "28px"
          }
        },
        "d7ad7e04704a495e8e26a4f90398d1ff": {
          "model_module": "@jupyter-widgets/controls",
          "model_name": "DescriptionStyleModel",
          "model_module_version": "1.5.0",
          "state": {
            "_model_module": "@jupyter-widgets/controls",
            "_model_module_version": "1.5.0",
            "_model_name": "DescriptionStyleModel",
            "_view_count": null,
            "_view_module": "@jupyter-widgets/base",
            "_view_module_version": "1.2.0",
            "_view_name": "StyleView",
            "description_width": ""
          }
        },
        "d1b7f5ac1e8b40829b73d4ac6da6f97f": {
          "model_module": "@jupyter-widgets/controls",
          "model_name": "HBoxModel",
          "model_module_version": "1.5.0",
          "state": {
            "_dom_classes": [],
            "_model_module": "@jupyter-widgets/controls",
            "_model_module_version": "1.5.0",
            "_model_name": "HBoxModel",
            "_view_count": null,
            "_view_module": "@jupyter-widgets/controls",
            "_view_module_version": "1.5.0",
            "_view_name": "HBoxView",
            "box_style": "",
            "children": [
              "IPY_MODEL_b08650baa08e468e9c95916bbf935e95"
            ],
            "layout": "IPY_MODEL_a2eca3230b7142d5be989f6abb63d812"
          }
        },
        "74dc0079ee834d8398f671004b791eaf": {
          "model_module": "@jupyter-widgets/controls",
          "model_name": "VBoxModel",
          "model_module_version": "1.5.0",
          "state": {
            "_dom_classes": [],
            "_model_module": "@jupyter-widgets/controls",
            "_model_module_version": "1.5.0",
            "_model_name": "VBoxModel",
            "_view_count": null,
            "_view_module": "@jupyter-widgets/controls",
            "_view_module_version": "1.5.0",
            "_view_name": "VBoxView",
            "box_style": "",
            "children": [
              "IPY_MODEL_c233d6cf1901471e820dd9e950d28287"
            ],
            "layout": "IPY_MODEL_8c9192f36bc04dcc805c8647e4902ccc"
          }
        },
        "831df88d995f4905875bce0b7cb6a7c2": {
          "model_module": "@jupyter-widgets/base",
          "model_name": "LayoutModel",
          "model_module_version": "1.2.0",
          "state": {
            "_model_module": "@jupyter-widgets/base",
            "_model_module_version": "1.2.0",
            "_model_name": "LayoutModel",
            "_view_count": null,
            "_view_module": "@jupyter-widgets/base",
            "_view_module_version": "1.2.0",
            "_view_name": "LayoutView",
            "align_content": null,
            "align_items": null,
            "align_self": null,
            "border": null,
            "bottom": null,
            "display": null,
            "flex": null,
            "flex_flow": null,
            "grid_area": null,
            "grid_auto_columns": null,
            "grid_auto_flow": null,
            "grid_auto_rows": null,
            "grid_column": null,
            "grid_gap": null,
            "grid_row": null,
            "grid_template_areas": null,
            "grid_template_columns": null,
            "grid_template_rows": null,
            "height": null,
            "justify_content": null,
            "justify_items": null,
            "left": null,
            "margin": null,
            "max_height": null,
            "max_width": null,
            "min_height": null,
            "min_width": null,
            "object_fit": null,
            "object_position": null,
            "order": null,
            "overflow": null,
            "overflow_x": null,
            "overflow_y": null,
            "padding": null,
            "right": null,
            "top": null,
            "visibility": null,
            "width": null
          }
        },
        "b08650baa08e468e9c95916bbf935e95": {
          "model_module": "@jupyter-widgets/controls",
          "model_name": "ToggleButtonModel",
          "model_module_version": "1.5.0",
          "state": {
            "_dom_classes": [],
            "_model_module": "@jupyter-widgets/controls",
            "_model_module_version": "1.5.0",
            "_model_name": "ToggleButtonModel",
            "_view_count": null,
            "_view_module": "@jupyter-widgets/controls",
            "_view_module_version": "1.5.0",
            "_view_name": "ToggleButtonView",
            "button_style": "",
            "description": "",
            "description_tooltip": null,
            "disabled": false,
            "icon": "bars",
            "layout": "IPY_MODEL_b774424534ac4bd4b3883f3ab427c596",
            "style": "IPY_MODEL_3ba8ffd22d5b4010b7730d9effa8458a",
            "tooltip": "Toolbar",
            "value": true
          }
        },
        "a2eca3230b7142d5be989f6abb63d812": {
          "model_module": "@jupyter-widgets/base",
          "model_name": "LayoutModel",
          "model_module_version": "1.2.0",
          "state": {
            "_model_module": "@jupyter-widgets/base",
            "_model_module_version": "1.2.0",
            "_model_name": "LayoutModel",
            "_view_count": null,
            "_view_module": "@jupyter-widgets/base",
            "_view_module_version": "1.2.0",
            "_view_name": "LayoutView",
            "align_content": null,
            "align_items": null,
            "align_self": null,
            "border": null,
            "bottom": null,
            "display": null,
            "flex": null,
            "flex_flow": null,
            "grid_area": null,
            "grid_auto_columns": null,
            "grid_auto_flow": null,
            "grid_auto_rows": null,
            "grid_column": null,
            "grid_gap": null,
            "grid_row": null,
            "grid_template_areas": null,
            "grid_template_columns": null,
            "grid_template_rows": null,
            "height": null,
            "justify_content": null,
            "justify_items": null,
            "left": null,
            "margin": null,
            "max_height": null,
            "max_width": null,
            "min_height": null,
            "min_width": null,
            "object_fit": null,
            "object_position": null,
            "order": null,
            "overflow": null,
            "overflow_x": null,
            "overflow_y": null,
            "padding": null,
            "right": null,
            "top": null,
            "visibility": null,
            "width": null
          }
        },
        "c233d6cf1901471e820dd9e950d28287": {
          "model_module": "@jupyter-widgets/output",
          "model_name": "OutputModel",
          "model_module_version": "1.0.0",
          "state": {
            "_dom_classes": [],
            "_model_module": "@jupyter-widgets/output",
            "_model_module_version": "1.0.0",
            "_model_name": "OutputModel",
            "_view_count": null,
            "_view_module": "@jupyter-widgets/output",
            "_view_module_version": "1.0.0",
            "_view_name": "OutputView",
            "layout": "IPY_MODEL_5c14c1d3aa60440b8cbd60e8f848dee6",
            "msg_id": "",
            "outputs": [
              {
                "output_type": "display_data",
                "data": {
                  "text/plain": "HTML(value=\"<html>\\n<body>\\n  <div class='my-legend'>\\n  <div class='legend-title'>Legend</div>\\n  <div class=…",
                  "application/vnd.jupyter.widget-view+json": {
                    "version_major": 2,
                    "version_minor": 0,
                    "model_id": "537ebad641c443b797f8a5f6c88f08bc"
                  }
                },
                "metadata": {
                  "application/vnd.jupyter.widget-view+json": {
                    "colab": {
                      "custom_widget_manager": {
                        "url": "https://ssl.gstatic.com/colaboratory-static/widgets/colab-cdn-widget-manager/2b70e893a8ba7c0f/manager.min.js"
                      }
                    }
                  }
                }
              }
            ]
          }
        },
        "8c9192f36bc04dcc805c8647e4902ccc": {
          "model_module": "@jupyter-widgets/base",
          "model_name": "LayoutModel",
          "model_module_version": "1.2.0",
          "state": {
            "_model_module": "@jupyter-widgets/base",
            "_model_module_version": "1.2.0",
            "_model_name": "LayoutModel",
            "_view_count": null,
            "_view_module": "@jupyter-widgets/base",
            "_view_module_version": "1.2.0",
            "_view_name": "LayoutView",
            "align_content": null,
            "align_items": null,
            "align_self": null,
            "border": null,
            "bottom": null,
            "display": null,
            "flex": null,
            "flex_flow": null,
            "grid_area": null,
            "grid_auto_columns": null,
            "grid_auto_flow": null,
            "grid_auto_rows": null,
            "grid_column": null,
            "grid_gap": null,
            "grid_row": null,
            "grid_template_areas": null,
            "grid_template_columns": null,
            "grid_template_rows": null,
            "height": null,
            "justify_content": null,
            "justify_items": null,
            "left": null,
            "margin": null,
            "max_height": null,
            "max_width": null,
            "min_height": null,
            "min_width": null,
            "object_fit": null,
            "object_position": null,
            "order": null,
            "overflow": null,
            "overflow_x": null,
            "overflow_y": null,
            "padding": null,
            "right": null,
            "top": null,
            "visibility": null,
            "width": null
          }
        },
        "b774424534ac4bd4b3883f3ab427c596": {
          "model_module": "@jupyter-widgets/base",
          "model_name": "LayoutModel",
          "model_module_version": "1.2.0",
          "state": {
            "_model_module": "@jupyter-widgets/base",
            "_model_module_version": "1.2.0",
            "_model_name": "LayoutModel",
            "_view_count": null,
            "_view_module": "@jupyter-widgets/base",
            "_view_module_version": "1.2.0",
            "_view_name": "LayoutView",
            "align_content": null,
            "align_items": null,
            "align_self": null,
            "border": null,
            "bottom": null,
            "display": null,
            "flex": null,
            "flex_flow": null,
            "grid_area": null,
            "grid_auto_columns": null,
            "grid_auto_flow": null,
            "grid_auto_rows": null,
            "grid_column": null,
            "grid_gap": null,
            "grid_row": null,
            "grid_template_areas": null,
            "grid_template_columns": null,
            "grid_template_rows": null,
            "height": "28px",
            "justify_content": null,
            "justify_items": null,
            "left": null,
            "margin": null,
            "max_height": null,
            "max_width": null,
            "min_height": null,
            "min_width": null,
            "object_fit": null,
            "object_position": null,
            "order": null,
            "overflow": null,
            "overflow_x": null,
            "overflow_y": null,
            "padding": "0px 0px 0px 4px",
            "right": null,
            "top": null,
            "visibility": null,
            "width": "28px"
          }
        },
        "3ba8ffd22d5b4010b7730d9effa8458a": {
          "model_module": "@jupyter-widgets/controls",
          "model_name": "DescriptionStyleModel",
          "model_module_version": "1.5.0",
          "state": {
            "_model_module": "@jupyter-widgets/controls",
            "_model_module_version": "1.5.0",
            "_model_name": "DescriptionStyleModel",
            "_view_count": null,
            "_view_module": "@jupyter-widgets/base",
            "_view_module_version": "1.2.0",
            "_view_name": "StyleView",
            "description_width": ""
          }
        },
        "5c14c1d3aa60440b8cbd60e8f848dee6": {
          "model_module": "@jupyter-widgets/base",
          "model_name": "LayoutModel",
          "model_module_version": "1.2.0",
          "state": {
            "_model_module": "@jupyter-widgets/base",
            "_model_module_version": "1.2.0",
            "_model_name": "LayoutModel",
            "_view_count": null,
            "_view_module": "@jupyter-widgets/base",
            "_view_module_version": "1.2.0",
            "_view_name": "LayoutView",
            "align_content": null,
            "align_items": null,
            "align_self": null,
            "border": null,
            "bottom": null,
            "display": null,
            "flex": null,
            "flex_flow": null,
            "grid_area": null,
            "grid_auto_columns": null,
            "grid_auto_flow": null,
            "grid_auto_rows": null,
            "grid_column": null,
            "grid_gap": null,
            "grid_row": null,
            "grid_template_areas": null,
            "grid_template_columns": null,
            "grid_template_rows": null,
            "height": null,
            "justify_content": null,
            "justify_items": null,
            "left": null,
            "margin": null,
            "max_height": "400px",
            "max_width": "300px",
            "min_height": null,
            "min_width": null,
            "object_fit": null,
            "object_position": null,
            "order": null,
            "overflow": "scroll",
            "overflow_x": null,
            "overflow_y": null,
            "padding": null,
            "right": null,
            "top": null,
            "visibility": null,
            "width": null
          }
        },
        "537ebad641c443b797f8a5f6c88f08bc": {
          "model_module": "@jupyter-widgets/controls",
          "model_name": "HTMLModel",
          "model_module_version": "1.5.0",
          "state": {
            "_dom_classes": [],
            "_model_module": "@jupyter-widgets/controls",
            "_model_module_version": "1.5.0",
            "_model_name": "HTMLModel",
            "_view_count": null,
            "_view_module": "@jupyter-widgets/controls",
            "_view_module_version": "1.5.0",
            "_view_name": "HTMLView",
            "description": "",
            "description_tooltip": null,
            "layout": "IPY_MODEL_72361bcd8c164f4388915b37579407ab",
            "placeholder": "​",
            "style": "IPY_MODEL_85bcc33183f84c8892e2bb46846803b5",
            "value": "<html>\n<body>\n  <div class='my-legend'>\n  <div class='legend-title'>Legend</div>\n  <div class='legend-scale'>\n    <ul class='legend-labels'>\n<li><span style='background:#419bdf;'></span>water</li>\n<li><span style='background:#397d49;'></span>trees</li>\n<li><span style='background:#88b053;'></span>grass</li>\n<li><span style='background:#7a87c6;'></span>flooded_vegetation</li>\n<li><span style='background:#e49635;'></span>crops</li>\n<li><span style='background:#dfc35a;'></span>shrub_and_scrub</li>\n<li><span style='background:#c4281b;'></span>built</li>\n<li><span style='background:#a59b8f;'></span>bare</li>\n<li><span style='background:#b39fe1;'></span>snow_and_ice</li>\n    </ul>\n  </div>\n  </div>\n\n  <style type='text/css'>\n    .my-legend .legend-title {\n      text-align: left;\n      margin-bottom: 2px;\n      margin-left: 2px;\n      font-weight: bold;\n      font-size: 90%;\n      }\n    .my-legend .legend-scale ul {\n      margin: 0;\n      margin-bottom: 5px;\n      padding: 0;\n      float: left;\n      list-style: none;\n      }\n    .my-legend .legend-scale ul li {\n      font-size: 80%;\n      list-style: none;\n      margin-left: 1px;\n      line-height: 18px;\n      margin-bottom: 2px;\n      }\n    .my-legend ul.legend-labels li span {\n      display: block;\n      float: left;\n      height: 16px;\n      width: 30px;\n      margin-right: 5px;\n      margin-left: 2px;\n      border: 1px solid #999;\n      }\n    .my-legend .legend-source {\n      font-size: 70%;\n      color: #999;\n      clear: both;\n      }\n    .my-legend a {\n      color: #777;\n      }\n  </style>\n</body>\n</html>\n"
          }
        },
        "72361bcd8c164f4388915b37579407ab": {
          "model_module": "@jupyter-widgets/base",
          "model_name": "LayoutModel",
          "model_module_version": "1.2.0",
          "state": {
            "_model_module": "@jupyter-widgets/base",
            "_model_module_version": "1.2.0",
            "_model_name": "LayoutModel",
            "_view_count": null,
            "_view_module": "@jupyter-widgets/base",
            "_view_module_version": "1.2.0",
            "_view_name": "LayoutView",
            "align_content": null,
            "align_items": null,
            "align_self": null,
            "border": null,
            "bottom": null,
            "display": null,
            "flex": null,
            "flex_flow": null,
            "grid_area": null,
            "grid_auto_columns": null,
            "grid_auto_flow": null,
            "grid_auto_rows": null,
            "grid_column": null,
            "grid_gap": null,
            "grid_row": null,
            "grid_template_areas": null,
            "grid_template_columns": null,
            "grid_template_rows": null,
            "height": null,
            "justify_content": null,
            "justify_items": null,
            "left": null,
            "margin": null,
            "max_height": null,
            "max_width": null,
            "min_height": null,
            "min_width": null,
            "object_fit": null,
            "object_position": null,
            "order": null,
            "overflow": null,
            "overflow_x": null,
            "overflow_y": null,
            "padding": null,
            "right": null,
            "top": null,
            "visibility": null,
            "width": null
          }
        },
        "85bcc33183f84c8892e2bb46846803b5": {
          "model_module": "@jupyter-widgets/controls",
          "model_name": "DescriptionStyleModel",
          "model_module_version": "1.5.0",
          "state": {
            "_model_module": "@jupyter-widgets/controls",
            "_model_module_version": "1.5.0",
            "_model_name": "DescriptionStyleModel",
            "_view_count": null,
            "_view_module": "@jupyter-widgets/base",
            "_view_module_version": "1.2.0",
            "_view_name": "StyleView",
            "description_width": ""
          }
        }
      }
    }
  },
  "cells": [
    {
      "cell_type": "markdown",
      "metadata": {
        "id": "view-in-github",
        "colab_type": "text"
      },
      "source": [
        "<a href=\"https://colab.research.google.com/github/milver/Experiments/blob/main/AbovegroundBiomass.ipynb\" target=\"_parent\"><img src=\"https://colab.research.google.com/assets/colab-badge.svg\" alt=\"Open In Colab\"/></a>"
      ]
    },
    {
      "cell_type": "markdown",
      "source": [
        "# Experimenting with Sentinel Land Use Land Cover classification"
      ],
      "metadata": {
        "id": "NGhVV-5CR79m"
      }
    },
    {
      "cell_type": "code",
      "source": [
        "#%pip install rasterio\n",
        "import ee\n",
        "import geemap\n",
        "import rasterio"
      ],
      "metadata": {
        "id": "b_qvMNsbSLSq",
        "colab": {
          "base_uri": "https://localhost:8080/",
          "height": 17
        },
        "outputId": "6795605f-7296-4819-e338-91db83ea7f96"
      },
      "execution_count": null,
      "outputs": [
        {
          "output_type": "display_data",
          "data": {
            "text/plain": [
              "<IPython.core.display.HTML object>"
            ],
            "text/html": [
              "\n",
              "            <style>\n",
              "                .geemap-dark {\n",
              "                    --jp-widgets-color: white;\n",
              "                    --jp-widgets-label-color: white;\n",
              "                    --jp-ui-font-color1: white;\n",
              "                    --jp-layout-color2: #454545;\n",
              "                    background-color: #383838;\n",
              "                }\n",
              "\n",
              "                .geemap-dark .jupyter-button {\n",
              "                    --jp-layout-color3: #383838;\n",
              "                }\n",
              "\n",
              "                .geemap-colab {\n",
              "                    background-color: var(--colab-primary-surface-color, white);\n",
              "                }\n",
              "\n",
              "                .geemap-colab .jupyter-button {\n",
              "                    --jp-layout-color3: var(--colab-primary-surface-color, white);\n",
              "                }\n",
              "            </style>\n",
              "            "
            ]
          },
          "metadata": {}
        }
      ]
    },
    {
      "cell_type": "markdown",
      "source": [
        "## Get Bounding Box\n",
        "Setting up Earth Engine credentials"
      ],
      "metadata": {
        "id": "KDR4gcx5TfGE"
      }
    },
    {
      "cell_type": "code",
      "source": [
        "ee.Authenticate()\n",
        "ee.Initialize(project='ee-my-milver')\n"
      ],
      "metadata": {
        "colab": {
          "base_uri": "https://localhost:8080/",
          "height": 17
        },
        "id": "j54zsUXeV8VM",
        "outputId": "9c4b6d90-f482-418c-d430-2a5ac75b4632"
      },
      "execution_count": null,
      "outputs": [
        {
          "output_type": "display_data",
          "data": {
            "text/plain": [
              "<IPython.core.display.HTML object>"
            ],
            "text/html": [
              "\n",
              "            <style>\n",
              "                .geemap-dark {\n",
              "                    --jp-widgets-color: white;\n",
              "                    --jp-widgets-label-color: white;\n",
              "                    --jp-ui-font-color1: white;\n",
              "                    --jp-layout-color2: #454545;\n",
              "                    background-color: #383838;\n",
              "                }\n",
              "\n",
              "                .geemap-dark .jupyter-button {\n",
              "                    --jp-layout-color3: #383838;\n",
              "                }\n",
              "\n",
              "                .geemap-colab {\n",
              "                    background-color: var(--colab-primary-surface-color, white);\n",
              "                }\n",
              "\n",
              "                .geemap-colab .jupyter-button {\n",
              "                    --jp-layout-color3: var(--colab-primary-surface-color, white);\n",
              "                }\n",
              "            </style>\n",
              "            "
            ]
          },
          "metadata": {}
        }
      ]
    },
    {
      "cell_type": "code",
      "source": [
        "#!pip install geemap --upgrade\n",
        "Map = geemap.Map()\n",
        "Map.add_basemap(\"Esri.NatGeoWorldMap\")\n",
        "Map.set_center(-77.5107765197754, 39.01424883668118, 13)\n",
        "Map"
      ],
      "metadata": {
        "colab": {
          "base_uri": "https://localhost:8080/",
          "height": 621,
          "referenced_widgets": [
            "f04a601449334ec4b6a40591d5ccc924",
            "9f4678db36764dab850c31932c494039",
            "8b4c413a29b746d28195046682bc64fb",
            "912bfd3e476c4e3985ef51c76bcbeec0",
            "496efd704ef340e08e0e89c3fafa5c5a",
            "3d8f4323979f4a11afefb3d2f09289fa",
            "9dd18358b912493289a3009da33b4107",
            "61c2b9a2a92041c2af9ed5f868735e31",
            "f6cf1cafdb4f450a8fd5e349661f2d69",
            "20f7ba69da0b451585c255dbf9c85103",
            "7cbf76a30c37417c8ff22692562426d3",
            "e7ee9d719f174d54b9c3410115855382",
            "60080bfb7d364c36aabdfe2ff4a3861a",
            "036baad163284ff9b7de34fc432c2437",
            "1e050a7783ca4010b3c7076c05919d62",
            "9c2c6c2ad79f4fb9b5efcba004c263af",
            "f9d4ea368c324e02baadb7488da25e9d",
            "2ac13e1de5144c0dac9a65b5cc655bd7",
            "b2c7526c34c642e697dcbb7836b6f2e0",
            "7c78c483382d4edb88b6030789b81ad2",
            "d985faa5b0c9451a9b2a4b9e0d42c860",
            "3425b5e183ed490d940714a2e47c2014",
            "95dbd444ada44a879246255e51d24d4d",
            "9ee8f25ef2434012a92238e2bddc3c9e",
            "8e783458be2e435889e18a4772c7f2a6",
            "3764e69a921241d9818ab91ad518785b"
          ]
        },
        "id": "4JBdQLf9s9tv",
        "outputId": "bd652021-5d31-40a0-cc21-996c97833ca2"
      },
      "execution_count": null,
      "outputs": [
        {
          "output_type": "display_data",
          "data": {
            "text/plain": [
              "<IPython.core.display.HTML object>"
            ],
            "text/html": [
              "\n",
              "            <style>\n",
              "                .geemap-dark {\n",
              "                    --jp-widgets-color: white;\n",
              "                    --jp-widgets-label-color: white;\n",
              "                    --jp-ui-font-color1: white;\n",
              "                    --jp-layout-color2: #454545;\n",
              "                    background-color: #383838;\n",
              "                }\n",
              "\n",
              "                .geemap-dark .jupyter-button {\n",
              "                    --jp-layout-color3: #383838;\n",
              "                }\n",
              "\n",
              "                .geemap-colab {\n",
              "                    background-color: var(--colab-primary-surface-color, white);\n",
              "                }\n",
              "\n",
              "                .geemap-colab .jupyter-button {\n",
              "                    --jp-layout-color3: var(--colab-primary-surface-color, white);\n",
              "                }\n",
              "            </style>\n",
              "            "
            ]
          },
          "metadata": {}
        },
        {
          "output_type": "display_data",
          "data": {
            "text/plain": [
              "Map(center=[39.01424883668118, -77.5107765197754], controls=(WidgetControl(options=['position', 'transparent_b…"
            ],
            "application/vnd.jupyter.widget-view+json": {
              "version_major": 2,
              "version_minor": 0,
              "model_id": "f04a601449334ec4b6a40591d5ccc924"
            }
          },
          "metadata": {
            "application/vnd.jupyter.widget-view+json": {
              "colab": {
                "custom_widget_manager": {
                  "url": "https://ssl.gstatic.com/colaboratory-static/widgets/colab-cdn-widget-manager/2b70e893a8ba7c0f/manager.min.js"
                }
              }
            }
          }
        }
      ]
    },
    {
      "cell_type": "code",
      "source": [
        "\n",
        "Map.bounds"
      ],
      "metadata": {
        "colab": {
          "base_uri": "https://localhost:8080/",
          "height": 52
        },
        "id": "Oyn48CCdXGst",
        "outputId": "92098f70-a98a-429a-a26a-253bc514c768"
      },
      "execution_count": null,
      "outputs": [
        {
          "output_type": "display_data",
          "data": {
            "text/plain": [
              "<IPython.core.display.HTML object>"
            ],
            "text/html": [
              "\n",
              "            <style>\n",
              "                .geemap-dark {\n",
              "                    --jp-widgets-color: white;\n",
              "                    --jp-widgets-label-color: white;\n",
              "                    --jp-ui-font-color1: white;\n",
              "                    --jp-layout-color2: #454545;\n",
              "                    background-color: #383838;\n",
              "                }\n",
              "\n",
              "                .geemap-dark .jupyter-button {\n",
              "                    --jp-layout-color3: #383838;\n",
              "                }\n",
              "\n",
              "                .geemap-colab {\n",
              "                    background-color: var(--colab-primary-surface-color, white);\n",
              "                }\n",
              "\n",
              "                .geemap-colab .jupyter-button {\n",
              "                    --jp-layout-color3: var(--colab-primary-surface-color, white);\n",
              "                }\n",
              "            </style>\n",
              "            "
            ]
          },
          "metadata": {}
        },
        {
          "output_type": "execute_result",
          "data": {
            "text/plain": [
              "((38.97422379482112, -77.63883590698244),\n",
              " (39.05425123808162, -77.38288879394531))"
            ]
          },
          "metadata": {},
          "execution_count": 30
        }
      ]
    },
    {
      "cell_type": "markdown",
      "source": [
        "### Set the region of interest by simply drawing a polygon on the map"
      ],
      "metadata": {
        "id": "q4ksN9IuRtEr"
      }
    },
    {
      "cell_type": "code",
      "source": [
        "region = Map.user_roi\n",
        "if region is None:\n",
        "    region = ee.Geometry.BBox(Map.west,  Map.south, Map.east, Map.north)\n",
        "\n",
        "Map.centerObject(region)"
      ],
      "metadata": {
        "colab": {
          "base_uri": "https://localhost:8080/",
          "height": 17
        },
        "id": "0VRgPt-yRqoh",
        "outputId": "03b1f36a-2327-4b44-b6cc-da96f80eafc7"
      },
      "execution_count": null,
      "outputs": [
        {
          "output_type": "display_data",
          "data": {
            "text/plain": [
              "<IPython.core.display.HTML object>"
            ],
            "text/html": [
              "\n",
              "            <style>\n",
              "                .geemap-dark {\n",
              "                    --jp-widgets-color: white;\n",
              "                    --jp-widgets-label-color: white;\n",
              "                    --jp-ui-font-color1: white;\n",
              "                    --jp-layout-color2: #454545;\n",
              "                    background-color: #383838;\n",
              "                }\n",
              "\n",
              "                .geemap-dark .jupyter-button {\n",
              "                    --jp-layout-color3: #383838;\n",
              "                }\n",
              "\n",
              "                .geemap-colab {\n",
              "                    background-color: var(--colab-primary-surface-color, white);\n",
              "                }\n",
              "\n",
              "                .geemap-colab .jupyter-button {\n",
              "                    --jp-layout-color3: var(--colab-primary-surface-color, white);\n",
              "                }\n",
              "            </style>\n",
              "            "
            ]
          },
          "metadata": {}
        }
      ]
    },
    {
      "cell_type": "code",
      "source": [
        "# bbox1 = [m.west, m.south, m.east, m.north]\n",
        "# print(\"{}: {}\".format(m.center, m.zoom))\n",
        "print(\"{}: {}\".format(Map.center, Map.zoom))"
      ],
      "metadata": {
        "id": "2nuafx1ZTr1R",
        "colab": {
          "base_uri": "https://localhost:8080/",
          "height": 34
        },
        "outputId": "f5d5772e-dd58-404e-e6e9-f2ed97dce378"
      },
      "execution_count": null,
      "outputs": [
        {
          "output_type": "display_data",
          "data": {
            "text/plain": [
              "<IPython.core.display.HTML object>"
            ],
            "text/html": [
              "\n",
              "            <style>\n",
              "                .geemap-dark {\n",
              "                    --jp-widgets-color: white;\n",
              "                    --jp-widgets-label-color: white;\n",
              "                    --jp-ui-font-color1: white;\n",
              "                    --jp-layout-color2: #454545;\n",
              "                    background-color: #383838;\n",
              "                }\n",
              "\n",
              "                .geemap-dark .jupyter-button {\n",
              "                    --jp-layout-color3: #383838;\n",
              "                }\n",
              "\n",
              "                .geemap-colab {\n",
              "                    background-color: var(--colab-primary-surface-color, white);\n",
              "                }\n",
              "\n",
              "                .geemap-colab .jupyter-button {\n",
              "                    --jp-layout-color3: var(--colab-primary-surface-color, white);\n",
              "                }\n",
              "            </style>\n",
              "            "
            ]
          },
          "metadata": {}
        },
        {
          "output_type": "stream",
          "name": "stdout",
          "text": [
            "[39.0227845823269, -77.59308815002443]: 14.0\n"
          ]
        }
      ]
    },
    {
      "cell_type": "markdown",
      "source": [
        "## Extracting Sentinel-2\n",
        "Construct a collection of corresponding Dynamic World and Sentinel-2 for inspection. Filter the DW and S2 collections by region and date."
      ],
      "metadata": {
        "id": "dPF6ZAmjbmX-"
      }
    },
    {
      "cell_type": "markdown",
      "source": [
        "### Start the filtering"
      ],
      "metadata": {
        "id": "ybw1fGipuSiZ"
      }
    },
    {
      "cell_type": "code",
      "source": [
        "START = ee.Date('2021-04-02')\n",
        "END = ee.Date('2024-05-10')  #START.advance(1, 'day')\n",
        "\n",
        "# col_filter = ee.Filter.And(\n",
        "#     ee.Filter.bounds(ee.Geometry.Point(-77.51601219177248, 39.01918369029137)),\n",
        "#     ee.Filter.date(START, END),\n",
        "# )\n",
        "\n",
        "col_filter = ee.Filter.And(ee.Filter.bounds(region), ee.Filter.date(START, END),)\n",
        "\n",
        "dw_col = ee.ImageCollection('GOOGLE/DYNAMICWORLD/V1').filter(col_filter)\n",
        "s2_col = ee.ImageCollection('COPERNICUS/S2_HARMONIZED').filter(col_filter)\n",
        "\n",
        "# Join corresponding DW and S2 images (by system:index).\n",
        "dw_s2_col = ee.Join.saveFirst('s2_img').apply(\n",
        "    dw_col,\n",
        "    s2_col,\n",
        "    ee.Filter.equals(leftField='system:index', rightField='system:index'),\n",
        ")"
      ],
      "metadata": {
        "colab": {
          "base_uri": "https://localhost:8080/",
          "height": 17
        },
        "id": "ZeHPhKlYbjsj",
        "outputId": "98cd0b35-c9dd-42b1-d3fb-cc4532728b27"
      },
      "execution_count": null,
      "outputs": [
        {
          "output_type": "display_data",
          "data": {
            "text/plain": [
              "<IPython.core.display.HTML object>"
            ],
            "text/html": [
              "\n",
              "            <style>\n",
              "                .geemap-dark {\n",
              "                    --jp-widgets-color: white;\n",
              "                    --jp-widgets-label-color: white;\n",
              "                    --jp-ui-font-color1: white;\n",
              "                    --jp-layout-color2: #454545;\n",
              "                    background-color: #383838;\n",
              "                }\n",
              "\n",
              "                .geemap-dark .jupyter-button {\n",
              "                    --jp-layout-color3: #383838;\n",
              "                }\n",
              "\n",
              "                .geemap-colab {\n",
              "                    background-color: var(--colab-primary-surface-color, white);\n",
              "                }\n",
              "\n",
              "                .geemap-colab .jupyter-button {\n",
              "                    --jp-layout-color3: var(--colab-primary-surface-color, white);\n",
              "                }\n",
              "            </style>\n",
              "            "
            ]
          },
          "metadata": {}
        }
      ]
    },
    {
      "cell_type": "markdown",
      "source": [
        "### Construct a collection of corresponding Dynamic World and  Sentinel-2 for inspection.\n",
        "Filter the DW and S2 collections by region and date."
      ],
      "metadata": {
        "id": "3Eh36e8Btasx"
      }
    },
    {
      "cell_type": "code",
      "source": [
        "# Extract an example DW image and its source S2 image.\n",
        "dw_image = ee.Image(dw_s2_col.first())\n",
        "s2_image = ee.Image(dw_image.get('s2_img'))\n",
        "\n",
        "# Create a visualization that blends DW class label with probability.\n",
        "# Define list pairs of DW LULC label and color.\n",
        "CLASS_NAMES = [\n",
        "    'water',\n",
        "    'trees',\n",
        "    'grass',\n",
        "    'flooded_vegetation',\n",
        "    'crops',\n",
        "    'shrub_and_scrub',\n",
        "    'built',\n",
        "    'bare',\n",
        "    'snow_and_ice',\n",
        "]\n",
        "\n",
        "VIS_PALETTE = [\n",
        "    '419bdf',\n",
        "    '397d49',\n",
        "    '88b053',\n",
        "    '7a87c6',\n",
        "    'e49635',\n",
        "    'dfc35a',\n",
        "    'c4281b',\n",
        "    'a59b8f',\n",
        "    'b39fe1',\n",
        "]\n",
        "\n",
        "# Create an RGB image of the label (most likely class) on [0, 1].\n",
        "dw_rgb = (\n",
        "    dw_image.select('label')\n",
        "    .visualize(min=0, max=8, palette=VIS_PALETTE)\n",
        "    .divide(255)\n",
        ")\n",
        "\n",
        "# Get the most likely class probability.\n",
        "top1_prob = dw_image.select(CLASS_NAMES).reduce(ee.Reducer.max())\n",
        "\n",
        "# Create a hillshade of the most likely class probability on [0, 1]\n",
        "top1_prob_hillshade = ee.Terrain.hillshade(top1_prob.multiply(100)).divide(255)\n",
        "\n",
        "# Combine the RGB image with the hillshade.\n",
        "dw_rgb_hillshade = dw_rgb.multiply(top1_prob_hillshade)\n",
        "\n"
      ],
      "metadata": {
        "id": "G9JThSV3SIHS",
        "colab": {
          "base_uri": "https://localhost:8080/",
          "height": 17
        },
        "outputId": "38e26ad8-ea93-41fe-c7f7-432a1ff303c0"
      },
      "execution_count": null,
      "outputs": [
        {
          "output_type": "display_data",
          "data": {
            "text/plain": [
              "<IPython.core.display.HTML object>"
            ],
            "text/html": [
              "\n",
              "            <style>\n",
              "                .geemap-dark {\n",
              "                    --jp-widgets-color: white;\n",
              "                    --jp-widgets-label-color: white;\n",
              "                    --jp-ui-font-color1: white;\n",
              "                    --jp-layout-color2: #454545;\n",
              "                    background-color: #383838;\n",
              "                }\n",
              "\n",
              "                .geemap-dark .jupyter-button {\n",
              "                    --jp-layout-color3: #383838;\n",
              "                }\n",
              "\n",
              "                .geemap-colab {\n",
              "                    background-color: var(--colab-primary-surface-color, white);\n",
              "                }\n",
              "\n",
              "                .geemap-colab .jupyter-button {\n",
              "                    --jp-layout-color3: var(--colab-primary-surface-color, white);\n",
              "                }\n",
              "            </style>\n",
              "            "
            ]
          },
          "metadata": {}
        }
      ]
    },
    {
      "cell_type": "markdown",
      "source": [
        "### Clip Rasters by Region and display"
      ],
      "metadata": {
        "id": "7be5Qo-8pfcz"
      }
    },
    {
      "cell_type": "code",
      "source": [
        "# Display the Dynamic World visualization with the source Sentinel-2 image.\n",
        "import geemap\n",
        "m = geemap.Map()\n",
        "\n",
        "mask = region\n",
        "m.centerObject(region, int(Map.zoom))\n",
        "s2_image_clip = s2_image.clip(region)\n",
        "dw_rgb_hillshade_clip = dw_rgb_hillshade.clip(region)\n",
        "\n",
        "m.add_layer(\n",
        "    s2_image_clip,\n",
        "    {'min': 0, 'max': 3000, 'bands': ['B4', 'B3', 'B2']},\n",
        "    'Sentinel-2 L1C',\n",
        ")\n",
        "m.add_layer(\n",
        "    dw_rgb_hillshade_clip,\n",
        "    {'min': 0, 'max': 0.65},\n",
        "    'Dynamic World V1 - label hillshade',\n",
        ")\n",
        "\n",
        "m.add_legend(keys=CLASS_NAMES, colors=VIS_PALETTE, position=\"bottomleft\")\n",
        "m"
      ],
      "metadata": {
        "colab": {
          "base_uri": "https://localhost:8080/",
          "height": 621,
          "referenced_widgets": [
            "707a1005d96948b3a5f456560a0fa77f",
            "3f9b207de359400c82ceed3cb937235f",
            "5b63ab77e5b649f6a4e0ab8df8860e42",
            "81020930484d43809fe93f68a416147f",
            "3ee11e884a694b52a61dbd77a27efac2",
            "e5786819ee1f4376bd95410057fd2b9d",
            "42c890f042494accbf3d4055cf0a63e0",
            "26be123e923545d78294c6d8cd23793d",
            "263b356b3a5a4d5798840923bcc5c6e0",
            "d6432904afb640659ec18c36c22038ec",
            "0ae24116ad6d47919c4af0b8e6e85d2e",
            "00d9cf7d95fc42f197a22e4da3f42a01",
            "b1f10795fa6b430c8491ce004f37ad66",
            "083d5ee94bdd442299d5b8c8f3609fe5",
            "eec871cc4fc24193bc2ea05afe6ccef8",
            "335d2065128a4282867af54b1d8c103d",
            "7de6846779b447d8a796e099dc75504f",
            "bdf3bafbaa7748c895ac2de16303011f",
            "46fb4becbcc54c75a08a100ec49482cc",
            "4537aa1291e946ef96fee2322377192d",
            "1e9d2896f6f74fb4901dd550c8122091",
            "9e589ca0fd4f4d9997f51bee51e2cedf",
            "72facf91d67f423985afaa35b1d096a4",
            "96d8fcb9433d4772bfbcafbab1b06c56",
            "a7d1984d6b634e03a7ab7fb0b87912e5",
            "c5b9413a915d4d1ea9792d060d7911a1",
            "d980f12fe87e41a2a7565da97ed20d3e",
            "0a2f62a78f1d429592fa40f26f2fc66b",
            "56201f40e22f48158f5ee8078820808b",
            "d7ad7e04704a495e8e26a4f90398d1ff",
            "d1b7f5ac1e8b40829b73d4ac6da6f97f",
            "74dc0079ee834d8398f671004b791eaf",
            "831df88d995f4905875bce0b7cb6a7c2",
            "b08650baa08e468e9c95916bbf935e95",
            "a2eca3230b7142d5be989f6abb63d812",
            "c233d6cf1901471e820dd9e950d28287",
            "8c9192f36bc04dcc805c8647e4902ccc",
            "b774424534ac4bd4b3883f3ab427c596",
            "3ba8ffd22d5b4010b7730d9effa8458a",
            "5c14c1d3aa60440b8cbd60e8f848dee6",
            "537ebad641c443b797f8a5f6c88f08bc",
            "72361bcd8c164f4388915b37579407ab",
            "85bcc33183f84c8892e2bb46846803b5"
          ]
        },
        "id": "7yXgGB7pvp9L",
        "outputId": "b65dfcab-c93b-41af-c0e3-58663896c967"
      },
      "execution_count": null,
      "outputs": [
        {
          "output_type": "display_data",
          "data": {
            "text/plain": [
              "<IPython.core.display.HTML object>"
            ],
            "text/html": [
              "\n",
              "            <style>\n",
              "                .geemap-dark {\n",
              "                    --jp-widgets-color: white;\n",
              "                    --jp-widgets-label-color: white;\n",
              "                    --jp-ui-font-color1: white;\n",
              "                    --jp-layout-color2: #454545;\n",
              "                    background-color: #383838;\n",
              "                }\n",
              "\n",
              "                .geemap-dark .jupyter-button {\n",
              "                    --jp-layout-color3: #383838;\n",
              "                }\n",
              "\n",
              "                .geemap-colab {\n",
              "                    background-color: var(--colab-primary-surface-color, white);\n",
              "                }\n",
              "\n",
              "                .geemap-colab .jupyter-button {\n",
              "                    --jp-layout-color3: var(--colab-primary-surface-color, white);\n",
              "                }\n",
              "            </style>\n",
              "            "
            ]
          },
          "metadata": {}
        },
        {
          "output_type": "display_data",
          "data": {
            "text/plain": [
              "Map(center=[39.02270330012919, -77.59307847237787], controls=(WidgetControl(options=['position', 'transparent_…"
            ],
            "application/vnd.jupyter.widget-view+json": {
              "version_major": 2,
              "version_minor": 0,
              "model_id": "707a1005d96948b3a5f456560a0fa77f"
            }
          },
          "metadata": {
            "application/vnd.jupyter.widget-view+json": {
              "colab": {
                "custom_widget_manager": {
                  "url": "https://ssl.gstatic.com/colaboratory-static/widgets/colab-cdn-widget-manager/2b70e893a8ba7c0f/manager.min.js"
                }
              }
            }
          }
        }
      ]
    },
    {
      "cell_type": "code",
      "source": [
        "dw_image"
      ],
      "metadata": {
        "id": "YG4eWTxPzzQb",
        "colab": {
          "base_uri": "https://localhost:8080/",
          "height": 635
        },
        "outputId": "99b6cb6a-01f3-40df-bb0c-7d63bdd8e46d"
      },
      "execution_count": null,
      "outputs": [
        {
          "output_type": "display_data",
          "data": {
            "text/plain": [
              "<IPython.core.display.HTML object>"
            ],
            "text/html": [
              "\n",
              "            <style>\n",
              "                .geemap-dark {\n",
              "                    --jp-widgets-color: white;\n",
              "                    --jp-widgets-label-color: white;\n",
              "                    --jp-ui-font-color1: white;\n",
              "                    --jp-layout-color2: #454545;\n",
              "                    background-color: #383838;\n",
              "                }\n",
              "\n",
              "                .geemap-dark .jupyter-button {\n",
              "                    --jp-layout-color3: #383838;\n",
              "                }\n",
              "\n",
              "                .geemap-colab {\n",
              "                    background-color: var(--colab-primary-surface-color, white);\n",
              "                }\n",
              "\n",
              "                .geemap-colab .jupyter-button {\n",
              "                    --jp-layout-color3: var(--colab-primary-surface-color, white);\n",
              "                }\n",
              "            </style>\n",
              "            "
            ]
          },
          "metadata": {}
        },
        {
          "output_type": "execute_result",
          "data": {
            "text/plain": [
              "<ee.image.Image at 0x7f426f668b50>"
            ],
            "text/html": [
              "<div><style>:root {\n",
              "  --font-color-primary: var(--jp-content-font-color0, rgba(0, 0, 0, 1));\n",
              "  --font-color-secondary: var(--jp-content-font-color2, rgba(0, 0, 0, 0.6));\n",
              "  --font-color-accent: rgba(123, 31, 162, 1);\n",
              "  --border-color: var(--jp-border-color2, #e0e0e0);\n",
              "  --background-color: var(--jp-layout-color0, white);\n",
              "  --background-color-row-even: var(--jp-layout-color1, white);\n",
              "  --background-color-row-odd: var(--jp-layout-color2, #eeeeee);\n",
              "}\n",
              "\n",
              "html[theme=\"dark\"],\n",
              "body[data-theme=\"dark\"],\n",
              "body.vscode-dark {\n",
              "  --font-color-primary: rgba(255, 255, 255, 1);\n",
              "  --font-color-secondary: rgba(255, 255, 255, 0.6);\n",
              "  --font-color-accent: rgb(173, 132, 190);\n",
              "  --border-color: #2e2e2e;\n",
              "  --background-color: #111111;\n",
              "  --background-color-row-even: #111111;\n",
              "  --background-color-row-odd: #313131;\n",
              "}\n",
              "\n",
              ".ee {\n",
              "  padding: 1em;\n",
              "  line-height: 1.5em;\n",
              "  min-width: 300px;\n",
              "  max-width: 1200px;\n",
              "  overflow-y: scroll;\n",
              "  max-height: 600px;\n",
              "  border: 1px solid var(--border-color);\n",
              "  font-family: monospace;\n",
              "}\n",
              "\n",
              ".ee li {\n",
              "  list-style-type: none;\n",
              "}\n",
              "\n",
              ".ee ul {\n",
              "  padding-left: 1.5em !important;\n",
              "  margin: 0;\n",
              "}\n",
              "\n",
              ".ee > ul {\n",
              "  padding-left: 0 !important;\n",
              "}\n",
              "\n",
              ".ee-open,\n",
              ".ee-shut {\n",
              "  color: var(--font-color-secondary);\n",
              "  cursor: pointer;\n",
              "  margin: 0;\n",
              "}\n",
              "\n",
              ".ee-open:hover,\n",
              ".ee-shut:hover {\n",
              "  color: var(--font-color-primary);\n",
              "}\n",
              "\n",
              ".ee-k {\n",
              "  color: var(--font-color-accent);\n",
              "  margin-right: 6px;\n",
              "}\n",
              "\n",
              ".ee-v {\n",
              "  color: var(--font-color-primary);\n",
              "}\n",
              "\n",
              ".ee-toggle {\n",
              "  display: none;\n",
              "}\n",
              "\n",
              ".ee-shut + ul {\n",
              "  display: none;\n",
              "}\n",
              "\n",
              ".ee-open + ul {\n",
              "  display: block;\n",
              "}\n",
              "\n",
              ".ee-shut::before {\n",
              "  display: inline-block;\n",
              "  content: \"▼\";\n",
              "  margin-right: 6px;\n",
              "  transform: rotate(-90deg);\n",
              "  transition: transform 0.2s;\n",
              "}\n",
              "\n",
              ".ee-open::before {\n",
              "  transform: rotate(0deg);\n",
              "  display: inline-block;\n",
              "  content: \"▼\";\n",
              "  margin-right: 6px;\n",
              "  transition: transform 0.2s;\n",
              "}\n",
              "</style><div class='ee'><ul><li><label class='ee-shut'>Image GOOGLE/DYNAMICWORLD/V1/20221117T051049_20221117T051048_T37CDP (10 bands)<input type='checkbox' class='ee-toggle'></label><ul><li><span class='ee-k'>type:</span><span class='ee-v'>Image</span></li><li><span class='ee-k'>id:</span><span class='ee-v'>GOOGLE/DYNAMICWORLD/V1/20221117T051049_20221117T051048_T37CDP</span></li><li><span class='ee-k'>version:</span><span class='ee-v'>1715368931453726</span></li><li><label class='ee-shut'>bands: List (10 elements)<input type='checkbox' class='ee-toggle'></label><ul><li><label class='ee-shut'>0: \"water\", double, EPSG:32737, 10940x10940 px<input type='checkbox' class='ee-toggle'></label><ul><li><span class='ee-k'>id:</span><span class='ee-v'>water</span></li><li><span class='ee-k'>crs:</span><span class='ee-v'>EPSG:32737</span></li><li><label class='ee-shut'>crs_transform: [10, 0, 400150, 0, 10, 1290430]<input type='checkbox' class='ee-toggle'></label><ul><li><span class='ee-k'>0:</span><span class='ee-v'>10</span></li><li><span class='ee-k'>1:</span><span class='ee-v'>0</span></li><li><span class='ee-k'>2:</span><span class='ee-v'>400150</span></li><li><span class='ee-k'>3:</span><span class='ee-v'>0</span></li><li><span class='ee-k'>4:</span><span class='ee-v'>10</span></li><li><span class='ee-k'>5:</span><span class='ee-v'>1290430</span></li></ul></li><li><label class='ee-shut'>data_type: double<input type='checkbox' class='ee-toggle'></label><ul><li><span class='ee-k'>type:</span><span class='ee-v'>PixelType</span></li><li><span class='ee-k'>precision:</span><span class='ee-v'>double</span></li></ul></li><li><label class='ee-shut'>dimensions: [10940, 10940]<input type='checkbox' class='ee-toggle'></label><ul><li><span class='ee-k'>0:</span><span class='ee-v'>10940</span></li><li><span class='ee-k'>1:</span><span class='ee-v'>10940</span></li></ul></li></ul></li><li><label class='ee-shut'>1: \"trees\", double, EPSG:32737, 10940x10940 px<input type='checkbox' class='ee-toggle'></label><ul><li><span class='ee-k'>id:</span><span class='ee-v'>trees</span></li><li><span class='ee-k'>crs:</span><span class='ee-v'>EPSG:32737</span></li><li><label class='ee-shut'>crs_transform: [10, 0, 400150, 0, 10, 1290430]<input type='checkbox' class='ee-toggle'></label><ul><li><span class='ee-k'>0:</span><span class='ee-v'>10</span></li><li><span class='ee-k'>1:</span><span class='ee-v'>0</span></li><li><span class='ee-k'>2:</span><span class='ee-v'>400150</span></li><li><span class='ee-k'>3:</span><span class='ee-v'>0</span></li><li><span class='ee-k'>4:</span><span class='ee-v'>10</span></li><li><span class='ee-k'>5:</span><span class='ee-v'>1290430</span></li></ul></li><li><label class='ee-shut'>data_type: double<input type='checkbox' class='ee-toggle'></label><ul><li><span class='ee-k'>type:</span><span class='ee-v'>PixelType</span></li><li><span class='ee-k'>precision:</span><span class='ee-v'>double</span></li></ul></li><li><label class='ee-shut'>dimensions: [10940, 10940]<input type='checkbox' class='ee-toggle'></label><ul><li><span class='ee-k'>0:</span><span class='ee-v'>10940</span></li><li><span class='ee-k'>1:</span><span class='ee-v'>10940</span></li></ul></li></ul></li><li><label class='ee-shut'>2: \"grass\", double, EPSG:32737, 10940x10940 px<input type='checkbox' class='ee-toggle'></label><ul><li><span class='ee-k'>id:</span><span class='ee-v'>grass</span></li><li><span class='ee-k'>crs:</span><span class='ee-v'>EPSG:32737</span></li><li><label class='ee-shut'>crs_transform: [10, 0, 400150, 0, 10, 1290430]<input type='checkbox' class='ee-toggle'></label><ul><li><span class='ee-k'>0:</span><span class='ee-v'>10</span></li><li><span class='ee-k'>1:</span><span class='ee-v'>0</span></li><li><span class='ee-k'>2:</span><span class='ee-v'>400150</span></li><li><span class='ee-k'>3:</span><span class='ee-v'>0</span></li><li><span class='ee-k'>4:</span><span class='ee-v'>10</span></li><li><span class='ee-k'>5:</span><span class='ee-v'>1290430</span></li></ul></li><li><label class='ee-shut'>data_type: double<input type='checkbox' class='ee-toggle'></label><ul><li><span class='ee-k'>type:</span><span class='ee-v'>PixelType</span></li><li><span class='ee-k'>precision:</span><span class='ee-v'>double</span></li></ul></li><li><label class='ee-shut'>dimensions: [10940, 10940]<input type='checkbox' class='ee-toggle'></label><ul><li><span class='ee-k'>0:</span><span class='ee-v'>10940</span></li><li><span class='ee-k'>1:</span><span class='ee-v'>10940</span></li></ul></li></ul></li><li><label class='ee-shut'>3: \"flooded_vegetation\", double, EPSG:32737, 10940x10940 px<input type='checkbox' class='ee-toggle'></label><ul><li><span class='ee-k'>id:</span><span class='ee-v'>flooded_vegetation</span></li><li><span class='ee-k'>crs:</span><span class='ee-v'>EPSG:32737</span></li><li><label class='ee-shut'>crs_transform: [10, 0, 400150, 0, 10, 1290430]<input type='checkbox' class='ee-toggle'></label><ul><li><span class='ee-k'>0:</span><span class='ee-v'>10</span></li><li><span class='ee-k'>1:</span><span class='ee-v'>0</span></li><li><span class='ee-k'>2:</span><span class='ee-v'>400150</span></li><li><span class='ee-k'>3:</span><span class='ee-v'>0</span></li><li><span class='ee-k'>4:</span><span class='ee-v'>10</span></li><li><span class='ee-k'>5:</span><span class='ee-v'>1290430</span></li></ul></li><li><label class='ee-shut'>data_type: double<input type='checkbox' class='ee-toggle'></label><ul><li><span class='ee-k'>type:</span><span class='ee-v'>PixelType</span></li><li><span class='ee-k'>precision:</span><span class='ee-v'>double</span></li></ul></li><li><label class='ee-shut'>dimensions: [10940, 10940]<input type='checkbox' class='ee-toggle'></label><ul><li><span class='ee-k'>0:</span><span class='ee-v'>10940</span></li><li><span class='ee-k'>1:</span><span class='ee-v'>10940</span></li></ul></li></ul></li><li><label class='ee-shut'>4: \"crops\", double, EPSG:32737, 10940x10940 px<input type='checkbox' class='ee-toggle'></label><ul><li><span class='ee-k'>id:</span><span class='ee-v'>crops</span></li><li><span class='ee-k'>crs:</span><span class='ee-v'>EPSG:32737</span></li><li><label class='ee-shut'>crs_transform: [10, 0, 400150, 0, 10, 1290430]<input type='checkbox' class='ee-toggle'></label><ul><li><span class='ee-k'>0:</span><span class='ee-v'>10</span></li><li><span class='ee-k'>1:</span><span class='ee-v'>0</span></li><li><span class='ee-k'>2:</span><span class='ee-v'>400150</span></li><li><span class='ee-k'>3:</span><span class='ee-v'>0</span></li><li><span class='ee-k'>4:</span><span class='ee-v'>10</span></li><li><span class='ee-k'>5:</span><span class='ee-v'>1290430</span></li></ul></li><li><label class='ee-shut'>data_type: double<input type='checkbox' class='ee-toggle'></label><ul><li><span class='ee-k'>type:</span><span class='ee-v'>PixelType</span></li><li><span class='ee-k'>precision:</span><span class='ee-v'>double</span></li></ul></li><li><label class='ee-shut'>dimensions: [10940, 10940]<input type='checkbox' class='ee-toggle'></label><ul><li><span class='ee-k'>0:</span><span class='ee-v'>10940</span></li><li><span class='ee-k'>1:</span><span class='ee-v'>10940</span></li></ul></li></ul></li><li><label class='ee-shut'>5: \"shrub_and_scrub\", double, EPSG:32737, 10940x10940 px<input type='checkbox' class='ee-toggle'></label><ul><li><span class='ee-k'>id:</span><span class='ee-v'>shrub_and_scrub</span></li><li><span class='ee-k'>crs:</span><span class='ee-v'>EPSG:32737</span></li><li><label class='ee-shut'>crs_transform: [10, 0, 400150, 0, 10, 1290430]<input type='checkbox' class='ee-toggle'></label><ul><li><span class='ee-k'>0:</span><span class='ee-v'>10</span></li><li><span class='ee-k'>1:</span><span class='ee-v'>0</span></li><li><span class='ee-k'>2:</span><span class='ee-v'>400150</span></li><li><span class='ee-k'>3:</span><span class='ee-v'>0</span></li><li><span class='ee-k'>4:</span><span class='ee-v'>10</span></li><li><span class='ee-k'>5:</span><span class='ee-v'>1290430</span></li></ul></li><li><label class='ee-shut'>data_type: double<input type='checkbox' class='ee-toggle'></label><ul><li><span class='ee-k'>type:</span><span class='ee-v'>PixelType</span></li><li><span class='ee-k'>precision:</span><span class='ee-v'>double</span></li></ul></li><li><label class='ee-shut'>dimensions: [10940, 10940]<input type='checkbox' class='ee-toggle'></label><ul><li><span class='ee-k'>0:</span><span class='ee-v'>10940</span></li><li><span class='ee-k'>1:</span><span class='ee-v'>10940</span></li></ul></li></ul></li><li><label class='ee-shut'>6: \"built\", double, EPSG:32737, 10940x10940 px<input type='checkbox' class='ee-toggle'></label><ul><li><span class='ee-k'>id:</span><span class='ee-v'>built</span></li><li><span class='ee-k'>crs:</span><span class='ee-v'>EPSG:32737</span></li><li><label class='ee-shut'>crs_transform: [10, 0, 400150, 0, 10, 1290430]<input type='checkbox' class='ee-toggle'></label><ul><li><span class='ee-k'>0:</span><span class='ee-v'>10</span></li><li><span class='ee-k'>1:</span><span class='ee-v'>0</span></li><li><span class='ee-k'>2:</span><span class='ee-v'>400150</span></li><li><span class='ee-k'>3:</span><span class='ee-v'>0</span></li><li><span class='ee-k'>4:</span><span class='ee-v'>10</span></li><li><span class='ee-k'>5:</span><span class='ee-v'>1290430</span></li></ul></li><li><label class='ee-shut'>data_type: double<input type='checkbox' class='ee-toggle'></label><ul><li><span class='ee-k'>type:</span><span class='ee-v'>PixelType</span></li><li><span class='ee-k'>precision:</span><span class='ee-v'>double</span></li></ul></li><li><label class='ee-shut'>dimensions: [10940, 10940]<input type='checkbox' class='ee-toggle'></label><ul><li><span class='ee-k'>0:</span><span class='ee-v'>10940</span></li><li><span class='ee-k'>1:</span><span class='ee-v'>10940</span></li></ul></li></ul></li><li><label class='ee-shut'>7: \"bare\", double, EPSG:32737, 10940x10940 px<input type='checkbox' class='ee-toggle'></label><ul><li><span class='ee-k'>id:</span><span class='ee-v'>bare</span></li><li><span class='ee-k'>crs:</span><span class='ee-v'>EPSG:32737</span></li><li><label class='ee-shut'>crs_transform: [10, 0, 400150, 0, 10, 1290430]<input type='checkbox' class='ee-toggle'></label><ul><li><span class='ee-k'>0:</span><span class='ee-v'>10</span></li><li><span class='ee-k'>1:</span><span class='ee-v'>0</span></li><li><span class='ee-k'>2:</span><span class='ee-v'>400150</span></li><li><span class='ee-k'>3:</span><span class='ee-v'>0</span></li><li><span class='ee-k'>4:</span><span class='ee-v'>10</span></li><li><span class='ee-k'>5:</span><span class='ee-v'>1290430</span></li></ul></li><li><label class='ee-shut'>data_type: double<input type='checkbox' class='ee-toggle'></label><ul><li><span class='ee-k'>type:</span><span class='ee-v'>PixelType</span></li><li><span class='ee-k'>precision:</span><span class='ee-v'>double</span></li></ul></li><li><label class='ee-shut'>dimensions: [10940, 10940]<input type='checkbox' class='ee-toggle'></label><ul><li><span class='ee-k'>0:</span><span class='ee-v'>10940</span></li><li><span class='ee-k'>1:</span><span class='ee-v'>10940</span></li></ul></li></ul></li><li><label class='ee-shut'>8: \"snow_and_ice\", double, EPSG:32737, 10940x10940 px<input type='checkbox' class='ee-toggle'></label><ul><li><span class='ee-k'>id:</span><span class='ee-v'>snow_and_ice</span></li><li><span class='ee-k'>crs:</span><span class='ee-v'>EPSG:32737</span></li><li><label class='ee-shut'>crs_transform: [10, 0, 400150, 0, 10, 1290430]<input type='checkbox' class='ee-toggle'></label><ul><li><span class='ee-k'>0:</span><span class='ee-v'>10</span></li><li><span class='ee-k'>1:</span><span class='ee-v'>0</span></li><li><span class='ee-k'>2:</span><span class='ee-v'>400150</span></li><li><span class='ee-k'>3:</span><span class='ee-v'>0</span></li><li><span class='ee-k'>4:</span><span class='ee-v'>10</span></li><li><span class='ee-k'>5:</span><span class='ee-v'>1290430</span></li></ul></li><li><label class='ee-shut'>data_type: double<input type='checkbox' class='ee-toggle'></label><ul><li><span class='ee-k'>type:</span><span class='ee-v'>PixelType</span></li><li><span class='ee-k'>precision:</span><span class='ee-v'>double</span></li></ul></li><li><label class='ee-shut'>dimensions: [10940, 10940]<input type='checkbox' class='ee-toggle'></label><ul><li><span class='ee-k'>0:</span><span class='ee-v'>10940</span></li><li><span class='ee-k'>1:</span><span class='ee-v'>10940</span></li></ul></li></ul></li><li><label class='ee-shut'>9: \"label\", unsigned int8, EPSG:32737, 10940x10940 px<input type='checkbox' class='ee-toggle'></label><ul><li><span class='ee-k'>id:</span><span class='ee-v'>label</span></li><li><span class='ee-k'>crs:</span><span class='ee-v'>EPSG:32737</span></li><li><label class='ee-shut'>crs_transform: [10, 0, 400150, 0, 10, 1290430]<input type='checkbox' class='ee-toggle'></label><ul><li><span class='ee-k'>0:</span><span class='ee-v'>10</span></li><li><span class='ee-k'>1:</span><span class='ee-v'>0</span></li><li><span class='ee-k'>2:</span><span class='ee-v'>400150</span></li><li><span class='ee-k'>3:</span><span class='ee-v'>0</span></li><li><span class='ee-k'>4:</span><span class='ee-v'>10</span></li><li><span class='ee-k'>5:</span><span class='ee-v'>1290430</span></li></ul></li><li><label class='ee-shut'>data_type: unsigned int8<input type='checkbox' class='ee-toggle'></label><ul><li><span class='ee-k'>type:</span><span class='ee-v'>PixelType</span></li><li><span class='ee-k'>max:</span><span class='ee-v'>255</span></li><li><span class='ee-k'>min:</span><span class='ee-v'>0</span></li><li><span class='ee-k'>precision:</span><span class='ee-v'>int</span></li></ul></li><li><label class='ee-shut'>dimensions: [10940, 10940]<input type='checkbox' class='ee-toggle'></label><ul><li><span class='ee-k'>0:</span><span class='ee-v'>10940</span></li><li><span class='ee-k'>1:</span><span class='ee-v'>10940</span></li></ul></li></ul></li></ul></li><li><label class='ee-shut'>properties: Object (7 properties)<input type='checkbox' class='ee-toggle'></label><ul><li><span class='ee-k'>dynamicworld_algorithm_version:</span><span class='ee-v'>3.5</span></li><li><span class='ee-k'>qa_algorithm_version:</span><span class='ee-v'>1</span></li><li><label class='ee-shut'>s2_img: Image COPERNICUS/S2_HARMONIZED/20221117T051049_20221117T051048_T37CDP (16 bands)<input type='checkbox' class='ee-toggle'></label><ul><li><span class='ee-k'>type:</span><span class='ee-v'>Image</span></li><li><span class='ee-k'>id:</span><span class='ee-v'>COPERNICUS/S2_HARMONIZED/20221117T051049_20221117T051048_T37CDP</span></li><li><span class='ee-k'>version:</span><span class='ee-v'>1715369417742346</span></li><li><label class='ee-shut'>bands: List (16 elements)<input type='checkbox' class='ee-toggle'></label><ul><li><label class='ee-shut'>0: \"B1\", unsigned int16, EPSG:32737, 1830x1830 px<input type='checkbox' class='ee-toggle'></label><ul><li><span class='ee-k'>id:</span><span class='ee-v'>B1</span></li><li><span class='ee-k'>crs:</span><span class='ee-v'>EPSG:32737</span></li><li><label class='ee-shut'>crs_transform: [60, 0, 399960, 0, -60, 1400020]<input type='checkbox' class='ee-toggle'></label><ul><li><span class='ee-k'>0:</span><span class='ee-v'>60</span></li><li><span class='ee-k'>1:</span><span class='ee-v'>0</span></li><li><span class='ee-k'>2:</span><span class='ee-v'>399960</span></li><li><span class='ee-k'>3:</span><span class='ee-v'>0</span></li><li><span class='ee-k'>4:</span><span class='ee-v'>-60</span></li><li><span class='ee-k'>5:</span><span class='ee-v'>1400020</span></li></ul></li><li><label class='ee-shut'>data_type: unsigned int16<input type='checkbox' class='ee-toggle'></label><ul><li><span class='ee-k'>type:</span><span class='ee-v'>PixelType</span></li><li><span class='ee-k'>max:</span><span class='ee-v'>65535</span></li><li><span class='ee-k'>min:</span><span class='ee-v'>0</span></li><li><span class='ee-k'>precision:</span><span class='ee-v'>int</span></li></ul></li><li><label class='ee-shut'>dimensions: [1830, 1830]<input type='checkbox' class='ee-toggle'></label><ul><li><span class='ee-k'>0:</span><span class='ee-v'>1830</span></li><li><span class='ee-k'>1:</span><span class='ee-v'>1830</span></li></ul></li></ul></li><li><label class='ee-shut'>1: \"B2\", unsigned int16, EPSG:32737, 10980x10980 px<input type='checkbox' class='ee-toggle'></label><ul><li><span class='ee-k'>id:</span><span class='ee-v'>B2</span></li><li><span class='ee-k'>crs:</span><span class='ee-v'>EPSG:32737</span></li><li><label class='ee-shut'>crs_transform: [10, 0, 399960, 0, -10, 1400020]<input type='checkbox' class='ee-toggle'></label><ul><li><span class='ee-k'>0:</span><span class='ee-v'>10</span></li><li><span class='ee-k'>1:</span><span class='ee-v'>0</span></li><li><span class='ee-k'>2:</span><span class='ee-v'>399960</span></li><li><span class='ee-k'>3:</span><span class='ee-v'>0</span></li><li><span class='ee-k'>4:</span><span class='ee-v'>-10</span></li><li><span class='ee-k'>5:</span><span class='ee-v'>1400020</span></li></ul></li><li><label class='ee-shut'>data_type: unsigned int16<input type='checkbox' class='ee-toggle'></label><ul><li><span class='ee-k'>type:</span><span class='ee-v'>PixelType</span></li><li><span class='ee-k'>max:</span><span class='ee-v'>65535</span></li><li><span class='ee-k'>min:</span><span class='ee-v'>0</span></li><li><span class='ee-k'>precision:</span><span class='ee-v'>int</span></li></ul></li><li><label class='ee-shut'>dimensions: [10980, 10980]<input type='checkbox' class='ee-toggle'></label><ul><li><span class='ee-k'>0:</span><span class='ee-v'>10980</span></li><li><span class='ee-k'>1:</span><span class='ee-v'>10980</span></li></ul></li></ul></li><li><label class='ee-shut'>2: \"B3\", unsigned int16, EPSG:32737, 10980x10980 px<input type='checkbox' class='ee-toggle'></label><ul><li><span class='ee-k'>id:</span><span class='ee-v'>B3</span></li><li><span class='ee-k'>crs:</span><span class='ee-v'>EPSG:32737</span></li><li><label class='ee-shut'>crs_transform: [10, 0, 399960, 0, -10, 1400020]<input type='checkbox' class='ee-toggle'></label><ul><li><span class='ee-k'>0:</span><span class='ee-v'>10</span></li><li><span class='ee-k'>1:</span><span class='ee-v'>0</span></li><li><span class='ee-k'>2:</span><span class='ee-v'>399960</span></li><li><span class='ee-k'>3:</span><span class='ee-v'>0</span></li><li><span class='ee-k'>4:</span><span class='ee-v'>-10</span></li><li><span class='ee-k'>5:</span><span class='ee-v'>1400020</span></li></ul></li><li><label class='ee-shut'>data_type: unsigned int16<input type='checkbox' class='ee-toggle'></label><ul><li><span class='ee-k'>type:</span><span class='ee-v'>PixelType</span></li><li><span class='ee-k'>max:</span><span class='ee-v'>65535</span></li><li><span class='ee-k'>min:</span><span class='ee-v'>0</span></li><li><span class='ee-k'>precision:</span><span class='ee-v'>int</span></li></ul></li><li><label class='ee-shut'>dimensions: [10980, 10980]<input type='checkbox' class='ee-toggle'></label><ul><li><span class='ee-k'>0:</span><span class='ee-v'>10980</span></li><li><span class='ee-k'>1:</span><span class='ee-v'>10980</span></li></ul></li></ul></li><li><label class='ee-shut'>3: \"B4\", unsigned int16, EPSG:32737, 10980x10980 px<input type='checkbox' class='ee-toggle'></label><ul><li><span class='ee-k'>id:</span><span class='ee-v'>B4</span></li><li><span class='ee-k'>crs:</span><span class='ee-v'>EPSG:32737</span></li><li><label class='ee-shut'>crs_transform: [10, 0, 399960, 0, -10, 1400020]<input type='checkbox' class='ee-toggle'></label><ul><li><span class='ee-k'>0:</span><span class='ee-v'>10</span></li><li><span class='ee-k'>1:</span><span class='ee-v'>0</span></li><li><span class='ee-k'>2:</span><span class='ee-v'>399960</span></li><li><span class='ee-k'>3:</span><span class='ee-v'>0</span></li><li><span class='ee-k'>4:</span><span class='ee-v'>-10</span></li><li><span class='ee-k'>5:</span><span class='ee-v'>1400020</span></li></ul></li><li><label class='ee-shut'>data_type: unsigned int16<input type='checkbox' class='ee-toggle'></label><ul><li><span class='ee-k'>type:</span><span class='ee-v'>PixelType</span></li><li><span class='ee-k'>max:</span><span class='ee-v'>65535</span></li><li><span class='ee-k'>min:</span><span class='ee-v'>0</span></li><li><span class='ee-k'>precision:</span><span class='ee-v'>int</span></li></ul></li><li><label class='ee-shut'>dimensions: [10980, 10980]<input type='checkbox' class='ee-toggle'></label><ul><li><span class='ee-k'>0:</span><span class='ee-v'>10980</span></li><li><span class='ee-k'>1:</span><span class='ee-v'>10980</span></li></ul></li></ul></li><li><label class='ee-shut'>4: \"B5\", unsigned int16, EPSG:32737, 5490x5490 px<input type='checkbox' class='ee-toggle'></label><ul><li><span class='ee-k'>id:</span><span class='ee-v'>B5</span></li><li><span class='ee-k'>crs:</span><span class='ee-v'>EPSG:32737</span></li><li><label class='ee-shut'>crs_transform: [20, 0, 399960, 0, -20, 1400020]<input type='checkbox' class='ee-toggle'></label><ul><li><span class='ee-k'>0:</span><span class='ee-v'>20</span></li><li><span class='ee-k'>1:</span><span class='ee-v'>0</span></li><li><span class='ee-k'>2:</span><span class='ee-v'>399960</span></li><li><span class='ee-k'>3:</span><span class='ee-v'>0</span></li><li><span class='ee-k'>4:</span><span class='ee-v'>-20</span></li><li><span class='ee-k'>5:</span><span class='ee-v'>1400020</span></li></ul></li><li><label class='ee-shut'>data_type: unsigned int16<input type='checkbox' class='ee-toggle'></label><ul><li><span class='ee-k'>type:</span><span class='ee-v'>PixelType</span></li><li><span class='ee-k'>max:</span><span class='ee-v'>65535</span></li><li><span class='ee-k'>min:</span><span class='ee-v'>0</span></li><li><span class='ee-k'>precision:</span><span class='ee-v'>int</span></li></ul></li><li><label class='ee-shut'>dimensions: [5490, 5490]<input type='checkbox' class='ee-toggle'></label><ul><li><span class='ee-k'>0:</span><span class='ee-v'>5490</span></li><li><span class='ee-k'>1:</span><span class='ee-v'>5490</span></li></ul></li></ul></li><li><label class='ee-shut'>5: \"B6\", unsigned int16, EPSG:32737, 5490x5490 px<input type='checkbox' class='ee-toggle'></label><ul><li><span class='ee-k'>id:</span><span class='ee-v'>B6</span></li><li><span class='ee-k'>crs:</span><span class='ee-v'>EPSG:32737</span></li><li><label class='ee-shut'>crs_transform: [20, 0, 399960, 0, -20, 1400020]<input type='checkbox' class='ee-toggle'></label><ul><li><span class='ee-k'>0:</span><span class='ee-v'>20</span></li><li><span class='ee-k'>1:</span><span class='ee-v'>0</span></li><li><span class='ee-k'>2:</span><span class='ee-v'>399960</span></li><li><span class='ee-k'>3:</span><span class='ee-v'>0</span></li><li><span class='ee-k'>4:</span><span class='ee-v'>-20</span></li><li><span class='ee-k'>5:</span><span class='ee-v'>1400020</span></li></ul></li><li><label class='ee-shut'>data_type: unsigned int16<input type='checkbox' class='ee-toggle'></label><ul><li><span class='ee-k'>type:</span><span class='ee-v'>PixelType</span></li><li><span class='ee-k'>max:</span><span class='ee-v'>65535</span></li><li><span class='ee-k'>min:</span><span class='ee-v'>0</span></li><li><span class='ee-k'>precision:</span><span class='ee-v'>int</span></li></ul></li><li><label class='ee-shut'>dimensions: [5490, 5490]<input type='checkbox' class='ee-toggle'></label><ul><li><span class='ee-k'>0:</span><span class='ee-v'>5490</span></li><li><span class='ee-k'>1:</span><span class='ee-v'>5490</span></li></ul></li></ul></li><li><label class='ee-shut'>6: \"B7\", unsigned int16, EPSG:32737, 5490x5490 px<input type='checkbox' class='ee-toggle'></label><ul><li><span class='ee-k'>id:</span><span class='ee-v'>B7</span></li><li><span class='ee-k'>crs:</span><span class='ee-v'>EPSG:32737</span></li><li><label class='ee-shut'>crs_transform: [20, 0, 399960, 0, -20, 1400020]<input type='checkbox' class='ee-toggle'></label><ul><li><span class='ee-k'>0:</span><span class='ee-v'>20</span></li><li><span class='ee-k'>1:</span><span class='ee-v'>0</span></li><li><span class='ee-k'>2:</span><span class='ee-v'>399960</span></li><li><span class='ee-k'>3:</span><span class='ee-v'>0</span></li><li><span class='ee-k'>4:</span><span class='ee-v'>-20</span></li><li><span class='ee-k'>5:</span><span class='ee-v'>1400020</span></li></ul></li><li><label class='ee-shut'>data_type: unsigned int16<input type='checkbox' class='ee-toggle'></label><ul><li><span class='ee-k'>type:</span><span class='ee-v'>PixelType</span></li><li><span class='ee-k'>max:</span><span class='ee-v'>65535</span></li><li><span class='ee-k'>min:</span><span class='ee-v'>0</span></li><li><span class='ee-k'>precision:</span><span class='ee-v'>int</span></li></ul></li><li><label class='ee-shut'>dimensions: [5490, 5490]<input type='checkbox' class='ee-toggle'></label><ul><li><span class='ee-k'>0:</span><span class='ee-v'>5490</span></li><li><span class='ee-k'>1:</span><span class='ee-v'>5490</span></li></ul></li></ul></li><li><label class='ee-shut'>7: \"B8\", unsigned int16, EPSG:32737, 10980x10980 px<input type='checkbox' class='ee-toggle'></label><ul><li><span class='ee-k'>id:</span><span class='ee-v'>B8</span></li><li><span class='ee-k'>crs:</span><span class='ee-v'>EPSG:32737</span></li><li><label class='ee-shut'>crs_transform: [10, 0, 399960, 0, -10, 1400020]<input type='checkbox' class='ee-toggle'></label><ul><li><span class='ee-k'>0:</span><span class='ee-v'>10</span></li><li><span class='ee-k'>1:</span><span class='ee-v'>0</span></li><li><span class='ee-k'>2:</span><span class='ee-v'>399960</span></li><li><span class='ee-k'>3:</span><span class='ee-v'>0</span></li><li><span class='ee-k'>4:</span><span class='ee-v'>-10</span></li><li><span class='ee-k'>5:</span><span class='ee-v'>1400020</span></li></ul></li><li><label class='ee-shut'>data_type: unsigned int16<input type='checkbox' class='ee-toggle'></label><ul><li><span class='ee-k'>type:</span><span class='ee-v'>PixelType</span></li><li><span class='ee-k'>max:</span><span class='ee-v'>65535</span></li><li><span class='ee-k'>min:</span><span class='ee-v'>0</span></li><li><span class='ee-k'>precision:</span><span class='ee-v'>int</span></li></ul></li><li><label class='ee-shut'>dimensions: [10980, 10980]<input type='checkbox' class='ee-toggle'></label><ul><li><span class='ee-k'>0:</span><span class='ee-v'>10980</span></li><li><span class='ee-k'>1:</span><span class='ee-v'>10980</span></li></ul></li></ul></li><li><label class='ee-shut'>8: \"B8A\", unsigned int16, EPSG:32737, 5490x5490 px<input type='checkbox' class='ee-toggle'></label><ul><li><span class='ee-k'>id:</span><span class='ee-v'>B8A</span></li><li><span class='ee-k'>crs:</span><span class='ee-v'>EPSG:32737</span></li><li><label class='ee-shut'>crs_transform: [20, 0, 399960, 0, -20, 1400020]<input type='checkbox' class='ee-toggle'></label><ul><li><span class='ee-k'>0:</span><span class='ee-v'>20</span></li><li><span class='ee-k'>1:</span><span class='ee-v'>0</span></li><li><span class='ee-k'>2:</span><span class='ee-v'>399960</span></li><li><span class='ee-k'>3:</span><span class='ee-v'>0</span></li><li><span class='ee-k'>4:</span><span class='ee-v'>-20</span></li><li><span class='ee-k'>5:</span><span class='ee-v'>1400020</span></li></ul></li><li><label class='ee-shut'>data_type: unsigned int16<input type='checkbox' class='ee-toggle'></label><ul><li><span class='ee-k'>type:</span><span class='ee-v'>PixelType</span></li><li><span class='ee-k'>max:</span><span class='ee-v'>65535</span></li><li><span class='ee-k'>min:</span><span class='ee-v'>0</span></li><li><span class='ee-k'>precision:</span><span class='ee-v'>int</span></li></ul></li><li><label class='ee-shut'>dimensions: [5490, 5490]<input type='checkbox' class='ee-toggle'></label><ul><li><span class='ee-k'>0:</span><span class='ee-v'>5490</span></li><li><span class='ee-k'>1:</span><span class='ee-v'>5490</span></li></ul></li></ul></li><li><label class='ee-shut'>9: \"B9\", unsigned int16, EPSG:32737, 1830x1830 px<input type='checkbox' class='ee-toggle'></label><ul><li><span class='ee-k'>id:</span><span class='ee-v'>B9</span></li><li><span class='ee-k'>crs:</span><span class='ee-v'>EPSG:32737</span></li><li><label class='ee-shut'>crs_transform: [60, 0, 399960, 0, -60, 1400020]<input type='checkbox' class='ee-toggle'></label><ul><li><span class='ee-k'>0:</span><span class='ee-v'>60</span></li><li><span class='ee-k'>1:</span><span class='ee-v'>0</span></li><li><span class='ee-k'>2:</span><span class='ee-v'>399960</span></li><li><span class='ee-k'>3:</span><span class='ee-v'>0</span></li><li><span class='ee-k'>4:</span><span class='ee-v'>-60</span></li><li><span class='ee-k'>5:</span><span class='ee-v'>1400020</span></li></ul></li><li><label class='ee-shut'>data_type: unsigned int16<input type='checkbox' class='ee-toggle'></label><ul><li><span class='ee-k'>type:</span><span class='ee-v'>PixelType</span></li><li><span class='ee-k'>max:</span><span class='ee-v'>65535</span></li><li><span class='ee-k'>min:</span><span class='ee-v'>0</span></li><li><span class='ee-k'>precision:</span><span class='ee-v'>int</span></li></ul></li><li><label class='ee-shut'>dimensions: [1830, 1830]<input type='checkbox' class='ee-toggle'></label><ul><li><span class='ee-k'>0:</span><span class='ee-v'>1830</span></li><li><span class='ee-k'>1:</span><span class='ee-v'>1830</span></li></ul></li></ul></li><li><label class='ee-shut'>10: \"B10\", unsigned int16, EPSG:32737, 1830x1830 px<input type='checkbox' class='ee-toggle'></label><ul><li><span class='ee-k'>id:</span><span class='ee-v'>B10</span></li><li><span class='ee-k'>crs:</span><span class='ee-v'>EPSG:32737</span></li><li><label class='ee-shut'>crs_transform: [60, 0, 399960, 0, -60, 1400020]<input type='checkbox' class='ee-toggle'></label><ul><li><span class='ee-k'>0:</span><span class='ee-v'>60</span></li><li><span class='ee-k'>1:</span><span class='ee-v'>0</span></li><li><span class='ee-k'>2:</span><span class='ee-v'>399960</span></li><li><span class='ee-k'>3:</span><span class='ee-v'>0</span></li><li><span class='ee-k'>4:</span><span class='ee-v'>-60</span></li><li><span class='ee-k'>5:</span><span class='ee-v'>1400020</span></li></ul></li><li><label class='ee-shut'>data_type: unsigned int16<input type='checkbox' class='ee-toggle'></label><ul><li><span class='ee-k'>type:</span><span class='ee-v'>PixelType</span></li><li><span class='ee-k'>max:</span><span class='ee-v'>65535</span></li><li><span class='ee-k'>min:</span><span class='ee-v'>0</span></li><li><span class='ee-k'>precision:</span><span class='ee-v'>int</span></li></ul></li><li><label class='ee-shut'>dimensions: [1830, 1830]<input type='checkbox' class='ee-toggle'></label><ul><li><span class='ee-k'>0:</span><span class='ee-v'>1830</span></li><li><span class='ee-k'>1:</span><span class='ee-v'>1830</span></li></ul></li></ul></li><li><label class='ee-shut'>11: \"B11\", unsigned int16, EPSG:32737, 5490x5490 px<input type='checkbox' class='ee-toggle'></label><ul><li><span class='ee-k'>id:</span><span class='ee-v'>B11</span></li><li><span class='ee-k'>crs:</span><span class='ee-v'>EPSG:32737</span></li><li><label class='ee-shut'>crs_transform: [20, 0, 399960, 0, -20, 1400020]<input type='checkbox' class='ee-toggle'></label><ul><li><span class='ee-k'>0:</span><span class='ee-v'>20</span></li><li><span class='ee-k'>1:</span><span class='ee-v'>0</span></li><li><span class='ee-k'>2:</span><span class='ee-v'>399960</span></li><li><span class='ee-k'>3:</span><span class='ee-v'>0</span></li><li><span class='ee-k'>4:</span><span class='ee-v'>-20</span></li><li><span class='ee-k'>5:</span><span class='ee-v'>1400020</span></li></ul></li><li><label class='ee-shut'>data_type: unsigned int16<input type='checkbox' class='ee-toggle'></label><ul><li><span class='ee-k'>type:</span><span class='ee-v'>PixelType</span></li><li><span class='ee-k'>max:</span><span class='ee-v'>65535</span></li><li><span class='ee-k'>min:</span><span class='ee-v'>0</span></li><li><span class='ee-k'>precision:</span><span class='ee-v'>int</span></li></ul></li><li><label class='ee-shut'>dimensions: [5490, 5490]<input type='checkbox' class='ee-toggle'></label><ul><li><span class='ee-k'>0:</span><span class='ee-v'>5490</span></li><li><span class='ee-k'>1:</span><span class='ee-v'>5490</span></li></ul></li></ul></li><li><label class='ee-shut'>12: \"B12\", unsigned int16, EPSG:32737, 5490x5490 px<input type='checkbox' class='ee-toggle'></label><ul><li><span class='ee-k'>id:</span><span class='ee-v'>B12</span></li><li><span class='ee-k'>crs:</span><span class='ee-v'>EPSG:32737</span></li><li><label class='ee-shut'>crs_transform: [20, 0, 399960, 0, -20, 1400020]<input type='checkbox' class='ee-toggle'></label><ul><li><span class='ee-k'>0:</span><span class='ee-v'>20</span></li><li><span class='ee-k'>1:</span><span class='ee-v'>0</span></li><li><span class='ee-k'>2:</span><span class='ee-v'>399960</span></li><li><span class='ee-k'>3:</span><span class='ee-v'>0</span></li><li><span class='ee-k'>4:</span><span class='ee-v'>-20</span></li><li><span class='ee-k'>5:</span><span class='ee-v'>1400020</span></li></ul></li><li><label class='ee-shut'>data_type: unsigned int16<input type='checkbox' class='ee-toggle'></label><ul><li><span class='ee-k'>type:</span><span class='ee-v'>PixelType</span></li><li><span class='ee-k'>max:</span><span class='ee-v'>65535</span></li><li><span class='ee-k'>min:</span><span class='ee-v'>0</span></li><li><span class='ee-k'>precision:</span><span class='ee-v'>int</span></li></ul></li><li><label class='ee-shut'>dimensions: [5490, 5490]<input type='checkbox' class='ee-toggle'></label><ul><li><span class='ee-k'>0:</span><span class='ee-v'>5490</span></li><li><span class='ee-k'>1:</span><span class='ee-v'>5490</span></li></ul></li></ul></li><li><label class='ee-shut'>13: \"QA10\", unsigned int16, EPSG:32737, 10980x10980 px<input type='checkbox' class='ee-toggle'></label><ul><li><span class='ee-k'>id:</span><span class='ee-v'>QA10</span></li><li><span class='ee-k'>crs:</span><span class='ee-v'>EPSG:32737</span></li><li><label class='ee-shut'>crs_transform: [10, 0, 399960, 0, -10, 1400020]<input type='checkbox' class='ee-toggle'></label><ul><li><span class='ee-k'>0:</span><span class='ee-v'>10</span></li><li><span class='ee-k'>1:</span><span class='ee-v'>0</span></li><li><span class='ee-k'>2:</span><span class='ee-v'>399960</span></li><li><span class='ee-k'>3:</span><span class='ee-v'>0</span></li><li><span class='ee-k'>4:</span><span class='ee-v'>-10</span></li><li><span class='ee-k'>5:</span><span class='ee-v'>1400020</span></li></ul></li><li><label class='ee-shut'>data_type: unsigned int16<input type='checkbox' class='ee-toggle'></label><ul><li><span class='ee-k'>type:</span><span class='ee-v'>PixelType</span></li><li><span class='ee-k'>max:</span><span class='ee-v'>65535</span></li><li><span class='ee-k'>min:</span><span class='ee-v'>0</span></li><li><span class='ee-k'>precision:</span><span class='ee-v'>int</span></li></ul></li><li><label class='ee-shut'>dimensions: [10980, 10980]<input type='checkbox' class='ee-toggle'></label><ul><li><span class='ee-k'>0:</span><span class='ee-v'>10980</span></li><li><span class='ee-k'>1:</span><span class='ee-v'>10980</span></li></ul></li></ul></li><li><label class='ee-shut'>14: \"QA20\", unsigned int32, EPSG:32737, 5490x5490 px<input type='checkbox' class='ee-toggle'></label><ul><li><span class='ee-k'>id:</span><span class='ee-v'>QA20</span></li><li><span class='ee-k'>crs:</span><span class='ee-v'>EPSG:32737</span></li><li><label class='ee-shut'>crs_transform: [20, 0, 399960, 0, -20, 1400020]<input type='checkbox' class='ee-toggle'></label><ul><li><span class='ee-k'>0:</span><span class='ee-v'>20</span></li><li><span class='ee-k'>1:</span><span class='ee-v'>0</span></li><li><span class='ee-k'>2:</span><span class='ee-v'>399960</span></li><li><span class='ee-k'>3:</span><span class='ee-v'>0</span></li><li><span class='ee-k'>4:</span><span class='ee-v'>-20</span></li><li><span class='ee-k'>5:</span><span class='ee-v'>1400020</span></li></ul></li><li><label class='ee-shut'>data_type: unsigned int32<input type='checkbox' class='ee-toggle'></label><ul><li><span class='ee-k'>type:</span><span class='ee-v'>PixelType</span></li><li><span class='ee-k'>max:</span><span class='ee-v'>4294967295</span></li><li><span class='ee-k'>min:</span><span class='ee-v'>0</span></li><li><span class='ee-k'>precision:</span><span class='ee-v'>int</span></li></ul></li><li><label class='ee-shut'>dimensions: [5490, 5490]<input type='checkbox' class='ee-toggle'></label><ul><li><span class='ee-k'>0:</span><span class='ee-v'>5490</span></li><li><span class='ee-k'>1:</span><span class='ee-v'>5490</span></li></ul></li></ul></li><li><label class='ee-shut'>15: \"QA60\", unsigned int16, EPSG:32737, 1830x1830 px<input type='checkbox' class='ee-toggle'></label><ul><li><span class='ee-k'>id:</span><span class='ee-v'>QA60</span></li><li><span class='ee-k'>crs:</span><span class='ee-v'>EPSG:32737</span></li><li><label class='ee-shut'>crs_transform: [60, 0, 399960, 0, -60, 1400020]<input type='checkbox' class='ee-toggle'></label><ul><li><span class='ee-k'>0:</span><span class='ee-v'>60</span></li><li><span class='ee-k'>1:</span><span class='ee-v'>0</span></li><li><span class='ee-k'>2:</span><span class='ee-v'>399960</span></li><li><span class='ee-k'>3:</span><span class='ee-v'>0</span></li><li><span class='ee-k'>4:</span><span class='ee-v'>-60</span></li><li><span class='ee-k'>5:</span><span class='ee-v'>1400020</span></li></ul></li><li><label class='ee-shut'>data_type: unsigned int16<input type='checkbox' class='ee-toggle'></label><ul><li><span class='ee-k'>type:</span><span class='ee-v'>PixelType</span></li><li><span class='ee-k'>max:</span><span class='ee-v'>65535</span></li><li><span class='ee-k'>min:</span><span class='ee-v'>0</span></li><li><span class='ee-k'>precision:</span><span class='ee-v'>int</span></li></ul></li><li><label class='ee-shut'>dimensions: [1830, 1830]<input type='checkbox' class='ee-toggle'></label><ul><li><span class='ee-k'>0:</span><span class='ee-v'>1830</span></li><li><span class='ee-k'>1:</span><span class='ee-v'>1830</span></li></ul></li></ul></li></ul></li><li><label class='ee-shut'>properties: Object (80 properties)<input type='checkbox' class='ee-toggle'></label><ul><li><span class='ee-k'>CLOUDY_PIXEL_PERCENTAGE:</span><span class='ee-v'>1.02230744136523</span></li><li><span class='ee-k'>CLOUD_COVERAGE_ASSESSMENT:</span><span class='ee-v'>1.02230744136523</span></li><li><span class='ee-k'>DATASTRIP_ID:</span><span class='ee-v'>S2B_OPER_MSI_L1C_DS_2BPS_20221117T065855_S20221117T051048_N04.00</span></li><li><span class='ee-k'>DATATAKE_IDENTIFIER:</span><span class='ee-v'>GS2B_20221117T051049_029760_N04.00</span></li><li><span class='ee-k'>DATATAKE_TYPE:</span><span class='ee-v'>INS-NOBS</span></li><li><span class='ee-k'>DEGRADED_MSI_DATA_PERCENTAGE:</span><span class='ee-v'>0.0023</span></li><li><span class='ee-k'>FORMAT_CORRECTNESS:</span><span class='ee-v'>PASSED</span></li><li><span class='ee-k'>GENERAL_QUALITY:</span><span class='ee-v'>PASSED</span></li><li><span class='ee-k'>GENERATION_TIME:</span><span class='ee-v'>1668668335000</span></li><li><span class='ee-k'>GEOMETRIC_QUALITY:</span><span class='ee-v'>PASSED</span></li><li><span class='ee-k'>GRANULE_ID:</span><span class='ee-v'>L1C_T37CDP_A029760_20221117T051048</span></li><li><span class='ee-k'>MEAN_INCIDENCE_AZIMUTH_ANGLE_B1:</span><span class='ee-v'>264.968157416485</span></li><li><span class='ee-k'>MEAN_INCIDENCE_AZIMUTH_ANGLE_B10:</span><span class='ee-v'>266.109035101175</span></li><li><span class='ee-k'>MEAN_INCIDENCE_AZIMUTH_ANGLE_B11:</span><span class='ee-v'>265.143956813145</span></li><li><span class='ee-k'>MEAN_INCIDENCE_AZIMUTH_ANGLE_B12:</span><span class='ee-v'>264.38374347986</span></li><li><span class='ee-k'>MEAN_INCIDENCE_AZIMUTH_ANGLE_B2:</span><span class='ee-v'>269.201003484839</span></li><li><span class='ee-k'>MEAN_INCIDENCE_AZIMUTH_ANGLE_B3:</span><span class='ee-v'>267.253609544461</span></li><li><span class='ee-k'>MEAN_INCIDENCE_AZIMUTH_ANGLE_B4:</span><span class='ee-v'>266.126272395014</span></li><li><span class='ee-k'>MEAN_INCIDENCE_AZIMUTH_ANGLE_B5:</span><span class='ee-v'>265.677547615576</span></li><li><span class='ee-k'>MEAN_INCIDENCE_AZIMUTH_ANGLE_B6:</span><span class='ee-v'>265.338650091166</span></li><li><span class='ee-k'>MEAN_INCIDENCE_AZIMUTH_ANGLE_B7:</span><span class='ee-v'>265.035739340357</span></li><li><span class='ee-k'>MEAN_INCIDENCE_AZIMUTH_ANGLE_B8:</span><span class='ee-v'>268.110676217349</span></li><li><span class='ee-k'>MEAN_INCIDENCE_AZIMUTH_ANGLE_B8A:</span><span class='ee-v'>264.846964038906</span></li><li><span class='ee-k'>MEAN_INCIDENCE_AZIMUTH_ANGLE_B9:</span><span class='ee-v'>264.11568224397</span></li><li><span class='ee-k'>MEAN_INCIDENCE_ZENITH_ANGLE_B1:</span><span class='ee-v'>3.80815960184933</span></li><li><span class='ee-k'>MEAN_INCIDENCE_ZENITH_ANGLE_B10:</span><span class='ee-v'>3.40886002493979</span></li><li><span class='ee-k'>MEAN_INCIDENCE_ZENITH_ANGLE_B11:</span><span class='ee-v'>3.56503416607222</span></li><li><span class='ee-k'>MEAN_INCIDENCE_ZENITH_ANGLE_B12:</span><span class='ee-v'>3.74767729751104</span></li><li><span class='ee-k'>MEAN_INCIDENCE_ZENITH_ANGLE_B2:</span><span class='ee-v'>3.2326944778262</span></li><li><span class='ee-k'>MEAN_INCIDENCE_ZENITH_ANGLE_B3:</span><span class='ee-v'>3.3292040480993</span></li><li><span class='ee-k'>MEAN_INCIDENCE_ZENITH_ANGLE_B4:</span><span class='ee-v'>3.4377560573435</span></li><li><span class='ee-k'>MEAN_INCIDENCE_ZENITH_ANGLE_B5:</span><span class='ee-v'>3.50351289757661</span></li><li><span class='ee-k'>MEAN_INCIDENCE_ZENITH_ANGLE_B6:</span><span class='ee-v'>3.57358361445479</span></li><li><span class='ee-k'>MEAN_INCIDENCE_ZENITH_ANGLE_B7:</span><span class='ee-v'>3.64961309761044</span></li><li><span class='ee-k'>MEAN_INCIDENCE_ZENITH_ANGLE_B8:</span><span class='ee-v'>3.27783172847931</span></li><li><span class='ee-k'>MEAN_INCIDENCE_ZENITH_ANGLE_B8A:</span><span class='ee-v'>3.72504563335333</span></li><li><span class='ee-k'>MEAN_INCIDENCE_ZENITH_ANGLE_B9:</span><span class='ee-v'>3.8926404855497</span></li><li><span class='ee-k'>MEAN_SOLAR_AZIMUTH_ANGLE:</span><span class='ee-v'>65.6006659437306</span></li><li><span class='ee-k'>MEAN_SOLAR_ZENITH_ANGLE:</span><span class='ee-v'>65.6295592073873</span></li><li><span class='ee-k'>MGRS_TILE:</span><span class='ee-v'>37CDP</span></li><li><span class='ee-k'>PROCESSING_BASELINE:</span><span class='ee-v'>04.00</span></li><li><span class='ee-k'>PRODUCT_ID:</span><span class='ee-v'>S2B_MSIL1C_20221117T051049_N0400_R133_T37CDP_20221117T065855</span></li><li><span class='ee-k'>RADIOMETRIC_QUALITY:</span><span class='ee-v'>PASSED</span></li><li><span class='ee-k'>RADIO_ADD_OFFSET_B1:</span><span class='ee-v'>-1000</span></li><li><span class='ee-k'>RADIO_ADD_OFFSET_B10:</span><span class='ee-v'>-1000</span></li><li><span class='ee-k'>RADIO_ADD_OFFSET_B11:</span><span class='ee-v'>-1000</span></li><li><span class='ee-k'>RADIO_ADD_OFFSET_B12:</span><span class='ee-v'>-1000</span></li><li><span class='ee-k'>RADIO_ADD_OFFSET_B2:</span><span class='ee-v'>-1000</span></li><li><span class='ee-k'>RADIO_ADD_OFFSET_B3:</span><span class='ee-v'>-1000</span></li><li><span class='ee-k'>RADIO_ADD_OFFSET_B4:</span><span class='ee-v'>-1000</span></li><li><span class='ee-k'>RADIO_ADD_OFFSET_B5:</span><span class='ee-v'>-1000</span></li><li><span class='ee-k'>RADIO_ADD_OFFSET_B6:</span><span class='ee-v'>-1000</span></li><li><span class='ee-k'>RADIO_ADD_OFFSET_B7:</span><span class='ee-v'>-1000</span></li><li><span class='ee-k'>RADIO_ADD_OFFSET_B8:</span><span class='ee-v'>-1000</span></li><li><span class='ee-k'>RADIO_ADD_OFFSET_B8A:</span><span class='ee-v'>-1000</span></li><li><span class='ee-k'>RADIO_ADD_OFFSET_B9:</span><span class='ee-v'>-1000</span></li><li><span class='ee-k'>REFLECTANCE_CONVERSION_CORRECTION:</span><span class='ee-v'>1.02160582756917</span></li><li><span class='ee-k'>SENSING_ORBIT_DIRECTION:</span><span class='ee-v'>DESCENDING</span></li><li><span class='ee-k'>SENSING_ORBIT_NUMBER:</span><span class='ee-v'>133</span></li><li><span class='ee-k'>SENSOR_QUALITY:</span><span class='ee-v'>PASSED</span></li><li><span class='ee-k'>SNOW_PIXEL_PERCENTAGE:</span><span class='ee-v'>99.3932398403929</span></li><li><span class='ee-k'>SOLAR_IRRADIANCE_B1:</span><span class='ee-v'>1874.3</span></li><li><span class='ee-k'>SOLAR_IRRADIANCE_B10:</span><span class='ee-v'>365.41</span></li><li><span class='ee-k'>SOLAR_IRRADIANCE_B11:</span><span class='ee-v'>247.08</span></li><li><span class='ee-k'>SOLAR_IRRADIANCE_B12:</span><span class='ee-v'>87.75</span></li><li><span class='ee-k'>SOLAR_IRRADIANCE_B2:</span><span class='ee-v'>1959.75</span></li><li><span class='ee-k'>SOLAR_IRRADIANCE_B3:</span><span class='ee-v'>1824.93</span></li><li><span class='ee-k'>SOLAR_IRRADIANCE_B4:</span><span class='ee-v'>1512.79</span></li><li><span class='ee-k'>SOLAR_IRRADIANCE_B5:</span><span class='ee-v'>1425.78</span></li><li><span class='ee-k'>SOLAR_IRRADIANCE_B6:</span><span class='ee-v'>1291.13</span></li><li><span class='ee-k'>SOLAR_IRRADIANCE_B7:</span><span class='ee-v'>1175.57</span></li><li><span class='ee-k'>SOLAR_IRRADIANCE_B8:</span><span class='ee-v'>1041.28</span></li><li><span class='ee-k'>SOLAR_IRRADIANCE_B8A:</span><span class='ee-v'>953.93</span></li><li><span class='ee-k'>SOLAR_IRRADIANCE_B9:</span><span class='ee-v'>817.58</span></li><li><span class='ee-k'>SPACECRAFT_NAME:</span><span class='ee-v'>Sentinel-2B</span></li><li><span class='ee-k'>system:asset_size:</span><span class='ee-v'>1127830827</span></li><li><label class='ee-shut'>system:footprint: LinearRing (21 vertices)<input type='checkbox' class='ee-toggle'></label><ul><li><span class='ee-k'>type:</span><span class='ee-v'>LinearRing</span></li><li><label class='ee-shut'>coordinates: List (21 elements)<input type='checkbox' class='ee-toggle'></label><ul><li><label class='ee-shut'>0: [39.436351503625154, -78.46020553082441]<input type='checkbox' class='ee-toggle'></label><ul><li><span class='ee-k'>0:</span><span class='ee-v'>39.436351503625154</span></li><li><span class='ee-k'>1:</span><span class='ee-v'>-78.46020553082441</span></li></ul></li><li><label class='ee-shut'>1: [39.436592901679525, -78.46017219651738]<input type='checkbox' class='ee-toggle'></label><ul><li><span class='ee-k'>0:</span><span class='ee-v'>39.436592901679525</span></li><li><span class='ee-k'>1:</span><span class='ee-v'>-78.46017219651738</span></li></ul></li><li><label class='ee-shut'>2: [39.402793940519814, -77.47648859100694]<input type='checkbox' class='ee-toggle'></label><ul><li><span class='ee-k'>0:</span><span class='ee-v'>39.402793940519814</span></li><li><span class='ee-k'>1:</span><span class='ee-v'>-77.47648859100694</span></li></ul></li><li><label class='ee-shut'>3: [39.40262387288645, -77.4764473163186]<input type='checkbox' class='ee-toggle'></label><ul><li><span class='ee-k'>0:</span><span class='ee-v'>39.40262387288645</span></li><li><span class='ee-k'>1:</span><span class='ee-v'>-77.4764473163186</span></li></ul></li><li><label class='ee-shut'>4: [39.4024702781045, -77.47639907314124]<input type='checkbox' class='ee-toggle'></label><ul><li><span class='ee-k'>0:</span><span class='ee-v'>39.4024702781045</span></li><li><span class='ee-k'>1:</span><span class='ee-v'>-77.47639907314124</span></li></ul></li><li><label class='ee-shut'>5: [34.87408876073475, -77.44517835431313]<input type='checkbox' class='ee-toggle'></label><ul><li><span class='ee-k'>0:</span><span class='ee-v'>34.87408876073475</span></li><li><span class='ee-k'>1:</span><span class='ee-v'>-77.44517835431313</span></li></ul></li><li><label class='ee-shut'>6: [34.87388657294605, -77.44521185048735]<input type='checkbox' class='ee-toggle'></label><ul><li><span class='ee-k'>0:</span><span class='ee-v'>34.87388657294605</span></li><li><span class='ee-k'>1:</span><span class='ee-v'>-77.44521185048735</span></li></ul></li><li><label class='ee-shut'>7: [34.873653194573144, -77.44524142582446]<input type='checkbox' class='ee-toggle'></label><ul><li><span class='ee-k'>0:</span><span class='ee-v'>34.873653194573144</span></li><li><span class='ee-k'>1:</span><span class='ee-v'>-77.44524142582446</span></li></ul></li><li><label class='ee-shut'>8: [34.63225427609682, -78.14845497800637]<input type='checkbox' class='ee-toggle'></label><ul><li><span class='ee-k'>0:</span><span class='ee-v'>34.63225427609682</span></li><li><span class='ee-k'>1:</span><span class='ee-v'>-78.14845497800637</span></li></ul></li><li><label class='ee-shut'>9: [34.63229058475734, -78.14848259084576]<input type='checkbox' class='ee-toggle'></label><ul><li><span class='ee-k'>0:</span><span class='ee-v'>34.63229058475734</span></li><li><span class='ee-k'>1:</span><span class='ee-v'>-78.14848259084576</span></li></ul></li><li><label class='ee-shut'>10: [34.63340896645105, -78.14904305529211]<input type='checkbox' class='ee-toggle'></label><ul><li><span class='ee-k'>0:</span><span class='ee-v'>34.63340896645105</span></li><li><span class='ee-k'>1:</span><span class='ee-v'>-78.14904305529211</span></li></ul></li><li><label class='ee-shut'>11: [34.633471153753824, -78.14906268791046]<input type='checkbox' class='ee-toggle'></label><ul><li><span class='ee-k'>0:</span><span class='ee-v'>34.633471153753824</span></li><li><span class='ee-k'>1:</span><span class='ee-v'>-78.14906268791046</span></li></ul></li><li><label class='ee-shut'>12: [35.09714572657864, -78.26005314130138]<input type='checkbox' class='ee-toggle'></label><ul><li><span class='ee-k'>0:</span><span class='ee-v'>35.09714572657864</span></li><li><span class='ee-k'>1:</span><span class='ee-v'>-78.26005314130138</span></li></ul></li><li><label class='ee-shut'>13: [35.79568836358529, -78.40760182497148]<input type='checkbox' class='ee-toggle'></label><ul><li><span class='ee-k'>0:</span><span class='ee-v'>35.79568836358529</span></li><li><span class='ee-k'>1:</span><span class='ee-v'>-78.40760182497148</span></li></ul></li><li><label class='ee-shut'>14: [35.864387149393785, -78.4212772801251]<input type='checkbox' class='ee-toggle'></label><ul><li><span class='ee-k'>0:</span><span class='ee-v'>35.864387149393785</span></li><li><span class='ee-k'>1:</span><span class='ee-v'>-78.4212772801251</span></li></ul></li><li><label class='ee-shut'>15: [36.03796465278132, -78.44543810149335]<input type='checkbox' class='ee-toggle'></label><ul><li><span class='ee-k'>0:</span><span class='ee-v'>36.03796465278132</span></li><li><span class='ee-k'>1:</span><span class='ee-v'>-78.44543810149335</span></li></ul></li><li><label class='ee-shut'>16: [36.03807672105343, -78.44544937125208]<input type='checkbox' class='ee-toggle'></label><ul><li><span class='ee-k'>0:</span><span class='ee-v'>36.03807672105343</span></li><li><span class='ee-k'>1:</span><span class='ee-v'>-78.44544937125208</span></li></ul></li><li><label class='ee-shut'>17: [36.03818719011335, -78.44545384508237]<input type='checkbox' class='ee-toggle'></label><ul><li><span class='ee-k'>0:</span><span class='ee-v'>36.03818719011335</span></li><li><span class='ee-k'>1:</span><span class='ee-v'>-78.44545384508237</span></li></ul></li><li><label class='ee-shut'>18: [36.056928148665634, -78.44573331597338]<input type='checkbox' class='ee-toggle'></label><ul><li><span class='ee-k'>0:</span><span class='ee-v'>36.056928148665634</span></li><li><span class='ee-k'>1:</span><span class='ee-v'>-78.44573331597338</span></li></ul></li><li><label class='ee-shut'>19: [39.436145579310306, -78.46024237670599]<input type='checkbox' class='ee-toggle'></label><ul><li><span class='ee-k'>0:</span><span class='ee-v'>39.436145579310306</span></li><li><span class='ee-k'>1:</span><span class='ee-v'>-78.46024237670599</span></li></ul></li><li><label class='ee-shut'>20: [39.436351503625154, -78.46020553082441]<input type='checkbox' class='ee-toggle'></label><ul><li><span class='ee-k'>0:</span><span class='ee-v'>39.436351503625154</span></li><li><span class='ee-k'>1:</span><span class='ee-v'>-78.46020553082441</span></li></ul></li></ul></li></ul></li><li><span class='ee-k'>system:index:</span><span class='ee-v'>20221117T051049_20221117T051048_T37CDP</span></li><li><span class='ee-k'>system:time_end:</span><span class='ee-v'>1668661882695</span></li><li><span class='ee-k'>system:time_start:</span><span class='ee-v'>1668661882695</span></li></ul></li></ul></li><li><span class='ee-k'>system:asset_size:</span><span class='ee-v'>279</span></li><li><label class='ee-shut'>system:footprint: LinearRing (19 vertices)<input type='checkbox' class='ee-toggle'></label><ul><li><span class='ee-k'>type:</span><span class='ee-v'>LinearRing</span></li><li><label class='ee-shut'>coordinates: List (19 elements)<input type='checkbox' class='ee-toggle'></label><ul><li><label class='ee-shut'>0: [39.42779358994761, -78.45842872595199]<input type='checkbox' class='ee-toggle'></label><ul><li><span class='ee-k'>0:</span><span class='ee-v'>39.42779358994761</span></li><li><span class='ee-k'>1:</span><span class='ee-v'>-78.45842872595199</span></li></ul></li><li><label class='ee-shut'>1: [39.42779686473373, -78.45841746579175]<input type='checkbox' class='ee-toggle'></label><ul><li><span class='ee-k'>0:</span><span class='ee-v'>39.42779686473373</span></li><li><span class='ee-k'>1:</span><span class='ee-v'>-78.45841746579175</span></li></ul></li><li><label class='ee-shut'>2: [39.39479242335663, -77.47824776406267]<input type='checkbox' class='ee-toggle'></label><ul><li><span class='ee-k'>0:</span><span class='ee-v'>39.39479242335663</span></li><li><span class='ee-k'>1:</span><span class='ee-v'>-77.47824776406267</span></li></ul></li><li><label class='ee-shut'>3: [39.39462260965129, -77.47820654844638]<input type='checkbox' class='ee-toggle'></label><ul><li><span class='ee-k'>0:</span><span class='ee-v'>39.39462260965129</span></li><li><span class='ee-k'>1:</span><span class='ee-v'>-77.47820654844638</span></li></ul></li><li><label class='ee-shut'>4: [39.39447760245762, -77.47816102098164]<input type='checkbox' class='ee-toggle'></label><ul><li><span class='ee-k'>0:</span><span class='ee-v'>39.39447760245762</span></li><li><span class='ee-k'>1:</span><span class='ee-v'>-77.47816102098164</span></li></ul></li><li><label class='ee-shut'>5: [39.39440926975011, -77.47815832012498]<input type='checkbox' class='ee-toggle'></label><ul><li><span class='ee-k'>0:</span><span class='ee-v'>39.39440926975011</span></li><li><span class='ee-k'>1:</span><span class='ee-v'>-77.47815832012498</span></li></ul></li><li><label class='ee-shut'>6: [34.88154059612166, -77.4470437764794]<input type='checkbox' class='ee-toggle'></label><ul><li><span class='ee-k'>0:</span><span class='ee-v'>34.88154059612166</span></li><li><span class='ee-k'>1:</span><span class='ee-v'>-77.4470437764794</span></li></ul></li><li><label class='ee-shut'>7: [34.881338623885966, -77.44707734794282]<input type='checkbox' class='ee-toggle'></label><ul><li><span class='ee-k'>0:</span><span class='ee-v'>34.881338623885966</span></li><li><span class='ee-k'>1:</span><span class='ee-v'>-77.44707734794282</span></li></ul></li><li><label class='ee-shut'>8: [34.88111862427673, -77.44710515477104]<input type='checkbox' class='ee-toggle'></label><ul><li><span class='ee-k'>0:</span><span class='ee-v'>34.88111862427673</span></li><li><span class='ee-k'>1:</span><span class='ee-v'>-77.44710515477104</span></li></ul></li><li><label class='ee-shut'>9: [34.8811009315469, -77.4471196973058]<input type='checkbox' class='ee-toggle'></label><ul><li><span class='ee-k'>0:</span><span class='ee-v'>34.8811009315469</span></li><li><span class='ee-k'>1:</span><span class='ee-v'>-77.4471196973058</span></li></ul></li><li><label class='ee-shut'>10: [34.7165921269508, -77.93591804804936]<input type='checkbox' class='ee-toggle'></label><ul><li><span class='ee-k'>0:</span><span class='ee-v'>34.7165921269508</span></li><li><span class='ee-k'>1:</span><span class='ee-v'>-77.93591804804936</span></li></ul></li><li><label class='ee-shut'>11: [34.53808773224693, -78.42458208161489]<input type='checkbox' class='ee-toggle'></label><ul><li><span class='ee-k'>0:</span><span class='ee-v'>34.53808773224693</span></li><li><span class='ee-k'>1:</span><span class='ee-v'>-78.42458208161489</span></li></ul></li><li><label class='ee-shut'>12: [34.53825368470271, -78.42462626306967]<input type='checkbox' class='ee-toggle'></label><ul><li><span class='ee-k'>0:</span><span class='ee-v'>34.53825368470271</span></li><li><span class='ee-k'>1:</span><span class='ee-v'>-78.42462626306967</span></li></ul></li><li><label class='ee-shut'>13: [34.538391154094285, -78.42467419647845]<input type='checkbox' class='ee-toggle'></label><ul><li><span class='ee-k'>0:</span><span class='ee-v'>34.538391154094285</span></li><li><span class='ee-k'>1:</span><span class='ee-v'>-78.42467419647845</span></li></ul></li><li><label class='ee-shut'>14: [34.53846332284209, -78.4246781660856]<input type='checkbox' class='ee-toggle'></label><ul><li><span class='ee-k'>0:</span><span class='ee-v'>34.53846332284209</span></li><li><span class='ee-k'>1:</span><span class='ee-v'>-78.4246781660856</span></li></ul></li><li><label class='ee-shut'>15: [39.427350375561865, -78.45850810560036]<input type='checkbox' class='ee-toggle'></label><ul><li><span class='ee-k'>0:</span><span class='ee-v'>39.427350375561865</span></li><li><span class='ee-k'>1:</span><span class='ee-v'>-78.45850810560036</span></li></ul></li><li><label class='ee-shut'>16: [39.427556295547745, -78.45847126642883]<input type='checkbox' class='ee-toggle'></label><ul><li><span class='ee-k'>0:</span><span class='ee-v'>39.427556295547745</span></li><li><span class='ee-k'>1:</span><span class='ee-v'>-78.45847126642883</span></li></ul></li><li><label class='ee-shut'>17: [39.427783286055, -78.45843983120218]<input type='checkbox' class='ee-toggle'></label><ul><li><span class='ee-k'>0:</span><span class='ee-v'>39.427783286055</span></li><li><span class='ee-k'>1:</span><span class='ee-v'>-78.45843983120218</span></li></ul></li><li><label class='ee-shut'>18: [39.42779358994761, -78.45842872595199]<input type='checkbox' class='ee-toggle'></label><ul><li><span class='ee-k'>0:</span><span class='ee-v'>39.42779358994761</span></li><li><span class='ee-k'>1:</span><span class='ee-v'>-78.45842872595199</span></li></ul></li></ul></li></ul></li><li><span class='ee-k'>system:index:</span><span class='ee-v'>20221117T051049_20221117T051048_T37CDP</span></li><li><span class='ee-k'>system:time_start:</span><span class='ee-v'>1668661882695</span></li></ul></li></ul></li></ul></div><script>function toggleHeader() {\n",
              "    const parent = this.parentElement;\n",
              "    parent.className = parent.className === \"ee-open\" ? \"ee-shut\" : \"ee-open\";\n",
              "}\n",
              "\n",
              "for (let c of document.getElementsByClassName(\"ee-toggle\")) {\n",
              "    c.onclick = toggleHeader;\n",
              "}</script></div>"
            ]
          },
          "metadata": {},
          "execution_count": 13
        }
      ]
    }
  ]
}