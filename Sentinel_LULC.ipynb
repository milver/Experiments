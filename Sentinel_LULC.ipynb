{
  "nbformat": 4,
  "nbformat_minor": 0,
  "metadata": {
    "colab": {
      "provenance": [],
      "authorship_tag": "ABX9TyNtOqjT9+AZxXw3tlfoTFou",
      "include_colab_link": true
    },
    "kernelspec": {
      "name": "python3",
      "display_name": "Python 3"
    },
    "language_info": {
      "name": "python"
    },
    "widgets": {
      "application/vnd.jupyter.widget-state+json": {
        "38bb9984d24945e0b61072fb9bba8c1f": {
          "model_module": "jupyter-leaflet",
          "model_name": "LeafletMapModel",
          "model_module_version": "^0.19",
          "state": {
            "_dom_classes": [],
            "_model_module": "jupyter-leaflet",
            "_model_module_version": "^0.19",
            "_model_name": "LeafletMapModel",
            "_view_count": null,
            "_view_module": "jupyter-leaflet",
            "_view_module_version": "^0.19",
            "_view_name": "LeafletMapView",
            "bottom": 0,
            "bounce_at_zoom_limits": true,
            "box_zoom": true,
            "center": [
              39.01291503334495,
              -77.61583328247072
            ],
            "close_popup_on_click": true,
            "controls": [
              "IPY_MODEL_b48b05e1400c4cb28fd3dd181cd826c7",
              "IPY_MODEL_e9a22f562e734d6f9726455d52b188c2",
              "IPY_MODEL_75a7bd12bcf946a8afa77f87829dfe8a",
              "IPY_MODEL_442e39baddbe4bbcb9ffb065c6b82c53",
              "IPY_MODEL_9afa10e8dae4437ca2e55a1c4762955c",
              "IPY_MODEL_52b2560c9d3c4a97b49a615e2fac924c"
            ],
            "crs": {
              "name": "EPSG3857",
              "custom": false
            },
            "default_style": "IPY_MODEL_540ceff3f20f45609c2e8b42fe645fa3",
            "double_click_zoom": true,
            "dragging": true,
            "dragging_style": "IPY_MODEL_bff4de1c7f874cd6b8ad49d385c6527e",
            "east": 0,
            "fullscreen": false,
            "inertia": true,
            "inertia_deceleration": 3000,
            "inertia_max_speed": 1500,
            "interpolation": "bilinear",
            "keyboard": true,
            "keyboard_pan_offset": 80,
            "keyboard_zoom_offset": 1,
            "layers": [
              "IPY_MODEL_914326a1ea1b45d6905c80004974e7ff"
            ],
            "layout": "IPY_MODEL_75a0bd1a00f6423e8c90a6596c2f10f9",
            "left": 9007199254740991,
            "max_zoom": 24,
            "min_zoom": null,
            "modisdate": "2024-04-30",
            "north": 0,
            "options": [
              "bounce_at_zoom_limits",
              "box_zoom",
              "center",
              "close_popup_on_click",
              "double_click_zoom",
              "dragging",
              "fullscreen",
              "inertia",
              "inertia_deceleration",
              "inertia_max_speed",
              "interpolation",
              "keyboard",
              "keyboard_pan_offset",
              "keyboard_zoom_offset",
              "max_zoom",
              "min_zoom",
              "prefer_canvas",
              "scroll_wheel_zoom",
              "tap",
              "tap_tolerance",
              "touch_zoom",
              "world_copy_jump",
              "zoom",
              "zoom_animation_threshold",
              "zoom_delta",
              "zoom_snap"
            ],
            "panes": {},
            "prefer_canvas": false,
            "right": 0,
            "scroll_wheel_zoom": true,
            "south": 0,
            "style": "IPY_MODEL_473469992bef4eaf96f89e70ce1fc435",
            "tap": true,
            "tap_tolerance": 15,
            "top": 9007199254740991,
            "touch_zoom": true,
            "west": 0,
            "window_url": "",
            "world_copy_jump": false,
            "zoom": 13,
            "zoom_animation_threshold": 4,
            "zoom_delta": 1,
            "zoom_snap": 1
          }
        }
      }
    }
  },
  "cells": [
    {
      "cell_type": "markdown",
      "metadata": {
        "id": "view-in-github",
        "colab_type": "text"
      },
      "source": [
        "<a href=\"https://colab.research.google.com/github/milver/Experiments/blob/main/Sentinel_LULC.ipynb\" target=\"_parent\"><img src=\"https://colab.research.google.com/assets/colab-badge.svg\" alt=\"Open In Colab\"/></a>"
      ]
    },
    {
      "cell_type": "code",
      "execution_count": null,
      "metadata": {
        "id": "baVYpe4kR4Ja"
      },
      "outputs": [],
      "source": []
    },
    {
      "cell_type": "markdown",
      "source": [
        "# Experimenting with Sentinel Land Use Land Cover classification"
      ],
      "metadata": {
        "id": "NGhVV-5CR79m"
      }
    },
    {
      "cell_type": "code",
      "source": [
        "import ee\n",
        "import geemap.core as geemap"
      ],
      "metadata": {
        "id": "b_qvMNsbSLSq"
      },
      "execution_count": 1,
      "outputs": []
    },
    {
      "cell_type": "markdown",
      "source": [
        "## Set Dependencies"
      ],
      "metadata": {
        "id": "WcvfPLAVTT-G"
      }
    },
    {
      "cell_type": "code",
      "source": [
        "#%pip install leafmap\n",
        "#%pip install pystac"
      ],
      "metadata": {
        "id": "PO2hqDlgSccf"
      },
      "execution_count": null,
      "outputs": []
    },
    {
      "cell_type": "code",
      "source": [
        "import leafmap\n",
        "import ipywidgets\n",
        "import folium"
      ],
      "metadata": {
        "colab": {
          "base_uri": "https://localhost:8080/",
          "height": 17
        },
        "id": "CDHQB05GTD02",
        "outputId": "2519829d-ac67-4c41-ecd9-eba5c9a99dd2"
      },
      "execution_count": 3,
      "outputs": [
        {
          "output_type": "display_data",
          "data": {
            "text/plain": [
              "<IPython.core.display.HTML object>"
            ],
            "text/html": [
              "\n",
              "            <style>\n",
              "                .geemap-dark {\n",
              "                    --jp-widgets-color: white;\n",
              "                    --jp-widgets-label-color: white;\n",
              "                    --jp-ui-font-color1: white;\n",
              "                    --jp-layout-color2: #454545;\n",
              "                    background-color: #383838;\n",
              "                }\n",
              "\n",
              "                .geemap-dark .jupyter-button {\n",
              "                    --jp-layout-color3: #383838;\n",
              "                }\n",
              "\n",
              "                .geemap-colab {\n",
              "                    background-color: var(--colab-primary-surface-color, white);\n",
              "                }\n",
              "\n",
              "                .geemap-colab .jupyter-button {\n",
              "                    --jp-layout-color3: var(--colab-primary-surface-color, white);\n",
              "                }\n",
              "            </style>\n",
              "            "
            ]
          },
          "metadata": {}
        }
      ]
    },
    {
      "cell_type": "markdown",
      "source": [
        "## Get Bounding Box\n",
        "I prefer to use leafmap for it"
      ],
      "metadata": {
        "id": "KDR4gcx5TfGE"
      }
    },
    {
      "cell_type": "code",
      "source": [
        "m = leafmap.Map(center=[39.01291503334495, -77.61583328247072], zoom = 13, basemap = \"Google Maps\")\n",
        "#m.split_map(left_layer=\"TERRAIN\", right_layer=\"OpenTopoMap\")\n",
        "m"
      ],
      "metadata": {
        "colab": {
          "base_uri": "https://localhost:8080/",
          "height": 17,
          "referenced_widgets": [
            "38bb9984d24945e0b61072fb9bba8c1f"
          ]
        },
        "id": "7QPyljXJTded",
        "outputId": "c2b9e55d-c49f-4bb7-b146-203d0a07f245"
      },
      "execution_count": 4,
      "outputs": [
        {
          "output_type": "display_data",
          "data": {
            "text/plain": [
              "<IPython.core.display.HTML object>"
            ],
            "text/html": [
              "\n",
              "            <style>\n",
              "                .geemap-dark {\n",
              "                    --jp-widgets-color: white;\n",
              "                    --jp-widgets-label-color: white;\n",
              "                    --jp-ui-font-color1: white;\n",
              "                    --jp-layout-color2: #454545;\n",
              "                    background-color: #383838;\n",
              "                }\n",
              "\n",
              "                .geemap-dark .jupyter-button {\n",
              "                    --jp-layout-color3: #383838;\n",
              "                }\n",
              "\n",
              "                .geemap-colab {\n",
              "                    background-color: var(--colab-primary-surface-color, white);\n",
              "                }\n",
              "\n",
              "                .geemap-colab .jupyter-button {\n",
              "                    --jp-layout-color3: var(--colab-primary-surface-color, white);\n",
              "                }\n",
              "            </style>\n",
              "            "
            ]
          },
          "metadata": {}
        },
        {
          "output_type": "display_data",
          "data": {
            "text/plain": [
              "Map(center=[39.01291503334495, -77.61583328247072], controls=(ZoomControl(options=['position', 'zoom_in_text',…"
            ],
            "application/vnd.jupyter.widget-view+json": {
              "version_major": 2,
              "version_minor": 0,
              "model_id": "38bb9984d24945e0b61072fb9bba8c1f"
            }
          },
          "metadata": {
            "application/vnd.jupyter.widget-view+json": {
              "colab": {
                "custom_widget_manager": {
                  "url": "https://ssl.gstatic.com/colaboratory-static/widgets/colab-cdn-widget-manager/2b70e893a8ba7c0f/manager.min.js"
                }
              }
            }
          }
        }
      ]
    },
    {
      "cell_type": "code",
      "source": [
        "bbox1 = [m.west, m.south, m.east, m.north]\n",
        "print(\"{}: {}\".format(m.center, m.zoom))"
      ],
      "metadata": {
        "id": "2nuafx1ZTr1R"
      },
      "execution_count": null,
      "outputs": []
    },
    {
      "cell_type": "code",
      "source": [
        "# Construct a collection of corresponding Dynamic World and Sentinel-2 for\n",
        "# inspection. Filter the DW and S2 collections by region and date.\n",
        "START = ee.Date('2021-04-02')\n",
        "END = START.advance(1, 'day')\n",
        "\n",
        "col_filter = ee.Filter.And(\n",
        "    ee.Filter.bounds(ee.Geometry.Point(20.6729, 52.4305)),\n",
        "    ee.Filter.date(START, END),\n",
        ")\n",
        "\n",
        "dw_col = ee.ImageCollection('GOOGLE/DYNAMICWORLD/V1').filter(col_filter)\n",
        "s2_col = ee.ImageCollection('COPERNICUS/S2').filter(col_filter)\n",
        "\n",
        "# Join corresponding DW and S2 images (by system:index).\n",
        "dw_s2_col = ee.Join.saveFirst('s2_img').apply(\n",
        "    dw_col,\n",
        "    s2_col,\n",
        "    ee.Filter.equals(leftField='system:index', rightField='system:index'),\n",
        ")\n",
        "\n",
        "# Extract an example DW image and its source S2 image.\n",
        "dw_image = ee.Image(dw_s2_col.first())\n",
        "s2_image = ee.Image(dw_image.get('s2_img'))\n",
        "\n",
        "# Create a visualization that blends DW class label with probability.\n",
        "# Define list pairs of DW LULC label and color.\n",
        "CLASS_NAMES = [\n",
        "    'water',\n",
        "    'trees',\n",
        "    'grass',\n",
        "    'flooded_vegetation',\n",
        "    'crops',\n",
        "    'shrub_and_scrub',\n",
        "    'built',\n",
        "    'bare',\n",
        "    'snow_and_ice',\n",
        "]\n",
        "\n",
        "VIS_PALETTE = [\n",
        "    '419bdf',\n",
        "    '397d49',\n",
        "    '88b053',\n",
        "    '7a87c6',\n",
        "    'e49635',\n",
        "    'dfc35a',\n",
        "    'c4281b',\n",
        "    'a59b8f',\n",
        "    'b39fe1',\n",
        "]\n",
        "\n",
        "# Create an RGB image of the label (most likely class) on [0, 1].\n",
        "dw_rgb = (\n",
        "    dw_image.select('label')\n",
        "    .visualize(min=0, max=8, palette=VIS_PALETTE)\n",
        "    .divide(255)\n",
        ")\n",
        "\n",
        "# Get the most likely class probability.\n",
        "top1_prob = dw_image.select(CLASS_NAMES).reduce(ee.Reducer.max())\n",
        "\n",
        "# Create a hillshade of the most likely class probability on [0, 1]\n",
        "top1_prob_hillshade = ee.Terrain.hillshade(top1_prob.multiply(100)).divide(255)\n",
        "\n",
        "# Combine the RGB image with the hillshade.\n",
        "dw_rgb_hillshade = dw_rgb.multiply(top1_prob_hillshade)\n",
        "\n",
        "# Display the Dynamic World visualization with the source Sentinel-2 image.\n",
        "m = geemap.Map()\n",
        "m.set_center(20.6729, 52.4305, 12)\n",
        "m.add_layer(\n",
        "    s2_image,\n",
        "    {'min': 0, 'max': 3000, 'bands': ['B4', 'B3', 'B2']},\n",
        "    'Sentinel-2 L1C',\n",
        ")\n",
        "m.add_layer(\n",
        "    dw_rgb_hillshade,\n",
        "    {'min': 0, 'max': 0.65},\n",
        "    'Dynamic World V1 - label hillshade',\n",
        ")\n",
        "m"
      ],
      "metadata": {
        "id": "G9JThSV3SIHS"
      },
      "execution_count": null,
      "outputs": []
    }
  ]
}