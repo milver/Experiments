{
  "nbformat": 4,
  "nbformat_minor": 0,
  "metadata": {
    "colab": {
      "provenance": [],
      "authorship_tag": "ABX9TyO2icQaha9nEKmDtLMaISr3",
      "include_colab_link": true
    },
    "kernelspec": {
      "name": "python3",
      "display_name": "Python 3"
    },
    "language_info": {
      "name": "python"
    },
    "widgets": {
      "application/vnd.jupyter.widget-state+json": {
        "e188f27f1c994235b3a86a3d8d5245d0": {
          "model_module": "jupyter-leaflet",
          "model_name": "LeafletMapModel",
          "model_module_version": "^0.18",
          "state": {
            "_dom_classes": [],
            "_model_module": "jupyter-leaflet",
            "_model_module_version": "^0.18",
            "_model_name": "LeafletMapModel",
            "_view_count": null,
            "_view_module": "jupyter-leaflet",
            "_view_module_version": "^0.18",
            "_view_name": "LeafletMapView",
            "bottom": 801593,
            "bounce_at_zoom_limits": true,
            "box_zoom": true,
            "center": [
              39.02598522128263,
              -77.49309539794923
            ],
            "close_popup_on_click": true,
            "controls": [
              "IPY_MODEL_55e9b647369c47f39f1cb7ba681898f1",
              "IPY_MODEL_63f88119337841409b9b72f246e17017",
              "IPY_MODEL_2dd9b0d00d0e4926a2411a657ce4db41",
              "IPY_MODEL_08fc6e792f8b40429b5fb7e5d4d13e92",
              "IPY_MODEL_fbbe9ae858a543dea4da604defee86c8",
              "IPY_MODEL_98d3e9e3b82448a480350e9fa732caed"
            ],
            "crs": {
              "name": "EPSG3857",
              "custom": false
            },
            "default_style": "IPY_MODEL_e2aa7d3e5ae749b882b8c7a26d16cfdc",
            "double_click_zoom": true,
            "dragging": true,
            "dragging_style": "IPY_MODEL_d2157f65a6aa40d6b5c136025da9f9c7",
            "east": -77.39902496337892,
            "fullscreen": false,
            "inertia": true,
            "inertia_deceleration": 3000,
            "inertia_max_speed": 1500,
            "interpolation": "bilinear",
            "keyboard": true,
            "keyboard_pan_offset": 80,
            "keyboard_zoom_offset": 1,
            "layers": [
              "IPY_MODEL_373b7a96616b4e40884e81a4d3bced67"
            ],
            "layout": "IPY_MODEL_2c58903b896f44b98f4da698ec52e553",
            "left": 596598,
            "max_zoom": 24,
            "min_zoom": null,
            "modisdate": "2024-04-30",
            "north": 39.06598098021204,
            "options": [
              "bounce_at_zoom_limits",
              "box_zoom",
              "center",
              "close_popup_on_click",
              "double_click_zoom",
              "dragging",
              "fullscreen",
              "inertia",
              "inertia_deceleration",
              "inertia_max_speed",
              "interpolation",
              "keyboard",
              "keyboard_pan_offset",
              "keyboard_zoom_offset",
              "max_zoom",
              "min_zoom",
              "prefer_canvas",
              "scroll_wheel_zoom",
              "tap",
              "tap_tolerance",
              "touch_zoom",
              "world_copy_jump",
              "zoom",
              "zoom_animation_threshold",
              "zoom_delta",
              "zoom_snap"
            ],
            "panes": {},
            "prefer_canvas": false,
            "right": 597694,
            "scroll_wheel_zoom": true,
            "south": 38.98596681992875,
            "style": "IPY_MODEL_e2aa7d3e5ae749b882b8c7a26d16cfdc",
            "tap": true,
            "tap_tolerance": 15,
            "top": 800993,
            "touch_zoom": true,
            "west": -77.58716583251955,
            "window_url": "https://so5r1gskgx-496ff2e9c6d22116-0-colab.googleusercontent.com/outputframe.html?vrz=colab_20240430-060123_RC00_629368006",
            "world_copy_jump": false,
            "zoom": 13,
            "zoom_animation_threshold": 4,
            "zoom_delta": 1,
            "zoom_snap": 1
          }
        },
        "55e9b647369c47f39f1cb7ba681898f1": {
          "model_module": "jupyter-leaflet",
          "model_name": "LeafletZoomControlModel",
          "model_module_version": "^0.18",
          "state": {
            "_model_module": "jupyter-leaflet",
            "_model_module_version": "^0.18",
            "_model_name": "LeafletZoomControlModel",
            "_view_count": null,
            "_view_module": "jupyter-leaflet",
            "_view_module_version": "^0.18",
            "_view_name": "LeafletZoomControlView",
            "options": [
              "position",
              "zoom_in_text",
              "zoom_in_title",
              "zoom_out_text",
              "zoom_out_title"
            ],
            "position": "topleft",
            "zoom_in_text": "+",
            "zoom_in_title": "Zoom in",
            "zoom_out_text": "-",
            "zoom_out_title": "Zoom out"
          }
        },
        "63f88119337841409b9b72f246e17017": {
          "model_module": "jupyter-leaflet",
          "model_name": "LeafletAttributionControlModel",
          "model_module_version": "^0.18",
          "state": {
            "_model_module": "jupyter-leaflet",
            "_model_module_version": "^0.18",
            "_model_name": "LeafletAttributionControlModel",
            "_view_count": null,
            "_view_module": "jupyter-leaflet",
            "_view_module_version": "^0.18",
            "_view_name": "LeafletAttributionControlView",
            "options": [
              "position",
              "prefix"
            ],
            "position": "bottomright",
            "prefix": "ipyleaflet"
          }
        },
        "2dd9b0d00d0e4926a2411a657ce4db41": {
          "model_module": "jupyter-leaflet",
          "model_name": "LeafletFullScreenControlModel",
          "model_module_version": "^0.18",
          "state": {
            "_model_module": "jupyter-leaflet",
            "_model_module_version": "^0.18",
            "_model_name": "LeafletFullScreenControlModel",
            "_view_count": null,
            "_view_module": "jupyter-leaflet",
            "_view_module_version": "^0.18",
            "_view_name": "LeafletFullScreenControlView",
            "options": [
              "position"
            ],
            "position": "topleft"
          }
        },
        "08fc6e792f8b40429b5fb7e5d4d13e92": {
          "model_module": "jupyter-leaflet",
          "model_name": "LeafletDrawControlModel",
          "model_module_version": "^0.18",
          "state": {
            "_model_module": "jupyter-leaflet",
            "_model_module_version": "^0.18",
            "_model_name": "LeafletDrawControlModel",
            "_view_count": null,
            "_view_module": "jupyter-leaflet",
            "_view_module_version": "^0.18",
            "_view_name": "LeafletDrawControlView",
            "circle": {
              "shapeOptions": {
                "color": "#3388ff"
              },
              "repeatMode": false
            },
            "circlemarker": {},
            "data": [],
            "edit": true,
            "marker": {
              "shapeOptions": {
                "color": "#3388ff"
              },
              "repeatMode": false
            },
            "options": [
              "position"
            ],
            "polygon": {
              "repeatMode": false
            },
            "polyline": {
              "repeatMode": false
            },
            "position": "topleft",
            "rectangle": {
              "shapeOptions": {
                "color": "#3388ff"
              },
              "repeatMode": false
            },
            "remove": true
          }
        },
        "fbbe9ae858a543dea4da604defee86c8": {
          "model_module": "jupyter-leaflet",
          "model_name": "LeafletScaleControlModel",
          "model_module_version": "^0.18",
          "state": {
            "_model_module": "jupyter-leaflet",
            "_model_module_version": "^0.18",
            "_model_name": "LeafletScaleControlModel",
            "_view_count": null,
            "_view_module": "jupyter-leaflet",
            "_view_module_version": "^0.18",
            "_view_name": "LeafletScaleControlView",
            "imperial": true,
            "max_width": 100,
            "metric": true,
            "options": [
              "imperial",
              "max_width",
              "metric",
              "position",
              "update_when_idle"
            ],
            "position": "bottomleft",
            "update_when_idle": false
          }
        },
        "98d3e9e3b82448a480350e9fa732caed": {
          "model_module": "jupyter-leaflet",
          "model_name": "LeafletWidgetControlModel",
          "model_module_version": "^0.18",
          "state": {
            "_model_module": "jupyter-leaflet",
            "_model_module_version": "^0.18",
            "_model_name": "LeafletWidgetControlModel",
            "_view_count": null,
            "_view_module": "jupyter-leaflet",
            "_view_module_version": "^0.18",
            "_view_name": "LeafletWidgetControlView",
            "max_height": null,
            "max_width": null,
            "min_height": null,
            "min_width": null,
            "options": [
              "position",
              "transparent_bg"
            ],
            "position": "topright",
            "transparent_bg": false,
            "widget": "IPY_MODEL_7d7bf7d7c56947f7b7a89edfd03a55f0"
          }
        },
        "e2aa7d3e5ae749b882b8c7a26d16cfdc": {
          "model_module": "jupyter-leaflet",
          "model_name": "LeafletMapStyleModel",
          "model_module_version": "^0.18",
          "state": {
            "_model_module": "jupyter-leaflet",
            "_model_module_version": "^0.18",
            "_model_name": "LeafletMapStyleModel",
            "_view_count": null,
            "_view_module": "@jupyter-widgets/base",
            "_view_module_version": "1.2.0",
            "_view_name": "StyleView",
            "cursor": "grab"
          }
        },
        "d2157f65a6aa40d6b5c136025da9f9c7": {
          "model_module": "jupyter-leaflet",
          "model_name": "LeafletMapStyleModel",
          "model_module_version": "^0.18",
          "state": {
            "_model_module": "jupyter-leaflet",
            "_model_module_version": "^0.18",
            "_model_name": "LeafletMapStyleModel",
            "_view_count": null,
            "_view_module": "@jupyter-widgets/base",
            "_view_module_version": "1.2.0",
            "_view_name": "StyleView",
            "cursor": "move"
          }
        },
        "373b7a96616b4e40884e81a4d3bced67": {
          "model_module": "jupyter-leaflet",
          "model_name": "LeafletTileLayerModel",
          "model_module_version": "^0.18",
          "state": {
            "_model_module": "jupyter-leaflet",
            "_model_module_version": "^0.18",
            "_model_name": "LeafletTileLayerModel",
            "_view_count": null,
            "_view_module": "jupyter-leaflet",
            "_view_module_version": "^0.18",
            "_view_name": "LeafletTileLayerView",
            "attribution": "Google",
            "base": true,
            "bottom": true,
            "bounds": null,
            "detect_retina": false,
            "loading": false,
            "max_native_zoom": null,
            "max_zoom": 24,
            "min_native_zoom": null,
            "min_zoom": 0,
            "name": "OpenStreetMap",
            "no_wrap": false,
            "opacity": 1,
            "options": [
              "attribution",
              "bounds",
              "detect_retina",
              "max_native_zoom",
              "max_zoom",
              "min_native_zoom",
              "min_zoom",
              "no_wrap",
              "tile_size",
              "tms",
              "zoom_offset"
            ],
            "pane": "",
            "popup": null,
            "popup_max_height": null,
            "popup_max_width": 300,
            "popup_min_width": 50,
            "show_loading": false,
            "subitems": [],
            "tile_size": 256,
            "tms": false,
            "url": "https://mt1.google.com/vt/lyrs=m&x={x}&y={y}&z={z}&key=YOUR-API-KEY",
            "visible": true,
            "zoom_offset": 0
          }
        },
        "2c58903b896f44b98f4da698ec52e553": {
          "model_module": "@jupyter-widgets/base",
          "model_name": "LayoutModel",
          "model_module_version": "1.2.0",
          "state": {
            "_model_module": "@jupyter-widgets/base",
            "_model_module_version": "1.2.0",
            "_model_name": "LayoutModel",
            "_view_count": null,
            "_view_module": "@jupyter-widgets/base",
            "_view_module_version": "1.2.0",
            "_view_name": "LayoutView",
            "align_content": null,
            "align_items": null,
            "align_self": null,
            "border": null,
            "bottom": null,
            "display": null,
            "flex": null,
            "flex_flow": null,
            "grid_area": null,
            "grid_auto_columns": null,
            "grid_auto_flow": null,
            "grid_auto_rows": null,
            "grid_column": null,
            "grid_gap": null,
            "grid_row": null,
            "grid_template_areas": null,
            "grid_template_columns": null,
            "grid_template_rows": null,
            "height": "600px",
            "justify_content": null,
            "justify_items": null,
            "left": null,
            "margin": null,
            "max_height": null,
            "max_width": null,
            "min_height": null,
            "min_width": null,
            "object_fit": null,
            "object_position": null,
            "order": null,
            "overflow": null,
            "overflow_x": null,
            "overflow_y": null,
            "padding": null,
            "right": null,
            "top": null,
            "visibility": null,
            "width": null
          }
        },
        "d08166f586fa4e2fbfb15e8cc38d93ae": {
          "model_module": "jupyter-leaflet",
          "model_name": "LeafletMapStyleModel",
          "model_module_version": "^0.18",
          "state": {
            "_model_module": "jupyter-leaflet",
            "_model_module_version": "^0.18",
            "_model_name": "LeafletMapStyleModel",
            "_view_count": null,
            "_view_module": "@jupyter-widgets/base",
            "_view_module_version": "1.2.0",
            "_view_name": "StyleView",
            "cursor": "grab"
          }
        },
        "7d7bf7d7c56947f7b7a89edfd03a55f0": {
          "model_module": "@jupyter-widgets/controls",
          "model_name": "VBoxModel",
          "model_module_version": "1.5.0",
          "state": {
            "_dom_classes": [],
            "_model_module": "@jupyter-widgets/controls",
            "_model_module_version": "1.5.0",
            "_model_name": "VBoxModel",
            "_view_count": null,
            "_view_module": "@jupyter-widgets/controls",
            "_view_module_version": "1.5.0",
            "_view_name": "VBoxView",
            "box_style": "",
            "children": [
              "IPY_MODEL_486d8288c73b485b977c3ac90b8f06b9"
            ],
            "layout": "IPY_MODEL_b7043ac5647a4b2a8297eeea7ae5d70f"
          }
        },
        "486d8288c73b485b977c3ac90b8f06b9": {
          "model_module": "@jupyter-widgets/controls",
          "model_name": "ToggleButtonModel",
          "model_module_version": "1.5.0",
          "state": {
            "_dom_classes": [],
            "_model_module": "@jupyter-widgets/controls",
            "_model_module_version": "1.5.0",
            "_model_name": "ToggleButtonModel",
            "_view_count": null,
            "_view_module": "@jupyter-widgets/controls",
            "_view_module_version": "1.5.0",
            "_view_name": "ToggleButtonView",
            "button_style": "",
            "description": "",
            "description_tooltip": null,
            "disabled": false,
            "icon": "wrench",
            "layout": "IPY_MODEL_bc2c69632c924329b070a90148c77c91",
            "style": "IPY_MODEL_24b478206d894366a0ca0ccee5f0ef1b",
            "tooltip": "Toolbar",
            "value": false
          }
        },
        "b7043ac5647a4b2a8297eeea7ae5d70f": {
          "model_module": "@jupyter-widgets/base",
          "model_name": "LayoutModel",
          "model_module_version": "1.2.0",
          "state": {
            "_model_module": "@jupyter-widgets/base",
            "_model_module_version": "1.2.0",
            "_model_name": "LayoutModel",
            "_view_count": null,
            "_view_module": "@jupyter-widgets/base",
            "_view_module_version": "1.2.0",
            "_view_name": "LayoutView",
            "align_content": null,
            "align_items": null,
            "align_self": null,
            "border": null,
            "bottom": null,
            "display": null,
            "flex": null,
            "flex_flow": null,
            "grid_area": null,
            "grid_auto_columns": null,
            "grid_auto_flow": null,
            "grid_auto_rows": null,
            "grid_column": null,
            "grid_gap": null,
            "grid_row": null,
            "grid_template_areas": null,
            "grid_template_columns": null,
            "grid_template_rows": null,
            "height": null,
            "justify_content": null,
            "justify_items": null,
            "left": null,
            "margin": null,
            "max_height": null,
            "max_width": null,
            "min_height": null,
            "min_width": null,
            "object_fit": null,
            "object_position": null,
            "order": null,
            "overflow": null,
            "overflow_x": null,
            "overflow_y": null,
            "padding": null,
            "right": null,
            "top": null,
            "visibility": null,
            "width": null
          }
        },
        "bc2c69632c924329b070a90148c77c91": {
          "model_module": "@jupyter-widgets/base",
          "model_name": "LayoutModel",
          "model_module_version": "1.2.0",
          "state": {
            "_model_module": "@jupyter-widgets/base",
            "_model_module_version": "1.2.0",
            "_model_name": "LayoutModel",
            "_view_count": null,
            "_view_module": "@jupyter-widgets/base",
            "_view_module_version": "1.2.0",
            "_view_name": "LayoutView",
            "align_content": null,
            "align_items": null,
            "align_self": null,
            "border": null,
            "bottom": null,
            "display": null,
            "flex": null,
            "flex_flow": null,
            "grid_area": null,
            "grid_auto_columns": null,
            "grid_auto_flow": null,
            "grid_auto_rows": null,
            "grid_column": null,
            "grid_gap": null,
            "grid_row": null,
            "grid_template_areas": null,
            "grid_template_columns": null,
            "grid_template_rows": null,
            "height": "28px",
            "justify_content": null,
            "justify_items": null,
            "left": null,
            "margin": null,
            "max_height": null,
            "max_width": null,
            "min_height": null,
            "min_width": null,
            "object_fit": null,
            "object_position": null,
            "order": null,
            "overflow": null,
            "overflow_x": null,
            "overflow_y": null,
            "padding": "0px 0px 0px 4px",
            "right": null,
            "top": null,
            "visibility": null,
            "width": "28px"
          }
        },
        "24b478206d894366a0ca0ccee5f0ef1b": {
          "model_module": "@jupyter-widgets/controls",
          "model_name": "DescriptionStyleModel",
          "model_module_version": "1.5.0",
          "state": {
            "_model_module": "@jupyter-widgets/controls",
            "_model_module_version": "1.5.0",
            "_model_name": "DescriptionStyleModel",
            "_view_count": null,
            "_view_module": "@jupyter-widgets/base",
            "_view_module_version": "1.2.0",
            "_view_name": "StyleView",
            "description_width": ""
          }
        }
      }
    }
  },
  "cells": [
    {
      "cell_type": "markdown",
      "metadata": {
        "id": "view-in-github",
        "colab_type": "text"
      },
      "source": [
        "<a href=\"https://colab.research.google.com/github/milver/Experiments/blob/main/Sentinel_LULC.ipynb\" target=\"_parent\"><img src=\"https://colab.research.google.com/assets/colab-badge.svg\" alt=\"Open In Colab\"/></a>"
      ]
    },
    {
      "cell_type": "markdown",
      "source": [
        "# Experimenting with Sentinel Land Use Land Cover classification"
      ],
      "metadata": {
        "id": "NGhVV-5CR79m"
      }
    },
    {
      "cell_type": "code",
      "source": [
        "import ee\n",
        "import geemap.core as geemap"
      ],
      "metadata": {
        "id": "b_qvMNsbSLSq"
      },
      "execution_count": 5,
      "outputs": []
    },
    {
      "cell_type": "markdown",
      "source": [
        "## Set Dependencies"
      ],
      "metadata": {
        "id": "WcvfPLAVTT-G"
      }
    },
    {
      "cell_type": "code",
      "source": [
        "#%pip install ipyleaflet==0.18.2\n",
        "#%pip install pystac"
      ],
      "metadata": {
        "id": "PO2hqDlgSccf"
      },
      "execution_count": null,
      "outputs": []
    },
    {
      "cell_type": "code",
      "source": [
        "import leafmap\n",
        "import ipywidgets\n",
        "import folium\n",
        "#import leafmap.foliumap as leafmap"
      ],
      "metadata": {
        "id": "CDHQB05GTD02"
      },
      "execution_count": 1,
      "outputs": []
    },
    {
      "cell_type": "markdown",
      "source": [
        "## Get Bounding Box\n",
        "I prefer to use leafmap for it"
      ],
      "metadata": {
        "id": "KDR4gcx5TfGE"
      }
    },
    {
      "cell_type": "code",
      "source": [
        "m = leafmap.Map(center=[39.01424883668118, -77.5107765197754], zoom = 13, basemap = \"Google Maps\")\n",
        "#m.split_map(left_layer=\"TERRAIN\", right_layer=\"OpenTopoMap\")\n",
        "m"
      ],
      "metadata": {
        "colab": {
          "base_uri": "https://localhost:8080/",
          "height": 621,
          "referenced_widgets": [
            "e188f27f1c994235b3a86a3d8d5245d0",
            "55e9b647369c47f39f1cb7ba681898f1",
            "63f88119337841409b9b72f246e17017",
            "2dd9b0d00d0e4926a2411a657ce4db41",
            "08fc6e792f8b40429b5fb7e5d4d13e92",
            "fbbe9ae858a543dea4da604defee86c8",
            "98d3e9e3b82448a480350e9fa732caed",
            "e2aa7d3e5ae749b882b8c7a26d16cfdc",
            "d2157f65a6aa40d6b5c136025da9f9c7",
            "373b7a96616b4e40884e81a4d3bced67",
            "2c58903b896f44b98f4da698ec52e553",
            "d08166f586fa4e2fbfb15e8cc38d93ae",
            "7d7bf7d7c56947f7b7a89edfd03a55f0",
            "486d8288c73b485b977c3ac90b8f06b9",
            "b7043ac5647a4b2a8297eeea7ae5d70f",
            "bc2c69632c924329b070a90148c77c91",
            "24b478206d894366a0ca0ccee5f0ef1b"
          ]
        },
        "id": "7QPyljXJTded",
        "outputId": "193600d2-4d2a-4e74-b422-8dc7c8b14aca"
      },
      "execution_count": 2,
      "outputs": [
        {
          "output_type": "display_data",
          "data": {
            "text/plain": [
              "Map(center=[39.01291503334495, -77.61583328247072], controls=(ZoomControl(options=['position', 'zoom_in_text',…"
            ],
            "application/vnd.jupyter.widget-view+json": {
              "version_major": 2,
              "version_minor": 0,
              "model_id": "e188f27f1c994235b3a86a3d8d5245d0"
            }
          },
          "metadata": {
            "application/vnd.jupyter.widget-view+json": {
              "colab": {
                "custom_widget_manager": {
                  "url": "https://ssl.gstatic.com/colaboratory-static/widgets/colab-cdn-widget-manager/2b70e893a8ba7c0f/manager.min.js"
                }
              }
            }
          }
        }
      ]
    },
    {
      "cell_type": "code",
      "source": [
        "bbox1 = [m.west, m.south, m.east, m.north]\n",
        "print(\"{}: {}\".format(m.center, m.zoom))"
      ],
      "metadata": {
        "id": "2nuafx1ZTr1R",
        "colab": {
          "base_uri": "https://localhost:8080/"
        },
        "outputId": "8c1a9bf0-6be7-473d-d9c1-7f75281c9125"
      },
      "execution_count": 3,
      "outputs": [
        {
          "output_type": "stream",
          "name": "stdout",
          "text": [
            "[39.01424883668118, -77.5107765197754]: 13.0\n"
          ]
        }
      ]
    },
    {
      "cell_type": "markdown",
      "source": [
        "## Extracting Sentinel-2\n",
        "Construct a collection of corresponding Dynamic World and Sentinel-2 for inspection. Filter the DW and S2 collections by region and date."
      ],
      "metadata": {
        "id": "dPF6ZAmjbmX-"
      }
    },
    {
      "cell_type": "markdown",
      "source": [
        "### Setting up Earth Engine credentials"
      ],
      "metadata": {
        "id": "--kViarlc1qt"
      }
    },
    {
      "cell_type": "code",
      "source": [
        "    ee.Authenticate()\n",
        "    ee.Initialize(project='ee-my-milver')"
      ],
      "metadata": {
        "colab": {
          "base_uri": "https://localhost:8080/",
          "height": 17
        },
        "id": "emaNe47Gc9gu",
        "outputId": "6a522f40-3c49-44c8-ae11-903c0f4a320b"
      },
      "execution_count": 11,
      "outputs": [
        {
          "output_type": "display_data",
          "data": {
            "text/plain": [
              "<IPython.core.display.HTML object>"
            ],
            "text/html": [
              "\n",
              "            <style>\n",
              "                .geemap-dark {\n",
              "                    --jp-widgets-color: white;\n",
              "                    --jp-widgets-label-color: white;\n",
              "                    --jp-ui-font-color1: white;\n",
              "                    --jp-layout-color2: #454545;\n",
              "                    background-color: #383838;\n",
              "                }\n",
              "\n",
              "                .geemap-dark .jupyter-button {\n",
              "                    --jp-layout-color3: #383838;\n",
              "                }\n",
              "\n",
              "                .geemap-colab {\n",
              "                    background-color: var(--colab-primary-surface-color, white);\n",
              "                }\n",
              "\n",
              "                .geemap-colab .jupyter-button {\n",
              "                    --jp-layout-color3: var(--colab-primary-surface-color, white);\n",
              "                }\n",
              "            </style>\n",
              "            "
            ]
          },
          "metadata": {}
        }
      ]
    },
    {
      "cell_type": "code",
      "source": [
        "import json\n",
        "\n",
        "def bbox_to_geojson(bbox):\n",
        "  \"\"\"Converts a bounding box to GeoJSON.\n",
        "\n",
        "  Args:\n",
        "    bbox: A list of four numbers, representing the minimum and maximum\n",
        "      longitude and latitude of the bounding box.\n",
        "\n",
        "  Returns:\n",
        "    A GeoJSON object representing the bounding box.\n",
        "  \"\"\"\n",
        "\n",
        "  return {\n",
        "    \"type\": \"Feature\",\n",
        "    \"geometry\": {\n",
        "      \"type\": \"Polygon\",\n",
        "      \"coordinates\": [[\n",
        "          [bbox[0], bbox[1]],\n",
        "          [bbox[2], bbox[1]],\n",
        "          [bbox[2], bbox[3]],\n",
        "          [bbox[0], bbox[3]],\n",
        "          [bbox[0], bbox[1]],\n",
        "      ]]\n",
        "    },\n",
        "    \"properties\": {\n",
        "      \"bbox\": bbox\n",
        "    }\n",
        "  }\n",
        "\n"
      ],
      "metadata": {
        "colab": {
          "base_uri": "https://localhost:8080/",
          "height": 17
        },
        "id": "6nqlmaMlgg0K",
        "outputId": "74ebd796-c73a-4b88-85e1-2a4a92f71ff1"
      },
      "execution_count": 27,
      "outputs": [
        {
          "output_type": "display_data",
          "data": {
            "text/plain": [
              "<IPython.core.display.HTML object>"
            ],
            "text/html": [
              "\n",
              "            <style>\n",
              "                .geemap-dark {\n",
              "                    --jp-widgets-color: white;\n",
              "                    --jp-widgets-label-color: white;\n",
              "                    --jp-ui-font-color1: white;\n",
              "                    --jp-layout-color2: #454545;\n",
              "                    background-color: #383838;\n",
              "                }\n",
              "\n",
              "                .geemap-dark .jupyter-button {\n",
              "                    --jp-layout-color3: #383838;\n",
              "                }\n",
              "\n",
              "                .geemap-colab {\n",
              "                    background-color: var(--colab-primary-surface-color, white);\n",
              "                }\n",
              "\n",
              "                .geemap-colab .jupyter-button {\n",
              "                    --jp-layout-color3: var(--colab-primary-surface-color, white);\n",
              "                }\n",
              "            </style>\n",
              "            "
            ]
          },
          "metadata": {}
        }
      ]
    },
    {
      "cell_type": "code",
      "source": [
        "import geemap"
      ],
      "metadata": {
        "colab": {
          "base_uri": "https://localhost:8080/",
          "height": 17
        },
        "id": "hlhvLBa-k8BM",
        "outputId": "fb8bec89-4bdb-4a47-b91b-9a88ce895887"
      },
      "execution_count": 32,
      "outputs": [
        {
          "output_type": "display_data",
          "data": {
            "text/plain": [
              "<IPython.core.display.HTML object>"
            ],
            "text/html": [
              "\n",
              "            <style>\n",
              "                .geemap-dark {\n",
              "                    --jp-widgets-color: white;\n",
              "                    --jp-widgets-label-color: white;\n",
              "                    --jp-ui-font-color1: white;\n",
              "                    --jp-layout-color2: #454545;\n",
              "                    background-color: #383838;\n",
              "                }\n",
              "\n",
              "                .geemap-dark .jupyter-button {\n",
              "                    --jp-layout-color3: #383838;\n",
              "                }\n",
              "\n",
              "                .geemap-colab {\n",
              "                    background-color: var(--colab-primary-surface-color, white);\n",
              "                }\n",
              "\n",
              "                .geemap-colab .jupyter-button {\n",
              "                    --jp-layout-color3: var(--colab-primary-surface-color, white);\n",
              "                }\n",
              "            </style>\n",
              "            "
            ]
          },
          "metadata": {}
        }
      ]
    },
    {
      "cell_type": "code",
      "source": [
        "bounds1 = bbox_to_geojson(bbox1)"
      ],
      "metadata": {
        "colab": {
          "base_uri": "https://localhost:8080/",
          "height": 17
        },
        "id": "arT6eY_Dnujw",
        "outputId": "cc173274-d644-4c0c-92e3-bc26d8e35fb8"
      },
      "execution_count": 33,
      "outputs": [
        {
          "output_type": "display_data",
          "data": {
            "text/plain": [
              "<IPython.core.display.HTML object>"
            ],
            "text/html": [
              "\n",
              "            <style>\n",
              "                .geemap-dark {\n",
              "                    --jp-widgets-color: white;\n",
              "                    --jp-widgets-label-color: white;\n",
              "                    --jp-ui-font-color1: white;\n",
              "                    --jp-layout-color2: #454545;\n",
              "                    background-color: #383838;\n",
              "                }\n",
              "\n",
              "                .geemap-dark .jupyter-button {\n",
              "                    --jp-layout-color3: #383838;\n",
              "                }\n",
              "\n",
              "                .geemap-colab {\n",
              "                    background-color: var(--colab-primary-surface-color, white);\n",
              "                }\n",
              "\n",
              "                .geemap-colab .jupyter-button {\n",
              "                    --jp-layout-color3: var(--colab-primary-surface-color, white);\n",
              "                }\n",
              "            </style>\n",
              "            "
            ]
          },
          "metadata": {}
        }
      ]
    },
    {
      "cell_type": "code",
      "source": [
        "eebounds = geemap.geojson_to_ee(bounds1)"
      ],
      "metadata": {
        "colab": {
          "base_uri": "https://localhost:8080/",
          "height": 17
        },
        "id": "YsAsKPJ0rGCj",
        "outputId": "e822352b-ff6e-4f45-b7f4-aad4411d06ae"
      },
      "execution_count": 34,
      "outputs": [
        {
          "output_type": "display_data",
          "data": {
            "text/plain": [
              "<IPython.core.display.HTML object>"
            ],
            "text/html": [
              "\n",
              "            <style>\n",
              "                .geemap-dark {\n",
              "                    --jp-widgets-color: white;\n",
              "                    --jp-widgets-label-color: white;\n",
              "                    --jp-ui-font-color1: white;\n",
              "                    --jp-layout-color2: #454545;\n",
              "                    background-color: #383838;\n",
              "                }\n",
              "\n",
              "                .geemap-dark .jupyter-button {\n",
              "                    --jp-layout-color3: #383838;\n",
              "                }\n",
              "\n",
              "                .geemap-colab {\n",
              "                    background-color: var(--colab-primary-surface-color, white);\n",
              "                }\n",
              "\n",
              "                .geemap-colab .jupyter-button {\n",
              "                    --jp-layout-color3: var(--colab-primary-surface-color, white);\n",
              "                }\n",
              "            </style>\n",
              "            "
            ]
          },
          "metadata": {}
        }
      ]
    },
    {
      "cell_type": "code",
      "source": [
        "START = ee.Date('2021-04-02')\n",
        "END = START.advance(1, 'day')\n",
        "\n",
        "col_filter = ee.Filter.And(\n",
        "    ee.Filter.bounds(eebounds),\n",
        "    ee.Filter.date(START, END),\n",
        ")\n",
        "\n",
        "dw_col = ee.ImageCollection('GOOGLE/DYNAMICWORLD/V1').filter(col_filter)\n",
        "s2_col = ee.ImageCollection('COPERNICUS/S2/HARMONIZED').filter(col_filter)\n",
        "\n",
        "# Join corresponding DW and S2 images (by system:index).\n",
        "dw_s2_col = ee.Join.saveFirst('s2_img').apply(\n",
        "    dw_col,\n",
        "    s2_col,\n",
        "    ee.Filter.equals(leftField='system:index', rightField='system:index'),\n",
        ")"
      ],
      "metadata": {
        "colab": {
          "base_uri": "https://localhost:8080/",
          "height": 17
        },
        "id": "ZeHPhKlYbjsj",
        "outputId": "36d6e1e6-d355-4bd5-8528-35dfef27efee"
      },
      "execution_count": 36,
      "outputs": [
        {
          "output_type": "display_data",
          "data": {
            "text/plain": [
              "<IPython.core.display.HTML object>"
            ],
            "text/html": [
              "\n",
              "            <style>\n",
              "                .geemap-dark {\n",
              "                    --jp-widgets-color: white;\n",
              "                    --jp-widgets-label-color: white;\n",
              "                    --jp-ui-font-color1: white;\n",
              "                    --jp-layout-color2: #454545;\n",
              "                    background-color: #383838;\n",
              "                }\n",
              "\n",
              "                .geemap-dark .jupyter-button {\n",
              "                    --jp-layout-color3: #383838;\n",
              "                }\n",
              "\n",
              "                .geemap-colab {\n",
              "                    background-color: var(--colab-primary-surface-color, white);\n",
              "                }\n",
              "\n",
              "                .geemap-colab .jupyter-button {\n",
              "                    --jp-layout-color3: var(--colab-primary-surface-color, white);\n",
              "                }\n",
              "            </style>\n",
              "            "
            ]
          },
          "metadata": {}
        }
      ]
    },
    {
      "cell_type": "markdown",
      "source": [],
      "metadata": {
        "id": "3Eh36e8Btasx"
      }
    },
    {
      "cell_type": "code",
      "source": [
        "# Construct a collection of corresponding Dynamic World and Sentinel-2 for\n",
        "# inspection. Filter the DW and S2 collections by region and date.\n",
        "\n",
        "\n",
        "# Extract an example DW image and its source S2 image.\n",
        "dw_image = ee.Image(dw_s2_col.first())\n",
        "s2_image = ee.Image(dw_image.get('s2_img'))\n",
        "\n",
        "# Create a visualization that blends DW class label with probability.\n",
        "# Define list pairs of DW LULC label and color.\n",
        "CLASS_NAMES = [\n",
        "    'water',\n",
        "    'trees',\n",
        "    'grass',\n",
        "    'flooded_vegetation',\n",
        "    'crops',\n",
        "    'shrub_and_scrub',\n",
        "    'built',\n",
        "    'bare',\n",
        "    'snow_and_ice',\n",
        "]\n",
        "\n",
        "VIS_PALETTE = [\n",
        "    '419bdf',\n",
        "    '397d49',\n",
        "    '88b053',\n",
        "    '7a87c6',\n",
        "    'e49635',\n",
        "    'dfc35a',\n",
        "    'c4281b',\n",
        "    'a59b8f',\n",
        "    'b39fe1',\n",
        "]\n",
        "\n",
        "# Create an RGB image of the label (most likely class) on [0, 1].\n",
        "dw_rgb = (\n",
        "    dw_image.select('label')\n",
        "    .visualize(min=0, max=8, palette=VIS_PALETTE)\n",
        "    .divide(255)\n",
        ")\n",
        "\n",
        "# Get the most likely class probability.\n",
        "top1_prob = dw_image.select(CLASS_NAMES).reduce(ee.Reducer.max())\n",
        "\n",
        "# Create a hillshade of the most likely class probability on [0, 1]\n",
        "top1_prob_hillshade = ee.Terrain.hillshade(top1_prob.multiply(100)).divide(255)\n",
        "\n",
        "# Combine the RGB image with the hillshade.\n",
        "dw_rgb_hillshade = dw_rgb.multiply(top1_prob_hillshade)\n",
        "\n",
        "# Display the Dynamic World visualization with the source Sentinel-2 image.\n",
        "m = geemap.Map()\n",
        "m.set_center(20.6729, 52.4305, 12)\n",
        "m.add_layer(\n",
        "    s2_image,\n",
        "    {'min': 0, 'max': 3000, 'bands': ['B4', 'B3', 'B2']},\n",
        "    'Sentinel-2 L1C',\n",
        ")\n",
        "m.add_layer(\n",
        "    dw_rgb_hillshade,\n",
        "    {'min': 0, 'max': 0.65},\n",
        "    'Dynamic World V1 - label hillshade',\n",
        ")\n",
        "m"
      ],
      "metadata": {
        "id": "G9JThSV3SIHS"
      },
      "execution_count": null,
      "outputs": []
    }
  ]
}