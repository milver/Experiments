{
  "nbformat": 4,
  "nbformat_minor": 0,
  "metadata": {
    "colab": {
      "provenance": [],
      "include_colab_link": true
    },
    "kernelspec": {
      "name": "python3",
      "display_name": "Python 3"
    },
    "language_info": {
      "name": "python"
    },
    "widgets": {
      "application/vnd.jupyter.widget-state+json": {
        "6cf8207dafc342fdb520afd1a862d946": {
          "model_module": "jupyter-leaflet",
          "model_name": "LeafletMapModel",
          "model_module_version": "^0.18",
          "state": {
            "_dom_classes": [],
            "_model_module": "jupyter-leaflet",
            "_model_module_version": "^0.18",
            "_model_name": "LeafletMapModel",
            "_view_count": null,
            "_view_module": "jupyter-leaflet",
            "_view_module_version": "^0.18",
            "_view_name": "LeafletMapView",
            "bottom": 1851,
            "bounce_at_zoom_limits": true,
            "box_zoom": true,
            "center": [
              40,
              -100
            ],
            "close_popup_on_click": true,
            "controls": [
              "IPY_MODEL_19f54f344c4146da8b3839ab824436ff",
              "IPY_MODEL_8aae21e415154758afb73f15cac11070",
              "IPY_MODEL_39252c8035b3427692253714589f6a12",
              "IPY_MODEL_bf0b6e4f37af47b9a2b3b013ca56e591",
              "IPY_MODEL_f438d05be7e64934a0c685b320815282",
              "IPY_MODEL_fb6fb68475f948f7aa09767d3a4bd8e1",
              "IPY_MODEL_a2110a379d864a49b387f1ce002c398e",
              "IPY_MODEL_1012edfe875b438fbea7bfeed8a652c0"
            ],
            "crs": {
              "name": "EPSG3857",
              "custom": false
            },
            "default_style": "IPY_MODEL_9536ea1539824bc5842dd66af98ec7ba",
            "double_click_zoom": true,
            "dragging": true,
            "dragging_style": "IPY_MODEL_d16da66b762a4b8a8c15e497c5ce4c1e",
            "east": -61.96289062500001,
            "fullscreen": false,
            "inertia": true,
            "inertia_deceleration": 3000,
            "inertia_max_speed": 1500,
            "interpolation": "bilinear",
            "keyboard": true,
            "keyboard_pan_offset": 80,
            "keyboard_zoom_offset": 1,
            "layers": [
              "IPY_MODEL_f77057606c1d46d388e4aba6b53ed212",
              "IPY_MODEL_3fffae87386345b6a560bc7b6fc43fc5"
            ],
            "layout": "IPY_MODEL_d06632d2eac841c68ab5f415e6c74df1",
            "left": 477,
            "max_zoom": 24,
            "min_zoom": null,
            "modisdate": "2024-03-13",
            "north": 57.18390185831188,
            "options": [
              "bounce_at_zoom_limits",
              "box_zoom",
              "center",
              "close_popup_on_click",
              "double_click_zoom",
              "dragging",
              "fullscreen",
              "inertia",
              "inertia_deceleration",
              "inertia_max_speed",
              "interpolation",
              "keyboard",
              "keyboard_pan_offset",
              "keyboard_zoom_offset",
              "max_zoom",
              "min_zoom",
              "prefer_canvas",
              "scroll_wheel_zoom",
              "tap",
              "tap_tolerance",
              "touch_zoom",
              "world_copy_jump",
              "zoom",
              "zoom_animation_threshold",
              "zoom_delta",
              "zoom_snap"
            ],
            "panes": {},
            "prefer_canvas": false,
            "right": 1343,
            "scroll_wheel_zoom": true,
            "south": 17.056784609942554,
            "style": "IPY_MODEL_dc3ec985a17c42a19995f9f5a2d5a031",
            "tap": true,
            "tap_tolerance": 15,
            "top": 1251,
            "touch_zoom": true,
            "west": -138.07617187500003,
            "window_url": "https://5u6c09dmepn-496ff2e9c6d22116-0-colab.googleusercontent.com/outputframe.html?vrz=colab_20240312-060225_RC00_614982821",
            "world_copy_jump": false,
            "zoom": 4,
            "zoom_animation_threshold": 4,
            "zoom_delta": 1,
            "zoom_snap": 1
          }
        },
        "19f54f344c4146da8b3839ab824436ff": {
          "model_module": "jupyter-leaflet",
          "model_name": "LeafletWidgetControlModel",
          "model_module_version": "^0.18",
          "state": {
            "_model_module": "jupyter-leaflet",
            "_model_module_version": "^0.18",
            "_model_name": "LeafletWidgetControlModel",
            "_view_count": null,
            "_view_module": "jupyter-leaflet",
            "_view_module_version": "^0.18",
            "_view_name": "LeafletWidgetControlView",
            "max_height": null,
            "max_width": null,
            "min_height": null,
            "min_width": null,
            "options": [
              "position",
              "transparent_bg"
            ],
            "position": "topleft",
            "transparent_bg": false,
            "widget": "IPY_MODEL_ea697f2f06384a7187a9e39ba5d86872"
          }
        },
        "8aae21e415154758afb73f15cac11070": {
          "model_module": "jupyter-leaflet",
          "model_name": "LeafletZoomControlModel",
          "model_module_version": "^0.18",
          "state": {
            "_model_module": "jupyter-leaflet",
            "_model_module_version": "^0.18",
            "_model_name": "LeafletZoomControlModel",
            "_view_count": null,
            "_view_module": "jupyter-leaflet",
            "_view_module_version": "^0.18",
            "_view_name": "LeafletZoomControlView",
            "options": [
              "position",
              "zoom_in_text",
              "zoom_in_title",
              "zoom_out_text",
              "zoom_out_title"
            ],
            "position": "topleft",
            "zoom_in_text": "+",
            "zoom_in_title": "Zoom in",
            "zoom_out_text": "-",
            "zoom_out_title": "Zoom out"
          }
        },
        "39252c8035b3427692253714589f6a12": {
          "model_module": "jupyter-leaflet",
          "model_name": "LeafletFullScreenControlModel",
          "model_module_version": "^0.18",
          "state": {
            "_model_module": "jupyter-leaflet",
            "_model_module_version": "^0.18",
            "_model_name": "LeafletFullScreenControlModel",
            "_view_count": null,
            "_view_module": "jupyter-leaflet",
            "_view_module_version": "^0.18",
            "_view_name": "LeafletFullScreenControlView",
            "options": [
              "position"
            ],
            "position": "topleft"
          }
        },
        "bf0b6e4f37af47b9a2b3b013ca56e591": {
          "model_module": "jupyter-leaflet",
          "model_name": "LeafletDrawControlModel",
          "model_module_version": "^0.18",
          "state": {
            "_model_module": "jupyter-leaflet",
            "_model_module_version": "^0.18",
            "_model_name": "LeafletDrawControlModel",
            "_view_count": null,
            "_view_module": "jupyter-leaflet",
            "_view_module_version": "^0.18",
            "_view_name": "LeafletDrawControlView",
            "circle": {},
            "circlemarker": {},
            "data": [],
            "edit": true,
            "marker": {
              "shapeOptions": {
                "color": "#3388ff"
              }
            },
            "options": [
              "position"
            ],
            "polygon": {
              "shapeOptions": {}
            },
            "polyline": {
              "shapeOptions": {}
            },
            "position": "topleft",
            "rectangle": {
              "shapeOptions": {
                "color": "#3388ff"
              }
            },
            "remove": true
          }
        },
        "f438d05be7e64934a0c685b320815282": {
          "model_module": "jupyter-leaflet",
          "model_name": "LeafletScaleControlModel",
          "model_module_version": "^0.18",
          "state": {
            "_model_module": "jupyter-leaflet",
            "_model_module_version": "^0.18",
            "_model_name": "LeafletScaleControlModel",
            "_view_count": null,
            "_view_module": "jupyter-leaflet",
            "_view_module_version": "^0.18",
            "_view_name": "LeafletScaleControlView",
            "imperial": true,
            "max_width": 100,
            "metric": true,
            "options": [
              "imperial",
              "max_width",
              "metric",
              "position",
              "update_when_idle"
            ],
            "position": "bottomleft",
            "update_when_idle": false
          }
        },
        "fb6fb68475f948f7aa09767d3a4bd8e1": {
          "model_module": "jupyter-leaflet",
          "model_name": "LeafletMeasureControlModel",
          "model_module_version": "^0.18",
          "state": {
            "_custom_units": {},
            "_model_module": "jupyter-leaflet",
            "_model_module_version": "^0.18",
            "_model_name": "LeafletMeasureControlModel",
            "_view_count": null,
            "_view_module": "jupyter-leaflet",
            "_view_module_version": "^0.18",
            "_view_name": "LeafletMeasureControlView",
            "active_color": "orange",
            "capture_z_index": 10000,
            "completed_color": "#C8F2BE",
            "options": [
              "active_color",
              "capture_z_index",
              "completed_color",
              "popup_options",
              "position",
              "primary_area_unit",
              "primary_length_unit",
              "secondary_area_unit",
              "secondary_length_unit"
            ],
            "popup_options": {
              "className": "leaflet-measure-resultpopup",
              "autoPanPadding": [
                10,
                10
              ]
            },
            "position": "bottomleft",
            "primary_area_unit": "acres",
            "primary_length_unit": "kilometers",
            "secondary_area_unit": null,
            "secondary_length_unit": null
          }
        },
        "a2110a379d864a49b387f1ce002c398e": {
          "model_module": "jupyter-leaflet",
          "model_name": "LeafletWidgetControlModel",
          "model_module_version": "^0.18",
          "state": {
            "_model_module": "jupyter-leaflet",
            "_model_module_version": "^0.18",
            "_model_name": "LeafletWidgetControlModel",
            "_view_count": null,
            "_view_module": "jupyter-leaflet",
            "_view_module_version": "^0.18",
            "_view_name": "LeafletWidgetControlView",
            "max_height": null,
            "max_width": null,
            "min_height": null,
            "min_width": null,
            "options": [
              "position",
              "transparent_bg"
            ],
            "position": "topright",
            "transparent_bg": false,
            "widget": "IPY_MODEL_623eea37eab64bfd9892f852ed68cf94"
          }
        },
        "1012edfe875b438fbea7bfeed8a652c0": {
          "model_module": "jupyter-leaflet",
          "model_name": "LeafletAttributionControlModel",
          "model_module_version": "^0.18",
          "state": {
            "_model_module": "jupyter-leaflet",
            "_model_module_version": "^0.18",
            "_model_name": "LeafletAttributionControlModel",
            "_view_count": null,
            "_view_module": "jupyter-leaflet",
            "_view_module_version": "^0.18",
            "_view_name": "LeafletAttributionControlView",
            "options": [
              "position",
              "prefix"
            ],
            "position": "bottomright",
            "prefix": "ipyleaflet"
          }
        },
        "9536ea1539824bc5842dd66af98ec7ba": {
          "model_module": "jupyter-leaflet",
          "model_name": "LeafletMapStyleModel",
          "model_module_version": "^0.18",
          "state": {
            "_model_module": "jupyter-leaflet",
            "_model_module_version": "^0.18",
            "_model_name": "LeafletMapStyleModel",
            "_view_count": null,
            "_view_module": "@jupyter-widgets/base",
            "_view_module_version": "1.2.0",
            "_view_name": "StyleView",
            "cursor": "grab"
          }
        },
        "d16da66b762a4b8a8c15e497c5ce4c1e": {
          "model_module": "jupyter-leaflet",
          "model_name": "LeafletMapStyleModel",
          "model_module_version": "^0.18",
          "state": {
            "_model_module": "jupyter-leaflet",
            "_model_module_version": "^0.18",
            "_model_name": "LeafletMapStyleModel",
            "_view_count": null,
            "_view_module": "@jupyter-widgets/base",
            "_view_module_version": "1.2.0",
            "_view_name": "StyleView",
            "cursor": "move"
          }
        },
        "f77057606c1d46d388e4aba6b53ed212": {
          "model_module": "jupyter-leaflet",
          "model_name": "LeafletTileLayerModel",
          "model_module_version": "^0.18",
          "state": {
            "_model_module": "jupyter-leaflet",
            "_model_module_version": "^0.18",
            "_model_name": "LeafletTileLayerModel",
            "_view_count": null,
            "_view_module": "jupyter-leaflet",
            "_view_module_version": "^0.18",
            "_view_name": "LeafletTileLayerView",
            "attribution": "&copy; <a href=\"https://www.openstreetmap.org/copyright\">OpenStreetMap</a> contributors",
            "base": true,
            "bottom": true,
            "bounds": null,
            "detect_retina": false,
            "loading": false,
            "max_native_zoom": null,
            "max_zoom": 19,
            "min_native_zoom": null,
            "min_zoom": 1,
            "name": "OpenStreetMap.Mapnik",
            "no_wrap": false,
            "opacity": 1,
            "options": [
              "attribution",
              "bounds",
              "detect_retina",
              "max_native_zoom",
              "max_zoom",
              "min_native_zoom",
              "min_zoom",
              "no_wrap",
              "tile_size",
              "tms",
              "zoom_offset"
            ],
            "pane": "",
            "popup": null,
            "popup_max_height": null,
            "popup_max_width": 300,
            "popup_min_width": 50,
            "show_loading": false,
            "subitems": [],
            "tile_size": 256,
            "tms": false,
            "url": "https://tile.openstreetmap.org/{z}/{x}/{y}.png",
            "visible": true,
            "zoom_offset": 0
          }
        },
        "3fffae87386345b6a560bc7b6fc43fc5": {
          "model_module": "jupyter-leaflet",
          "model_name": "LeafletTileLayerModel",
          "model_module_version": "^0.18",
          "state": {
            "_model_module": "jupyter-leaflet",
            "_model_module_version": "^0.18",
            "_model_name": "LeafletTileLayerModel",
            "_view_count": null,
            "_view_module": "jupyter-leaflet",
            "_view_module_version": "^0.18",
            "_view_name": "LeafletTileLayerView",
            "attribution": "Google Earth Engine",
            "base": false,
            "bottom": true,
            "bounds": null,
            "detect_retina": false,
            "loading": false,
            "max_native_zoom": null,
            "max_zoom": 24,
            "min_native_zoom": null,
            "min_zoom": 0,
            "name": "SRTM",
            "no_wrap": false,
            "opacity": 1,
            "options": [
              "attribution",
              "bounds",
              "detect_retina",
              "max_native_zoom",
              "max_zoom",
              "min_native_zoom",
              "min_zoom",
              "no_wrap",
              "tile_size",
              "tms",
              "zoom_offset"
            ],
            "pane": "",
            "popup": null,
            "popup_max_height": null,
            "popup_max_width": 300,
            "popup_min_width": 50,
            "show_loading": false,
            "subitems": [],
            "tile_size": 256,
            "tms": false,
            "url": "https://earthengine.googleapis.com/v1/projects/ee-giswqs/maps/24e1b6ba3cbf41c605835d10a955ce17-83d376c4e488d76e32d7444c2723ccf1/tiles/{z}/{x}/{y}",
            "visible": true,
            "zoom_offset": 0
          }
        },
        "d06632d2eac841c68ab5f415e6c74df1": {
          "model_module": "@jupyter-widgets/base",
          "model_name": "LayoutModel",
          "model_module_version": "1.2.0",
          "state": {
            "_model_module": "@jupyter-widgets/base",
            "_model_module_version": "1.2.0",
            "_model_name": "LayoutModel",
            "_view_count": null,
            "_view_module": "@jupyter-widgets/base",
            "_view_module_version": "1.2.0",
            "_view_name": "LayoutView",
            "align_content": null,
            "align_items": null,
            "align_self": null,
            "border": null,
            "bottom": null,
            "display": null,
            "flex": null,
            "flex_flow": null,
            "grid_area": null,
            "grid_auto_columns": null,
            "grid_auto_flow": null,
            "grid_auto_rows": null,
            "grid_column": null,
            "grid_gap": null,
            "grid_row": null,
            "grid_template_areas": null,
            "grid_template_columns": null,
            "grid_template_rows": null,
            "height": "600px",
            "justify_content": null,
            "justify_items": null,
            "left": null,
            "margin": null,
            "max_height": null,
            "max_width": null,
            "min_height": null,
            "min_width": null,
            "object_fit": null,
            "object_position": null,
            "order": null,
            "overflow": null,
            "overflow_x": null,
            "overflow_y": null,
            "padding": null,
            "right": null,
            "top": null,
            "visibility": null,
            "width": null
          }
        },
        "dc3ec985a17c42a19995f9f5a2d5a031": {
          "model_module": "jupyter-leaflet",
          "model_name": "LeafletMapStyleModel",
          "model_module_version": "^0.18",
          "state": {
            "_model_module": "jupyter-leaflet",
            "_model_module_version": "^0.18",
            "_model_name": "LeafletMapStyleModel",
            "_view_count": null,
            "_view_module": "@jupyter-widgets/base",
            "_view_module_version": "1.2.0",
            "_view_name": "StyleView",
            "cursor": "grab"
          }
        },
        "ea697f2f06384a7187a9e39ba5d86872": {
          "model_module": "@jupyter-widgets/controls",
          "model_name": "HBoxModel",
          "model_module_version": "1.5.0",
          "state": {
            "_dom_classes": [
              "geemap-colab"
            ],
            "_model_module": "@jupyter-widgets/controls",
            "_model_module_version": "1.5.0",
            "_model_name": "HBoxModel",
            "_view_count": null,
            "_view_module": "@jupyter-widgets/controls",
            "_view_module_version": "1.5.0",
            "_view_name": "HBoxView",
            "box_style": "",
            "children": [
              "IPY_MODEL_ecfe04e86d0746a6aba11aa3d187023d"
            ],
            "layout": "IPY_MODEL_ace300f341314470b40b230df66dee0f"
          }
        },
        "623eea37eab64bfd9892f852ed68cf94": {
          "model_module": "@jupyter-widgets/controls",
          "model_name": "VBoxModel",
          "model_module_version": "1.5.0",
          "state": {
            "_dom_classes": [
              "geemap-colab"
            ],
            "_model_module": "@jupyter-widgets/controls",
            "_model_module_version": "1.5.0",
            "_model_name": "VBoxModel",
            "_view_count": null,
            "_view_module": "@jupyter-widgets/controls",
            "_view_module_version": "1.5.0",
            "_view_name": "VBoxView",
            "box_style": "",
            "children": [
              "IPY_MODEL_f39c6f0c676643d28391083521c700a4"
            ],
            "layout": "IPY_MODEL_eaadb3d1f35d4c4bad2a592579cb43d8"
          }
        },
        "ecfe04e86d0746a6aba11aa3d187023d": {
          "model_module": "@jupyter-widgets/controls",
          "model_name": "ToggleButtonModel",
          "model_module_version": "1.5.0",
          "state": {
            "_dom_classes": [],
            "_model_module": "@jupyter-widgets/controls",
            "_model_module_version": "1.5.0",
            "_model_name": "ToggleButtonModel",
            "_view_count": null,
            "_view_module": "@jupyter-widgets/controls",
            "_view_module_version": "1.5.0",
            "_view_name": "ToggleButtonView",
            "button_style": "",
            "description": "",
            "description_tooltip": null,
            "disabled": false,
            "icon": "globe",
            "layout": "IPY_MODEL_8638d0f505664389a684866d2e7df4fb",
            "style": "IPY_MODEL_2dcd1373b0a2438eabce9d0615ab1781",
            "tooltip": "Search location/data",
            "value": false
          }
        },
        "ace300f341314470b40b230df66dee0f": {
          "model_module": "@jupyter-widgets/base",
          "model_name": "LayoutModel",
          "model_module_version": "1.2.0",
          "state": {
            "_model_module": "@jupyter-widgets/base",
            "_model_module_version": "1.2.0",
            "_model_name": "LayoutModel",
            "_view_count": null,
            "_view_module": "@jupyter-widgets/base",
            "_view_module_version": "1.2.0",
            "_view_name": "LayoutView",
            "align_content": null,
            "align_items": null,
            "align_self": null,
            "border": null,
            "bottom": null,
            "display": null,
            "flex": null,
            "flex_flow": null,
            "grid_area": null,
            "grid_auto_columns": null,
            "grid_auto_flow": null,
            "grid_auto_rows": null,
            "grid_column": null,
            "grid_gap": null,
            "grid_row": null,
            "grid_template_areas": null,
            "grid_template_columns": null,
            "grid_template_rows": null,
            "height": null,
            "justify_content": null,
            "justify_items": null,
            "left": null,
            "margin": null,
            "max_height": null,
            "max_width": null,
            "min_height": null,
            "min_width": null,
            "object_fit": null,
            "object_position": null,
            "order": null,
            "overflow": null,
            "overflow_x": null,
            "overflow_y": null,
            "padding": null,
            "right": null,
            "top": null,
            "visibility": null,
            "width": null
          }
        },
        "f39c6f0c676643d28391083521c700a4": {
          "model_module": "@jupyter-widgets/controls",
          "model_name": "ToggleButtonModel",
          "model_module_version": "1.5.0",
          "state": {
            "_dom_classes": [],
            "_model_module": "@jupyter-widgets/controls",
            "_model_module_version": "1.5.0",
            "_model_name": "ToggleButtonModel",
            "_view_count": null,
            "_view_module": "@jupyter-widgets/controls",
            "_view_module_version": "1.5.0",
            "_view_name": "ToggleButtonView",
            "button_style": "",
            "description": "",
            "description_tooltip": null,
            "disabled": false,
            "icon": "wrench",
            "layout": "IPY_MODEL_43d8523d59954e9888d210664a97227c",
            "style": "IPY_MODEL_79bb5ed34bab4100bd1719a7ad583475",
            "tooltip": "Toolbar",
            "value": false
          }
        },
        "eaadb3d1f35d4c4bad2a592579cb43d8": {
          "model_module": "@jupyter-widgets/base",
          "model_name": "LayoutModel",
          "model_module_version": "1.2.0",
          "state": {
            "_model_module": "@jupyter-widgets/base",
            "_model_module_version": "1.2.0",
            "_model_name": "LayoutModel",
            "_view_count": null,
            "_view_module": "@jupyter-widgets/base",
            "_view_module_version": "1.2.0",
            "_view_name": "LayoutView",
            "align_content": null,
            "align_items": null,
            "align_self": null,
            "border": null,
            "bottom": null,
            "display": null,
            "flex": null,
            "flex_flow": null,
            "grid_area": null,
            "grid_auto_columns": null,
            "grid_auto_flow": null,
            "grid_auto_rows": null,
            "grid_column": null,
            "grid_gap": null,
            "grid_row": null,
            "grid_template_areas": null,
            "grid_template_columns": null,
            "grid_template_rows": null,
            "height": null,
            "justify_content": null,
            "justify_items": null,
            "left": null,
            "margin": null,
            "max_height": null,
            "max_width": null,
            "min_height": null,
            "min_width": null,
            "object_fit": null,
            "object_position": null,
            "order": null,
            "overflow": null,
            "overflow_x": null,
            "overflow_y": null,
            "padding": null,
            "right": null,
            "top": null,
            "visibility": null,
            "width": null
          }
        },
        "8638d0f505664389a684866d2e7df4fb": {
          "model_module": "@jupyter-widgets/base",
          "model_name": "LayoutModel",
          "model_module_version": "1.2.0",
          "state": {
            "_model_module": "@jupyter-widgets/base",
            "_model_module_version": "1.2.0",
            "_model_name": "LayoutModel",
            "_view_count": null,
            "_view_module": "@jupyter-widgets/base",
            "_view_module_version": "1.2.0",
            "_view_name": "LayoutView",
            "align_content": null,
            "align_items": null,
            "align_self": null,
            "border": null,
            "bottom": null,
            "display": null,
            "flex": null,
            "flex_flow": null,
            "grid_area": null,
            "grid_auto_columns": null,
            "grid_auto_flow": null,
            "grid_auto_rows": null,
            "grid_column": null,
            "grid_gap": null,
            "grid_row": null,
            "grid_template_areas": null,
            "grid_template_columns": null,
            "grid_template_rows": null,
            "height": "28px",
            "justify_content": null,
            "justify_items": null,
            "left": null,
            "margin": null,
            "max_height": null,
            "max_width": null,
            "min_height": null,
            "min_width": null,
            "object_fit": null,
            "object_position": null,
            "order": null,
            "overflow": null,
            "overflow_x": null,
            "overflow_y": null,
            "padding": "0px 0px 0px 4px",
            "right": null,
            "top": null,
            "visibility": null,
            "width": "28px"
          }
        },
        "2dcd1373b0a2438eabce9d0615ab1781": {
          "model_module": "@jupyter-widgets/controls",
          "model_name": "DescriptionStyleModel",
          "model_module_version": "1.5.0",
          "state": {
            "_model_module": "@jupyter-widgets/controls",
            "_model_module_version": "1.5.0",
            "_model_name": "DescriptionStyleModel",
            "_view_count": null,
            "_view_module": "@jupyter-widgets/base",
            "_view_module_version": "1.2.0",
            "_view_name": "StyleView",
            "description_width": ""
          }
        },
        "43d8523d59954e9888d210664a97227c": {
          "model_module": "@jupyter-widgets/base",
          "model_name": "LayoutModel",
          "model_module_version": "1.2.0",
          "state": {
            "_model_module": "@jupyter-widgets/base",
            "_model_module_version": "1.2.0",
            "_model_name": "LayoutModel",
            "_view_count": null,
            "_view_module": "@jupyter-widgets/base",
            "_view_module_version": "1.2.0",
            "_view_name": "LayoutView",
            "align_content": null,
            "align_items": null,
            "align_self": null,
            "border": null,
            "bottom": null,
            "display": null,
            "flex": null,
            "flex_flow": null,
            "grid_area": null,
            "grid_auto_columns": null,
            "grid_auto_flow": null,
            "grid_auto_rows": null,
            "grid_column": null,
            "grid_gap": null,
            "grid_row": null,
            "grid_template_areas": null,
            "grid_template_columns": null,
            "grid_template_rows": null,
            "height": "28px",
            "justify_content": null,
            "justify_items": null,
            "left": null,
            "margin": null,
            "max_height": null,
            "max_width": null,
            "min_height": null,
            "min_width": null,
            "object_fit": null,
            "object_position": null,
            "order": null,
            "overflow": null,
            "overflow_x": null,
            "overflow_y": null,
            "padding": "0px 0px 0px 4px",
            "right": null,
            "top": null,
            "visibility": null,
            "width": "28px"
          }
        },
        "79bb5ed34bab4100bd1719a7ad583475": {
          "model_module": "@jupyter-widgets/controls",
          "model_name": "DescriptionStyleModel",
          "model_module_version": "1.5.0",
          "state": {
            "_model_module": "@jupyter-widgets/controls",
            "_model_module_version": "1.5.0",
            "_model_name": "DescriptionStyleModel",
            "_view_count": null,
            "_view_module": "@jupyter-widgets/base",
            "_view_module_version": "1.2.0",
            "_view_name": "StyleView",
            "description_width": ""
          }
        }
      }
    }
  },
  "cells": [
    {
      "cell_type": "markdown",
      "metadata": {
        "id": "view-in-github",
        "colab_type": "text"
      },
      "source": [
        "<a href=\"https://colab.research.google.com/github/milver/Experiments/blob/main/STAC_Gemini.ipynb\" target=\"_parent\"><img src=\"https://colab.research.google.com/assets/colab-badge.svg\" alt=\"Open In Colab\"/></a>"
      ]
    },
    {
      "cell_type": "code",
      "execution_count": null,
      "metadata": {
        "id": "O2DgiTeOSc52"
      },
      "outputs": [],
      "source": [
        "%pip install jupyter-ai langchain_google_genai"
      ]
    },
    {
      "cell_type": "code",
      "source": [
        "%load_ext jupyter_ai"
      ],
      "metadata": {
        "colab": {
          "base_uri": "https://localhost:8080/"
        },
        "id": "gmWYgRDnSfTC",
        "outputId": "2a6a2029-4a18-4e0d-8407-74327d1ccb09"
      },
      "execution_count": null,
      "outputs": [
        {
          "output_type": "stream",
          "name": "stderr",
          "text": [
            "WARNING:root:Unable to load model provider `nvidia-chat`. Please install the `langchain_nvidia_ai_endpoints` package.\n"
          ]
        }
      ]
    },
    {
      "cell_type": "code",
      "source": [
        "import os\n",
        "from google.colab import userdata"
      ],
      "metadata": {
        "id": "gFCmT6gNS7ir"
      },
      "execution_count": null,
      "outputs": []
    },
    {
      "cell_type": "code",
      "source": [
        "os.environ['GOOGLE_API_KEY'] = userdata.get('GOOGLE_API_KEY')"
      ],
      "metadata": {
        "id": "Buzv1aomTW-J"
      },
      "execution_count": null,
      "outputs": []
    },
    {
      "cell_type": "code",
      "source": [
        "%ai list"
      ],
      "metadata": {
        "colab": {
          "base_uri": "https://localhost:8080/",
          "height": 1000
        },
        "id": "RPBHGGZtTfhS",
        "outputId": "9eb8b11e-8861-48d7-faea-88b5f796fe67"
      },
      "execution_count": null,
      "outputs": [
        {
          "output_type": "execute_result",
          "data": {
            "text/plain": [
              "ai21\n",
              "Requires environment variable: AI21_API_KEY (not set)\n",
              "* ai21:j1-large\n",
              "* ai21:j1-grande\n",
              "* ai21:j1-jumbo\n",
              "* ai21:j1-grande-instruct\n",
              "* ai21:j2-large\n",
              "* ai21:j2-grande\n",
              "* ai21:j2-jumbo\n",
              "* ai21:j2-grande-instruct\n",
              "* ai21:j2-jumbo-instruct\n",
              "\n",
              "bedrock\n",
              "* bedrock:amazon.titan-text-express-v1\n",
              "* bedrock:ai21.j2-ultra-v1\n",
              "* bedrock:ai21.j2-mid-v1\n",
              "* bedrock:cohere.command-light-text-v14\n",
              "* bedrock:cohere.command-text-v14\n",
              "* bedrock:meta.llama2-13b-chat-v1\n",
              "* bedrock:meta.llama2-70b-chat-v1\n",
              "\n",
              "bedrock-chat\n",
              "* bedrock-chat:anthropic.claude-v2\n",
              "* bedrock-chat:anthropic.claude-v2:1\n",
              "* bedrock-chat:anthropic.claude-instant-v1\n",
              "* bedrock-chat:anthropic.claude-3-sonnet-20240229-v1:0\n",
              "\n",
              "anthropic\n",
              "Requires environment variable: ANTHROPIC_API_KEY (not set)\n",
              "* anthropic:claude-v1\n",
              "* anthropic:claude-v1.0\n",
              "* anthropic:claude-v1.2\n",
              "* anthropic:claude-2\n",
              "* anthropic:claude-2.0\n",
              "* anthropic:claude-instant-v1\n",
              "* anthropic:claude-instant-v1.0\n",
              "* anthropic:claude-instant-v1.2\n",
              "\n",
              "anthropic-chat\n",
              "Requires environment variable: ANTHROPIC_API_KEY (not set)\n",
              "* anthropic-chat:claude-2.0\n",
              "* anthropic-chat:claude-2.1\n",
              "* anthropic-chat:claude-instant-1.2\n",
              "* anthropic-chat:claude-3-opus-20240229\n",
              "* anthropic-chat:claude-3-sonnet-20240229\n",
              "\n",
              "azure-chat-openai\n",
              "Requires environment variable: OPENAI_API_KEY (not set)\n",
              "* This provider does not define a list of models.\n",
              "\n",
              "cohere\n",
              "Requires environment variable: COHERE_API_KEY (not set)\n",
              "* cohere:command\n",
              "* cohere:command-nightly\n",
              "* cohere:command-light\n",
              "* cohere:command-light-nightly\n",
              "\n",
              "gemini\n",
              "Requires environment variable: GOOGLE_API_KEY (set)\n",
              "* gemini:gemini-1.0-pro\n",
              "* gemini:gemini-1.0-pro-001\n",
              "* gemini:gemini-1.0-pro-latest\n",
              "* gemini:gemini-1.0-pro-vision-latest\n",
              "* gemini:gemini-pro\n",
              "* gemini:gemini-pro-vision\n",
              "\n",
              "gpt4all\n",
              "* gpt4all:ggml-gpt4all-j-v1.2-jazzy\n",
              "* gpt4all:ggml-gpt4all-j-v1.3-groovy\n",
              "* gpt4all:ggml-gpt4all-l13b-snoozy\n",
              "* gpt4all:mistral-7b-openorca.Q4_0\n",
              "* gpt4all:mistral-7b-instruct-v0.1.Q4_0\n",
              "* gpt4all:gpt4all-falcon-q4_0\n",
              "* gpt4all:wizardlm-13b-v1.2.Q4_0\n",
              "* gpt4all:nous-hermes-llama2-13b.Q4_0\n",
              "* gpt4all:gpt4all-13b-snoozy-q4_0\n",
              "* gpt4all:mpt-7b-chat-merges-q4_0\n",
              "* gpt4all:orca-mini-3b-gguf2-q4_0\n",
              "* gpt4all:starcoder-q4_0\n",
              "* gpt4all:rift-coder-v0-7b-q4_0\n",
              "* gpt4all:em_german_mistral_v01.Q4_0\n",
              "\n",
              "huggingface_hub\n",
              "Requires environment variable: HUGGINGFACEHUB_API_TOKEN (not set)\n",
              "* See [https://huggingface.co/models](https://huggingface.co/models) for a list of models. Pass a model's repository ID as the model ID; for example, `huggingface_hub:ExampleOwner/example-model`.\n",
              "\n",
              "openai\n",
              "Requires environment variable: OPENAI_API_KEY (not set)\n",
              "* openai:babbage-002\n",
              "* openai:davinci-002\n",
              "* openai:gpt-3.5-turbo-instruct\n",
              "\n",
              "openai-chat\n",
              "Requires environment variable: OPENAI_API_KEY (not set)\n",
              "* openai-chat:gpt-3.5-turbo\n",
              "* openai-chat:gpt-3.5-turbo-0125\n",
              "* openai-chat:gpt-3.5-turbo-0301\n",
              "* openai-chat:gpt-3.5-turbo-0613\n",
              "* openai-chat:gpt-3.5-turbo-1106\n",
              "* openai-chat:gpt-3.5-turbo-16k\n",
              "* openai-chat:gpt-3.5-turbo-16k-0613\n",
              "* openai-chat:gpt-4\n",
              "* openai-chat:gpt-4-turbo-preview\n",
              "* openai-chat:gpt-4-0613\n",
              "* openai-chat:gpt-4-32k\n",
              "* openai-chat:gpt-4-32k-0613\n",
              "* openai-chat:gpt-4-0125-preview\n",
              "* openai-chat:gpt-4-1106-preview\n",
              "\n",
              "qianfan\n",
              "Requires environment variables: QIANFAN_AK (not set), QIANFAN_SK (not set)\n",
              "* qianfan:ERNIE-Bot\n",
              "* qianfan:ERNIE-Bot-4\n",
              "\n",
              "sagemaker-endpoint\n",
              "* Specify an endpoint name as the model ID. In addition, you must specify a region name, request schema, and response path. For more information, see the documentation about [SageMaker endpoints deployment](https://docs.aws.amazon.com/sagemaker/latest/dg/realtime-endpoints-deployment.html) and about [using magic commands with SageMaker endpoints](https://jupyter-ai.readthedocs.io/en/latest/users/index.html#using-magic-commands-with-sagemaker-endpoints).\n",
              "\n",
              "togetherai\n",
              "Requires environment variable: TOGETHER_API_KEY (not set)\n",
              "* togetherai:Austism/chronos-hermes-13b\n",
              "* togetherai:DiscoResearch/DiscoLM-mixtral-8x7b-v2\n",
              "* togetherai:EleutherAI/llemma_7b\n",
              "* togetherai:Gryphe/MythoMax-L2-13b\n",
              "* togetherai:Meta-Llama/Llama-Guard-7b\n",
              "* togetherai:Nexusflow/NexusRaven-V2-13B\n",
              "* togetherai:NousResearch/Nous-Capybara-7B-V1p9\n",
              "* togetherai:NousResearch/Nous-Hermes-2-Yi-34B\n",
              "* togetherai:NousResearch/Nous-Hermes-Llama2-13b\n",
              "* togetherai:NousResearch/Nous-Hermes-Llama2-70b\n",
              "\n",
              "\n",
              "Aliases and custom commands:\n",
              "gpt2 - huggingface_hub:gpt2\n",
              "gpt3 - openai:davinci-002\n",
              "chatgpt - openai-chat:gpt-3.5-turbo\n",
              "gpt4 - openai-chat:gpt-4\n",
              "ernie-bot - qianfan:ERNIE-Bot\n",
              "ernie-bot-4 - qianfan:ERNIE-Bot-4\n",
              "titan - bedrock:amazon.titan-tg1-large\n"
            ],
            "text/markdown": "| Provider | Environment variable | Set? | Models |\n|----------|----------------------|------|--------|\n| `ai21` | `AI21_API_KEY` | <abbr title=\"You have not set this environment variable, so you cannot use this provider's models.\">❌</abbr> | <ul><li>`ai21:j1-large`</li><li>`ai21:j1-grande`</li><li>`ai21:j1-jumbo`</li><li>`ai21:j1-grande-instruct`</li><li>`ai21:j2-large`</li><li>`ai21:j2-grande`</li><li>`ai21:j2-jumbo`</li><li>`ai21:j2-grande-instruct`</li><li>`ai21:j2-jumbo-instruct`</li></ul> |\n| `bedrock` | Not applicable. | <abbr title=\"Not applicable\">N/A</abbr> | <ul><li>`bedrock:amazon.titan-text-express-v1`</li><li>`bedrock:ai21.j2-ultra-v1`</li><li>`bedrock:ai21.j2-mid-v1`</li><li>`bedrock:cohere.command-light-text-v14`</li><li>`bedrock:cohere.command-text-v14`</li><li>`bedrock:meta.llama2-13b-chat-v1`</li><li>`bedrock:meta.llama2-70b-chat-v1`</li></ul> |\n| `bedrock-chat` | Not applicable. | <abbr title=\"Not applicable\">N/A</abbr> | <ul><li>`bedrock-chat:anthropic.claude-v2`</li><li>`bedrock-chat:anthropic.claude-v2:1`</li><li>`bedrock-chat:anthropic.claude-instant-v1`</li><li>`bedrock-chat:anthropic.claude-3-sonnet-20240229-v1:0`</li></ul> |\n| `anthropic` | `ANTHROPIC_API_KEY` | <abbr title=\"You have not set this environment variable, so you cannot use this provider's models.\">❌</abbr> | <ul><li>`anthropic:claude-v1`</li><li>`anthropic:claude-v1.0`</li><li>`anthropic:claude-v1.2`</li><li>`anthropic:claude-2`</li><li>`anthropic:claude-2.0`</li><li>`anthropic:claude-instant-v1`</li><li>`anthropic:claude-instant-v1.0`</li><li>`anthropic:claude-instant-v1.2`</li></ul> |\n| `anthropic-chat` | `ANTHROPIC_API_KEY` | <abbr title=\"You have not set this environment variable, so you cannot use this provider's models.\">❌</abbr> | <ul><li>`anthropic-chat:claude-2.0`</li><li>`anthropic-chat:claude-2.1`</li><li>`anthropic-chat:claude-instant-1.2`</li><li>`anthropic-chat:claude-3-opus-20240229`</li><li>`anthropic-chat:claude-3-sonnet-20240229`</li></ul> |\n| `azure-chat-openai` | `OPENAI_API_KEY` | <abbr title=\"You have not set this environment variable, so you cannot use this provider's models.\">❌</abbr> | This provider does not define a list of models. |\n| `cohere` | `COHERE_API_KEY` | <abbr title=\"You have not set this environment variable, so you cannot use this provider's models.\">❌</abbr> | <ul><li>`cohere:command`</li><li>`cohere:command-nightly`</li><li>`cohere:command-light`</li><li>`cohere:command-light-nightly`</li></ul> |\n| `gemini` | `GOOGLE_API_KEY` | <abbr title=\"You have set this environment variable, so you can use this provider's models.\">✅</abbr> | <ul><li>`gemini:gemini-1.0-pro`</li><li>`gemini:gemini-1.0-pro-001`</li><li>`gemini:gemini-1.0-pro-latest`</li><li>`gemini:gemini-1.0-pro-vision-latest`</li><li>`gemini:gemini-pro`</li><li>`gemini:gemini-pro-vision`</li></ul> |\n| `gpt4all` | Not applicable. | <abbr title=\"Not applicable\">N/A</abbr> | <ul><li>`gpt4all:ggml-gpt4all-j-v1.2-jazzy`</li><li>`gpt4all:ggml-gpt4all-j-v1.3-groovy`</li><li>`gpt4all:ggml-gpt4all-l13b-snoozy`</li><li>`gpt4all:mistral-7b-openorca.Q4_0`</li><li>`gpt4all:mistral-7b-instruct-v0.1.Q4_0`</li><li>`gpt4all:gpt4all-falcon-q4_0`</li><li>`gpt4all:wizardlm-13b-v1.2.Q4_0`</li><li>`gpt4all:nous-hermes-llama2-13b.Q4_0`</li><li>`gpt4all:gpt4all-13b-snoozy-q4_0`</li><li>`gpt4all:mpt-7b-chat-merges-q4_0`</li><li>`gpt4all:orca-mini-3b-gguf2-q4_0`</li><li>`gpt4all:starcoder-q4_0`</li><li>`gpt4all:rift-coder-v0-7b-q4_0`</li><li>`gpt4all:em_german_mistral_v01.Q4_0`</li></ul> |\n| `huggingface_hub` | `HUGGINGFACEHUB_API_TOKEN` | <abbr title=\"You have not set this environment variable, so you cannot use this provider's models.\">❌</abbr> | See [https://huggingface.co/models](https://huggingface.co/models) for a list of models. Pass a model's repository ID as the model ID; for example, `huggingface_hub:ExampleOwner/example-model`. |\n| `openai` | `OPENAI_API_KEY` | <abbr title=\"You have not set this environment variable, so you cannot use this provider's models.\">❌</abbr> | <ul><li>`openai:babbage-002`</li><li>`openai:davinci-002`</li><li>`openai:gpt-3.5-turbo-instruct`</li></ul> |\n| `openai-chat` | `OPENAI_API_KEY` | <abbr title=\"You have not set this environment variable, so you cannot use this provider's models.\">❌</abbr> | <ul><li>`openai-chat:gpt-3.5-turbo`</li><li>`openai-chat:gpt-3.5-turbo-0125`</li><li>`openai-chat:gpt-3.5-turbo-0301`</li><li>`openai-chat:gpt-3.5-turbo-0613`</li><li>`openai-chat:gpt-3.5-turbo-1106`</li><li>`openai-chat:gpt-3.5-turbo-16k`</li><li>`openai-chat:gpt-3.5-turbo-16k-0613`</li><li>`openai-chat:gpt-4`</li><li>`openai-chat:gpt-4-turbo-preview`</li><li>`openai-chat:gpt-4-0613`</li><li>`openai-chat:gpt-4-32k`</li><li>`openai-chat:gpt-4-32k-0613`</li><li>`openai-chat:gpt-4-0125-preview`</li><li>`openai-chat:gpt-4-1106-preview`</li></ul> |\n| `qianfan` | `QIANFAN_AK`, `QIANFAN_SK` | <abbr title=\"You have not set all of these environment variables, so you cannot use this provider's models.\">❌</abbr> | <ul><li>`qianfan:ERNIE-Bot`</li><li>`qianfan:ERNIE-Bot-4`</li></ul> |\n| `sagemaker-endpoint` | Not applicable. | <abbr title=\"Not applicable\">N/A</abbr> | Specify an endpoint name as the model ID. In addition, you must specify a region name, request schema, and response path. For more information, see the documentation about [SageMaker endpoints deployment](https://docs.aws.amazon.com/sagemaker/latest/dg/realtime-endpoints-deployment.html) and about [using magic commands with SageMaker endpoints](https://jupyter-ai.readthedocs.io/en/latest/users/index.html#using-magic-commands-with-sagemaker-endpoints). |\n| `togetherai` | `TOGETHER_API_KEY` | <abbr title=\"You have not set this environment variable, so you cannot use this provider's models.\">❌</abbr> | <ul><li>`togetherai:Austism/chronos-hermes-13b`</li><li>`togetherai:DiscoResearch/DiscoLM-mixtral-8x7b-v2`</li><li>`togetherai:EleutherAI/llemma_7b`</li><li>`togetherai:Gryphe/MythoMax-L2-13b`</li><li>`togetherai:Meta-Llama/Llama-Guard-7b`</li><li>`togetherai:Nexusflow/NexusRaven-V2-13B`</li><li>`togetherai:NousResearch/Nous-Capybara-7B-V1p9`</li><li>`togetherai:NousResearch/Nous-Hermes-2-Yi-34B`</li><li>`togetherai:NousResearch/Nous-Hermes-Llama2-13b`</li><li>`togetherai:NousResearch/Nous-Hermes-Llama2-70b`</li></ul> |\n\nAliases and custom commands:\n\n| Name | Target |\n|------|--------|\n| `gpt2` | `huggingface_hub:gpt2` |\n| `gpt3` | `openai:davinci-002` |\n| `chatgpt` | `openai-chat:gpt-3.5-turbo` |\n| `gpt4` | `openai-chat:gpt-4` |\n| `ernie-bot` | `qianfan:ERNIE-Bot` |\n| `ernie-bot-4` | `qianfan:ERNIE-Bot-4` |\n| `titan` | `bedrock:amazon.titan-tg1-large` |\n"
          },
          "metadata": {},
          "execution_count": 7
        }
      ]
    },
    {
      "cell_type": "code",
      "source": [
        "%%ai gemini-pro -f text\n",
        "\n",
        "Load an Earth Engine image with geemap"
      ],
      "metadata": {
        "colab": {
          "base_uri": "https://localhost:8080/"
        },
        "id": "qpgUmHbITksO",
        "outputId": "1f8e2844-830d-4796-e334-afe1d178ab7a"
      },
      "execution_count": null,
      "outputs": [
        {
          "output_type": "execute_result",
          "data": {
            "text/plain": [
              "```\n",
              "import geemap\n",
              "\n",
              "# Create a map centered at (lat, lon).\n",
              "map = geemap.Map(center=[40, -100], zoom=4)\n",
              "\n",
              "# Load an Earth Engine image.\n",
              "image = ee.Image('srtm90_v4')\n",
              "\n",
              "# Add the image to the map.\n",
              "map.addLayer(image, {'min': 0, 'max': 3000}, 'SRTM')\n",
              "\n",
              "# Display the map.\n",
              "map\n",
              "```"
            ]
          },
          "metadata": {
            "jupyter_ai": {
              "provider_id": "gemini",
              "model_id": "gemini-pro"
            }
          },
          "execution_count": 10
        }
      ]
    },
    {
      "cell_type": "code",
      "source": [
        "import ee\n",
        "import geemap\n",
        "\n",
        "# Create a map centered at (lat, lon).\n",
        "map = geemap.Map(center=[40, -100], zoom=4)\n",
        "\n",
        "# Load an Earth Engine image.\n",
        "image = ee.Image('srtm90_v4')\n",
        "\n",
        "# Add the image to the map.\n",
        "map.addLayer(image, {'min': 0, 'max': 3000}, 'SRTM')\n",
        "\n",
        "# Display the map.\n",
        "map"
      ],
      "metadata": {
        "colab": {
          "base_uri": "https://localhost:8080/",
          "height": 621,
          "referenced_widgets": [
            "6cf8207dafc342fdb520afd1a862d946",
            "19f54f344c4146da8b3839ab824436ff",
            "8aae21e415154758afb73f15cac11070",
            "39252c8035b3427692253714589f6a12",
            "bf0b6e4f37af47b9a2b3b013ca56e591",
            "f438d05be7e64934a0c685b320815282",
            "fb6fb68475f948f7aa09767d3a4bd8e1",
            "a2110a379d864a49b387f1ce002c398e",
            "1012edfe875b438fbea7bfeed8a652c0",
            "9536ea1539824bc5842dd66af98ec7ba",
            "d16da66b762a4b8a8c15e497c5ce4c1e",
            "f77057606c1d46d388e4aba6b53ed212",
            "3fffae87386345b6a560bc7b6fc43fc5",
            "d06632d2eac841c68ab5f415e6c74df1",
            "dc3ec985a17c42a19995f9f5a2d5a031",
            "ea697f2f06384a7187a9e39ba5d86872",
            "623eea37eab64bfd9892f852ed68cf94",
            "ecfe04e86d0746a6aba11aa3d187023d",
            "ace300f341314470b40b230df66dee0f",
            "f39c6f0c676643d28391083521c700a4",
            "eaadb3d1f35d4c4bad2a592579cb43d8",
            "8638d0f505664389a684866d2e7df4fb",
            "2dcd1373b0a2438eabce9d0615ab1781",
            "43d8523d59954e9888d210664a97227c",
            "79bb5ed34bab4100bd1719a7ad583475"
          ]
        },
        "id": "ResVmIS8UCZA",
        "outputId": "70605d62-9dde-4d0e-f04e-0bef43362eed"
      },
      "execution_count": null,
      "outputs": [
        {
          "output_type": "display_data",
          "data": {
            "text/plain": [
              "<IPython.core.display.HTML object>"
            ],
            "text/html": [
              "\n",
              "            <style>\n",
              "                .geemap-dark {\n",
              "                    --jp-widgets-color: white;\n",
              "                    --jp-widgets-label-color: white;\n",
              "                    --jp-ui-font-color1: white;\n",
              "                    --jp-layout-color2: #454545;\n",
              "                    background-color: #383838;\n",
              "                }\n",
              "\n",
              "                .geemap-dark .jupyter-button {\n",
              "                    --jp-layout-color3: #383838;\n",
              "                }\n",
              "\n",
              "                .geemap-colab {\n",
              "                    background-color: var(--colab-primary-surface-color, white);\n",
              "                }\n",
              "\n",
              "                .geemap-colab .jupyter-button {\n",
              "                    --jp-layout-color3: var(--colab-primary-surface-color, white);\n",
              "                }\n",
              "            </style>\n",
              "            "
            ]
          },
          "metadata": {}
        },
        {
          "output_type": "display_data",
          "data": {
            "text/plain": [
              "Map(center=[40, -100], controls=(WidgetControl(options=['position', 'transparent_bg'], widget=SearchDataGUI(ch…"
            ],
            "application/vnd.jupyter.widget-view+json": {
              "version_major": 2,
              "version_minor": 0,
              "model_id": "6cf8207dafc342fdb520afd1a862d946"
            }
          },
          "metadata": {
            "application/vnd.jupyter.widget-view+json": {
              "colab": {
                "custom_widget_manager": {
                  "url": "https://ssl.gstatic.com/colaboratory-static/widgets/colab-cdn-widget-manager/2b70e893a8ba7c0f/manager.min.js"
                }
              }
            }
          }
        }
      ]
    },
    {
      "cell_type": "code",
      "source": [],
      "metadata": {
        "id": "HMSMOmUzUQ8F"
      },
      "execution_count": null,
      "outputs": []
    }
  ]
}