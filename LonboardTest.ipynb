{
 "cells": [
  {
   "cell_type": "markdown",
   "id": "d8bc4058-fb3c-4344-a95a-734205b87084",
   "metadata": {},
   "source": [
    "## Setup Dependencies and Environments"
   ]
  },
  {
   "cell_type": "markdown",
   "id": "f4a04061-6b0e-4dd3-8f3a-0d0d3bf10dad",
   "metadata": {},
   "source": [
    "### Import pre-installed libraries"
   ]
  },
  {
   "cell_type": "code",
   "execution_count": 1,
   "id": "8dc77161-2b45-47a3-97e4-7e7c5257d027",
   "metadata": {},
   "outputs": [],
   "source": [
    "import pystac_client\n",
    "import planetary_computer\n",
    "import rioxarray\n",
    "import shapely.geometry\n",
    "import leafmap\n",
    "import ipywidgets\n",
    "import folium"
   ]
  },
  {
   "cell_type": "markdown",
   "id": "009e9e86-a329-4c79-86f7-f20fe36c7def",
   "metadata": {},
   "source": [
    "### Get the bbox I want"
   ]
  },
  {
   "cell_type": "code",
   "execution_count": 2,
   "id": "01aa648c-787f-4e77-ba0d-0a1c018e2e84",
   "metadata": {},
   "outputs": [
    {
     "data": {
      "application/vnd.jupyter.widget-view+json": {
       "model_id": "3c2bf46793294f468a02a0c27021ec13",
       "version_major": 2,
       "version_minor": 0
      },
      "text/plain": [
       "Map(center=[39.01841680996714, -77.49839544296265], controls=(ZoomControl(options=['position', 'zoom_in_text',…"
      ]
     },
     "execution_count": 2,
     "metadata": {},
     "output_type": "execute_result"
    }
   ],
   "source": [
    "m = leafmap.Map(center=[39.01841680996714, -77.49839544296265], zoom = 15, basemap = \"Google Maps\")\n",
    "m"
   ]
  },
  {
   "cell_type": "code",
   "execution_count": 3,
   "id": "5a825fea-4051-447b-a374-4fb5fd004f89",
   "metadata": {},
   "outputs": [
    {
     "name": "stdout",
     "output_type": "stream",
     "text": [
      "[39.01841680996714, -77.49839544296265]: 15.0\n"
     ]
    }
   ],
   "source": [
    "bbox1 = [m.west, m.south, m.east, m.north]\n",
    "print(\"{}: {}\".format(m.center, m.zoom))"
   ]
  },
  {
   "cell_type": "markdown",
   "id": "115bae15-aaa7-45a4-9dec-aa19a473a276",
   "metadata": {},
   "source": [
    "### Install dependencies"
   ]
  },
  {
   "cell_type": "code",
   "execution_count": 11,
   "id": "37954185-ac5a-48fb-bd3b-b856b203d75e",
   "metadata": {},
   "outputs": [],
   "source": [
    "#!pip install overturemaps\n",
    "#!pip install palettable\n",
    "#!pip install lonboard"
   ]
  },
  {
   "cell_type": "code",
   "execution_count": 12,
   "id": "cb36cc5d-4b9b-4713-8e42-21b5491724af",
   "metadata": {},
   "outputs": [],
   "source": [
    "import numpy as np\n",
    "import overturemaps\n",
    "from matplotlib.colors import LogNorm\n",
    "from palettable.colorbrewer.sequential import Oranges_9\n",
    "\n",
    "from lonboard import Map, PolygonLayer\n",
    "from lonboard.colormap import apply_continuous_cmap"
   ]
  },
  {
   "cell_type": "code",
   "execution_count": 13,
   "id": "c159894d-316f-43fe-8d63-abe6ad69532a",
   "metadata": {},
   "outputs": [],
   "source": [
    "table = overturemaps.record_batch_reader(\"building\", bbox1).read_all()\n",
    "\n",
    "# Temporarily required as of Lonboard 0.8 to avoid a Lonboard bug\n",
    "table = table.combine_chunks()"
   ]
  },
  {
   "cell_type": "code",
   "execution_count": 20,
   "id": "5153da9b-fa4b-4bd1-80f5-6af40201e600",
   "metadata": {},
   "outputs": [
    {
     "data": {
      "text/plain": [
       "0"
      ]
     },
     "execution_count": 20,
     "metadata": {},
     "output_type": "execute_result"
    }
   ],
   "source": [
    "table.num_rows"
   ]
  },
  {
   "cell_type": "markdown",
   "id": "ef2b5986-7c00-4adc-9624-79e0896a36f1",
   "metadata": {},
   "source": [
    "Let's color the buildings by their heights. First, convert the \"height\" column to a numpy array, then replace any null values with 1"
   ]
  },
  {
   "cell_type": "code",
   "execution_count": 14,
   "id": "75d7d95b-97f6-4944-b2bd-d0bfad2af70b",
   "metadata": {},
   "outputs": [],
   "source": [
    "heights = table[\"height\"].to_numpy()\n",
    "heights = np.nan_to_num(heights, nan=1)"
   ]
  },
  {
   "cell_type": "markdown",
   "id": "42b480a2-ccc4-4e81-a4ed-40d979da1d5f",
   "metadata": {},
   "source": [
    "Building heights tend to scale non-linearly. That is, the vast majority of buildings are relatively low, but a few buildings are very tall. So that the low buildings aren't completely washed out, we'll use matplotlib's LogNorm to normalize these values according to a log scale."
   ]
  },
  {
   "cell_type": "code",
   "execution_count": 16,
   "id": "78cf2b0b-f648-42ec-bd0c-fcfa1c07a06b",
   "metadata": {},
   "outputs": [
    {
     "ename": "ValueError",
     "evalue": "Geometry type combination is not supported ([])",
     "output_type": "error",
     "traceback": [
      "\u001b[0;31m---------------------------------------------------------------------------\u001b[0m",
      "\u001b[0;31mValueError\u001b[0m                                Traceback (most recent call last)",
      "Cell \u001b[0;32mIn[16], line 1\u001b[0m\n\u001b[0;32m----> 1\u001b[0m layer \u001b[38;5;241m=\u001b[39m \u001b[43mPolygonLayer\u001b[49m\u001b[43m(\u001b[49m\n\u001b[1;32m      2\u001b[0m \u001b[43m    \u001b[49m\u001b[38;5;66;43;03m# Select only a few attribute columns from the table\u001b[39;49;00m\n\u001b[1;32m      3\u001b[0m \u001b[43m    \u001b[49m\u001b[43mtable\u001b[49m\u001b[38;5;241;43m=\u001b[39;49m\u001b[43mtable\u001b[49m\u001b[38;5;241;43m.\u001b[39;49m\u001b[43mselect\u001b[49m\u001b[43m(\u001b[49m\u001b[43m[\u001b[49m\u001b[38;5;124;43m\"\u001b[39;49m\u001b[38;5;124;43mid\u001b[39;49m\u001b[38;5;124;43m\"\u001b[39;49m\u001b[43m,\u001b[49m\u001b[43m \u001b[49m\u001b[38;5;124;43m\"\u001b[39;49m\u001b[38;5;124;43mheight\u001b[39;49m\u001b[38;5;124;43m\"\u001b[39;49m\u001b[43m,\u001b[49m\u001b[43m \u001b[49m\u001b[38;5;124;43m\"\u001b[39;49m\u001b[38;5;124;43mgeometry\u001b[39;49m\u001b[38;5;124;43m\"\u001b[39;49m\u001b[43m,\u001b[49m\u001b[43m \u001b[49m\u001b[38;5;124;43m\"\u001b[39;49m\u001b[38;5;124;43mnames\u001b[39;49m\u001b[38;5;124;43m\"\u001b[39;49m\u001b[43m]\u001b[49m\u001b[43m)\u001b[49m\u001b[43m,\u001b[49m\n\u001b[1;32m      4\u001b[0m \u001b[43m    \u001b[49m\u001b[43mextruded\u001b[49m\u001b[38;5;241;43m=\u001b[39;49m\u001b[38;5;28;43;01mTrue\u001b[39;49;00m\u001b[43m,\u001b[49m\n\u001b[1;32m      5\u001b[0m \u001b[43m    \u001b[49m\u001b[43mget_elevation\u001b[49m\u001b[38;5;241;43m=\u001b[39;49m\u001b[43mheights\u001b[49m\u001b[43m,\u001b[49m\n\u001b[1;32m      6\u001b[0m \u001b[43m)\u001b[49m\n",
      "File \u001b[0;32m/srv/conda/envs/notebook/lib/python3.11/site-packages/lonboard/_layer.py:662\u001b[0m, in \u001b[0;36mPolygonLayer.__init__\u001b[0;34m(self, table, _rows_per_chunk, **kwargs)\u001b[0m\n\u001b[1;32m    655\u001b[0m \u001b[38;5;28;01mdef\u001b[39;00m \u001b[38;5;21m__init__\u001b[39m(\n\u001b[1;32m    656\u001b[0m     \u001b[38;5;28mself\u001b[39m,\n\u001b[1;32m    657\u001b[0m     \u001b[38;5;241m*\u001b[39m,\n\u001b[0;32m   (...)\u001b[0m\n\u001b[1;32m    660\u001b[0m     \u001b[38;5;241m*\u001b[39m\u001b[38;5;241m*\u001b[39mkwargs: Unpack[PolygonLayerKwargs],\n\u001b[1;32m    661\u001b[0m ):\n\u001b[0;32m--> 662\u001b[0m     \u001b[38;5;28;43msuper\u001b[39;49m\u001b[43m(\u001b[49m\u001b[43m)\u001b[49m\u001b[38;5;241;43m.\u001b[39;49m\u001b[38;5;21;43m__init__\u001b[39;49m\u001b[43m(\u001b[49m\u001b[43mtable\u001b[49m\u001b[38;5;241;43m=\u001b[39;49m\u001b[43mtable\u001b[49m\u001b[43m,\u001b[49m\u001b[43m \u001b[49m\u001b[43m_rows_per_chunk\u001b[49m\u001b[38;5;241;43m=\u001b[39;49m\u001b[43m_rows_per_chunk\u001b[49m\u001b[43m,\u001b[49m\u001b[43m \u001b[49m\u001b[38;5;241;43m*\u001b[39;49m\u001b[38;5;241;43m*\u001b[39;49m\u001b[43mkwargs\u001b[49m\u001b[43m)\u001b[49m\n",
      "File \u001b[0;32m/srv/conda/envs/notebook/lib/python3.11/site-packages/lonboard/_layer.py:273\u001b[0m, in \u001b[0;36mBaseArrowLayer.__init__\u001b[0;34m(self, table, _rows_per_chunk, **kwargs)\u001b[0m\n\u001b[1;32m    270\u001b[0m     table \u001b[38;5;241m=\u001b[39m pa\u001b[38;5;241m.\u001b[39mtable(table)\n\u001b[1;32m    272\u001b[0m table \u001b[38;5;241m=\u001b[39m remove_extension_classes(table)\n\u001b[0;32m--> 273\u001b[0m table \u001b[38;5;241m=\u001b[39m \u001b[43mparse_wkb_table\u001b[49m\u001b[43m(\u001b[49m\u001b[43mtable\u001b[49m\u001b[43m)\u001b[49m\n\u001b[1;32m    275\u001b[0m \u001b[38;5;66;03m# Reproject table to WGS84 if needed\u001b[39;00m\n\u001b[1;32m    276\u001b[0m \u001b[38;5;66;03m# Note this must happen before calculating the default viewport\u001b[39;00m\n\u001b[1;32m    277\u001b[0m table \u001b[38;5;241m=\u001b[39m reproject_table(table, to_crs\u001b[38;5;241m=\u001b[39mOGC_84)\n",
      "File \u001b[0;32m/srv/conda/envs/notebook/lib/python3.11/site-packages/lonboard/_geoarrow/parse_wkb.py:33\u001b[0m, in \u001b[0;36mparse_wkb_table\u001b[0;34m(table)\u001b[0m\n\u001b[1;32m     31\u001b[0m     extension_type_name \u001b[38;5;241m=\u001b[39m field\u001b[38;5;241m.\u001b[39mmetadata\u001b[38;5;241m.\u001b[39mget(\u001b[38;5;124mb\u001b[39m\u001b[38;5;124m\"\u001b[39m\u001b[38;5;124mARROW:extension:name\u001b[39m\u001b[38;5;124m\"\u001b[39m)\n\u001b[1;32m     32\u001b[0m     \u001b[38;5;28;01mif\u001b[39;00m extension_type_name \u001b[38;5;129;01min\u001b[39;00m wkb_names:\n\u001b[0;32m---> 33\u001b[0m         new_field, new_column \u001b[38;5;241m=\u001b[39m \u001b[43mparse_wkb_column\u001b[49m\u001b[43m(\u001b[49m\u001b[43mfield\u001b[49m\u001b[43m,\u001b[49m\u001b[43m \u001b[49m\u001b[43mcolumn\u001b[49m\u001b[43m)\u001b[49m\n\u001b[1;32m     34\u001b[0m         table \u001b[38;5;241m=\u001b[39m table\u001b[38;5;241m.\u001b[39mset_column(field_idx, new_field, new_column)\n\u001b[1;32m     36\u001b[0m \u001b[38;5;28;01mreturn\u001b[39;00m table\n",
      "File \u001b[0;32m/srv/conda/envs/notebook/lib/python3.11/site-packages/lonboard/_geoarrow/parse_wkb.py:84\u001b[0m, in \u001b[0;36mparse_wkb_column\u001b[0;34m(field, column)\u001b[0m\n\u001b[1;32m     81\u001b[0m \u001b[38;5;66;03m# We call shapely.from_wkb on the _entire column_ so that we don't get mixed type\u001b[39;00m\n\u001b[1;32m     82\u001b[0m \u001b[38;5;66;03m# arrays in each column.\u001b[39;00m\n\u001b[1;32m     83\u001b[0m shapely_arr \u001b[38;5;241m=\u001b[39m shapely\u001b[38;5;241m.\u001b[39mfrom_wkb(column)\n\u001b[0;32m---> 84\u001b[0m new_field, geom_arr \u001b[38;5;241m=\u001b[39m \u001b[43mconstruct_geometry_array\u001b[49m\u001b[43m(\u001b[49m\n\u001b[1;32m     85\u001b[0m \u001b[43m    \u001b[49m\u001b[43mshapely_arr\u001b[49m\u001b[43m,\u001b[49m\n\u001b[1;32m     86\u001b[0m \u001b[43m    \u001b[49m\u001b[43mcrs_str\u001b[49m\u001b[38;5;241;43m=\u001b[39;49m\u001b[43mcrs_str\u001b[49m\u001b[43m,\u001b[49m\n\u001b[1;32m     87\u001b[0m \u001b[43m\u001b[49m\u001b[43m)\u001b[49m\n\u001b[1;32m     89\u001b[0m \u001b[38;5;66;03m# Slice full array to maintain chunking\u001b[39;00m\n\u001b[1;32m     90\u001b[0m chunk_offsets \u001b[38;5;241m=\u001b[39m [\u001b[38;5;241m0\u001b[39m]\n",
      "File \u001b[0;32m/srv/conda/envs/notebook/lib/python3.11/site-packages/lonboard/_geoarrow/extension_types.py:292\u001b[0m, in \u001b[0;36mconstruct_geometry_array\u001b[0;34m(shapely_arr, include_z, field_name, crs_str)\u001b[0m\n\u001b[1;32m    282\u001b[0m \u001b[38;5;28;01mdef\u001b[39;00m \u001b[38;5;21mconstruct_geometry_array\u001b[39m(\n\u001b[1;32m    283\u001b[0m     shapely_arr: NDArray[np\u001b[38;5;241m.\u001b[39mobject_],\n\u001b[1;32m    284\u001b[0m     include_z: Optional[\u001b[38;5;28mbool\u001b[39m] \u001b[38;5;241m=\u001b[39m \u001b[38;5;28;01mNone\u001b[39;00m,\n\u001b[0;32m   (...)\u001b[0m\n\u001b[1;32m    290\u001b[0m     \u001b[38;5;66;03m# extension metadata on the field without instantiating extension types into the\u001b[39;00m\n\u001b[1;32m    291\u001b[0m     \u001b[38;5;66;03m# global pyarrow registry\u001b[39;00m\n\u001b[0;32m--> 292\u001b[0m     geom_type, coords, offsets \u001b[38;5;241m=\u001b[39m \u001b[43mshapely\u001b[49m\u001b[38;5;241;43m.\u001b[39;49m\u001b[43mto_ragged_array\u001b[49m\u001b[43m(\u001b[49m\n\u001b[1;32m    293\u001b[0m \u001b[43m        \u001b[49m\u001b[43mshapely_arr\u001b[49m\u001b[43m,\u001b[49m\u001b[43m \u001b[49m\u001b[43minclude_z\u001b[49m\u001b[38;5;241;43m=\u001b[39;49m\u001b[43minclude_z\u001b[49m\n\u001b[1;32m    294\u001b[0m \u001b[43m    \u001b[49m\u001b[43m)\u001b[49m\n\u001b[1;32m    296\u001b[0m     \u001b[38;5;28;01mif\u001b[39;00m coords\u001b[38;5;241m.\u001b[39mshape[\u001b[38;5;241m-\u001b[39m\u001b[38;5;241m1\u001b[39m] \u001b[38;5;241m==\u001b[39m \u001b[38;5;241m2\u001b[39m:\n\u001b[1;32m    297\u001b[0m         dims \u001b[38;5;241m=\u001b[39m CoordinateDimension\u001b[38;5;241m.\u001b[39mXY\n",
      "File \u001b[0;32m/srv/conda/envs/notebook/lib/python3.11/site-packages/shapely/_ragged_array.py:291\u001b[0m, in \u001b[0;36mto_ragged_array\u001b[0;34m(geometries, include_z)\u001b[0m\n\u001b[1;32m    286\u001b[0m         \u001b[38;5;28;01mraise\u001b[39;00m \u001b[38;5;167;01mValueError\u001b[39;00m(\n\u001b[1;32m    287\u001b[0m             \u001b[38;5;124m\"\u001b[39m\u001b[38;5;124mGeometry type combination is not supported \u001b[39m\u001b[38;5;124m\"\u001b[39m\n\u001b[1;32m    288\u001b[0m             \u001b[38;5;124mf\u001b[39m\u001b[38;5;124m\"\u001b[39m\u001b[38;5;124m(\u001b[39m\u001b[38;5;132;01m{\u001b[39;00m[GeometryType(t)\u001b[38;5;241m.\u001b[39mname\u001b[38;5;250m \u001b[39m\u001b[38;5;28;01mfor\u001b[39;00m\u001b[38;5;250m \u001b[39mt\u001b[38;5;250m \u001b[39m\u001b[38;5;129;01min\u001b[39;00m\u001b[38;5;250m \u001b[39mgeom_types]\u001b[38;5;132;01m}\u001b[39;00m\u001b[38;5;124m)\u001b[39m\u001b[38;5;124m\"\u001b[39m\n\u001b[1;32m    289\u001b[0m         )\n\u001b[1;32m    290\u001b[0m \u001b[38;5;28;01melse\u001b[39;00m:\n\u001b[0;32m--> 291\u001b[0m     \u001b[38;5;28;01mraise\u001b[39;00m \u001b[38;5;167;01mValueError\u001b[39;00m(\n\u001b[1;32m    292\u001b[0m         \u001b[38;5;124m\"\u001b[39m\u001b[38;5;124mGeometry type combination is not supported \u001b[39m\u001b[38;5;124m\"\u001b[39m\n\u001b[1;32m    293\u001b[0m         \u001b[38;5;124mf\u001b[39m\u001b[38;5;124m\"\u001b[39m\u001b[38;5;124m(\u001b[39m\u001b[38;5;132;01m{\u001b[39;00m[GeometryType(t)\u001b[38;5;241m.\u001b[39mname\u001b[38;5;250m \u001b[39m\u001b[38;5;28;01mfor\u001b[39;00m\u001b[38;5;250m \u001b[39mt\u001b[38;5;250m \u001b[39m\u001b[38;5;129;01min\u001b[39;00m\u001b[38;5;250m \u001b[39mgeom_types]\u001b[38;5;132;01m}\u001b[39;00m\u001b[38;5;124m)\u001b[39m\u001b[38;5;124m\"\u001b[39m\n\u001b[1;32m    294\u001b[0m     )\n\u001b[1;32m    296\u001b[0m \u001b[38;5;28;01mreturn\u001b[39;00m typ, coords, offsets\n",
      "\u001b[0;31mValueError\u001b[0m: Geometry type combination is not supported ([])"
     ]
    }
   ],
   "source": [
    "layer = PolygonLayer(\n",
    "    # Select only a few attribute columns from the table\n",
    "    table=table.select([\"id\", \"height\", \"geometry\", \"names\"]),\n",
    "    extruded=True,\n",
    "    get_elevation=heights,\n",
    ")"
   ]
  },
  {
   "cell_type": "code",
   "execution_count": null,
   "id": "a74038ee-1c03-42d8-827e-107e5f0f6c96",
   "metadata": {},
   "outputs": [],
   "source": []
  }
 ],
 "metadata": {
  "kernelspec": {
   "display_name": "Python 3 (ipykernel)",
   "language": "python",
   "name": "python3"
  },
  "language_info": {
   "codemirror_mode": {
    "name": "ipython",
    "version": 3
   },
   "file_extension": ".py",
   "mimetype": "text/x-python",
   "name": "python",
   "nbconvert_exporter": "python",
   "pygments_lexer": "ipython3",
   "version": "3.11.8"
  }
 },
 "nbformat": 4,
 "nbformat_minor": 5
}
