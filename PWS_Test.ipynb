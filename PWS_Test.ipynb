{
  "nbformat": 4,
  "nbformat_minor": 0,
  "metadata": {
    "colab": {
      "provenance": [],
      "authorship_tag": "ABX9TyOjg5eQQ9upxCDGsPBRaKZ0",
      "include_colab_link": true
    },
    "kernelspec": {
      "name": "python3",
      "display_name": "Python 3"
    },
    "language_info": {
      "name": "python"
    }
  },
  "cells": [
    {
      "cell_type": "markdown",
      "metadata": {
        "id": "view-in-github",
        "colab_type": "text"
      },
      "source": [
        "<a href=\"https://colab.research.google.com/github/milver/Experiments/blob/main/PWS_Test.ipynb\" target=\"_parent\"><img src=\"https://colab.research.google.com/assets/colab-badge.svg\" alt=\"Open In Colab\"/></a>"
      ]
    },
    {
      "cell_type": "markdown",
      "source": [
        "## Wunderground PWS Stations test"
      ],
      "metadata": {
        "id": "FglFYnvVt2gF"
      }
    },
    {
      "cell_type": "markdown",
      "source": [
        "### Dependencies"
      ],
      "metadata": {
        "id": "H0zqMe5SuKUu"
      }
    },
    {
      "cell_type": "code",
      "source": [
        "from bs4 import BeautifulSoup as bs\n",
        "import requests\n",
        "import math\n",
        "import re"
      ],
      "metadata": {
        "id": "fcG6vd_uuHHs"
      },
      "execution_count": null,
      "outputs": []
    },
    {
      "cell_type": "markdown",
      "source": [
        "### Functions"
      ],
      "metadata": {
        "id": "5X_UgTqguS00"
      }
    },
    {
      "cell_type": "code",
      "source": [
        "# @title\n",
        "def scrape(station, units):\n",
        "  USER_AGENT = \"Mozilla/5.0 (X11; Linux x86_64) AppleWebKit/537.36 (KHTML, like Gecko) Chrome/44.0.2403.157 Safari/537.36\"\n",
        "  LANGUAGE = \"en-US,en;q=0.5\"\n",
        "  URL = \"https://www.wunderground.com/dashboard/pws/\"\n",
        "\n",
        "  try:\n",
        "      session = requests.Session()\n",
        "      session.headers[\"User-Agent\"] = USER_AGENT\n",
        "      session.headers[\"Accept-Language\"] = LANGUAGE\n",
        "      session.headers[\"Content-Language\"] = LANGUAGE\n",
        "      html = session.get(URL + station[\"id\"])\n",
        "\n",
        "      soup = bs(html.text, \"html.parser\")\n",
        "  except:\n",
        "      print(\"error\")\n",
        "      return None\n",
        "  data = {}\n",
        "\n",
        "  # if (\n",
        "  #     soup.findAll(\"span\", attrs={\"_ngcontent-app-root-c173\": \"\"})[21].text\n",
        "  #     == \"Online\"\n",
        "  # ):\n",
        "  # data = {}\n",
        "\n",
        "  # Last updated value\n",
        "  # data[\"LAST_UPDATED\"] = soup.findAll(\n",
        "  #     \"span\", attrs={\"class\": \"ng-star-inserted\"}\n",
        "  # )[0].text\n",
        "\n",
        "  data[\"LAST_UPDATED\"] = soup.findAll(\n",
        "      \"span\", attrs={\"class\": \"ng-star-inserted\"}, string=re.compile(\"updated\")\n",
        "  )[0].text\n",
        "  print(soup.findAll(\n",
        "      \"span\", attrs={\"class\": \"ng-star-inserted\"}, string=re.compile(\"updated\")\n",
        "  )[0].text)\n",
        "  strings = data[\"LAST_UPDATED\"].split()\n",
        "\n",
        "\n",
        "\n",
        "  if (strings[0] == \"(updated\") and (strings[3] == \"ago)\"):\n",
        "      value = int(strings[1])\n",
        "\n",
        "      if (value >= 0) and (value <= 60):\n",
        "          if strings[2][0:6] == \"second\":\n",
        "              data[\"LAST_UPDATED\"] = 1 / value\n",
        "\n",
        "          elif strings[2][0:6] == \"minute\":\n",
        "              data[\"LAST_UPDATED\"] = 1 / (value * 60)\n",
        "\n",
        "          elif strings[2][0:4] == \"hour\":\n",
        "              if (value >= 0) and (value <= 24):\n",
        "                  data[\"LAST_UPDATED\"] = 1 / (value * 3600)\n",
        "\n",
        "              else:\n",
        "                  return None\n",
        "\n",
        "          else:\n",
        "              return None\n",
        "\n",
        "      else:\n",
        "          return None\n",
        "  #print(strings)\n",
        "  # Get Temperature\n",
        "  if \"temp\" in station[\"parameters\"]:\n",
        "      data[\"temp\"] = soup.find(\"span\", attrs={\"class\": \"wu-value\"})\n",
        "      data[\"temp\"] = round(float(data[\"temp\"].text))\n",
        "\n",
        "      if units[\"temp\"] == \"c\":\n",
        "          data[\"temp\"] = round((data[\"temp\"] - 32) * (5 / 9), 1)\n",
        "  #print(data[\"temp\"])\n",
        "  # Get Wind Speed\n",
        "  if \"wind_speed\" in station[\"parameters\"]:\n",
        "      data[\"wind_speed\"] = soup.findAll(\"span\", attrs={\"class\": \"wu-value\"})\n",
        "      data[\"wind_speed\"] = round(float(data[\"wind_speed\"][2].text), 1)\n",
        "\n",
        "      if units[\"speed\"] == \"kmph\":\n",
        "          data[\"wind_speed\"] = round(data[\"wind_speed\"] * 1.6, 1)\n",
        "\n",
        "      elif units[\"speed\"] == \"mps\":\n",
        "          data[\"wind_speed\"] = round(data[\"wind_speed\"] * (4 / 9), 1)\n",
        "\n",
        "  # Get Wind Gust\n",
        "  if \"wind_gust\" in station[\"parameters\"]:\n",
        "      data[\"wind_gust\"] = soup.findAll(\"span\", attrs={\"class\": \"wu-value\"})\n",
        "      data[\"wind_gust\"] = round(float(data[\"wind_gust\"][3].text), 1)\n",
        "\n",
        "      if units[\"speed\"] == \"kmph\":\n",
        "          data[\"wind_gust\"] = round(data[\"wind_gust\"] * 1.6, 1)\n",
        "\n",
        "      elif units[\"speed\"] == \"mps\":\n",
        "          data[\"wind_gust\"] = round(data[\"wind_gust\"] * (4 / 9), 1)\n",
        "\n",
        "  # # Get Wind Direction\n",
        "  # if \"wind_direction\" in station[\"parameters\"]:\n",
        "  #     data[\"wind_direction\"] = soup.find(\n",
        "  #         \"span\", attrs={\"class\": \"text-bold\"}\n",
        "  #     ).text\n",
        "\n",
        "  # Get Wind Bearing\n",
        "  if \"wind_bearing\" in station[\"parameters\"]:\n",
        "      data[\"wind_bearing\"] = soup.find(\n",
        "          \"div\", attrs={\"class\": \"arrow-wrapper\"}\n",
        "      )\n",
        "\n",
        "      string_full = ((data[\"wind_bearing\"][\"style\"]).split())[1]\n",
        "      string_start = string_full[0:7]\n",
        "      string_end = string_full[-5:-1]\n",
        "\n",
        "      if (string_start == \"rotate(\") and (string_end == \"deg)\"):\n",
        "          data[\"wind_bearing\"] = int(string_full[7:-5]) - 180\n",
        "      else:\n",
        "          data[\"wind_bearing\"] = None\n",
        "\n",
        "  # Get Precipitation Rate\n",
        "  if \"precip_rate\" in station[\"parameters\"]:\n",
        "      data[\"precip_rate\"] = soup.findAll(\"span\", attrs={\"class\": \"wu-value\"})\n",
        "      data[\"precip_rate\"] = round(float(data[\"precip_rate\"][5].text), 2)\n",
        "\n",
        "      if units[\"precip\"] == \"mm\":\n",
        "          data[\"precip_rate\"] = round(data[\"precip_rate\"] * 25.4, 2)\n",
        "\n",
        "  # Get Precipitation Total\n",
        "  if \"precip_total\" in station[\"parameters\"]:\n",
        "      data[\"precip_total\"] = soup.findAll(\"span\", attrs={\"class\": \"wu-value\"})\n",
        "      data[\"precip_total\"] = round(float(data[\"precip_total\"][8].text), 2)\n",
        "\n",
        "      if units[\"precip\"] == \"mm\":\n",
        "          data[\"precip_total\"] = round(data[\"precip_total\"] * 25.4, 2)\n",
        "\n",
        "  # Get Pressure\n",
        "  if \"pressure\" in station[\"parameters\"]:\n",
        "      data[\"pressure\"] = soup.findAll(\"span\", attrs={\"class\": \"wu-value\"})\n",
        "      data[\"pressure\"] = round(float(data[\"pressure\"][6].text), 2)\n",
        "\n",
        "      if units[\"pressure\"] == \"hpa\":\n",
        "          data[\"pressure\"] = round(data[\"pressure\"] * 33.86, 2)\n",
        "\n",
        "  # Get Humidity\n",
        "  if \"humidity\" in station[\"parameters\"]:\n",
        "      data[\"humidity\"] = soup.findAll(\"span\", attrs={\"class\": \"wu-value\"})\n",
        "      data[\"humidity\"] = round(float(data[\"humidity\"][7].text))\n",
        "\n",
        "  # Get UV Index\n",
        "  if \"uv_index\" in station[\"parameters\"]:\n",
        "      data[\"uv_index\"] = soup.findAll(\"span\", attrs={\"class\": \"wu-value\"})\n",
        "      data[\"uv_index\"] = round(float(data[\"uv_index\"][9].text))\n",
        "\n",
        "  # Get Solar Radiation\n",
        "  if \"radiation\" in station[\"parameters\"]:\n",
        "      data[\"radiation\"] = soup.findAll(\n",
        "          \"div\", attrs={\"class\": \"weather__text\"}\n",
        "      )\n",
        "      strings = data[\"radiation\"][-1].text.split()\n",
        "\n",
        "      if strings[1][-8:-3] == \"watts\":\n",
        "          data[\"radiation\"] = round(float(strings[0]), 1)\n",
        "      else:\n",
        "          data[\"radiation\"] = None\n",
        "\n",
        "  station[\"data\"] = data\n",
        "  return station\n"
      ],
      "metadata": {
        "id": "4erXkWUgoa7p"
      },
      "execution_count": null,
      "outputs": []
    },
    {
      "cell_type": "code",
      "source": [
        "# @title\n",
        "def process(config):\n",
        "    stations = []\n",
        "    avg_values = {}\n",
        "    for station in config[\"stations\"]:\n",
        "        stations.append(scrape(station, config[\"units\"]))\n",
        "\n",
        "    # Get average values, except wind bearing and wind direction\n",
        "    for parameter in [\n",
        "        \"temp\",\n",
        "        \"wind_speed\",\n",
        "        \"wind_gust\",\n",
        "        \"pressure\",\n",
        "        \"humidity\",\n",
        "        \"precip_rate\",\n",
        "        \"precip_total\",\n",
        "        \"uv_index\",\n",
        "        \"radiation\",\n",
        "    ]:\n",
        "        last_updated_total = 0\n",
        "        for station in stations:\n",
        "            if parameter in station[\"data\"] and station[\"data\"][parameter] != None:\n",
        "                last_updated_total += station[\"data\"][\"LAST_UPDATED\"]\n",
        "\n",
        "        avg_values[parameter] = 0\n",
        "        for station in stations:\n",
        "            if parameter in station[\"data\"] and station[\"data\"][parameter] != None:\n",
        "                last_updated_weight = (\n",
        "                    station[\"data\"][\"LAST_UPDATED\"] / last_updated_total\n",
        "                )\n",
        "                avg_values[parameter] += (\n",
        "                    last_updated_weight * station[\"data\"][parameter]\n",
        "                )\n",
        "\n",
        "        avg_values[parameter] = round(avg_values[parameter], 2)\n",
        "\n",
        "    # Get average wind bearing\n",
        "    # winds = []\n",
        "    # wind_vectors = []\n",
        "    # for station in stations:\n",
        "    #     if (\n",
        "    #         \"wind_bearing\" in station[\"data\"]\n",
        "    #         and station[\"data\"][\"wind_bearing\"] != None\n",
        "    #     ):\n",
        "    #         winds.append(\n",
        "    #             (station[\"data\"][\"wind_bearing\"], station[\"data\"][\"wind_speed\"])\n",
        "    #         )\n",
        "\n",
        "    # for i, wind in enumerate(winds):\n",
        "    #     wind_vectors.append([None, None])\n",
        "    #     wind_vectors[i][0] = math.sin(math.radians(wind[0])) * wind[1]\n",
        "    #     wind_vectors[i][1] = math.cos(math.radians(wind[0])) * wind[1]\n",
        "\n",
        "    # avg_x, avg_y = 0, 0\n",
        "    # for wind_vector in wind_vectors:\n",
        "    #     avg_x += wind_vector[0]\n",
        "    #     avg_y += wind_vector[1]\n",
        "\n",
        "    # avg_values[\"wind_bearing\"] = round(math.degrees(math.atan2(avg_x, avg_y)))\n",
        "    # avg_values[\"wind_speed\"] = round(\n",
        "    #     math.sqrt(avg_x ** 2 + avg_y ** 2) / len(wind_vectors), 2\n",
        "    # )\n",
        "\n",
        "    # if avg_values[\"wind_bearing\"] < 0:\n",
        "    #     avg_values[\"wind_bearing\"] += 360\n",
        "\n",
        "    return avg_values"
      ],
      "metadata": {
        "id": "Mb43Ue2KuSDs"
      },
      "execution_count": null,
      "outputs": []
    },
    {
      "cell_type": "markdown",
      "source": [
        "### Config"
      ],
      "metadata": {
        "id": "lVPaRF1bu172"
      }
    },
    {
      "cell_type": "code",
      "source": [
        "# @title\n",
        "if __name__ == \"__main__\":\n",
        "    config = {\n",
        "        \"units\": {\n",
        "            \"temp\": \"F\",\n",
        "            \"pressure\": \"hpa\",\n",
        "            \"speed\": \"mph\",\n",
        "            \"precip\": \"mm\",\n",
        "        },\n",
        "        \"stations\": [\n",
        "            {\n",
        "                \"id\": \"KVAASHBU142\",\n",
        "                \"parameters\": [\n",
        "                    \"temp\",\n",
        "                    \"wind_speed\",\n",
        "                    \"wind_gust\",\n",
        "                    \"wind_bearing\",\n",
        "                    \"pressure\",\n",
        "                    \"humidity\",\n",
        "                    \"precip_rate\",\n",
        "                    \"precip_total\",\n",
        "                    \"uv_index\",\n",
        "                    \"radiation\",\n",
        "                ],\n",
        "            },\n",
        "            {\n",
        "                \"id\": \"KVABROAD56\",\n",
        "                \"parameters\": [\n",
        "                    \"temp\",\n",
        "                    \"wind_speed\",\n",
        "                    \"wind_gust\",\n",
        "                    \"wind_bearing\",\n",
        "                    \"pressure\",\n",
        "                    \"humidity\",\n",
        "                    \"precip_rate\",\n",
        "                    \"precip_total\",\n",
        "                    \"uv_index\",\n",
        "                    \"radiation\",\n",
        "                ],\n",
        "            },\n",
        "            {\n",
        "                \"id\": \"KVAASHBU115\",\n",
        "                \"parameters\": [\n",
        "                    \"temp\",\n",
        "                    \"wind_speed\",\n",
        "                    \"wind_gust\",\n",
        "                    \"wind_bearing\",\n",
        "                    \"pressure\",\n",
        "                    \"humidity\",\n",
        "                    \"precip_rate\",\n",
        "                    \"precip_total\",\n",
        "                ],\n",
        "            },\n",
        "        ],\n",
        "    }"
      ],
      "metadata": {
        "id": "kEEJe8nRu-Od"
      },
      "execution_count": null,
      "outputs": []
    },
    {
      "cell_type": "markdown",
      "source": [
        "### Run"
      ],
      "metadata": {
        "id": "ywdEDNGvvKP8"
      }
    },
    {
      "cell_type": "code",
      "source": [
        "for k, v in process(config).items():\n",
        "    print(f\"{k}\\t{v}\")"
      ],
      "metadata": {
        "colab": {
          "base_uri": "https://localhost:8080/"
        },
        "id": "_RuD3_F9vIxn",
        "outputId": "bc07293b-51b4-4424-bd8a-8104e9e21e3e"
      },
      "execution_count": null,
      "outputs": [
        {
          "output_type": "stream",
          "name": "stdout",
          "text": [
            "(updated 3 minutes ago)\n",
            "(updated 12 seconds ago)\n",
            "(updated 14 seconds ago)\n",
            "temp\t64.0\n",
            "wind_speed\t73.0\n",
            "wind_gust\t58.0\n",
            "pressure\t2659.28\n",
            "humidity\t78.93\n",
            "precip_rate\t1524.0\n",
            "precip_total\t65.2\n",
            "uv_index\t4.88\n",
            "radiation\t876.21\n"
          ]
        }
      ]
    },
    {
      "cell_type": "code",
      "source": [
        "print()"
      ],
      "metadata": {
        "id": "_YLz60yvrlOa"
      },
      "execution_count": null,
      "outputs": []
    }
  ]
}