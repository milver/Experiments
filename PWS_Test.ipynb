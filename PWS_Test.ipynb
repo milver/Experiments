{
  "nbformat": 4,
  "nbformat_minor": 0,
  "metadata": {
    "colab": {
      "provenance": [],
      "authorship_tag": "ABX9TyMf6ZtP940DfSjAs5uK1Kax",
      "include_colab_link": true
    },
    "kernelspec": {
      "name": "python3",
      "display_name": "Python 3"
    },
    "language_info": {
      "name": "python"
    }
  },
  "cells": [
    {
      "cell_type": "markdown",
      "metadata": {
        "id": "view-in-github",
        "colab_type": "text"
      },
      "source": [
        "<a href=\"https://colab.research.google.com/github/milver/Experiments/blob/main/PWS_Test.ipynb\" target=\"_parent\"><img src=\"https://colab.research.google.com/assets/colab-badge.svg\" alt=\"Open In Colab\"/></a>"
      ]
    },
    {
      "cell_type": "markdown",
      "source": [
        "## Wunderground PWS Stations test"
      ],
      "metadata": {
        "id": "FglFYnvVt2gF"
      }
    },
    {
      "cell_type": "markdown",
      "source": [
        "### Dependencies"
      ],
      "metadata": {
        "id": "H0zqMe5SuKUu"
      }
    },
    {
      "cell_type": "code",
      "source": [
        "from bs4 import BeautifulSoup as bs\n",
        "import requests\n",
        "import math\n",
        "import re"
      ],
      "metadata": {
        "id": "fcG6vd_uuHHs"
      },
      "execution_count": 34,
      "outputs": []
    },
    {
      "cell_type": "markdown",
      "source": [
        "### Functions"
      ],
      "metadata": {
        "id": "5X_UgTqguS00"
      }
    },
    {
      "cell_type": "code",
      "source": [
        "# @title\n",
        "def scrape(station, units):\n",
        "  USER_AGENT = \"Mozilla/5.0 (X11; Linux x86_64) AppleWebKit/537.36 (KHTML, like Gecko) Chrome/44.0.2403.157 Safari/537.36\"\n",
        "  LANGUAGE = \"en-US,en;q=0.5\"\n",
        "  URL = \"https://www.wunderground.com/dashboard/pws/\"\n",
        "\n",
        "  try:\n",
        "      session = requests.Session()\n",
        "      session.headers[\"User-Agent\"] = USER_AGENT\n",
        "      session.headers[\"Accept-Language\"] = LANGUAGE\n",
        "      session.headers[\"Content-Language\"] = LANGUAGE\n",
        "      html = session.get(URL + station[\"id\"])\n",
        "\n",
        "      soup = bs(html.text, \"html.parser\")\n",
        "  except:\n",
        "      print(\"error\")\n",
        "      return None\n",
        "  data = {}\n",
        "\n",
        "\n",
        "  data[\"LAST_UPDATED\"] = soup.findAll(\n",
        "      \"span\", attrs={\"class\": \"ng-star-inserted\"}, string=re.compile(\"updated\")\n",
        "  )[0].text\n",
        "  print(soup.findAll(\n",
        "      \"span\", attrs={\"class\": \"ng-star-inserted\"}, string=re.compile(\"updated\")\n",
        "  )[0].text)\n",
        "  strings = data[\"LAST_UPDATED\"].split()\n",
        "\n",
        "\n",
        "\n",
        "  if (strings[0] == \"(updated\") and (strings[3] == \"ago)\"):\n",
        "      value = int(strings[1])\n",
        "\n",
        "      if (value >= 0) and (value <= 60):\n",
        "          if strings[2][0:6] == \"second\":\n",
        "              data[\"LAST_UPDATED\"] = 1 / value\n",
        "\n",
        "          elif strings[2][0:6] == \"minute\":\n",
        "              data[\"LAST_UPDATED\"] = 1 / (value * 60)\n",
        "\n",
        "          elif strings[2][0:4] == \"hour\":\n",
        "              if (value >= 0) and (value <= 24):\n",
        "                  data[\"LAST_UPDATED\"] = 1 / (value * 3600)\n",
        "\n",
        "              else:\n",
        "                  return None\n",
        "\n",
        "          else:\n",
        "              return None\n",
        "\n",
        "      else:\n",
        "          return None\n",
        "  #print(strings)\n",
        "  # Get Temperature\n",
        "  if \"temp\" in station[\"parameters\"]:\n",
        "      # data[\"temp\"] = soup.find(\"span\", attrs={\"class\": \"wu-value\"})\n",
        "      data[\"temp\"] = soup.find(attrs={\"class\": \"current-temp\"})\n",
        "      # print(data[\"temp\"].text.replace('°', '').strip())\n",
        "\n",
        "      data[\"temp\"] = round(float(data[\"temp\"].text.replace('°', '').strip()))\n",
        "\n",
        "      if units[\"temp\"] == \"c\":\n",
        "          data[\"temp\"] = round((data[\"temp\"] - 32) * (5 / 9), 1)\n",
        "\n",
        "  # Get Wind Speed\n",
        "  if \"wind_speed\" in station[\"parameters\"]:\n",
        "      data[\"wind_speed\"] = soup.findAll(\"span\", attrs={\"class\": \"wu-value\"})\n",
        "      #data[\"wind_speed\"] = soup.findAll(attrs={\"class\": \"weather__data weather__wind-gust\"})\n",
        "      print(data[\"wind_speed\"])\n",
        "      # the index is subject to change if they change the layout\n",
        "      data[\"wind_speed\"] = round(float(data[\"wind_speed\"][8].text), 1)\n",
        "\n",
        "      if units[\"speed\"] == \"kmph\":\n",
        "          data[\"wind_speed\"] = round(data[\"wind_speed\"] * 1.6, 1)\n",
        "\n",
        "      elif units[\"speed\"] == \"mps\":\n",
        "          data[\"wind_speed\"] = round(data[\"wind_speed\"] * (4 / 9), 1)\n",
        "\n",
        "  # Get Wind Gust\n",
        "  if \"wind_gust\" in station[\"parameters\"]:\n",
        "      data[\"wind_gust\"] = soup.findAll(\"span\", attrs={\"class\": \"wu-value\"})\n",
        "      data[\"wind_gust\"] = round(float(data[\"wind_gust\"][9].text), 1)\n",
        "\n",
        "      if units[\"speed\"] == \"kmph\":\n",
        "          data[\"wind_gust\"] = round(data[\"wind_gust\"] * 1.6, 1)\n",
        "\n",
        "      elif units[\"speed\"] == \"mps\":\n",
        "          data[\"wind_gust\"] = round(data[\"wind_gust\"] * (4 / 9), 1)\n",
        "\n",
        "  # # Get Wind Direction\n",
        "  # if \"wind_direction\" in station[\"parameters\"]:\n",
        "  #     data[\"wind_direction\"] = soup.find(\n",
        "  #         \"span\", attrs={\"class\": \"text-bold\"}\n",
        "  #     ).text\n",
        "\n",
        "  # Get Wind Bearing\n",
        "  # if \"wind_bearing\" in station[\"parameters\"]:\n",
        "  #     data[\"wind_bearing\"] = soup.find(\n",
        "  #         \"div\", attrs={\"class\": \"arrow-wrapper\"}\n",
        "  #     )\n",
        "\n",
        "  #     string_full = ((data[\"wind_bearing\"][\"style\"]).split())[1]\n",
        "  #     string_start = string_full[0:7]\n",
        "  #     string_end = string_full[-5:-1]\n",
        "\n",
        "  #     if (string_start == \"rotate(\") and (string_end == \"deg)\"):\n",
        "  #         data[\"wind_bearing\"] = int(string_full[7:-5]) - 180\n",
        "  #     else:\n",
        "  #         data[\"wind_bearing\"] = None\n",
        "\n",
        "  # Get Precipitation Rate\n",
        "  if \"precip_rate\" in station[\"parameters\"]:\n",
        "      data[\"precip_rate\"] = soup.findAll(\"span\", attrs={\"class\": \"wu-value\"})\n",
        "      data[\"precip_rate\"] = round(float(data[\"precip_rate\"][11].text), 2)\n",
        "\n",
        "      if units[\"precip\"] == \"mm\":\n",
        "          data[\"precip_rate\"] = round(data[\"precip_rate\"] * 25.4, 2)\n",
        "\n",
        "  # Get Precipitation Total\n",
        "  if \"precip_total\" in station[\"parameters\"]:\n",
        "      data[\"precip_total\"] = soup.findAll(\"span\", attrs={\"class\": \"wu-value\"})\n",
        "      data[\"precip_total\"] = round(float(data[\"precip_total\"][14].text), 2)\n",
        "\n",
        "      if units[\"precip\"] == \"mm\":\n",
        "          data[\"precip_total\"] = round(data[\"precip_total\"] * 25.4, 2)\n",
        "\n",
        "  # Get Pressure\n",
        "  if \"pressure\" in station[\"parameters\"]:\n",
        "      data[\"pressure\"] = soup.findAll(\"span\", attrs={\"class\": \"wu-value\"})\n",
        "      data[\"pressure\"] = round(float(data[\"pressure\"][12].text), 2)\n",
        "\n",
        "      if units[\"pressure\"] == \"hpa\":\n",
        "          data[\"pressure\"] = round(data[\"pressure\"] * 33.8637526, 2)\n",
        "\n",
        "  # Get Humidity\n",
        "  if \"humidity\" in station[\"parameters\"]:\n",
        "      data[\"humidity\"] = soup.findAll(\"span\", attrs={\"class\": \"wu-value\"})\n",
        "      data[\"humidity\"] = round(float(data[\"humidity\"][13].text))\n",
        "\n",
        "  # Get UV Index\n",
        "  if \"uv_index\" in station[\"parameters\"]:\n",
        "      data[\"uv_index\"] = soup.findAll(\"span\", attrs={\"class\": \"wu-value\"})\n",
        "      data[\"uv_index\"] = round(float(data[\"uv_index\"][15].text))\n",
        "\n",
        "  # # Get Solar Radiation\n",
        "  # if \"radiation\" in station[\"parameters\"]:\n",
        "  #     data[\"radiation\"] = soup.findAll(\n",
        "  #         \"div\", attrs={\"class\": \"weather__text\"}\n",
        "  #     )\n",
        "  #     strings = data[\"radiation\"][-1].text.split()\n",
        "\n",
        "  #     if strings[1][-8:-3] == \"watts\":\n",
        "  #         data[\"radiation\"] = round(float(strings[0]), 1)\n",
        "  #     else:\n",
        "  #         data[\"radiation\"] = None\n",
        "\n",
        "  station[\"data\"] = data\n",
        "  return station\n"
      ],
      "metadata": {
        "id": "4erXkWUgoa7p"
      },
      "execution_count": 35,
      "outputs": []
    },
    {
      "cell_type": "code",
      "source": [
        "# @title\n",
        "def process(config):\n",
        "    stations = []\n",
        "    avg_values = {}\n",
        "    for station in config[\"stations\"]:\n",
        "        stations.append(scrape(station, config[\"units\"]))\n",
        "\n",
        "    # Get average values, except wind bearing and wind direction\n",
        "    for parameter in [\n",
        "        \"temp\",\n",
        "        \"wind_speed\",\n",
        "        \"wind_gust\",\n",
        "        \"pressure\",\n",
        "        \"humidity\",\n",
        "        \"precip_rate\",\n",
        "        \"precip_total\",\n",
        "        \"uv_index\",\n",
        "        \"radiation\",\n",
        "    ]:\n",
        "        last_updated_total = 0\n",
        "        for station in stations:\n",
        "            if parameter in station[\"data\"] and station[\"data\"][parameter] != None:\n",
        "                last_updated_total += station[\"data\"][\"LAST_UPDATED\"]\n",
        "\n",
        "        avg_values[parameter] = 0\n",
        "        for station in stations:\n",
        "            if parameter in station[\"data\"] and station[\"data\"][parameter] != None:\n",
        "                last_updated_weight = (\n",
        "                    station[\"data\"][\"LAST_UPDATED\"] / last_updated_total\n",
        "                )\n",
        "                avg_values[parameter] += (\n",
        "                    last_updated_weight * station[\"data\"][parameter]\n",
        "                )\n",
        "\n",
        "        avg_values[parameter] = round(avg_values[parameter], 2)\n",
        "\n",
        "    # Get average wind bearing\n",
        "    # winds = []\n",
        "    # wind_vectors = []\n",
        "    # for station in stations:\n",
        "    #     if (\n",
        "    #         \"wind_bearing\" in station[\"data\"]\n",
        "    #         and station[\"data\"][\"wind_bearing\"] != None\n",
        "    #     ):\n",
        "    #         winds.append(\n",
        "    #             (station[\"data\"][\"wind_bearing\"], station[\"data\"][\"wind_speed\"])\n",
        "    #         )\n",
        "\n",
        "    # for i, wind in enumerate(winds):\n",
        "    #     wind_vectors.append([None, None])\n",
        "    #     wind_vectors[i][0] = math.sin(math.radians(wind[0])) * wind[1]\n",
        "    #     wind_vectors[i][1] = math.cos(math.radians(wind[0])) * wind[1]\n",
        "\n",
        "    # avg_x, avg_y = 0, 0\n",
        "    # for wind_vector in wind_vectors:\n",
        "    #     avg_x += wind_vector[0]\n",
        "    #     avg_y += wind_vector[1]\n",
        "\n",
        "    # avg_values[\"wind_bearing\"] = round(math.degrees(math.atan2(avg_x, avg_y)))\n",
        "    # avg_values[\"wind_speed\"] = round(\n",
        "    #     math.sqrt(avg_x ** 2 + avg_y ** 2) / len(wind_vectors), 2\n",
        "    # )\n",
        "\n",
        "    # if avg_values[\"wind_bearing\"] < 0:\n",
        "    #     avg_values[\"wind_bearing\"] += 360\n",
        "\n",
        "    return avg_values"
      ],
      "metadata": {
        "id": "Mb43Ue2KuSDs"
      },
      "execution_count": 36,
      "outputs": []
    },
    {
      "cell_type": "markdown",
      "source": [
        "### Config"
      ],
      "metadata": {
        "id": "lVPaRF1bu172"
      }
    },
    {
      "cell_type": "code",
      "source": [
        "# @title\n",
        "if __name__ == \"__main__\":\n",
        "    config = {\n",
        "        \"units\": {\n",
        "            \"temp\": \"F\",\n",
        "            \"pressure\": \"hpa\",\n",
        "            \"speed\": \"mph\",\n",
        "            \"precip\": \"in\",\n",
        "        },\n",
        "        \"stations\": [\n",
        "            {\n",
        "                \"id\": \"KVAASHBU142\",\n",
        "                \"parameters\": [\n",
        "                    \"temp\",\n",
        "                    \"wind_speed\",\n",
        "                    \"wind_gust\",\n",
        "                    \"wind_bearing\",\n",
        "                    \"pressure\",\n",
        "                    \"humidity\",\n",
        "                    \"precip_rate\",\n",
        "                    \"precip_total\",\n",
        "                    \"uv_index\",\n",
        "                    \"radiation\",\n",
        "                ],\n",
        "            },\n",
        "            {\n",
        "                \"id\": \"KVABROAD56\",\n",
        "                \"parameters\": [\n",
        "                    \"temp\",\n",
        "                    \"wind_speed\",\n",
        "                    \"wind_gust\",\n",
        "                    \"wind_bearing\",\n",
        "                    \"pressure\",\n",
        "                    \"humidity\",\n",
        "                    \"precip_rate\",\n",
        "                    \"precip_total\",\n",
        "                    \"uv_index\",\n",
        "                    \"radiation\",\n",
        "                ],\n",
        "            },\n",
        "            {\n",
        "                \"id\": \"KVAASHBU115\",\n",
        "                \"parameters\": [\n",
        "                    \"temp\",\n",
        "                    \"wind_speed\",\n",
        "                    \"wind_gust\",\n",
        "                    \"wind_bearing\",\n",
        "                    \"pressure\",\n",
        "                    \"humidity\",\n",
        "                    \"precip_rate\",\n",
        "                    \"precip_total\",\n",
        "                ],\n",
        "            },\n",
        "        ],\n",
        "    }"
      ],
      "metadata": {
        "id": "kEEJe8nRu-Od"
      },
      "execution_count": 37,
      "outputs": []
    },
    {
      "cell_type": "markdown",
      "source": [
        "### Run"
      ],
      "metadata": {
        "id": "ywdEDNGvvKP8"
      }
    },
    {
      "cell_type": "code",
      "source": [
        "for k, v in process(config).items():\n",
        "    print(f\"{k}\\t{v}\")"
      ],
      "metadata": {
        "colab": {
          "base_uri": "https://localhost:8080/"
        },
        "id": "_RuD3_F9vIxn",
        "outputId": "cc4e9f2f-fcae-4543-80a0-2c08834bc5cf"
      },
      "execution_count": 38,
      "outputs": [
        {
          "output_type": "stream",
          "name": "stdout",
          "text": [
            "(updated 3 minutes ago)\n",
            "[<span _ngcontent-sc183=\"\" class=\"wu-value wu-value-to\" style=\"color:;\">64</span>, <span _ngcontent-sc183=\"\" class=\"wu-value wu-value-to\" style=\"color:;\">70</span>, <span _ngcontent-sc183=\"\" class=\"wu-value wu-value-to\" style=\"color:;\">78</span>, <span _ngcontent-sc183=\"\" class=\"wu-value wu-value-to\" style=\"color:;\">61</span>, <span _ngcontent-sc183=\"\" class=\"wu-value wu-value-to\" style=\"color:;\">72</span>, <span _ngcontent-sc183=\"\" class=\"wu-value wu-value-to\" style=\"color:;\">65</span>, <span _ngcontent-sc183=\"\" class=\"wu-value wu-value-to\" style=\"color:;\">70.2</span>, <span _ngcontent-sc183=\"\" class=\"wu-value wu-value-to\" style=\"color:;\">70.6</span>, <span _ngcontent-sc183=\"\" class=\"wu-value wu-value-to\" style=\"color:;\">0.0</span>, <span _ngcontent-sc183=\"\" class=\"wu-value wu-value-to\" style=\"color:;\">0.0</span>, <span _ngcontent-sc183=\"\" class=\"wu-value wu-value-to\" style=\"color:;\">63.0</span>, <span _ngcontent-sc183=\"\" class=\"wu-value wu-value-to\" style=\"color:;\">0.00</span>, <span _ngcontent-sc183=\"\" class=\"wu-value wu-value-to\" style=\"color:;\">29.53</span>, <span _ngcontent-sc183=\"\" class=\"wu-value wu-value-to\" style=\"color:;\">78</span>, <span _ngcontent-sc183=\"\" class=\"wu-value wu-value-to\" style=\"color:;\">0.00</span>, <span _ngcontent-sc183=\"\" class=\"wu-value wu-value-to\" style=\"color:;\">2</span>, <span _ngcontent-sc183=\"\" class=\"wu-value wu-value-to\" style=\"color:;\">63.0</span>, <span _ngcontent-sc183=\"\" class=\"wu-value wu-value-to\" style=\"color:;\">78</span>, <span _ngcontent-sc183=\"\" class=\"wu-value wu-value-to\" style=\"color:;\">0.0</span>, <span _ngcontent-sc183=\"\" class=\"wu-value wu-value-to\" style=\"color:;\">0.0</span>, <span _ngcontent-sc183=\"\" class=\"wu-value wu-value-to\" style=\"color:;\">29.53</span>, <span _ngcontent-sc183=\"\" class=\"wu-value wu-value-to\" style=\"color:;\">0.00</span>, <span _ngcontent-sc183=\"\" class=\"wu-value wu-value-to\" style=\"color:;\">0.00</span>, <span _ngcontent-sc183=\"\" class=\"wu-value wu-value-to\" style=\"color:;\">2</span>, <span _ngcontent-sc183=\"\" class=\"wu-value wu-value-to\" style=\"color:;\">70.7</span>, <span _ngcontent-sc183=\"\" class=\"wu-value wu-value-to\" style=\"color:;\">56.5</span>, <span _ngcontent-sc183=\"\" class=\"wu-value wu-value-to\" style=\"color:;\">63.7</span>, <span _ngcontent-sc183=\"\" class=\"wu-value wu-value-to\" style=\"color:;\">64.7</span>, <span _ngcontent-sc183=\"\" class=\"wu-value wu-value-to\" style=\"color:;\">56.2</span>, <span _ngcontent-sc183=\"\" class=\"wu-value wu-value-to\" style=\"color:;\">60.1</span>, <span _ngcontent-sc183=\"\" class=\"wu-value wu-value-to\" style=\"color:;\">99</span>, <span _ngcontent-sc183=\"\" class=\"wu-value wu-value-to\" style=\"color:;\">75</span>, <span _ngcontent-sc183=\"\" class=\"wu-value wu-value-to\" style=\"color:;\">89</span>, <span _ngcontent-sc183=\"\" class=\"wu-value wu-value-to\" style=\"color:;\">0.00</span>, <span _ngcontent-sc183=\"\" class=\"wu-value wu-value-to\" style=\"color:;\">3.8</span>, <span _ngcontent-sc183=\"\" class=\"wu-value wu-value-to\" style=\"color:;\">0.0</span>, <span _ngcontent-sc183=\"\" class=\"wu-value wu-value-to\" style=\"color:;\">0.4</span>, <span _ngcontent-sc183=\"\" class=\"wu-value wu-value-to\" style=\"color:;\">6.9</span>, <span _ngcontent-sc183=\"\" class=\"wu-value wu-value-to\" style=\"color:;\">0.6</span>, <span _ngcontent-sc183=\"\" class=\"wu-value wu-value-to\" style=\"color:;\">29.57</span>, <span _ngcontent-sc183=\"\" class=\"wu-value wu-value-to\" style=\"color:;\">29.43</span>]\n",
            "(updated 12 seconds ago)\n",
            "[<span _ngcontent-sc183=\"\" class=\"wu-value wu-value-to\" style=\"color:;\">64</span>, <span _ngcontent-sc183=\"\" class=\"wu-value wu-value-to\" style=\"color:;\">70</span>, <span _ngcontent-sc183=\"\" class=\"wu-value wu-value-to\" style=\"color:;\">79</span>, <span _ngcontent-sc183=\"\" class=\"wu-value wu-value-to\" style=\"color:;\">61</span>, <span _ngcontent-sc183=\"\" class=\"wu-value wu-value-to\" style=\"color:;\">72</span>, <span _ngcontent-sc183=\"\" class=\"wu-value wu-value-to\" style=\"color:;\">65</span>, <span _ngcontent-sc183=\"\" class=\"wu-value wu-value-to\" style=\"color:;\">68.9</span>, <span _ngcontent-sc183=\"\" class=\"wu-value wu-value-to\" style=\"color:;\">68.9</span>, <span _ngcontent-sc183=\"\" class=\"wu-value wu-value-to\" style=\"color:;\">0.0</span>, <span _ngcontent-sc183=\"\" class=\"wu-value wu-value-to\" style=\"color:;\">0.0</span>, <span _ngcontent-sc183=\"\" class=\"wu-value wu-value-to\" style=\"color:;\">62.9</span>, <span _ngcontent-sc183=\"\" class=\"wu-value wu-value-to\" style=\"color:;\">0.00</span>, <span _ngcontent-sc183=\"\" class=\"wu-value wu-value-to\" style=\"color:;\">29.86</span>, <span _ngcontent-sc183=\"\" class=\"wu-value wu-value-to\" style=\"color:;\">81</span>, <span _ngcontent-sc183=\"\" class=\"wu-value wu-value-to\" style=\"color:;\">0.00</span>, <span _ngcontent-sc183=\"\" class=\"wu-value wu-value-to\" style=\"color:;\">1</span>, <span _ngcontent-sc183=\"\" class=\"wu-value wu-value-to\" style=\"color:;\">62.9</span>, <span _ngcontent-sc183=\"\" class=\"wu-value wu-value-to\" style=\"color:;\">81</span>, <span _ngcontent-sc183=\"\" class=\"wu-value wu-value-to\" style=\"color:;\">0.0</span>, <span _ngcontent-sc183=\"\" class=\"wu-value wu-value-to\" style=\"color:;\">0.0</span>, <span _ngcontent-sc183=\"\" class=\"wu-value wu-value-to\" style=\"color:;\">29.86</span>, <span _ngcontent-sc183=\"\" class=\"wu-value wu-value-to\" style=\"color:;\">0.00</span>, <span _ngcontent-sc183=\"\" class=\"wu-value wu-value-to\" style=\"color:;\">0.00</span>, <span _ngcontent-sc183=\"\" class=\"wu-value wu-value-to\" style=\"color:;\">1</span>, <span _ngcontent-sc183=\"\" class=\"wu-value wu-value-to\" style=\"color:;\">70.1</span>, <span _ngcontent-sc183=\"\" class=\"wu-value wu-value-to\" style=\"color:;\">58.8</span>, <span _ngcontent-sc183=\"\" class=\"wu-value wu-value-to\" style=\"color:;\">64.5</span>, <span _ngcontent-sc183=\"\" class=\"wu-value wu-value-to\" style=\"color:;\">63.6</span>, <span _ngcontent-sc183=\"\" class=\"wu-value wu-value-to\" style=\"color:;\">57.3</span>, <span _ngcontent-sc183=\"\" class=\"wu-value wu-value-to\" style=\"color:;\">60.0</span>, <span _ngcontent-sc183=\"\" class=\"wu-value wu-value-to\" style=\"color:;\">96</span>, <span _ngcontent-sc183=\"\" class=\"wu-value wu-value-to\" style=\"color:;\">74</span>, <span _ngcontent-sc183=\"\" class=\"wu-value wu-value-to\" style=\"color:;\">86</span>, <span _ngcontent-sc183=\"\" class=\"wu-value wu-value-to\" style=\"color:;\">0.00</span>, <span _ngcontent-sc183=\"\" class=\"wu-value wu-value-to\" style=\"color:;\">3.3</span>, <span _ngcontent-sc183=\"\" class=\"wu-value wu-value-to\" style=\"color:;\">0.0</span>, <span _ngcontent-sc183=\"\" class=\"wu-value wu-value-to\" style=\"color:;\">0.0</span>, <span _ngcontent-sc183=\"\" class=\"wu-value wu-value-to\" style=\"color:;\">3.5</span>, <span _ngcontent-sc183=\"\" class=\"wu-value wu-value-to\" style=\"color:;\">0.0</span>, <span _ngcontent-sc183=\"\" class=\"wu-value wu-value-to\" style=\"color:;\">29.90</span>, <span _ngcontent-sc183=\"\" class=\"wu-value wu-value-to\" style=\"color:;\">29.77</span>]\n",
            "(updated 32 seconds ago)\n",
            "[<span _ngcontent-sc183=\"\" class=\"wu-value wu-value-to\" style=\"color:;\">64</span>, <span _ngcontent-sc183=\"\" class=\"wu-value wu-value-to\" style=\"color:;\">70</span>, <span _ngcontent-sc183=\"\" class=\"wu-value wu-value-to\" style=\"color:;\">79</span>, <span _ngcontent-sc183=\"\" class=\"wu-value wu-value-to\" style=\"color:;\">61</span>, <span _ngcontent-sc183=\"\" class=\"wu-value wu-value-to\" style=\"color:;\">72</span>, <span _ngcontent-sc183=\"\" class=\"wu-value wu-value-to\" style=\"color:;\">65</span>, <span _ngcontent-sc183=\"\" class=\"wu-value wu-value-to\" style=\"color:;\">69.6</span>, <span _ngcontent-sc183=\"\" class=\"wu-value wu-value-to\" style=\"color:;\">69.6</span>, <span _ngcontent-sc183=\"\" class=\"wu-value wu-value-to\" style=\"color:;\">0.0</span>, <span _ngcontent-sc183=\"\" class=\"wu-value wu-value-to\" style=\"color:;\">0.0</span>, <span _ngcontent-sc183=\"\" class=\"wu-value wu-value-to\" style=\"color:;\">63.1</span>, <span _ngcontent-sc183=\"\" class=\"wu-value wu-value-to\" style=\"color:;\">0.00</span>, <span _ngcontent-sc183=\"\" class=\"wu-value wu-value-to\" style=\"color:;\">30.00</span>, <span _ngcontent-sc183=\"\" class=\"wu-value wu-value-to\" style=\"color:;\">80</span>, <span _ngcontent-sc183=\"\" class=\"wu-value wu-value-to\" style=\"color:;\">0.00</span>, <span _ngcontent-sc183=\"\" class=\"wu-value wu-value-to\" style=\"color:;\">0</span>, <span _ngcontent-sc183=\"\" class=\"wu-value wu-value-to\" style=\"color:;\">63.1</span>, <span _ngcontent-sc183=\"\" class=\"wu-value wu-value-to\" style=\"color:;\">80</span>, <span _ngcontent-sc183=\"\" class=\"wu-value wu-value-to\" style=\"color:;\">0.0</span>, <span _ngcontent-sc183=\"\" class=\"wu-value wu-value-to\" style=\"color:;\">0.0</span>, <span _ngcontent-sc183=\"\" class=\"wu-value wu-value-to\" style=\"color:;\">30.00</span>, <span _ngcontent-sc183=\"\" class=\"wu-value wu-value-to\" style=\"color:;\">0.00</span>, <span _ngcontent-sc183=\"\" class=\"wu-value wu-value-to\" style=\"color:;\">0.00</span>, <span _ngcontent-sc183=\"\" class=\"wu-value wu-value-to\" style=\"color:;\">0</span>, <span _ngcontent-sc183=\"\" class=\"wu-value wu-value-to\" style=\"color:;\">71.2</span>, <span _ngcontent-sc183=\"\" class=\"wu-value wu-value-to\" style=\"color:;\">57.4</span>, <span _ngcontent-sc183=\"\" class=\"wu-value wu-value-to\" style=\"color:;\">64.3</span>, <span _ngcontent-sc183=\"\" class=\"wu-value wu-value-to\" style=\"color:;\">63.7</span>, <span _ngcontent-sc183=\"\" class=\"wu-value wu-value-to\" style=\"color:;\">56.8</span>, <span _ngcontent-sc183=\"\" class=\"wu-value wu-value-to\" style=\"color:;\">60.3</span>, <span _ngcontent-sc183=\"\" class=\"wu-value wu-value-to\" style=\"color:;\">99</span>, <span _ngcontent-sc183=\"\" class=\"wu-value wu-value-to\" style=\"color:;\">75</span>, <span _ngcontent-sc183=\"\" class=\"wu-value wu-value-to\" style=\"color:;\">87</span>, <span _ngcontent-sc183=\"\" class=\"wu-value wu-value-to\" style=\"color:;\">0.00</span>, <span _ngcontent-sc183=\"\" class=\"wu-value wu-value-to\" style=\"color:;\">2.9</span>, <span _ngcontent-sc183=\"\" class=\"wu-value wu-value-to\" style=\"color:;\">0.0</span>, <span _ngcontent-sc183=\"\" class=\"wu-value wu-value-to\" style=\"color:;\">0.1</span>, <span _ngcontent-sc183=\"\" class=\"wu-value wu-value-to\" style=\"color:;\">4.5</span>, <span _ngcontent-sc183=\"\" class=\"wu-value wu-value-to\" style=\"color:;\">0.1</span>, <span _ngcontent-sc183=\"\" class=\"wu-value wu-value-to\" style=\"color:;\">30.05</span>, <span _ngcontent-sc183=\"\" class=\"wu-value wu-value-to\" style=\"color:;\">29.90</span>]\n",
            "temp\t69.31\n",
            "wind_speed\t0.0\n",
            "wind_gust\t0.0\n",
            "pressure\t1011.89\n",
            "humidity\t80.6\n",
            "precip_rate\t0.0\n",
            "precip_total\t0.0\n",
            "uv_index\t1.06\n",
            "radiation\t0\n"
          ]
        }
      ]
    },
    {
      "cell_type": "code",
      "source": [
        "print(config['stations'])"
      ],
      "metadata": {
        "id": "_YLz60yvrlOa",
        "colab": {
          "base_uri": "https://localhost:8080/"
        },
        "outputId": "c19ce0a5-2c35-4a09-f970-1f7c74b30bbe"
      },
      "execution_count": 39,
      "outputs": [
        {
          "output_type": "stream",
          "name": "stdout",
          "text": [
            "[{'id': 'KVAASHBU142', 'parameters': ['temp', 'wind_speed', 'wind_gust', 'wind_bearing', 'pressure', 'humidity', 'precip_rate', 'precip_total', 'uv_index', 'radiation'], 'data': {'LAST_UPDATED': 0.005555555555555556, 'temp': 70, 'wind_speed': 0.0, 'wind_gust': 0.0, 'precip_rate': 0.0, 'precip_total': 0.0, 'pressure': 1000.0, 'humidity': 78, 'uv_index': 2}}, {'id': 'KVABROAD56', 'parameters': ['temp', 'wind_speed', 'wind_gust', 'wind_bearing', 'pressure', 'humidity', 'precip_rate', 'precip_total', 'uv_index', 'radiation'], 'data': {'LAST_UPDATED': 0.08333333333333333, 'temp': 69, 'wind_speed': 0.0, 'wind_gust': 0.0, 'precip_rate': 0.0, 'precip_total': 0.0, 'pressure': 1011.17, 'humidity': 81, 'uv_index': 1}}, {'id': 'KVAASHBU115', 'parameters': ['temp', 'wind_speed', 'wind_gust', 'wind_bearing', 'pressure', 'humidity', 'precip_rate', 'precip_total'], 'data': {'LAST_UPDATED': 0.03125, 'temp': 70, 'wind_speed': 0.0, 'wind_gust': 0.0, 'precip_rate': 0.0, 'precip_total': 0.0, 'pressure': 1015.91, 'humidity': 80}}]\n"
          ]
        }
      ]
    }
  ]
}