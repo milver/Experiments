{
  "nbformat": 4,
  "nbformat_minor": 0,
  "metadata": {
    "colab": {
      "provenance": [],
      "authorship_tag": "ABX9TyPSWySF0V2zVz1rblFlUaV8",
      "include_colab_link": true
    },
    "kernelspec": {
      "name": "python3",
      "display_name": "Python 3"
    },
    "language_info": {
      "name": "python"
    }
  },
  "cells": [
    {
      "cell_type": "markdown",
      "metadata": {
        "id": "view-in-github",
        "colab_type": "text"
      },
      "source": [
        "<a href=\"https://colab.research.google.com/github/milver/Experiments/blob/main/PWS_Test.ipynb\" target=\"_parent\"><img src=\"https://colab.research.google.com/assets/colab-badge.svg\" alt=\"Open In Colab\"/></a>"
      ]
    },
    {
      "cell_type": "markdown",
      "source": [
        "## Wunderground PWS Stations test"
      ],
      "metadata": {
        "id": "FglFYnvVt2gF"
      }
    },
    {
      "cell_type": "markdown",
      "source": [
        "### Dependencies"
      ],
      "metadata": {
        "id": "H0zqMe5SuKUu"
      }
    },
    {
      "cell_type": "code",
      "source": [
        "from bs4 import BeautifulSoup as bs\n",
        "import requests\n",
        "import math\n",
        "import re"
      ],
      "metadata": {
        "id": "fcG6vd_uuHHs"
      },
      "execution_count": 21,
      "outputs": []
    },
    {
      "cell_type": "markdown",
      "source": [
        "### Functions"
      ],
      "metadata": {
        "id": "5X_UgTqguS00"
      }
    },
    {
      "cell_type": "code",
      "source": [
        "# @title\n",
        "def scrape(station, units):\n",
        "  USER_AGENT = \"Mozilla/5.0 (X11; Linux x86_64) AppleWebKit/537.36 (KHTML, like Gecko) Chrome/44.0.2403.157 Safari/537.36\"\n",
        "  LANGUAGE = \"en-US,en;q=0.5\"\n",
        "  URL = \"https://www.wunderground.com/dashboard/pws/\"\n",
        "\n",
        "  try:\n",
        "      session = requests.Session()\n",
        "      session.headers[\"User-Agent\"] = USER_AGENT\n",
        "      session.headers[\"Accept-Language\"] = LANGUAGE\n",
        "      session.headers[\"Content-Language\"] = LANGUAGE\n",
        "      html = session.get(URL + station[\"id\"])\n",
        "\n",
        "      soup = bs(html.text, \"html.parser\")\n",
        "  except:\n",
        "      print(\"error\")\n",
        "      return None\n",
        "  data = {}\n",
        "\n",
        "\n",
        "  data[\"LAST_UPDATED\"] = soup.findAll(\n",
        "      \"span\", attrs={\"class\": \"ng-star-inserted\"}, string=re.compile(\"updated\")\n",
        "  )[0].text\n",
        "  print(soup.findAll(\n",
        "      \"span\", attrs={\"class\": \"ng-star-inserted\"}, string=re.compile(\"updated\")\n",
        "  )[0].text)\n",
        "  strings = data[\"LAST_UPDATED\"].split()\n",
        "\n",
        "\n",
        "\n",
        "  if (strings[0] == \"(updated\") and (strings[3] == \"ago)\"):\n",
        "      value = int(strings[1])\n",
        "\n",
        "      if (value >= 0) and (value <= 60):\n",
        "          if strings[2][0:6] == \"second\":\n",
        "              data[\"LAST_UPDATED\"] = 1 / value\n",
        "\n",
        "          elif strings[2][0:6] == \"minute\":\n",
        "              data[\"LAST_UPDATED\"] = 1 / (value * 60)\n",
        "\n",
        "          elif strings[2][0:4] == \"hour\":\n",
        "              if (value >= 0) and (value <= 24):\n",
        "                  data[\"LAST_UPDATED\"] = 1 / (value * 3600)\n",
        "\n",
        "              else:\n",
        "                  return None\n",
        "\n",
        "          else:\n",
        "              return None\n",
        "\n",
        "      else:\n",
        "          return None\n",
        "  #print(strings)\n",
        "  # Get Temperature\n",
        "  if \"temp\" in station[\"parameters\"]:\n",
        "      # data[\"temp\"] = soup.find(\"span\", attrs={\"class\": \"wu-value\"})\n",
        "      data[\"temp\"] = soup.find(attrs={\"class\": \"current-temp\"})\n",
        "      # print(data[\"temp\"].text.replace('°', '').strip())\n",
        "\n",
        "      data[\"temp\"] = round(float(data[\"temp\"].text.replace('°', '').strip()))\n",
        "\n",
        "      if units[\"temp\"] == \"c\":\n",
        "          data[\"temp\"] = round((data[\"temp\"] - 32) * (5 / 9), 1)\n",
        "\n",
        "  # Get Wind Speed\n",
        "  if \"wind_speed\" in station[\"parameters\"]:\n",
        "      data[\"wind_speed\"] = soup.findAll(\"span\", attrs={\"class\": \"wu-value\"})\n",
        "      #data[\"wind_speed\"] = soup.findAll(attrs={\"class\": \"weather__data weather__wind-gust\"})\n",
        "      print(data[\"wind_speed\"])\n",
        "      # the index is subject to change if they change the layout\n",
        "      data[\"wind_speed\"] = round(float(data[\"wind_speed\"][8].text), 1)\n",
        "\n",
        "      if units[\"speed\"] == \"kmph\":\n",
        "          data[\"wind_speed\"] = round(data[\"wind_speed\"] * 1.6, 1)\n",
        "\n",
        "      elif units[\"speed\"] == \"mps\":\n",
        "          data[\"wind_speed\"] = round(data[\"wind_speed\"] * (4 / 9), 1)\n",
        "\n",
        "  # Get Wind Gust\n",
        "  if \"wind_gust\" in station[\"parameters\"]:\n",
        "      data[\"wind_gust\"] = soup.findAll(\"span\", attrs={\"class\": \"wu-value\"})\n",
        "      data[\"wind_gust\"] = round(float(data[\"wind_gust\"][9].text), 1)\n",
        "\n",
        "      if units[\"speed\"] == \"kmph\":\n",
        "          data[\"wind_gust\"] = round(data[\"wind_gust\"] * 1.6, 1)\n",
        "\n",
        "      elif units[\"speed\"] == \"mps\":\n",
        "          data[\"wind_gust\"] = round(data[\"wind_gust\"] * (4 / 9), 1)\n",
        "\n",
        "\n",
        "  # Get Precipitation Rate\n",
        "  if \"precip_rate\" in station[\"parameters\"]:\n",
        "      data[\"precip_rate\"] = soup.findAll(\"span\", attrs={\"class\": \"wu-value\"})\n",
        "      data[\"precip_rate\"] = round(float(data[\"precip_rate\"][11].text), 2)\n",
        "\n",
        "      if units[\"precip\"] == \"mm\":\n",
        "          data[\"precip_rate\"] = round(data[\"precip_rate\"] * 25.4, 2)\n",
        "\n",
        "  # Get Precipitation Total\n",
        "  if \"precip_total\" in station[\"parameters\"]:\n",
        "      data[\"precip_total\"] = soup.findAll(\"span\", attrs={\"class\": \"wu-value\"})\n",
        "      data[\"precip_total\"] = round(float(data[\"precip_total\"][14].text), 2)\n",
        "\n",
        "      if units[\"precip\"] == \"mm\":\n",
        "          data[\"precip_total\"] = round(data[\"precip_total\"] * 25.4, 2)\n",
        "\n",
        "  # Get Pressure\n",
        "  if \"pressure\" in station[\"parameters\"]:\n",
        "      data[\"pressure\"] = soup.findAll(\"span\", attrs={\"class\": \"wu-value\"})\n",
        "      data[\"pressure\"] = round(float(data[\"pressure\"][12].text), 2)\n",
        "\n",
        "      if units[\"pressure\"] == \"hpa\":\n",
        "          data[\"pressure\"] = round(data[\"pressure\"] * 33.8637526, 2)\n",
        "\n",
        "  # Get Humidity\n",
        "  if \"humidity\" in station[\"parameters\"]:\n",
        "      data[\"humidity\"] = soup.findAll(\"span\", attrs={\"class\": \"wu-value\"})\n",
        "      data[\"humidity\"] = round(float(data[\"humidity\"][13].text))\n",
        "\n",
        "  # Get UV Index\n",
        "  if \"uv_index\" in station[\"parameters\"]:\n",
        "      data[\"uv_index\"] = soup.findAll(\"span\", attrs={\"class\": \"wu-value\"})\n",
        "      data[\"uv_index\"] = round(float(data[\"uv_index\"][15].text))\n",
        "\n",
        "  # # Get Solar Radiation\n",
        "  # if \"radiation\" in station[\"parameters\"]:\n",
        "  #     data[\"radiation\"] = soup.findAll(\n",
        "  #         \"div\", attrs={\"class\": \"weather__text\"}\n",
        "  #     )\n",
        "  #     strings = data[\"radiation\"][-1].text.split()\n",
        "\n",
        "  #     if strings[1][-8:-3] == \"watts\":\n",
        "  #         data[\"radiation\"] = round(float(strings[0]), 1)\n",
        "  #     else:\n",
        "  #         data[\"radiation\"] = None\n",
        "\n",
        "  station[\"data\"] = data\n",
        "  return station\n"
      ],
      "metadata": {
        "id": "4erXkWUgoa7p"
      },
      "execution_count": 22,
      "outputs": []
    },
    {
      "cell_type": "markdown",
      "source": [
        "### Computing weighted averages\n",
        "Explanation:\n",
        "Exponential Decay for Time Weighting:\n",
        "\n",
        "An exponential decay function\n",
        "weight\n",
        "=\n",
        "𝑒\n",
        "−\n",
        "𝜆\n",
        "⋅\n",
        "time\n",
        "weight=e\n",
        "−λ⋅time\n",
        "  is used, where\n",
        "𝜆\n",
        "λ is a decay constant that can be adjusted based on how quickly you want the weight to decay with time.\n",
        "Normalization of Time Weights:\n",
        "\n",
        "The time weights are normalized so that their sum is 1.\n",
        "Combining Weights:\n",
        "\n",
        "The combined weight for each station is the product of its normalized time-based weight and its normalized distance-based weight.\n",
        "This method provides a more robust way to account for the recency of the data while still considering the distance of the stations."
      ],
      "metadata": {
        "id": "seyAYUmocPXy"
      }
    },
    {
      "cell_type": "code",
      "source": [
        "import math\n",
        "\n",
        "def process(config):\n",
        "    stations = []\n",
        "    avg_values = {}\n",
        "\n",
        "    # Distance-based weights\n",
        "    distances = [1726, 3536, 3950]\n",
        "    distance_weights = [1/d for d in distances]\n",
        "    total_distance_weight = sum(distance_weights)\n",
        "    normalized_distance_weights = [w/total_distance_weight for w in distance_weights]\n",
        "\n",
        "    # Scrape data from stations\n",
        "    for station in config[\"stations\"]:\n",
        "        stations.append(scrape(station, config[\"units\"]))\n",
        "\n",
        "    # Get average values, except wind bearing and wind direction\n",
        "    for parameter in [\n",
        "        \"temp\",\n",
        "        \"wind_speed\",\n",
        "        \"wind_gust\",\n",
        "        \"pressure\",\n",
        "        \"humidity\",\n",
        "        \"precip_rate\",\n",
        "        \"precip_total\",\n",
        "        \"uv_index\",\n",
        "        \"radiation\",\n",
        "    ]:\n",
        "        total_time_weight = 0\n",
        "        time_weights = []\n",
        "\n",
        "        # Calculate time-based weights using exponential decay\n",
        "        for station in stations:\n",
        "            if parameter in station[\"data\"] and station[\"data\"][parameter] is not None:\n",
        "                # Example decay constant (lambda), adjust based on your preference\n",
        "                decay_constant = 0.1\n",
        "                time_since_update = station[\"data\"][\"LAST_UPDATED\"]\n",
        "                time_weight = math.exp(-decay_constant * time_since_update)\n",
        "                time_weights.append(time_weight)\n",
        "                total_time_weight += time_weight\n",
        "            else:\n",
        "                time_weights.append(0)\n",
        "\n",
        "        avg_values[parameter] = 0\n",
        "        combined_weights_sum = 0\n",
        "        for i, station in enumerate(stations):\n",
        "            if parameter in station[\"data\"] and station[\"data\"][parameter] is not None:\n",
        "                # Normalize time-based weight\n",
        "                time_weight = time_weights[i] / total_time_weight if total_time_weight > 0 else 0\n",
        "                # Combine with distance-based weight\n",
        "                combined_weight = time_weight * normalized_distance_weights[i]\n",
        "                combined_weights_sum += combined_weight\n",
        "                avg_values[parameter] += combined_weight * station[\"data\"][parameter]\n",
        "\n",
        "        if combined_weights_sum > 0:\n",
        "            avg_values[parameter] = round(avg_values[parameter] / combined_weights_sum, 2)\n",
        "        else:\n",
        "            avg_values[parameter] = None  # No valid data for this parameter\n",
        "\n",
        "    return avg_values\n",
        "\n"
      ],
      "metadata": {
        "id": "3lDVmWp8cORJ"
      },
      "execution_count": 23,
      "outputs": []
    },
    {
      "cell_type": "code",
      "source": [
        "# @title\n",
        "# def process(config):\n",
        "#     stations = []\n",
        "#     avg_values = {}\n",
        "#     for station in config[\"stations\"]:\n",
        "#         stations.append(scrape(station, config[\"units\"]))\n",
        "\n",
        "#     # Get average values, except wind bearing and wind direction\n",
        "#     for parameter in [\n",
        "#         \"temp\",\n",
        "#         \"wind_speed\",\n",
        "#         \"wind_gust\",\n",
        "#         \"pressure\",\n",
        "#         \"humidity\",\n",
        "#         \"precip_rate\",\n",
        "#         \"precip_total\",\n",
        "#         \"uv_index\",\n",
        "#         \"radiation\",\n",
        "#     ]:\n",
        "#         last_updated_total = 0\n",
        "#         for station in stations:\n",
        "#             if parameter in station[\"data\"] and station[\"data\"][parameter] != None:\n",
        "#                 last_updated_total += station[\"data\"][\"LAST_UPDATED\"]\n",
        "\n",
        "#         avg_values[parameter] = 0\n",
        "#         for station in stations:\n",
        "#             if parameter in station[\"data\"] and station[\"data\"][parameter] != None:\n",
        "#                 last_updated_weight = (\n",
        "#                     station[\"data\"][\"LAST_UPDATED\"] / last_updated_total\n",
        "#                 )\n",
        "#                 avg_values[parameter] += (\n",
        "#                     last_updated_weight * station[\"data\"][parameter]\n",
        "#                 )\n",
        "\n",
        "#         avg_values[parameter] = round(avg_values[parameter], 2)\n",
        "\n",
        "\n",
        "#     return avg_values"
      ],
      "metadata": {
        "id": "Mb43Ue2KuSDs"
      },
      "execution_count": 24,
      "outputs": []
    },
    {
      "cell_type": "markdown",
      "source": [
        "### Config"
      ],
      "metadata": {
        "id": "lVPaRF1bu172"
      }
    },
    {
      "cell_type": "code",
      "source": [
        "# @title\n",
        "if __name__ == \"__main__\":\n",
        "    config = {\n",
        "        \"units\": {\n",
        "            \"temp\": \"F\",\n",
        "            \"pressure\": \"hpa\",\n",
        "            \"speed\": \"mph\",\n",
        "            \"precip\": \"in\",\n",
        "        },\n",
        "        \"stations\": [\n",
        "            {\n",
        "                \"id\": \"KVAASHBU142\",\n",
        "                \"parameters\": [\n",
        "                    \"temp\",\n",
        "                    \"wind_speed\",\n",
        "                    \"wind_gust\",\n",
        "                    \"wind_bearing\",\n",
        "                    \"pressure\",\n",
        "                    \"humidity\",\n",
        "                    \"precip_rate\",\n",
        "                    \"precip_total\",\n",
        "                    \"uv_index\",\n",
        "                    \"radiation\",\n",
        "                ],\n",
        "            },\n",
        "            {\n",
        "                \"id\": \"KVAASHBU115\",\n",
        "                \"parameters\": [\n",
        "                    \"temp\",\n",
        "                    \"wind_speed\",\n",
        "                    \"wind_gust\",\n",
        "                    \"wind_bearing\",\n",
        "                    \"pressure\",\n",
        "                    \"humidity\",\n",
        "                    \"precip_rate\",\n",
        "                    \"precip_total\",\n",
        "                    \"uv_index\",\n",
        "                    \"radiation\",\n",
        "                ],\n",
        "            },\n",
        "            {\n",
        "                \"id\": \"KVABROAD56\",\n",
        "                \"parameters\": [\n",
        "                    \"temp\",\n",
        "                    \"wind_speed\",\n",
        "                    \"wind_gust\",\n",
        "                    \"wind_bearing\",\n",
        "                    \"pressure\",\n",
        "                    \"humidity\",\n",
        "                    \"precip_rate\",\n",
        "                    \"precip_total\",\n",
        "                ],\n",
        "            },\n",
        "        ],\n",
        "    }"
      ],
      "metadata": {
        "id": "kEEJe8nRu-Od"
      },
      "execution_count": 25,
      "outputs": []
    },
    {
      "cell_type": "markdown",
      "source": [
        "### Run"
      ],
      "metadata": {
        "id": "ywdEDNGvvKP8"
      }
    },
    {
      "cell_type": "code",
      "source": [
        "for k, v in process(config).items():\n",
        "    print(f\"{k}\\t{v}\")"
      ],
      "metadata": {
        "colab": {
          "base_uri": "https://localhost:8080/"
        },
        "id": "_RuD3_F9vIxn",
        "outputId": "41755313-630e-4068-f852-ab57fe428724"
      },
      "execution_count": 26,
      "outputs": [
        {
          "output_type": "stream",
          "name": "stdout",
          "text": [
            "(updated 3 minutes ago)\n",
            "[<span _ngcontent-sc183=\"\" class=\"wu-value wu-value-to\" style=\"color:;\">58</span>, <span _ngcontent-sc183=\"\" class=\"wu-value wu-value-to\" style=\"color:;\">69</span>, <span _ngcontent-sc183=\"\" class=\"wu-value wu-value-to\" style=\"color:;\">81</span>, <span _ngcontent-sc183=\"\" class=\"wu-value wu-value-to\" style=\"color:;\">60</span>, <span _ngcontent-sc183=\"\" class=\"wu-value wu-value-to\" style=\"color:;\">76</span>, <span _ngcontent-sc183=\"\" class=\"wu-value wu-value-to\" style=\"color:;\">66</span>, <span _ngcontent-sc183=\"\" class=\"wu-value wu-value-to\" style=\"color:;\">60.8</span>, <span _ngcontent-sc183=\"\" class=\"wu-value wu-value-to\" style=\"color:;\">60.8</span>, <span _ngcontent-sc183=\"\" class=\"wu-value wu-value-to\" style=\"color:;\">0.0</span>, <span _ngcontent-sc183=\"\" class=\"wu-value wu-value-to\" style=\"color:;\">0.0</span>, <span _ngcontent-sc183=\"\" class=\"wu-value wu-value-to\" style=\"color:;\">60.5</span>, <span _ngcontent-sc183=\"\" class=\"wu-value wu-value-to\" style=\"color:;\">0.00</span>, <span _ngcontent-sc183=\"\" class=\"wu-value wu-value-to\" style=\"color:;\">29.57</span>, <span _ngcontent-sc183=\"\" class=\"wu-value wu-value-to\" style=\"color:;\">99</span>, <span _ngcontent-sc183=\"\" class=\"wu-value wu-value-to\" style=\"color:;\">0.41</span>, <span _ngcontent-sc183=\"\" class=\"wu-value wu-value-to\" style=\"color:;\">0</span>, <span _ngcontent-sc183=\"\" class=\"wu-value wu-value-to\" style=\"color:;\">60.5</span>, <span _ngcontent-sc183=\"\" class=\"wu-value wu-value-to\" style=\"color:;\">99</span>, <span _ngcontent-sc183=\"\" class=\"wu-value wu-value-to\" style=\"color:;\">0.0</span>, <span _ngcontent-sc183=\"\" class=\"wu-value wu-value-to\" style=\"color:;\">0.0</span>, <span _ngcontent-sc183=\"\" class=\"wu-value wu-value-to\" style=\"color:;\">29.57</span>, <span _ngcontent-sc183=\"\" class=\"wu-value wu-value-to\" style=\"color:;\">0.00</span>, <span _ngcontent-sc183=\"\" class=\"wu-value wu-value-to\" style=\"color:;\">0.41</span>, <span _ngcontent-sc183=\"\" class=\"wu-value wu-value-to\" style=\"color:;\">0</span>, <span _ngcontent-sc183=\"\" class=\"wu-value wu-value-to\" style=\"color:;\">62.2</span>, <span _ngcontent-sc183=\"\" class=\"wu-value wu-value-to\" style=\"color:;\">59.4</span>, <span _ngcontent-sc183=\"\" class=\"wu-value wu-value-to\" style=\"color:;\">60.5</span>, <span _ngcontent-sc183=\"\" class=\"wu-value wu-value-to\" style=\"color:;\">60.7</span>, <span _ngcontent-sc183=\"\" class=\"wu-value wu-value-to\" style=\"color:;\">59.1</span>, <span _ngcontent-sc183=\"\" class=\"wu-value wu-value-to\" style=\"color:;\">59.9</span>, <span _ngcontent-sc183=\"\" class=\"wu-value wu-value-to\" style=\"color:;\">99</span>, <span _ngcontent-sc183=\"\" class=\"wu-value wu-value-to\" style=\"color:;\">92</span>, <span _ngcontent-sc183=\"\" class=\"wu-value wu-value-to\" style=\"color:;\">98</span>, <span _ngcontent-sc183=\"\" class=\"wu-value wu-value-to\" style=\"color:;\">0.41</span>, <span _ngcontent-sc183=\"\" class=\"wu-value wu-value-to\" style=\"color:;\">3.8</span>, <span _ngcontent-sc183=\"\" class=\"wu-value wu-value-to\" style=\"color:;\">0.0</span>, <span _ngcontent-sc183=\"\" class=\"wu-value wu-value-to\" style=\"color:;\">0.3</span>, <span _ngcontent-sc183=\"\" class=\"wu-value wu-value-to\" style=\"color:;\">5.8</span>, <span _ngcontent-sc183=\"\" class=\"wu-value wu-value-to\" style=\"color:;\">0.5</span>, <span _ngcontent-sc183=\"\" class=\"wu-value wu-value-to\" style=\"color:;\">29.57</span>, <span _ngcontent-sc183=\"\" class=\"wu-value wu-value-to\" style=\"color:;\">29.49</span>]\n",
            "(updated 31 seconds ago)\n",
            "[<span _ngcontent-sc183=\"\" class=\"wu-value wu-value-to\" style=\"color:;\">57</span>, <span _ngcontent-sc183=\"\" class=\"wu-value wu-value-to\" style=\"color:;\">68</span>, <span _ngcontent-sc183=\"\" class=\"wu-value wu-value-to\" style=\"color:;\">81</span>, <span _ngcontent-sc183=\"\" class=\"wu-value wu-value-to\" style=\"color:;\">60</span>, <span _ngcontent-sc183=\"\" class=\"wu-value wu-value-to\" style=\"color:;\">76</span>, <span _ngcontent-sc183=\"\" class=\"wu-value wu-value-to\" style=\"color:;\">66</span>, <span _ngcontent-sc183=\"\" class=\"wu-value wu-value-to\" style=\"color:;\">61.7</span>, <span _ngcontent-sc183=\"\" class=\"wu-value wu-value-to\" style=\"color:;\">61.7</span>, <span _ngcontent-sc183=\"\" class=\"wu-value wu-value-to\" style=\"color:;\">0.0</span>, <span _ngcontent-sc183=\"\" class=\"wu-value wu-value-to\" style=\"color:;\">0.0</span>, <span _ngcontent-sc183=\"\" class=\"wu-value wu-value-to\" style=\"color:;\">60.3</span>, <span _ngcontent-sc183=\"\" class=\"wu-value wu-value-to\" style=\"color:;\">0.00</span>, <span _ngcontent-sc183=\"\" class=\"wu-value wu-value-to\" style=\"color:;\">30.05</span>, <span _ngcontent-sc183=\"\" class=\"wu-value wu-value-to\" style=\"color:;\">95</span>, <span _ngcontent-sc183=\"\" class=\"wu-value wu-value-to\" style=\"color:;\">0.30</span>, <span _ngcontent-sc183=\"\" class=\"wu-value wu-value-to\" style=\"color:;\">0</span>, <span _ngcontent-sc183=\"\" class=\"wu-value wu-value-to\" style=\"color:;\">60.3</span>, <span _ngcontent-sc183=\"\" class=\"wu-value wu-value-to\" style=\"color:;\">95</span>, <span _ngcontent-sc183=\"\" class=\"wu-value wu-value-to\" style=\"color:;\">0.0</span>, <span _ngcontent-sc183=\"\" class=\"wu-value wu-value-to\" style=\"color:;\">0.0</span>, <span _ngcontent-sc183=\"\" class=\"wu-value wu-value-to\" style=\"color:;\">30.05</span>, <span _ngcontent-sc183=\"\" class=\"wu-value wu-value-to\" style=\"color:;\">0.00</span>, <span _ngcontent-sc183=\"\" class=\"wu-value wu-value-to\" style=\"color:;\">0.30</span>, <span _ngcontent-sc183=\"\" class=\"wu-value wu-value-to\" style=\"color:;\">0</span>, <span _ngcontent-sc183=\"\" class=\"wu-value wu-value-to\" style=\"color:;\">63.3</span>, <span _ngcontent-sc183=\"\" class=\"wu-value wu-value-to\" style=\"color:;\">59.9</span>, <span _ngcontent-sc183=\"\" class=\"wu-value wu-value-to\" style=\"color:;\">61.3</span>, <span _ngcontent-sc183=\"\" class=\"wu-value wu-value-to\" style=\"color:;\">61.0</span>, <span _ngcontent-sc183=\"\" class=\"wu-value wu-value-to\" style=\"color:;\">59.5</span>, <span _ngcontent-sc183=\"\" class=\"wu-value wu-value-to\" style=\"color:;\">60.3</span>, <span _ngcontent-sc183=\"\" class=\"wu-value wu-value-to\" style=\"color:;\">99</span>, <span _ngcontent-sc183=\"\" class=\"wu-value wu-value-to\" style=\"color:;\">89</span>, <span _ngcontent-sc183=\"\" class=\"wu-value wu-value-to\" style=\"color:;\">97</span>, <span _ngcontent-sc183=\"\" class=\"wu-value wu-value-to\" style=\"color:;\">0.30</span>, <span _ngcontent-sc183=\"\" class=\"wu-value wu-value-to\" style=\"color:;\">2.2</span>, <span _ngcontent-sc183=\"\" class=\"wu-value wu-value-to\" style=\"color:;\">0.0</span>, <span _ngcontent-sc183=\"\" class=\"wu-value wu-value-to\" style=\"color:;\">0.1</span>, <span _ngcontent-sc183=\"\" class=\"wu-value wu-value-to\" style=\"color:;\">3.4</span>, <span _ngcontent-sc183=\"\" class=\"wu-value wu-value-to\" style=\"color:;\">0.2</span>, <span _ngcontent-sc183=\"\" class=\"wu-value wu-value-to\" style=\"color:;\">30.05</span>, <span _ngcontent-sc183=\"\" class=\"wu-value wu-value-to\" style=\"color:;\">29.97</span>]\n",
            "(updated 7 seconds ago)\n",
            "[<span _ngcontent-sc183=\"\" class=\"wu-value wu-value-to\" style=\"color:;\">58</span>, <span _ngcontent-sc183=\"\" class=\"wu-value wu-value-to\" style=\"color:;\">69</span>, <span _ngcontent-sc183=\"\" class=\"wu-value wu-value-to\" style=\"color:;\">81</span>, <span _ngcontent-sc183=\"\" class=\"wu-value wu-value-to\" style=\"color:;\">60</span>, <span _ngcontent-sc183=\"\" class=\"wu-value wu-value-to\" style=\"color:;\">76</span>, <span _ngcontent-sc183=\"\" class=\"wu-value wu-value-to\" style=\"color:;\">66</span>, <span _ngcontent-sc183=\"\" class=\"wu-value wu-value-to\" style=\"color:;\">62.0</span>, <span _ngcontent-sc183=\"\" class=\"wu-value wu-value-to\" style=\"color:;\">62.0</span>, <span _ngcontent-sc183=\"\" class=\"wu-value wu-value-to\" style=\"color:;\">0.0</span>, <span _ngcontent-sc183=\"\" class=\"wu-value wu-value-to\" style=\"color:;\">0.0</span>, <span _ngcontent-sc183=\"\" class=\"wu-value wu-value-to\" style=\"color:;\">60.6</span>, <span _ngcontent-sc183=\"\" class=\"wu-value wu-value-to\" style=\"color:;\">0.00</span>, <span _ngcontent-sc183=\"\" class=\"wu-value wu-value-to\" style=\"color:;\">29.91</span>, <span _ngcontent-sc183=\"\" class=\"wu-value wu-value-to\" style=\"color:;\">95</span>, <span _ngcontent-sc183=\"\" class=\"wu-value wu-value-to\" style=\"color:;\">0.29</span>, <span _ngcontent-sc183=\"\" class=\"wu-value wu-value-to\" style=\"color:;\">1</span>, <span _ngcontent-sc183=\"\" class=\"wu-value wu-value-to\" style=\"color:;\">60.6</span>, <span _ngcontent-sc183=\"\" class=\"wu-value wu-value-to\" style=\"color:;\">95</span>, <span _ngcontent-sc183=\"\" class=\"wu-value wu-value-to\" style=\"color:;\">0.0</span>, <span _ngcontent-sc183=\"\" class=\"wu-value wu-value-to\" style=\"color:;\">0.0</span>, <span _ngcontent-sc183=\"\" class=\"wu-value wu-value-to\" style=\"color:;\">29.91</span>, <span _ngcontent-sc183=\"\" class=\"wu-value wu-value-to\" style=\"color:;\">0.00</span>, <span _ngcontent-sc183=\"\" class=\"wu-value wu-value-to\" style=\"color:;\">0.29</span>, <span _ngcontent-sc183=\"\" class=\"wu-value wu-value-to\" style=\"color:;\">1</span>, <span _ngcontent-sc183=\"\" class=\"wu-value wu-value-to\" style=\"color:;\">63.6</span>, <span _ngcontent-sc183=\"\" class=\"wu-value wu-value-to\" style=\"color:;\">59.9</span>, <span _ngcontent-sc183=\"\" class=\"wu-value wu-value-to\" style=\"color:;\">61.6</span>, <span _ngcontent-sc183=\"\" class=\"wu-value wu-value-to\" style=\"color:;\">61.1</span>, <span _ngcontent-sc183=\"\" class=\"wu-value wu-value-to\" style=\"color:;\">59.3</span>, <span _ngcontent-sc183=\"\" class=\"wu-value wu-value-to\" style=\"color:;\">60.2</span>, <span _ngcontent-sc183=\"\" class=\"wu-value wu-value-to\" style=\"color:;\">99</span>, <span _ngcontent-sc183=\"\" class=\"wu-value wu-value-to\" style=\"color:;\">88</span>, <span _ngcontent-sc183=\"\" class=\"wu-value wu-value-to\" style=\"color:;\">96</span>, <span _ngcontent-sc183=\"\" class=\"wu-value wu-value-to\" style=\"color:;\">0.29</span>, <span _ngcontent-sc183=\"\" class=\"wu-value wu-value-to\" style=\"color:;\">2.9</span>, <span _ngcontent-sc183=\"\" class=\"wu-value wu-value-to\" style=\"color:;\">0.0</span>, <span _ngcontent-sc183=\"\" class=\"wu-value wu-value-to\" style=\"color:;\">0.0</span>, <span _ngcontent-sc183=\"\" class=\"wu-value wu-value-to\" style=\"color:;\">2.9</span>, <span _ngcontent-sc183=\"\" class=\"wu-value wu-value-to\" style=\"color:;\">0.0</span>, <span _ngcontent-sc183=\"\" class=\"wu-value wu-value-to\" style=\"color:;\">29.91</span>, <span _ngcontent-sc183=\"\" class=\"wu-value wu-value-to\" style=\"color:;\">29.84</span>]\n",
            "temp\t61.48\n",
            "wind_speed\t0.0\n",
            "wind_gust\t0.0\n",
            "pressure\t1008.06\n",
            "humidity\t97.09\n",
            "precip_rate\t0.0\n",
            "precip_total\t0.36\n",
            "uv_index\t0.0\n",
            "radiation\tNone\n"
          ]
        }
      ]
    },
    {
      "cell_type": "code",
      "source": [
        "print(config['stations'])"
      ],
      "metadata": {
        "id": "_YLz60yvrlOa",
        "colab": {
          "base_uri": "https://localhost:8080/"
        },
        "outputId": "2e4dbf4c-10c2-4a01-9a53-2edab8689288"
      },
      "execution_count": 27,
      "outputs": [
        {
          "output_type": "stream",
          "name": "stdout",
          "text": [
            "[{'id': 'KVAASHBU142', 'parameters': ['temp', 'wind_speed', 'wind_gust', 'wind_bearing', 'pressure', 'humidity', 'precip_rate', 'precip_total', 'uv_index', 'radiation'], 'data': {'LAST_UPDATED': 0.005555555555555556, 'temp': 61, 'wind_speed': 0.0, 'wind_gust': 0.0, 'precip_rate': 0.0, 'precip_total': 0.41, 'pressure': 1001.35, 'humidity': 99, 'uv_index': 0}}, {'id': 'KVAASHBU115', 'parameters': ['temp', 'wind_speed', 'wind_gust', 'wind_bearing', 'pressure', 'humidity', 'precip_rate', 'precip_total', 'uv_index', 'radiation'], 'data': {'LAST_UPDATED': 0.03225806451612903, 'temp': 62, 'wind_speed': 0.0, 'wind_gust': 0.0, 'precip_rate': 0.0, 'precip_total': 0.3, 'pressure': 1017.61, 'humidity': 95, 'uv_index': 0}}, {'id': 'KVABROAD56', 'parameters': ['temp', 'wind_speed', 'wind_gust', 'wind_bearing', 'pressure', 'humidity', 'precip_rate', 'precip_total'], 'data': {'LAST_UPDATED': 0.14285714285714285, 'temp': 62, 'wind_speed': 0.0, 'wind_gust': 0.0, 'precip_rate': 0.0, 'precip_total': 0.29, 'pressure': 1012.86, 'humidity': 95}}]\n"
          ]
        }
      ]
    },
    {
      "cell_type": "markdown",
      "source": [
        "### Station Data\n",
        "*   X: 294ft\n",
        "*   KVAASHBU142: 276ft - (DEM: 288); 1726 ft from X\n",
        "*   KVAASHBU115: 344ft - (DEM: 339); 3536 ft from X\n",
        "*   KVABROAD56: 351ft - (DEM: 348); 3950 ft from X\n",
        "\n"
      ],
      "metadata": {
        "id": "J68Q0nC8Qy9q"
      }
    },
    {
      "cell_type": "code",
      "source": [
        "# Debug function\n",
        "# import math\n",
        "\n",
        "# def process(config):\n",
        "#     stations = []\n",
        "#     avg_values = {}\n",
        "\n",
        "#     # Distance-based weights\n",
        "#     distances = [1726, 3536, 3950]\n",
        "#     distance_weights = [1/d for d in distances]\n",
        "#     total_distance_weight = sum(distance_weights)\n",
        "#     normalized_distance_weights = [w/total_distance_weight for w in distance_weights]\n",
        "\n",
        "#     # Scrape data from stations\n",
        "#     for station in config[\"stations\"]:\n",
        "#         stations.append(station)  # Use provided data directly for debugging\n",
        "\n",
        "#     # Get average values, except wind bearing and wind direction\n",
        "#     for parameter in [\n",
        "#         \"temp\",\n",
        "#         \"wind_speed\",\n",
        "#         \"wind_gust\",\n",
        "#         \"pressure\",\n",
        "#         \"humidity\",\n",
        "#         \"precip_rate\",\n",
        "#         \"precip_total\",\n",
        "#         \"uv_index\",\n",
        "#         \"radiation\",\n",
        "#     ]:\n",
        "#         total_time_weight = 0\n",
        "#         time_weights = []\n",
        "\n",
        "#         # Calculate time-based weights using exponential decay\n",
        "#         for station in stations:\n",
        "#             if parameter in station[\"data\"] and station[\"data\"][parameter] is not None:\n",
        "#                 # Example decay constant (lambda), adjust based on your preference\n",
        "#                 decay_constant = 0.1\n",
        "#                 time_since_update = station[\"data\"][\"LAST_UPDATED\"]\n",
        "#                 time_weight = math.exp(-decay_constant * time_since_update)\n",
        "#                 time_weights.append(time_weight)\n",
        "#                 total_time_weight += time_weight\n",
        "#             else:\n",
        "#                 time_weights.append(0)\n",
        "\n",
        "#         avg_values[parameter] = 0\n",
        "#         combined_weights_sum = 0\n",
        "#         for i, station in enumerate(stations):\n",
        "#             if parameter in station[\"data\"] and station[\"data\"][parameter] is not None:\n",
        "#                 # Normalize time-based weight\n",
        "#                 time_weight = time_weights[i] / total_time_weight if total_time_weight > 0 else 0\n",
        "#                 # Combine with distance-based weight\n",
        "#                 combined_weight = time_weight * normalized_distance_weights[i]\n",
        "#                 combined_weights_sum += combined_weight\n",
        "#                 avg_values[parameter] += combined_weight * station[\"data\"][parameter]\n",
        "\n",
        "#         if combined_weights_sum > 0:\n",
        "#             avg_values[parameter] = round(avg_values[parameter] / combined_weights_sum, 2)\n",
        "#         else:\n",
        "#             avg_values[parameter] = None  # No valid data for this parameter\n",
        "\n",
        "#     return avg_values\n",
        "\n",
        "# # Example data\n",
        "# config = {\n",
        "#     \"stations\": [\n",
        "#         {'id': 'KVAASHBU142', 'parameters': ['temp', 'wind_speed', 'wind_gust', 'wind_bearing', 'pressure', 'humidity', 'precip_rate', 'precip_total', 'uv_index', 'radiation'], 'data': {'LAST_UPDATED': 0.008333333333333333, 'temp': 61, 'wind_speed': 0.0, 'wind_gust': 0.0, 'precip_rate': 0.0, 'precip_total': 0.41, 'pressure': 1001.01, 'humidity': 99, 'uv_index': 0}},\n",
        "#         {'id': 'KVAASHBU115', 'parameters': ['temp', 'wind_speed', 'wind_gust', 'wind_bearing', 'pressure', 'humidity', 'precip_rate', 'precip_total', 'uv_index', 'radiation'], 'data': {'LAST_UPDATED': 0.08333333333333333, 'temp': 62, 'wind_speed': 1.1, 'wind_gust': 2.2, 'precip_rate': 0.0, 'precip_total': 0.3, 'pressure': 1017.61, 'humidity': 95, 'uv_index': 0}},\n",
        "#         {'id': 'KVABROAD56', 'parameters': ['temp', 'wind_speed', 'wind_gust', 'wind_bearing', 'pressure', 'humidity', 'precip_rate', 'precip_total'], 'data': {'LAST_UPDATED': 0.14285714285714285, 'temp': 62, 'wind_speed': 0.0, 'wind_gust': 0.0, 'precip_rate': 0.0, 'precip_total': 0.29, 'pressure': 1012.86, 'humidity': 94}}\n",
        "#     ],\n",
        "#     \"units\": \"metric\"  # or \"imperial\"\n",
        "# }\n",
        "\n",
        "# result = process(config)\n",
        "# print(result)\n"
      ],
      "metadata": {
        "colab": {
          "base_uri": "https://localhost:8080/"
        },
        "id": "84lir0VFRNCZ",
        "outputId": "c5ab45d8-9e6f-453b-d325-ac22b0f24a1f"
      },
      "execution_count": 1,
      "outputs": [
        {
          "output_type": "stream",
          "name": "stdout",
          "text": [
            "{'temp': 61.48, 'wind_speed': 0.28, 'wind_gust': 0.56, 'pressure': 1007.88, 'humidity': 96.86, 'precip_rate': 0.0, 'precip_total': 0.36, 'uv_index': 0.0, 'radiation': None}\n"
          ]
        }
      ]
    },
    {
      "cell_type": "code",
      "source": [],
      "metadata": {
        "id": "sq1Cx02ju3VL"
      },
      "execution_count": null,
      "outputs": []
    }
  ]
}