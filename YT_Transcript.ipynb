{
  "nbformat": 4,
  "nbformat_minor": 0,
  "metadata": {
    "colab": {
      "provenance": [],
      "authorship_tag": "ABX9TyMB3LsY4OPivXFyc5OpQIFu",
      "include_colab_link": true
    },
    "kernelspec": {
      "name": "python3",
      "display_name": "Python 3"
    },
    "language_info": {
      "name": "python"
    }
  },
  "cells": [
    {
      "cell_type": "markdown",
      "metadata": {
        "id": "view-in-github",
        "colab_type": "text"
      },
      "source": [
        "<a href=\"https://colab.research.google.com/github/milver/Experiments/blob/main/YT_Transcript.ipynb\" target=\"_parent\"><img src=\"https://colab.research.google.com/assets/colab-badge.svg\" alt=\"Open In Colab\"/></a>"
      ]
    },
    {
      "cell_type": "code",
      "execution_count": 3,
      "metadata": {
        "colab": {
          "base_uri": "https://localhost:8080/"
        },
        "id": "QJbblZHUVlX8",
        "outputId": "de04a2df-fe4c-4f6d-802f-b9e05955418d"
      },
      "outputs": [
        {
          "output_type": "stream",
          "name": "stdout",
          "text": [
            "Collecting youtube-transcript-api\n",
            "  Downloading youtube_transcript_api-0.6.2-py3-none-any.whl (24 kB)\n",
            "Requirement already satisfied: requests in /usr/local/lib/python3.10/dist-packages (from youtube-transcript-api) (2.31.0)\n",
            "Requirement already satisfied: charset-normalizer<4,>=2 in /usr/local/lib/python3.10/dist-packages (from requests->youtube-transcript-api) (3.3.2)\n",
            "Requirement already satisfied: idna<4,>=2.5 in /usr/local/lib/python3.10/dist-packages (from requests->youtube-transcript-api) (3.6)\n",
            "Requirement already satisfied: urllib3<3,>=1.21.1 in /usr/local/lib/python3.10/dist-packages (from requests->youtube-transcript-api) (2.0.7)\n",
            "Requirement already satisfied: certifi>=2017.4.17 in /usr/local/lib/python3.10/dist-packages (from requests->youtube-transcript-api) (2024.2.2)\n",
            "Installing collected packages: youtube-transcript-api\n",
            "Successfully installed youtube-transcript-api-0.6.2\n",
            "Collecting pytube\n",
            "  Downloading pytube-15.0.0-py3-none-any.whl (57 kB)\n",
            "\u001b[2K     \u001b[90m━━━━━━━━━━━━━━━━━━━━━━━━━━━━━━━━━━━━━━━━\u001b[0m \u001b[32m57.6/57.6 kB\u001b[0m \u001b[31m1.5 MB/s\u001b[0m eta \u001b[36m0:00:00\u001b[0m\n",
            "\u001b[?25hInstalling collected packages: pytube\n",
            "Successfully installed pytube-15.0.0\n"
          ]
        }
      ],
      "source": [
        "!pip install youtube-transcript-api\n",
        "!pip install pytube"
      ]
    },
    {
      "cell_type": "code",
      "source": [
        "# prompt: With pytube create a function that has as input a URL and then outputs the YouTube video ID\n",
        "\n",
        "import pytube\n",
        "\n",
        "def get_video_id(url):\n",
        "  yt = pytube.YouTube(url)\n",
        "  return yt.video_id\n"
      ],
      "metadata": {
        "id": "02CbZZoiXMGr"
      },
      "execution_count": 4,
      "outputs": []
    },
    {
      "cell_type": "code",
      "source": [
        "# your_custom_script.py\n",
        "\n",
        "from youtube_transcript_api import YouTubeTranscriptApi\n",
        "from youtube_transcript_api.formatters import TextFormatter\n",
        "\n",
        "def get_text_transcript(video_id,file_name_txt):\n",
        "  # Must be a single transcript.\n",
        "  transcript = YouTubeTranscriptApi.get_transcript(video_id)\n",
        "\n",
        "  formatter = TextFormatter()\n",
        "\n",
        "  # .format_transcript(transcript) turns the transcript into a Text string.\n",
        "  text_formatted = formatter.format_transcript(transcript)\n",
        "\n",
        "\n",
        "  # Now we can write it out to a file.\n",
        "  with open(file_name_txt, 'w', encoding='utf-8') as text_file:\n",
        "    text_file.write(text_formatted)\n",
        "  return text_file"
      ],
      "metadata": {
        "id": "t7D86vUSZqQ9"
      },
      "execution_count": 7,
      "outputs": []
    },
    {
      "cell_type": "code",
      "source": [
        "# prompt: Create a script that uses system arguments to request a URL, a text file name, and then the code calls the precious cells functions to output a transcript file\n",
        "\n",
        "import sys\n",
        "\n",
        "# Get the URL, text file name, and video ID from the command line arguments.\n",
        "url = sys.argv[1]\n",
        "file_name_txt = sys.argv[2]\n",
        "video_id = get_video_id(url)\n",
        "\n",
        "#url = \"https://youtu.be/0LNQxT9LvM0?si=tErSMtgH06I7NCvx\"\n",
        "#file_name_txt = \"test1.txt\"\n",
        "#video_id = get_video_id(url)\n",
        "\n",
        "# Get the text transcript and write it to the specified file.\n",
        "text_file = get_text_transcript(video_id, file_name_txt)\n",
        "\n",
        "# Print a message to indicate that the transcript has been saved.\n",
        "print(\"Transcript saved to\", text_file.name)\n"
      ],
      "metadata": {
        "colab": {
          "base_uri": "https://localhost:8080/"
        },
        "id": "xCf-NaVAMVts",
        "outputId": "91786554-ba86-4d1d-9a13-c5f5ce45fab8"
      },
      "execution_count": 8,
      "outputs": [
        {
          "output_type": "stream",
          "name": "stdout",
          "text": [
            "Transcript saved to test1.txt\n"
          ]
        }
      ]
    }
  ]
}